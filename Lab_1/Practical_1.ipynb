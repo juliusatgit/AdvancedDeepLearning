{
 "cells": [
  {
   "cell_type": "markdown",
   "id": "e692347b",
   "metadata": {},
   "source": [
    "**This is the notebook for the practical part of lab 1.** "
   ]
  },
  {
   "cell_type": "markdown",
   "id": "1b9f6faf",
   "metadata": {},
   "source": [
    "Imports"
   ]
  },
  {
   "cell_type": "code",
   "execution_count": 1,
   "id": "b95fe469",
   "metadata": {},
   "outputs": [],
   "source": [
    "import torch\n",
    "import torch.nn as nn\n",
    "import torch.optim as optim\n",
    "import torch.nn.functional as F\n",
    "from torch.utils.data import TensorDataset, DataLoader\n",
    "import gzip\n",
    "import json\n",
    "import pyarrow as pa\n",
    "import pyarrow.parquet as pq\n",
    "import numpy as np\n",
    "import pandas as pd\n",
    "import matplotlib.pyplot as plt\n",
    "from sklearn import metrics\n",
    "from sklearn.metrics import accuracy_score, confusion_matrix, precision_score, recall_score, f1_score, classification_report\n",
    "from sklearn.model_selection import train_test_split\n",
    "from sklearn.feature_extraction.text import TfidfVectorizer\n",
    "from nltk.corpus import stopwords\n",
    "from nltk import word_tokenize\n",
    "from gensim.models import KeyedVectors\n",
    "import gensim.downloader as api\n",
    "from gensim.models import Word2Vec\n",
    "import re\n",
    "import copy\n",
    "\n",
    "#import data_loading_code as dlc"
   ]
  },
  {
   "cell_type": "code",
   "execution_count": 2,
   "id": "fc0c91b8",
   "metadata": {},
   "outputs": [
    {
     "name": "stdout",
     "output_type": "stream",
     "text": [
      "True\n",
      "Using device: cuda\n"
     ]
    }
   ],
   "source": [
    "print(torch.cuda.is_available())\n",
    "#print(torch.cuda.get_device_name(0))\n",
    "\n",
    "device = torch.device(\"cuda\" if torch.cuda.is_available() else \"cpu\")\n",
    "print(\"Using device:\", device)"
   ]
  },
  {
   "cell_type": "markdown",
   "id": "a4ad8c3f",
   "metadata": {},
   "source": [
    "## Load data"
   ]
  },
  {
   "cell_type": "code",
   "execution_count": 3,
   "id": "9742f420",
   "metadata": {},
   "outputs": [],
   "source": [
    "def preprocess_pandas(data): #, columns\n",
    "    # df_ = pd.DataFrame(columns=columns)\n",
    "    data['Sentence'] = data['Sentence'].str.lower()\n",
    "    data['Sentence'] = data['Sentence'].replace('[a-zA-Z0-9-_.]+@[a-zA-Z0-9-_.]+', '', regex=True)                      # remove emails\n",
    "    data['Sentence'] = data['Sentence'].replace('((25[0-5]|2[0-4][0-9]|[01]?[0-9][0-9]?)(\\.|$)){4}', '', regex=True)    # remove IP address\n",
    "    data['Sentence'] = data['Sentence'].str.replace('[^\\w\\s]','')                                                       # remove special characters\n",
    "    data['Sentence'] = data['Sentence'].replace('\\d', '', regex=True)                                                   # remove numbers\n",
    "    # for index, row in data.iterrows():\n",
    "    #     word_tokens = word_tokenize(row['Sentence'])\n",
    "    #     filtered_sent = [w for w in word_tokens if not w in stopwords.words('english')]\n",
    "    #     df_.loc[len(df_)] = {\n",
    "    #         \"index\": row['index'],\n",
    "    #         \"Class\": row['Class'],\n",
    "    #         \"Sentence\": \" \".join(filtered_sent)\n",
    "    #     }\n",
    "    #return df_\n",
    "    return data\n",
    "\n",
    "\n",
    "def split_data(data):\n",
    "    # split the data into training, validation, and test splits\n",
    "    # first get 50% for training\n",
    "    X_train, X_rest, y_train, y_rest = train_test_split(\n",
    "        data['Sentence'],\n",
    "        data['Class'],\n",
    "        test_size=0.5,\n",
    "        random_state=0,\n",
    "        shuffle=True\n",
    "    )\n",
    "\n",
    "    # split rest to get 50/20/30 split\n",
    "    X_val, X_test, y_val, y_test = train_test_split(\n",
    "        X_rest,\n",
    "        y_rest,\n",
    "        test_size=0.6,  # 60% of 50% = 30% test\n",
    "        random_state=0,\n",
    "        shuffle=True\n",
    "    )\n",
    "    return X_train, X_val, X_test, y_train, y_val, y_test"
   ]
  },
  {
   "cell_type": "markdown",
   "id": "978e0857",
   "metadata": {},
   "source": [
    "small dataset"
   ]
  },
  {
   "cell_type": "code",
   "execution_count": 4,
   "id": "f661c60a",
   "metadata": {},
   "outputs": [],
   "source": [
    "# load and pre-process data \n",
    "data = pd.read_csv(\"amazon_cells_labelled.txt\", delimiter='\\t', header=None)\n",
    "\n",
    "data.columns = ['Sentence', 'Class']\n",
    "data['index'] = data.index # add new column index\n",
    "data = preprocess_pandas(data) # pre-process\n",
    "\n",
    "# Split data\n",
    "X_train, X_val, X_test, y_train, y_val, y_test = split_data(data)"
   ]
  },
  {
   "cell_type": "markdown",
   "id": "51d17adc",
   "metadata": {},
   "source": [
    "large dataset"
   ]
  },
  {
   "cell_type": "code",
   "execution_count": 5,
   "id": "480bcdad",
   "metadata": {},
   "outputs": [],
   "source": [
    "# load and pre-process data\n",
    "data_large = pd.read_csv(\"amazon_cells_labelled_LARGE_25K.txt\", delimiter='\\t', header=None)\n",
    "\n",
    "data_large.columns = ['Sentence', 'Class']\n",
    "data_large['index'] = data_large.index\n",
    "data_large = preprocess_pandas(data_large)\n",
    "\n",
    "# Split data\n",
    "X_train_l, X_val_l, X_test_l, y_train_l, y_val_l, y_test_l = split_data(data_large)"
   ]
  },
  {
   "cell_type": "markdown",
   "id": "289d35a2",
   "metadata": {},
   "source": [
    "Loading amazon review dataset "
   ]
  },
  {
   "cell_type": "markdown",
   "id": "dcfac1b3",
   "metadata": {},
   "source": [
    "Download the amazon reviews dataset 'Electronics_5.json.gz' on https://nijianmo.github.io/amazon/index.html#subsets. It is 1.2GB big."
   ]
  },
  {
   "cell_type": "markdown",
   "id": "c86a706b",
   "metadata": {},
   "source": [
    "Use following cell once to load, preprocess, and safe the dataset."
   ]
  },
  {
   "cell_type": "code",
   "execution_count": 4,
   "id": "18aefc7c",
   "metadata": {},
   "outputs": [],
   "source": [
    "input_file = 'Electronics_5.json.gz'\n",
    "output_file = 'electronics_reviews_preprocessed.parquet'\n",
    "\n",
    "data_elec = []\n",
    "with gzip.open(input_file, 'rt', encoding='utf-8') as f:\n",
    "    for idx, line in enumerate(f):\n",
    "        try:\n",
    "            review = json.loads(line)\n",
    "            overall = review.get('overall')\n",
    "            text = review.get('reviewText')\n",
    "            if overall is not None and text:  # ensure both exist\n",
    "                data_elec.append({\n",
    "                    'index': idx,\n",
    "                    'Class': overall,\n",
    "                    'Sentence': text.strip()\n",
    "                })\n",
    "        except json.JSONDecodeError:\n",
    "            continue  # skip malformed lines\n",
    "\n",
    "# Convert to DataFrame\n",
    "data_elec = pd.DataFrame(data_elec)\n",
    "\n",
    "# Preprocess data\n",
    "data_elec = preprocess_pandas(data_elec)\n",
    "\n",
    "# Converte DataFrame to PyArrow Table\n",
    "table = pa.Table.from_pandas(data_elec)\n",
    "\n",
    "# Save data in Parquet file to quickly access it again\n",
    "pq.write_table(table, output_file)\n"
   ]
  },
  {
   "cell_type": "code",
   "execution_count": 4,
   "id": "15c53a24",
   "metadata": {},
   "outputs": [],
   "source": [
    "# Load preprocessed dataset\n",
    "table = pq.read_table('electronics_reviews_preprocessed.parquet')\n",
    "data_elec = table.to_pandas()\n",
    "\n",
    "# Split data\n",
    "X_train_elec, X_val_elec, X_test_elec, y_train_elec, y_val_elec, y_test_elec = split_data(data_elec)"
   ]
  },
  {
   "cell_type": "markdown",
   "id": "e2d89ee6",
   "metadata": {},
   "source": [
    "## Vectorise using tfidf"
   ]
  },
  {
   "cell_type": "code",
   "execution_count": 12,
   "id": "40499850",
   "metadata": {},
   "outputs": [],
   "source": [
    "def create_data_loaders(X_train, X_val, X_test, y_train, y_val, y_test, tfidf_vectorizer, batch_size=32, handle_class_imbalance=False):\n",
    "    \"\"\"\n",
    "    Convert text data to TF-IDF vectors, then to PyTorch tensors, and return DataLoaders for train, validation, and test sets.\n",
    "    \n",
    "    Parameters:\n",
    "    - X_train: List or array of training sentences.\n",
    "    - X_val: List or array of validation sentences.\n",
    "    - X_test: List or array of test sentences.\n",
    "    - y_train: List or array of training labels.\n",
    "    - y_val: List or array of validation labels.\n",
    "    - y_test: List or array of test labels.\n",
    "    - tfidf_vectorizer: A fitted TfidfVectorizer.\n",
    "    - batch_size: Batch size for DataLoader (default is 32).\n",
    "    \n",
    "    Returns:\n",
    "    - train_loader: DataLoader for the training set.\n",
    "    - val_loader: DataLoader for the validation set.\n",
    "    - test_loader: DataLoader for the test set.\n",
    "    \"\"\"\n",
    "\n",
    "    # if handle_class_imbalance:\n",
    "        # classes_len = []\n",
    "        # for i in range(handle_class_imbalance):\n",
    "        #     classes_len.append(len(list(filter(lambda x: x == i+1, y_train))))\n",
    "        # total = sum(classes_len)\n",
    "        # part = list(map(lambda val: val/total, classes_len))\n",
    "        # print(classes_len)\n",
    "        # print(total)\n",
    "        # print(part)\n",
    "\n",
    "    \n",
    "    # Transform texts to sparse matrix and then to dense matrix for Pytorch\n",
    "    X_train_vec = tfidf_vectorizer.fit_transform(X_train).todense()\n",
    "    X_val_vec = tfidf_vectorizer.transform(X_val).todense()\n",
    "    X_test_vec = tfidf_vectorizer.transform(X_test).todense()\n",
    "\n",
    "    # NOTE: This isn't fully done yet\n",
    "    # if handle_class_imbalance:\n",
    "        # pass\n",
    "\n",
    "    # Convert to tensors\n",
    "    train_x_tensor = torch.from_numpy(np.array(X_train_vec)).type(torch.FloatTensor).to(device)\n",
    "    train_y_tensor = torch.from_numpy(np.array(y_train)).type(torch.FloatTensor).to(device)\n",
    "\n",
    "    val_x_tensor = torch.from_numpy(np.array(X_val_vec)).type(torch.FloatTensor).to(device)\n",
    "    val_y_tensor = torch.from_numpy(np.array(y_val)).type(torch.FloatTensor).to(device)\n",
    "\n",
    "    test_x_tensor = torch.from_numpy(np.array(X_test_vec)).type(torch.FloatTensor).to(device)\n",
    "    test_y_tensor = torch.from_numpy(np.array(y_test)).type(torch.FloatTensor).to(device)\n",
    "\n",
    "    # Build datasets\n",
    "    train_dataset = TensorDataset(train_x_tensor, train_y_tensor)\n",
    "    val_dataset = TensorDataset(val_x_tensor, val_y_tensor)\n",
    "    test_dataset = TensorDataset(test_x_tensor, test_y_tensor)\n",
    "\n",
    "    # Create DataLoaders\n",
    "    train_loader = DataLoader(train_dataset, batch_size=batch_size, shuffle=True)\n",
    "    val_loader = DataLoader(val_dataset, batch_size=batch_size, shuffle=False)\n",
    "    test_loader = DataLoader(test_dataset, batch_size=batch_size, shuffle=False)\n",
    "\n",
    "    return train_loader, val_loader, test_loader"
   ]
  },
  {
   "cell_type": "code",
   "execution_count": 13,
   "id": "403759a1",
   "metadata": {},
   "outputs": [],
   "source": [
    "# vectorize data using TFIDF and transform for PyTorch for scalability\n",
    "tfidf_vectorizer = TfidfVectorizer(analyzer='word', ngram_range=(1,2), max_features=50000, max_df=0.5, use_idf=True, norm='l2')\n",
    "# The amazon dataset needs less max_features\n",
    "# rough math is 3_000_000 rows * float64 * max_features -> 3MB * 8B * max_features -> 24MB * max_features\n",
    "#   I initially took 100 features, therefore we need 2.4GB RAM\n",
    "#   Going with 300 features requires around 7.2GB GPU RAM \n",
    "tfidf_vectorizer_elec = TfidfVectorizer(analyzer='word', ngram_range=(1,2), max_features=100, max_df=0.5, use_idf=True, norm='l2')"
   ]
  },
  {
   "cell_type": "markdown",
   "id": "5079e9f2",
   "metadata": {},
   "source": [
    "**Create DataLoaders**\n",
    "\n",
    "small dataset"
   ]
  },
  {
   "cell_type": "code",
   "execution_count": 14,
   "id": "2fe7cd62",
   "metadata": {},
   "outputs": [],
   "source": [
    "train_loader, val_loader, test_loader = create_data_loaders(X_train, X_val, X_test, y_train, y_val, y_test, tfidf_vectorizer, batch_size=16)"
   ]
  },
  {
   "cell_type": "markdown",
   "id": "7158a433",
   "metadata": {},
   "source": [
    "large dataset"
   ]
  },
  {
   "cell_type": "code",
   "execution_count": 35,
   "id": "3acd84e0",
   "metadata": {},
   "outputs": [],
   "source": [
    "train_loader_l, val_loader_l, test_loader_l = create_data_loaders(X_train_l, X_val_l, X_test_l, y_train_l, y_val_l, y_test_l, tfidf_vectorizer)"
   ]
  },
  {
   "cell_type": "markdown",
   "id": "2c17b2f0",
   "metadata": {},
   "source": [
    "amazon electronics review dataset"
   ]
  },
  {
   "cell_type": "code",
   "execution_count": null,
   "id": "802e7fd7",
   "metadata": {},
   "outputs": [],
   "source": [
    "train_loader_elec, val_loader_elec, test_loader_elec = create_data_loaders(X_train_elec, X_val_elec, X_test_elec, y_train_elec, y_val_elec, y_test_elec, tfidf_vectorizer_elec, handle_class_imbalance=5)"
   ]
  },
  {
   "cell_type": "markdown",
   "id": "b3c0dcab",
   "metadata": {
    "jp-MarkdownHeadingCollapsed": true
   },
   "source": [
    "## Sentence embeddings using Word2Vec for vectorization"
   ]
  },
  {
   "cell_type": "code",
   "execution_count": 13,
   "id": "95fe3b35",
   "metadata": {},
   "outputs": [],
   "source": [
    "# # load pretrained word2vec model with dimension 100\n",
    "# word2vec_model = api.load(\"glove-wiki-gigaword-100\")\n",
    "# embedding_dim = 100 "
   ]
  },
  {
   "cell_type": "code",
   "execution_count": 36,
   "id": "bc41033d",
   "metadata": {},
   "outputs": [],
   "source": [
    "sentences = list(X_train) + list(X_val) + list(X_test)\n",
    "# Tokenize sentences\n",
    "tokenized_sentences = [word_tokenize(sentence.lower()) for sentence in sentences]\n",
    "\n",
    "sentences_l = list(X_train_l) + list(X_val_l) + list(X_test_l)\n",
    "# Tokenize sentences\n",
    "tokenized_sentences_l = [word_tokenize(sentence.lower()) for sentence in sentences_l]"
   ]
  },
  {
   "cell_type": "code",
   "execution_count": 37,
   "id": "f0a5c11f",
   "metadata": {},
   "outputs": [],
   "source": [
    "# Train Word2Vec \n",
    "word2vec_model = Word2Vec(\n",
    "    sentences=tokenized_sentences,\n",
    "    vector_size=100,       # dimension of vectors\n",
    "    window=5,              \n",
    "    min_count=1,           # min. appearance of a word in dataset\n",
    "    workers=4,             \n",
    "    sg=0                   # 1 = skip-gram, 0 = CBOW\n",
    ")\n",
    "\n",
    "word2vec_model_l = Word2Vec(\n",
    "    sentences=tokenized_sentences_l,\n",
    "    vector_size=100,       # dimension of vectors\n",
    "    window=5,              \n",
    "    min_count=1,           # min. appearance of a word in dataset\n",
    "    workers=4,             \n",
    "    sg=0                   # 1 = skip-gram, 0 = CBOW\n",
    ")"
   ]
  },
  {
   "cell_type": "code",
   "execution_count": 44,
   "id": "81f1b1fd",
   "metadata": {},
   "outputs": [],
   "source": [
    "# Function to convert sentences into embeddings\n",
    "def sentence_to_vec(sentence, model, embedding_dim=100):\n",
    "    words = sentence.split()\n",
    "    vec = torch.zeros(embedding_dim).to(device)\n",
    "    word_count = 0\n",
    "    for word in words:\n",
    "        if word in model.wv:\n",
    "            vec += torch.tensor(model.wv[word]).to(device)\n",
    "            word_count += 1\n",
    "    if word_count > 0:\n",
    "        vec /= word_count\n",
    "    return vec\n",
    "\n",
    "# Convert all sentences to embeddings for the datasets\n",
    "def create_dataset(X, y, word2vec_model, embedding_dim=100):\n",
    "    x_tensor = torch.stack([sentence_to_vec(sentence, word2vec_model, embedding_dim) for sentence in X]).to(device)\n",
    "    y_tensor = torch.tensor(np.array(y), dtype=torch.float32).to(device)  # Binary labels as float32\n",
    "    return x_tensor, y_tensor"
   ]
  },
  {
   "cell_type": "markdown",
   "id": "075f178e",
   "metadata": {},
   "source": [
    "small dataset"
   ]
  },
  {
   "cell_type": "code",
   "execution_count": 45,
   "id": "bf772d4d",
   "metadata": {},
   "outputs": [],
   "source": [
    "# Create Tensor datasets\n",
    "train_x_tensor_w2v, train_y_tensor_w2v = create_dataset(X_train, y_train, word2vec_model)\n",
    "val_x_tensor_w2v, val_y_tensor_w2v = create_dataset(X_val, y_val, word2vec_model)\n",
    "test_x_tensor_w2v, test_y_tensor_w2v = create_dataset(X_test, y_test, word2vec_model)\n",
    "\n",
    "# Build datasets and DataLoaders\n",
    "train_loader_w2v = DataLoader(TensorDataset(train_x_tensor_w2v, train_y_tensor_w2v), batch_size=32, shuffle=True)\n",
    "val_loader_w2v = DataLoader(TensorDataset(val_x_tensor_w2v, val_y_tensor_w2v), batch_size=32, shuffle=False)\n",
    "test_loader_w2v = DataLoader(TensorDataset(test_x_tensor_w2v, test_y_tensor_w2v), batch_size=32, shuffle=False)"
   ]
  },
  {
   "cell_type": "markdown",
   "id": "0ecc8b84",
   "metadata": {},
   "source": [
    "large dataset"
   ]
  },
  {
   "cell_type": "code",
   "execution_count": 46,
   "id": "577983f3",
   "metadata": {},
   "outputs": [],
   "source": [
    "# Create Tensor datasets\n",
    "train_x_tensor_w2v_l, train_y_tensor_w2v_l = create_dataset(X_train_l, y_train_l, word2vec_model_l)\n",
    "val_x_tensor_w2v_l, val_y_tensor_w2v_l = create_dataset(X_val_l, y_val_l, word2vec_model_l)\n",
    "test_x_tensor_w2v_l, test_y_tensor_w2v_l = create_dataset(X_test_l, y_test_l, word2vec_model_l)\n",
    "\n",
    "# Build datasets and DataLoaders\n",
    "train_loader_w2v_l = DataLoader(TensorDataset(train_x_tensor_w2v_l, train_y_tensor_w2v_l), batch_size=32, shuffle=True)\n",
    "val_loader_w2v_l = DataLoader(TensorDataset(val_x_tensor_w2v_l, val_y_tensor_w2v_l), batch_size=32, shuffle=False)\n",
    "test_loader_w2v_l = DataLoader(TensorDataset(test_x_tensor_w2v_l, test_y_tensor_w2v_l), batch_size=32, shuffle=False)"
   ]
  },
  {
   "cell_type": "markdown",
   "id": "968d19d2",
   "metadata": {},
   "source": [
    "---"
   ]
  },
  {
   "cell_type": "markdown",
   "id": "65a55a4f",
   "metadata": {
    "jp-MarkdownHeadingCollapsed": true
   },
   "source": [
    "# ANN Classifier"
   ]
  },
  {
   "cell_type": "code",
   "execution_count": 8,
   "id": "a0221af8",
   "metadata": {},
   "outputs": [],
   "source": [
    "class ANNClassifier(nn.Module):\n",
    "    def __init__(self, input_size, name = 'default'):\n",
    "        super(ANNClassifier, self).__init__()\n",
    "\n",
    "        self.flatten = nn.Flatten()\n",
    "        self.fc1 = nn.Linear(input_size, 16)\n",
    "        self.bn1 = nn.BatchNorm1d(16)\n",
    "        self.relu1 = nn.LeakyReLU(negative_slope=0.01)\n",
    "\n",
    "        self.fc2 = nn.Linear(16, 8)\n",
    "        self.bn2 = nn.BatchNorm1d(8)\n",
    "        self.relu2 = nn.LeakyReLU(negative_slope=0.01)\n",
    "        self.drop1 = nn.Dropout(0.7)\n",
    "\n",
    "        self.fc3 = nn.Linear(8, 1)  # Single neuron output\n",
    "\n",
    "        self.name = name + '.pth'\n",
    "\n",
    "    def forward(self, x):\n",
    "        x = self.flatten(x)\n",
    "        x = self.relu1(self.bn1(self.fc1(x)))\n",
    "        x = self.drop1(self.relu2(self.bn2(self.fc2(x))))\n",
    "        x = torch.sigmoid(self.fc3(x))  # Sigmoid for binary classification\n",
    "        return x"
   ]
  },
  {
   "cell_type": "code",
   "execution_count": 9,
   "id": "8f035da1",
   "metadata": {},
   "outputs": [],
   "source": [
    "class SimpleANNClassifier(nn.Module):\n",
    "    def __init__(self, input_size, name = 'default'):\n",
    "        super(SimpleANNClassifier, self).__init__()\n",
    "\n",
    "        self.flatten = nn.Flatten()\n",
    "        self.fc1 = nn.Linear(input_size, 8)\n",
    "        self.bn1 = nn.BatchNorm1d(8)\n",
    "        self.relu1 = nn.LeakyReLU(negative_slope=0.01)\n",
    "        self.drop1 = nn.Dropout(0.7)\n",
    "\n",
    "        self.fc2 = nn.Linear(8, 1)  # Single neuron output\n",
    "\n",
    "        self.name = name + '.pth'\n",
    "\n",
    "    def forward(self, x):\n",
    "        x = self.flatten(x)\n",
    "        x = self.drop1(self.relu1(self.bn1(self.fc1(x))))\n",
    "        x = torch.sigmoid(self.fc2(x))  # Sigmoid for binary classification\n",
    "        return x"
   ]
  },
  {
   "cell_type": "code",
   "execution_count": 10,
   "id": "307da711",
   "metadata": {},
   "outputs": [],
   "source": [
    "class SimpleANNClassifierMulti(nn.Module):\n",
    "    def __init__(self, input_size, name = 'default'):\n",
    "        super(SimpleANNClassifierMulti, self).__init__()\n",
    "\n",
    "        self.flatten = nn.Flatten()\n",
    "        self.fc1 = nn.Linear(input_size, 8)\n",
    "        self.bn1 = nn.BatchNorm1d(8)\n",
    "        self.relu1 = nn.LeakyReLU(negative_slope=0.01)\n",
    "        self.drop1 = nn.Dropout(0.7)\n",
    "\n",
    "        self.fc2 = nn.Linear(8, 6)  # Ratings 0-5 \n",
    "\n",
    "        self.name = name + '.pth'\n",
    "\n",
    "    def forward(self, x):\n",
    "        x = self.flatten(x)\n",
    "        x = self.drop1(self.relu1(self.bn1(self.fc1(x))))\n",
    "        x = torch.softmax(self.fc2(x), 0)\n",
    "        print(x)\n",
    "        return x"
   ]
  },
  {
   "cell_type": "code",
   "execution_count": 11,
   "id": "b9c24cfc",
   "metadata": {},
   "outputs": [],
   "source": [
    "class ANNClassifierLarge(nn.Module):\n",
    "    def __init__(self, input_size, name = 'default'):\n",
    "        super(ANNClassifierLarge, self).__init__()\n",
    "\n",
    "        self.flatten = nn.Flatten()\n",
    "        self.fc1 = nn.Linear(input_size, 256)\n",
    "        self.bn1 = nn.BatchNorm1d(256)\n",
    "        self.relu1 = nn.LeakyReLU(negative_slope=0.01)\n",
    "\n",
    "        self.fc2 = nn.Linear(256, 64)\n",
    "        self.bn2 = nn.BatchNorm1d(64)\n",
    "        self.relu2 = nn.LeakyReLU(negative_slope=0.01)\n",
    "        self.drop1 = nn.Dropout(0.3)\n",
    "\n",
    "        self.fc3 = nn.Linear(64, 16)\n",
    "        self.bn3 = nn.BatchNorm1d(16)\n",
    "        self.relu3 = nn.LeakyReLU(negative_slope=0.01)\n",
    "        self.drop2 = nn.Dropout(0.3)\n",
    "\n",
    "        self.fc4 = nn.Linear(16, 1)  # Single neuron output\n",
    "\n",
    "        self.name = name + '.pth'\n",
    "\n",
    "    def forward(self, x):\n",
    "        x = self.flatten(x)\n",
    "        x = self.relu1(self.bn1(self.fc1(x)))\n",
    "        x = self.drop1(self.relu2(self.bn2(self.fc2(x))))\n",
    "        x = self.drop2(self.relu3(self.bn3(self.fc3(x))))\n",
    "        x = torch.sigmoid(self.fc4(x))  # Sigmoid for binary classification\n",
    "        return x"
   ]
  },
  {
   "cell_type": "code",
   "execution_count": 12,
   "id": "a07df824",
   "metadata": {},
   "outputs": [],
   "source": [
    "def train_model(model, criterion, optimizer, train_loader, val_loader, num_epochs, mod=False):\n",
    "    train_loss_array = []\n",
    "    best_accuracy = 0.0\n",
    "\n",
    "    for epoch in range(num_epochs):\n",
    "        model.train()\n",
    "        running_train_loss = 0.0\n",
    "        correct = 0\n",
    "        total = 0\n",
    "\n",
    "        for inputs, labels in train_loader:\n",
    "            inputs = inputs.to(device)\n",
    "            labels = labels.to(device)\n",
    "            labels = labels.float().unsqueeze(1)  # [batch, 1] for BCELoss\n",
    "            if(mod):\n",
    "                labels = mod(labels)\n",
    "            \n",
    "            optimizer.zero_grad()\n",
    "            outputs = model(inputs)\n",
    "            loss = criterion(outputs, labels)\n",
    "            loss.backward()\n",
    "            optimizer.step()\n",
    "\n",
    "            predicted = (outputs >= 0.5).int()\n",
    "            total += labels.size(0)\n",
    "            correct += (predicted == labels).sum().item()\n",
    "            running_train_loss += loss.item()\n",
    "\n",
    "        train_acc = 100 * correct / total\n",
    "        training_loss = running_train_loss / len(train_loader)\n",
    "        train_loss_array.append(training_loss)\n",
    "\n",
    "        val_loss, val_acc, _, _ = test_model(loader=val_loader, model=model, criterion=criterion, mod=mod)\n",
    "\n",
    "        if val_acc > best_accuracy:\n",
    "            best_accuracy = val_acc\n",
    "            best_model_wts = copy.deepcopy(model.state_dict())\n",
    "            torch.save(best_model_wts, model.name)\n",
    "\n",
    "        print(f\"Epoch {epoch+1}/{num_epochs}, Train Loss: {training_loss:.4f}, Val Loss: {val_loss:.4f}, Train Acc: {train_acc:.2f}%, Val Acc: {val_acc:.2f}%\")\n",
    "\n",
    "    print(f\"Best validation accuracy: {best_accuracy}%\")\n",
    "    return model\n",
    "\n",
    "\n",
    "def test_model(loader, model=None, criterion=None, input_size=None, mod=False):\n",
    "    if model is None:\n",
    "        model = ANNClassifier(input_size)\n",
    "        model.load_state_dict(torch.load('amazonclass.pth'))\n",
    "\n",
    "    model.eval()\n",
    "    running_loss = 0.0\n",
    "    correct = 0\n",
    "    total = 0\n",
    "    all_labels = []\n",
    "    all_preds = []\n",
    "\n",
    "    with torch.no_grad():\n",
    "        for inputs, labels in loader:\n",
    "            inputs = inputs.to(device)\n",
    "            labels = labels.to(device)\n",
    "            labels = labels.float().unsqueeze(1)\n",
    "            if(mod):\n",
    "                labels = mod(labels)\n",
    "\n",
    "            outputs = model(inputs)\n",
    "            loss = criterion(outputs, labels)\n",
    "            predicted = (outputs >= 0.5).int()\n",
    "            total += labels.size(0)\n",
    "            correct += (predicted == labels).sum().item()\n",
    "            running_loss += loss.item()\n",
    "\n",
    "            all_labels.extend(labels.squeeze().tolist())\n",
    "            all_preds.extend(predicted.squeeze().tolist())\n",
    "\n",
    "    loss = running_loss / len(loader)\n",
    "    accuracy = 100 * correct / total\n",
    "\n",
    "    return loss, accuracy, np.array(all_labels), np.array(all_preds)"
   ]
  },
  {
   "cell_type": "code",
   "execution_count": 13,
   "id": "f7780e0c",
   "metadata": {},
   "outputs": [],
   "source": [
    "def plot_confusion_matrix(all_labels=None, all_predictions=None, class_labels=None):\n",
    "    if all_labels is None or all_predictions is None:\n",
    "        print(\"Error: all_labels or all_predictions needs to be passed\")\n",
    "        return\n",
    "\n",
    "    if class_labels is None:\n",
    "        class_labels = [\"Negative (0)\", \"Positive (1)\"]  # Default\n",
    "\n",
    "    # Compute the confusion matrix\n",
    "    cm = metrics.confusion_matrix(all_labels, all_predictions)\n",
    "    # print(\"Confusion Matrix:\\n\", cm)\n",
    "\n",
    "    # Plot it with descriptive labels\n",
    "    fig, ax = plt.subplots(figsize=(6, 6))\n",
    "    cm_display = metrics.ConfusionMatrixDisplay(confusion_matrix=cm, display_labels=class_labels)\n",
    "    cm_display.plot(cmap='Blues', values_format='d', ax=ax)\n",
    "\n",
    "    plt.title(\"Confusion Matrix\")\n",
    "    plt.tight_layout()\n",
    "    plt.show()"
   ]
  },
  {
   "cell_type": "markdown",
   "id": "53baeb7d",
   "metadata": {},
   "source": [
    "---"
   ]
  },
  {
   "cell_type": "markdown",
   "id": "21948487",
   "metadata": {
    "jp-MarkdownHeadingCollapsed": true
   },
   "source": [
    "# Training and Evaluation of ANNs"
   ]
  },
  {
   "cell_type": "markdown",
   "id": "5a7b9d5c",
   "metadata": {},
   "source": [
    "## Train simple ANN Classifier on small dataset"
   ]
  },
  {
   "cell_type": "code",
   "execution_count": 52,
   "id": "1801385d",
   "metadata": {
    "scrolled": true
   },
   "outputs": [
    {
     "name": "stdout",
     "output_type": "stream",
     "text": [
      "Epoch 1/250, Train Loss: 0.7711, Val Loss: 0.6937, Train Acc: 49.20%, Val Acc: 47.00%\n",
      "Epoch 2/250, Train Loss: 0.7470, Val Loss: 0.6950, Train Acc: 51.20%, Val Acc: 49.00%\n",
      "Epoch 3/250, Train Loss: 0.6977, Val Loss: 0.6989, Train Acc: 53.00%, Val Acc: 51.50%\n",
      "Epoch 4/250, Train Loss: 0.6840, Val Loss: 0.6943, Train Acc: 58.40%, Val Acc: 52.50%\n",
      "Epoch 5/250, Train Loss: 0.6520, Val Loss: 0.6863, Train Acc: 62.20%, Val Acc: 57.00%\n",
      "Epoch 6/250, Train Loss: 0.6225, Val Loss: 0.6774, Train Acc: 66.20%, Val Acc: 56.50%\n",
      "Epoch 7/250, Train Loss: 0.6213, Val Loss: 0.6680, Train Acc: 64.00%, Val Acc: 59.50%\n",
      "Epoch 8/250, Train Loss: 0.6114, Val Loss: 0.6633, Train Acc: 66.40%, Val Acc: 61.00%\n",
      "Epoch 9/250, Train Loss: 0.5696, Val Loss: 0.6558, Train Acc: 70.20%, Val Acc: 62.00%\n",
      "Epoch 10/250, Train Loss: 0.5481, Val Loss: 0.6511, Train Acc: 74.40%, Val Acc: 63.50%\n",
      "Epoch 11/250, Train Loss: 0.5379, Val Loss: 0.6450, Train Acc: 73.00%, Val Acc: 63.50%\n",
      "Epoch 12/250, Train Loss: 0.5249, Val Loss: 0.6436, Train Acc: 77.80%, Val Acc: 65.50%\n",
      "Epoch 13/250, Train Loss: 0.5190, Val Loss: 0.6398, Train Acc: 76.20%, Val Acc: 64.00%\n",
      "Epoch 14/250, Train Loss: 0.5338, Val Loss: 0.6350, Train Acc: 76.00%, Val Acc: 66.50%\n",
      "Epoch 15/250, Train Loss: 0.5162, Val Loss: 0.6303, Train Acc: 78.60%, Val Acc: 65.00%\n",
      "Epoch 16/250, Train Loss: 0.5077, Val Loss: 0.6290, Train Acc: 79.20%, Val Acc: 63.00%\n",
      "Epoch 17/250, Train Loss: 0.4931, Val Loss: 0.6284, Train Acc: 82.80%, Val Acc: 65.50%\n",
      "Epoch 18/250, Train Loss: 0.4943, Val Loss: 0.6229, Train Acc: 78.00%, Val Acc: 66.00%\n",
      "Epoch 19/250, Train Loss: 0.4646, Val Loss: 0.6187, Train Acc: 83.80%, Val Acc: 67.00%\n",
      "Epoch 20/250, Train Loss: 0.4736, Val Loss: 0.6192, Train Acc: 84.00%, Val Acc: 67.00%\n",
      "Epoch 21/250, Train Loss: 0.4731, Val Loss: 0.6172, Train Acc: 84.00%, Val Acc: 68.00%\n",
      "Epoch 22/250, Train Loss: 0.4793, Val Loss: 0.6098, Train Acc: 83.60%, Val Acc: 68.50%\n",
      "Epoch 23/250, Train Loss: 0.4504, Val Loss: 0.6050, Train Acc: 82.60%, Val Acc: 68.00%\n",
      "Epoch 24/250, Train Loss: 0.4537, Val Loss: 0.6072, Train Acc: 83.60%, Val Acc: 69.50%\n",
      "Epoch 25/250, Train Loss: 0.4493, Val Loss: 0.6021, Train Acc: 84.00%, Val Acc: 68.00%\n",
      "Epoch 26/250, Train Loss: 0.4439, Val Loss: 0.6003, Train Acc: 83.00%, Val Acc: 68.50%\n",
      "Epoch 27/250, Train Loss: 0.4315, Val Loss: 0.5949, Train Acc: 85.60%, Val Acc: 69.50%\n",
      "Epoch 28/250, Train Loss: 0.4450, Val Loss: 0.5942, Train Acc: 85.40%, Val Acc: 68.50%\n",
      "Epoch 29/250, Train Loss: 0.4314, Val Loss: 0.5920, Train Acc: 85.60%, Val Acc: 71.50%\n",
      "Epoch 30/250, Train Loss: 0.4260, Val Loss: 0.5905, Train Acc: 85.40%, Val Acc: 71.00%\n",
      "Epoch 31/250, Train Loss: 0.4418, Val Loss: 0.5884, Train Acc: 85.40%, Val Acc: 69.50%\n",
      "Epoch 32/250, Train Loss: 0.4454, Val Loss: 0.5928, Train Acc: 85.40%, Val Acc: 73.00%\n",
      "Epoch 33/250, Train Loss: 0.4114, Val Loss: 0.5921, Train Acc: 87.20%, Val Acc: 73.00%\n",
      "Epoch 34/250, Train Loss: 0.4244, Val Loss: 0.5891, Train Acc: 84.40%, Val Acc: 72.00%\n",
      "Epoch 35/250, Train Loss: 0.4426, Val Loss: 0.5862, Train Acc: 86.40%, Val Acc: 70.00%\n",
      "Epoch 36/250, Train Loss: 0.4115, Val Loss: 0.5835, Train Acc: 85.60%, Val Acc: 69.50%\n",
      "Epoch 37/250, Train Loss: 0.4038, Val Loss: 0.5835, Train Acc: 86.20%, Val Acc: 70.50%\n",
      "Epoch 38/250, Train Loss: 0.4065, Val Loss: 0.5802, Train Acc: 85.40%, Val Acc: 69.50%\n",
      "Epoch 39/250, Train Loss: 0.3958, Val Loss: 0.5753, Train Acc: 89.60%, Val Acc: 70.00%\n",
      "Epoch 40/250, Train Loss: 0.3862, Val Loss: 0.5764, Train Acc: 87.60%, Val Acc: 69.00%\n",
      "Epoch 41/250, Train Loss: 0.3923, Val Loss: 0.5732, Train Acc: 86.40%, Val Acc: 69.50%\n",
      "Epoch 42/250, Train Loss: 0.4046, Val Loss: 0.5720, Train Acc: 87.20%, Val Acc: 69.50%\n",
      "Epoch 43/250, Train Loss: 0.4148, Val Loss: 0.5730, Train Acc: 85.60%, Val Acc: 72.00%\n",
      "Epoch 44/250, Train Loss: 0.4057, Val Loss: 0.5685, Train Acc: 85.00%, Val Acc: 70.00%\n",
      "Epoch 45/250, Train Loss: 0.4086, Val Loss: 0.5668, Train Acc: 86.00%, Val Acc: 72.00%\n",
      "Epoch 46/250, Train Loss: 0.3984, Val Loss: 0.5696, Train Acc: 87.40%, Val Acc: 72.50%\n",
      "Epoch 47/250, Train Loss: 0.3927, Val Loss: 0.5631, Train Acc: 85.80%, Val Acc: 71.50%\n",
      "Epoch 48/250, Train Loss: 0.4015, Val Loss: 0.5643, Train Acc: 86.80%, Val Acc: 72.50%\n",
      "Epoch 49/250, Train Loss: 0.3821, Val Loss: 0.5610, Train Acc: 85.80%, Val Acc: 72.50%\n",
      "Epoch 50/250, Train Loss: 0.3817, Val Loss: 0.5642, Train Acc: 88.80%, Val Acc: 73.00%\n",
      "Epoch 51/250, Train Loss: 0.3927, Val Loss: 0.5613, Train Acc: 85.00%, Val Acc: 72.00%\n",
      "Epoch 52/250, Train Loss: 0.3681, Val Loss: 0.5584, Train Acc: 86.20%, Val Acc: 73.00%\n",
      "Epoch 53/250, Train Loss: 0.3777, Val Loss: 0.5595, Train Acc: 84.40%, Val Acc: 72.00%\n",
      "Epoch 54/250, Train Loss: 0.3594, Val Loss: 0.5570, Train Acc: 85.40%, Val Acc: 72.00%\n",
      "Epoch 55/250, Train Loss: 0.3704, Val Loss: 0.5546, Train Acc: 87.40%, Val Acc: 72.00%\n",
      "Epoch 56/250, Train Loss: 0.3664, Val Loss: 0.5545, Train Acc: 85.60%, Val Acc: 72.50%\n",
      "Epoch 57/250, Train Loss: 0.3811, Val Loss: 0.5533, Train Acc: 85.20%, Val Acc: 72.50%\n",
      "Epoch 58/250, Train Loss: 0.3568, Val Loss: 0.5536, Train Acc: 86.20%, Val Acc: 72.50%\n",
      "Epoch 59/250, Train Loss: 0.3662, Val Loss: 0.5529, Train Acc: 86.60%, Val Acc: 71.50%\n",
      "Epoch 60/250, Train Loss: 0.3676, Val Loss: 0.5511, Train Acc: 85.40%, Val Acc: 71.50%\n",
      "Epoch 61/250, Train Loss: 0.3900, Val Loss: 0.5497, Train Acc: 83.20%, Val Acc: 72.00%\n",
      "Epoch 62/250, Train Loss: 0.3624, Val Loss: 0.5470, Train Acc: 87.00%, Val Acc: 72.50%\n",
      "Epoch 63/250, Train Loss: 0.3377, Val Loss: 0.5501, Train Acc: 86.00%, Val Acc: 73.00%\n",
      "Epoch 64/250, Train Loss: 0.3472, Val Loss: 0.5475, Train Acc: 86.60%, Val Acc: 73.00%\n",
      "Epoch 65/250, Train Loss: 0.3404, Val Loss: 0.5446, Train Acc: 88.80%, Val Acc: 73.00%\n",
      "Epoch 66/250, Train Loss: 0.3529, Val Loss: 0.5438, Train Acc: 87.60%, Val Acc: 73.00%\n",
      "Epoch 67/250, Train Loss: 0.3363, Val Loss: 0.5435, Train Acc: 87.00%, Val Acc: 73.00%\n",
      "Epoch 68/250, Train Loss: 0.3716, Val Loss: 0.5410, Train Acc: 84.80%, Val Acc: 73.50%\n",
      "Epoch 69/250, Train Loss: 0.3781, Val Loss: 0.5396, Train Acc: 81.80%, Val Acc: 72.50%\n",
      "Epoch 70/250, Train Loss: 0.3822, Val Loss: 0.5442, Train Acc: 83.00%, Val Acc: 73.00%\n",
      "Epoch 71/250, Train Loss: 0.3469, Val Loss: 0.5401, Train Acc: 84.20%, Val Acc: 74.00%\n",
      "Epoch 72/250, Train Loss: 0.3596, Val Loss: 0.5345, Train Acc: 86.40%, Val Acc: 71.50%\n",
      "Epoch 73/250, Train Loss: 0.3471, Val Loss: 0.5349, Train Acc: 86.20%, Val Acc: 73.50%\n",
      "Epoch 74/250, Train Loss: 0.3512, Val Loss: 0.5334, Train Acc: 87.40%, Val Acc: 71.50%\n",
      "Epoch 75/250, Train Loss: 0.3603, Val Loss: 0.5390, Train Acc: 85.80%, Val Acc: 72.50%\n",
      "Epoch 76/250, Train Loss: 0.3142, Val Loss: 0.5313, Train Acc: 86.80%, Val Acc: 73.50%\n",
      "Epoch 77/250, Train Loss: 0.3350, Val Loss: 0.5304, Train Acc: 86.60%, Val Acc: 73.50%\n",
      "Epoch 78/250, Train Loss: 0.3312, Val Loss: 0.5288, Train Acc: 87.40%, Val Acc: 73.00%\n",
      "Epoch 79/250, Train Loss: 0.3417, Val Loss: 0.5260, Train Acc: 86.80%, Val Acc: 74.00%\n",
      "Epoch 80/250, Train Loss: 0.3498, Val Loss: 0.5275, Train Acc: 85.20%, Val Acc: 73.00%\n",
      "Epoch 81/250, Train Loss: 0.3376, Val Loss: 0.5278, Train Acc: 84.80%, Val Acc: 74.00%\n",
      "Epoch 82/250, Train Loss: 0.3423, Val Loss: 0.5269, Train Acc: 86.00%, Val Acc: 73.50%\n",
      "Epoch 83/250, Train Loss: 0.3314, Val Loss: 0.5291, Train Acc: 85.60%, Val Acc: 73.00%\n",
      "Epoch 84/250, Train Loss: 0.3330, Val Loss: 0.5278, Train Acc: 87.60%, Val Acc: 74.00%\n",
      "Epoch 85/250, Train Loss: 0.3079, Val Loss: 0.5263, Train Acc: 87.80%, Val Acc: 74.00%\n",
      "Epoch 86/250, Train Loss: 0.3232, Val Loss: 0.5289, Train Acc: 87.20%, Val Acc: 71.00%\n",
      "Epoch 87/250, Train Loss: 0.3262, Val Loss: 0.5262, Train Acc: 86.60%, Val Acc: 72.50%\n",
      "Epoch 88/250, Train Loss: 0.3266, Val Loss: 0.5251, Train Acc: 88.60%, Val Acc: 73.00%\n",
      "Epoch 89/250, Train Loss: 0.3064, Val Loss: 0.5246, Train Acc: 85.20%, Val Acc: 72.50%\n",
      "Epoch 90/250, Train Loss: 0.3176, Val Loss: 0.5202, Train Acc: 87.20%, Val Acc: 73.00%\n",
      "Epoch 91/250, Train Loss: 0.3063, Val Loss: 0.5224, Train Acc: 88.60%, Val Acc: 70.50%\n",
      "Epoch 92/250, Train Loss: 0.3011, Val Loss: 0.5242, Train Acc: 87.00%, Val Acc: 71.00%\n",
      "Epoch 93/250, Train Loss: 0.3037, Val Loss: 0.5205, Train Acc: 84.60%, Val Acc: 73.00%\n",
      "Epoch 94/250, Train Loss: 0.3175, Val Loss: 0.5188, Train Acc: 88.00%, Val Acc: 73.50%\n",
      "Epoch 95/250, Train Loss: 0.3254, Val Loss: 0.5246, Train Acc: 86.20%, Val Acc: 72.00%\n",
      "Epoch 96/250, Train Loss: 0.3173, Val Loss: 0.5196, Train Acc: 86.00%, Val Acc: 72.50%\n",
      "Epoch 97/250, Train Loss: 0.3134, Val Loss: 0.5194, Train Acc: 86.40%, Val Acc: 74.00%\n",
      "Epoch 98/250, Train Loss: 0.3004, Val Loss: 0.5212, Train Acc: 88.80%, Val Acc: 71.50%\n",
      "Epoch 99/250, Train Loss: 0.2882, Val Loss: 0.5195, Train Acc: 87.20%, Val Acc: 73.00%\n",
      "Epoch 100/250, Train Loss: 0.2928, Val Loss: 0.5203, Train Acc: 87.40%, Val Acc: 73.00%\n",
      "Epoch 101/250, Train Loss: 0.3254, Val Loss: 0.5192, Train Acc: 84.80%, Val Acc: 73.50%\n",
      "Epoch 102/250, Train Loss: 0.2911, Val Loss: 0.5193, Train Acc: 86.80%, Val Acc: 73.00%\n",
      "Epoch 103/250, Train Loss: 0.2999, Val Loss: 0.5210, Train Acc: 87.80%, Val Acc: 74.00%\n",
      "Epoch 104/250, Train Loss: 0.2775, Val Loss: 0.5183, Train Acc: 89.60%, Val Acc: 74.00%\n",
      "Epoch 105/250, Train Loss: 0.2797, Val Loss: 0.5167, Train Acc: 87.60%, Val Acc: 72.50%\n",
      "Epoch 106/250, Train Loss: 0.2951, Val Loss: 0.5176, Train Acc: 88.00%, Val Acc: 74.00%\n",
      "Epoch 107/250, Train Loss: 0.2943, Val Loss: 0.5166, Train Acc: 86.40%, Val Acc: 74.50%\n",
      "Epoch 108/250, Train Loss: 0.3167, Val Loss: 0.5158, Train Acc: 87.20%, Val Acc: 73.00%\n",
      "Epoch 109/250, Train Loss: 0.3029, Val Loss: 0.5157, Train Acc: 86.60%, Val Acc: 74.50%\n",
      "Epoch 110/250, Train Loss: 0.2627, Val Loss: 0.5141, Train Acc: 89.80%, Val Acc: 73.50%\n",
      "Epoch 111/250, Train Loss: 0.2806, Val Loss: 0.5142, Train Acc: 88.20%, Val Acc: 74.50%\n",
      "Epoch 112/250, Train Loss: 0.2806, Val Loss: 0.5142, Train Acc: 87.00%, Val Acc: 74.50%\n",
      "Epoch 113/250, Train Loss: 0.2935, Val Loss: 0.5136, Train Acc: 89.00%, Val Acc: 74.00%\n",
      "Epoch 114/250, Train Loss: 0.2626, Val Loss: 0.5109, Train Acc: 89.60%, Val Acc: 74.00%\n",
      "Epoch 115/250, Train Loss: 0.2850, Val Loss: 0.5105, Train Acc: 88.00%, Val Acc: 74.00%\n",
      "Epoch 116/250, Train Loss: 0.2642, Val Loss: 0.5072, Train Acc: 90.80%, Val Acc: 74.00%\n",
      "Epoch 117/250, Train Loss: 0.2975, Val Loss: 0.5069, Train Acc: 86.40%, Val Acc: 74.50%\n",
      "Epoch 118/250, Train Loss: 0.2554, Val Loss: 0.5084, Train Acc: 88.20%, Val Acc: 74.50%\n",
      "Epoch 119/250, Train Loss: 0.2795, Val Loss: 0.5085, Train Acc: 87.40%, Val Acc: 75.00%\n",
      "Epoch 120/250, Train Loss: 0.2988, Val Loss: 0.5074, Train Acc: 87.60%, Val Acc: 74.50%\n",
      "Epoch 121/250, Train Loss: 0.2629, Val Loss: 0.5056, Train Acc: 89.60%, Val Acc: 74.50%\n",
      "Epoch 122/250, Train Loss: 0.3038, Val Loss: 0.5047, Train Acc: 88.20%, Val Acc: 73.50%\n",
      "Epoch 123/250, Train Loss: 0.2732, Val Loss: 0.5053, Train Acc: 88.20%, Val Acc: 75.00%\n",
      "Epoch 124/250, Train Loss: 0.2957, Val Loss: 0.5023, Train Acc: 88.20%, Val Acc: 74.50%\n",
      "Epoch 125/250, Train Loss: 0.2621, Val Loss: 0.5046, Train Acc: 90.20%, Val Acc: 74.50%\n",
      "Epoch 126/250, Train Loss: 0.2756, Val Loss: 0.5045, Train Acc: 88.20%, Val Acc: 74.00%\n",
      "Epoch 127/250, Train Loss: 0.2693, Val Loss: 0.5121, Train Acc: 89.60%, Val Acc: 74.50%\n",
      "Epoch 128/250, Train Loss: 0.2787, Val Loss: 0.5044, Train Acc: 88.40%, Val Acc: 74.50%\n",
      "Epoch 129/250, Train Loss: 0.2710, Val Loss: 0.5042, Train Acc: 89.60%, Val Acc: 75.00%\n",
      "Epoch 130/250, Train Loss: 0.2957, Val Loss: 0.5028, Train Acc: 88.80%, Val Acc: 76.00%\n",
      "Epoch 131/250, Train Loss: 0.2371, Val Loss: 0.5023, Train Acc: 90.60%, Val Acc: 75.50%\n",
      "Epoch 132/250, Train Loss: 0.2614, Val Loss: 0.5020, Train Acc: 90.40%, Val Acc: 75.50%\n",
      "Epoch 133/250, Train Loss: 0.2625, Val Loss: 0.5005, Train Acc: 90.00%, Val Acc: 74.50%\n",
      "Epoch 134/250, Train Loss: 0.2428, Val Loss: 0.5015, Train Acc: 90.80%, Val Acc: 75.00%\n",
      "Epoch 135/250, Train Loss: 0.2458, Val Loss: 0.5029, Train Acc: 91.40%, Val Acc: 75.50%\n",
      "Epoch 136/250, Train Loss: 0.2542, Val Loss: 0.5030, Train Acc: 90.40%, Val Acc: 75.50%\n",
      "Epoch 137/250, Train Loss: 0.2576, Val Loss: 0.5027, Train Acc: 89.40%, Val Acc: 74.50%\n",
      "Epoch 138/250, Train Loss: 0.2630, Val Loss: 0.5025, Train Acc: 89.20%, Val Acc: 74.50%\n",
      "Epoch 139/250, Train Loss: 0.2824, Val Loss: 0.5007, Train Acc: 88.00%, Val Acc: 75.00%\n",
      "Epoch 140/250, Train Loss: 0.2486, Val Loss: 0.5010, Train Acc: 91.00%, Val Acc: 74.50%\n",
      "Epoch 141/250, Train Loss: 0.2407, Val Loss: 0.5015, Train Acc: 90.60%, Val Acc: 75.50%\n",
      "Epoch 142/250, Train Loss: 0.2561, Val Loss: 0.5021, Train Acc: 89.40%, Val Acc: 74.50%\n",
      "Epoch 143/250, Train Loss: 0.2448, Val Loss: 0.5032, Train Acc: 89.60%, Val Acc: 74.50%\n",
      "Epoch 144/250, Train Loss: 0.2528, Val Loss: 0.5012, Train Acc: 89.00%, Val Acc: 75.00%\n",
      "Epoch 145/250, Train Loss: 0.2722, Val Loss: 0.5015, Train Acc: 88.80%, Val Acc: 74.00%\n",
      "Epoch 146/250, Train Loss: 0.2674, Val Loss: 0.4983, Train Acc: 87.00%, Val Acc: 75.00%\n",
      "Epoch 147/250, Train Loss: 0.2717, Val Loss: 0.5003, Train Acc: 89.00%, Val Acc: 74.50%\n",
      "Epoch 148/250, Train Loss: 0.2492, Val Loss: 0.5007, Train Acc: 88.00%, Val Acc: 74.00%\n",
      "Epoch 149/250, Train Loss: 0.2645, Val Loss: 0.5084, Train Acc: 88.40%, Val Acc: 75.50%\n",
      "Epoch 150/250, Train Loss: 0.2457, Val Loss: 0.5018, Train Acc: 90.80%, Val Acc: 74.50%\n",
      "Epoch 151/250, Train Loss: 0.2473, Val Loss: 0.5018, Train Acc: 91.20%, Val Acc: 74.50%\n",
      "Epoch 152/250, Train Loss: 0.2565, Val Loss: 0.5105, Train Acc: 89.40%, Val Acc: 74.00%\n",
      "Epoch 153/250, Train Loss: 0.2591, Val Loss: 0.5430, Train Acc: 89.20%, Val Acc: 73.00%\n",
      "Epoch 154/250, Train Loss: 0.2518, Val Loss: 0.4993, Train Acc: 88.80%, Val Acc: 75.00%\n",
      "Epoch 155/250, Train Loss: 0.2643, Val Loss: 0.5095, Train Acc: 90.80%, Val Acc: 73.50%\n",
      "Epoch 156/250, Train Loss: 0.2680, Val Loss: 0.5008, Train Acc: 89.80%, Val Acc: 75.00%\n",
      "Epoch 157/250, Train Loss: 0.2453, Val Loss: 0.4985, Train Acc: 88.60%, Val Acc: 75.50%\n",
      "Epoch 158/250, Train Loss: 0.2557, Val Loss: 0.4946, Train Acc: 89.80%, Val Acc: 74.50%\n",
      "Epoch 159/250, Train Loss: 0.2306, Val Loss: 0.5025, Train Acc: 91.60%, Val Acc: 76.00%\n",
      "Epoch 160/250, Train Loss: 0.2558, Val Loss: 0.5022, Train Acc: 88.80%, Val Acc: 75.50%\n",
      "Epoch 161/250, Train Loss: 0.2378, Val Loss: 0.5048, Train Acc: 90.00%, Val Acc: 75.50%\n",
      "Epoch 162/250, Train Loss: 0.2383, Val Loss: 0.4970, Train Acc: 89.80%, Val Acc: 76.00%\n",
      "Epoch 163/250, Train Loss: 0.2353, Val Loss: 0.4977, Train Acc: 90.40%, Val Acc: 76.00%\n",
      "Epoch 164/250, Train Loss: 0.2884, Val Loss: 0.5040, Train Acc: 89.20%, Val Acc: 75.50%\n",
      "Epoch 165/250, Train Loss: 0.2428, Val Loss: 0.4989, Train Acc: 90.80%, Val Acc: 76.00%\n",
      "Epoch 166/250, Train Loss: 0.2276, Val Loss: 0.4934, Train Acc: 88.60%, Val Acc: 75.50%\n",
      "Epoch 167/250, Train Loss: 0.2392, Val Loss: 0.4967, Train Acc: 89.60%, Val Acc: 75.50%\n",
      "Epoch 168/250, Train Loss: 0.2473, Val Loss: 0.4955, Train Acc: 89.20%, Val Acc: 76.50%\n",
      "Epoch 169/250, Train Loss: 0.2354, Val Loss: 0.4946, Train Acc: 87.40%, Val Acc: 77.00%\n",
      "Epoch 170/250, Train Loss: 0.2626, Val Loss: 0.4926, Train Acc: 90.80%, Val Acc: 76.00%\n",
      "Epoch 171/250, Train Loss: 0.2443, Val Loss: 0.4930, Train Acc: 90.20%, Val Acc: 75.50%\n",
      "Epoch 172/250, Train Loss: 0.2640, Val Loss: 0.4940, Train Acc: 88.00%, Val Acc: 76.50%\n",
      "Epoch 173/250, Train Loss: 0.2355, Val Loss: 0.4980, Train Acc: 90.00%, Val Acc: 75.00%\n",
      "Epoch 174/250, Train Loss: 0.2189, Val Loss: 0.4938, Train Acc: 91.60%, Val Acc: 76.00%\n",
      "Epoch 175/250, Train Loss: 0.2431, Val Loss: 0.4954, Train Acc: 91.80%, Val Acc: 74.50%\n",
      "Epoch 176/250, Train Loss: 0.2500, Val Loss: 0.4933, Train Acc: 88.20%, Val Acc: 76.00%\n",
      "Epoch 177/250, Train Loss: 0.2361, Val Loss: 0.4928, Train Acc: 92.20%, Val Acc: 76.00%\n",
      "Epoch 178/250, Train Loss: 0.2495, Val Loss: 0.4931, Train Acc: 89.40%, Val Acc: 77.00%\n",
      "Epoch 179/250, Train Loss: 0.2435, Val Loss: 0.4971, Train Acc: 89.20%, Val Acc: 75.00%\n",
      "Epoch 180/250, Train Loss: 0.2410, Val Loss: 0.4925, Train Acc: 89.20%, Val Acc: 76.50%\n",
      "Epoch 181/250, Train Loss: 0.2182, Val Loss: 0.4946, Train Acc: 91.40%, Val Acc: 77.00%\n",
      "Epoch 182/250, Train Loss: 0.2120, Val Loss: 0.4967, Train Acc: 89.60%, Val Acc: 77.00%\n",
      "Epoch 183/250, Train Loss: 0.2428, Val Loss: 0.5004, Train Acc: 89.20%, Val Acc: 76.50%\n",
      "Epoch 184/250, Train Loss: 0.2142, Val Loss: 0.4975, Train Acc: 91.40%, Val Acc: 77.50%\n",
      "Epoch 185/250, Train Loss: 0.2619, Val Loss: 0.5089, Train Acc: 91.00%, Val Acc: 74.50%\n",
      "Epoch 186/250, Train Loss: 0.2431, Val Loss: 0.5077, Train Acc: 90.20%, Val Acc: 74.50%\n",
      "Epoch 187/250, Train Loss: 0.2364, Val Loss: 0.5051, Train Acc: 89.80%, Val Acc: 75.50%\n",
      "Epoch 188/250, Train Loss: 0.2310, Val Loss: 0.5064, Train Acc: 90.00%, Val Acc: 76.00%\n",
      "Epoch 189/250, Train Loss: 0.2114, Val Loss: 0.5045, Train Acc: 93.20%, Val Acc: 77.00%\n",
      "Epoch 190/250, Train Loss: 0.2232, Val Loss: 0.5016, Train Acc: 90.20%, Val Acc: 77.00%\n",
      "Epoch 191/250, Train Loss: 0.2091, Val Loss: 0.5013, Train Acc: 92.60%, Val Acc: 76.50%\n",
      "Epoch 192/250, Train Loss: 0.2309, Val Loss: 0.5016, Train Acc: 89.40%, Val Acc: 75.50%\n",
      "Epoch 193/250, Train Loss: 0.2410, Val Loss: 0.5020, Train Acc: 90.40%, Val Acc: 75.00%\n",
      "Epoch 194/250, Train Loss: 0.2261, Val Loss: 0.5044, Train Acc: 93.60%, Val Acc: 75.50%\n",
      "Epoch 195/250, Train Loss: 0.2513, Val Loss: 0.5051, Train Acc: 91.60%, Val Acc: 75.50%\n",
      "Epoch 196/250, Train Loss: 0.2272, Val Loss: 0.5029, Train Acc: 91.60%, Val Acc: 76.50%\n",
      "Epoch 197/250, Train Loss: 0.2245, Val Loss: 0.5176, Train Acc: 90.60%, Val Acc: 75.00%\n",
      "Epoch 198/250, Train Loss: 0.2223, Val Loss: 0.5048, Train Acc: 92.20%, Val Acc: 76.50%\n",
      "Epoch 199/250, Train Loss: 0.2456, Val Loss: 0.5066, Train Acc: 88.00%, Val Acc: 76.50%\n",
      "Epoch 200/250, Train Loss: 0.2389, Val Loss: 0.5133, Train Acc: 90.00%, Val Acc: 75.00%\n",
      "Epoch 201/250, Train Loss: 0.2306, Val Loss: 0.5010, Train Acc: 91.20%, Val Acc: 76.50%\n",
      "Epoch 202/250, Train Loss: 0.2242, Val Loss: 0.5033, Train Acc: 90.80%, Val Acc: 76.00%\n",
      "Epoch 203/250, Train Loss: 0.2333, Val Loss: 0.5033, Train Acc: 90.80%, Val Acc: 77.00%\n",
      "Epoch 204/250, Train Loss: 0.2089, Val Loss: 0.4992, Train Acc: 92.40%, Val Acc: 77.00%\n",
      "Epoch 205/250, Train Loss: 0.2259, Val Loss: 0.4979, Train Acc: 91.60%, Val Acc: 77.00%\n",
      "Epoch 206/250, Train Loss: 0.2160, Val Loss: 0.5012, Train Acc: 90.60%, Val Acc: 77.50%\n",
      "Epoch 207/250, Train Loss: 0.2073, Val Loss: 0.5104, Train Acc: 94.40%, Val Acc: 75.00%\n",
      "Epoch 208/250, Train Loss: 0.2211, Val Loss: 0.5024, Train Acc: 90.60%, Val Acc: 77.00%\n",
      "Epoch 209/250, Train Loss: 0.2231, Val Loss: 0.5106, Train Acc: 90.60%, Val Acc: 75.00%\n",
      "Epoch 210/250, Train Loss: 0.2827, Val Loss: 0.5303, Train Acc: 88.80%, Val Acc: 75.00%\n",
      "Epoch 211/250, Train Loss: 0.2096, Val Loss: 0.5056, Train Acc: 91.40%, Val Acc: 77.00%\n",
      "Epoch 212/250, Train Loss: 0.2119, Val Loss: 0.5065, Train Acc: 91.20%, Val Acc: 75.50%\n",
      "Epoch 213/250, Train Loss: 0.2191, Val Loss: 0.5069, Train Acc: 91.60%, Val Acc: 76.00%\n",
      "Epoch 214/250, Train Loss: 0.2037, Val Loss: 0.5124, Train Acc: 92.00%, Val Acc: 76.00%\n",
      "Epoch 215/250, Train Loss: 0.1977, Val Loss: 0.5062, Train Acc: 91.00%, Val Acc: 77.00%\n",
      "Epoch 216/250, Train Loss: 0.2097, Val Loss: 0.5108, Train Acc: 90.60%, Val Acc: 77.00%\n",
      "Epoch 217/250, Train Loss: 0.2035, Val Loss: 0.5114, Train Acc: 92.20%, Val Acc: 76.00%\n",
      "Epoch 218/250, Train Loss: 0.2335, Val Loss: 0.5212, Train Acc: 91.80%, Val Acc: 76.00%\n",
      "Epoch 219/250, Train Loss: 0.2449, Val Loss: 0.5247, Train Acc: 90.00%, Val Acc: 76.50%\n",
      "Epoch 220/250, Train Loss: 0.2379, Val Loss: 0.5136, Train Acc: 90.60%, Val Acc: 77.00%\n",
      "Epoch 221/250, Train Loss: 0.2435, Val Loss: 0.5166, Train Acc: 91.60%, Val Acc: 75.50%\n",
      "Epoch 222/250, Train Loss: 0.2116, Val Loss: 0.5150, Train Acc: 90.40%, Val Acc: 77.00%\n",
      "Epoch 223/250, Train Loss: 0.2169, Val Loss: 0.5201, Train Acc: 91.80%, Val Acc: 75.50%\n",
      "Epoch 224/250, Train Loss: 0.2108, Val Loss: 0.5140, Train Acc: 92.20%, Val Acc: 77.00%\n",
      "Epoch 225/250, Train Loss: 0.1988, Val Loss: 0.5200, Train Acc: 92.00%, Val Acc: 76.50%\n",
      "Epoch 226/250, Train Loss: 0.2544, Val Loss: 0.5270, Train Acc: 91.20%, Val Acc: 76.50%\n",
      "Epoch 227/250, Train Loss: 0.2206, Val Loss: 0.5223, Train Acc: 92.00%, Val Acc: 74.50%\n",
      "Epoch 228/250, Train Loss: 0.2090, Val Loss: 0.5205, Train Acc: 91.60%, Val Acc: 75.50%\n",
      "Epoch 229/250, Train Loss: 0.1830, Val Loss: 0.5106, Train Acc: 93.00%, Val Acc: 76.00%\n",
      "Epoch 230/250, Train Loss: 0.2060, Val Loss: 0.5174, Train Acc: 91.40%, Val Acc: 75.00%\n",
      "Epoch 231/250, Train Loss: 0.2184, Val Loss: 0.5236, Train Acc: 91.00%, Val Acc: 77.00%\n",
      "Epoch 232/250, Train Loss: 0.2037, Val Loss: 0.5144, Train Acc: 92.00%, Val Acc: 76.00%\n",
      "Epoch 233/250, Train Loss: 0.1965, Val Loss: 0.5221, Train Acc: 92.20%, Val Acc: 75.50%\n",
      "Epoch 234/250, Train Loss: 0.2089, Val Loss: 0.5208, Train Acc: 90.80%, Val Acc: 74.50%\n",
      "Epoch 235/250, Train Loss: 0.1973, Val Loss: 0.5176, Train Acc: 92.60%, Val Acc: 75.50%\n",
      "Epoch 236/250, Train Loss: 0.2386, Val Loss: 0.5273, Train Acc: 88.20%, Val Acc: 77.00%\n",
      "Epoch 237/250, Train Loss: 0.1890, Val Loss: 0.5226, Train Acc: 93.00%, Val Acc: 74.50%\n",
      "Epoch 238/250, Train Loss: 0.2235, Val Loss: 0.5335, Train Acc: 92.40%, Val Acc: 74.00%\n",
      "Epoch 239/250, Train Loss: 0.2442, Val Loss: 0.5344, Train Acc: 92.00%, Val Acc: 76.00%\n",
      "Epoch 240/250, Train Loss: 0.2060, Val Loss: 0.5289, Train Acc: 91.60%, Val Acc: 76.00%\n",
      "Epoch 241/250, Train Loss: 0.2036, Val Loss: 0.5325, Train Acc: 91.00%, Val Acc: 74.50%\n",
      "Epoch 242/250, Train Loss: 0.2059, Val Loss: 0.5254, Train Acc: 93.00%, Val Acc: 75.50%\n",
      "Epoch 243/250, Train Loss: 0.2039, Val Loss: 0.5327, Train Acc: 91.40%, Val Acc: 75.50%\n",
      "Epoch 244/250, Train Loss: 0.2311, Val Loss: 0.5319, Train Acc: 90.60%, Val Acc: 76.00%\n",
      "Epoch 245/250, Train Loss: 0.1855, Val Loss: 0.5366, Train Acc: 91.00%, Val Acc: 75.50%\n",
      "Epoch 246/250, Train Loss: 0.1780, Val Loss: 0.5437, Train Acc: 93.80%, Val Acc: 75.00%\n",
      "Epoch 247/250, Train Loss: 0.2117, Val Loss: 0.5380, Train Acc: 93.00%, Val Acc: 76.50%\n",
      "Epoch 248/250, Train Loss: 0.1956, Val Loss: 0.5348, Train Acc: 92.20%, Val Acc: 75.50%\n",
      "Epoch 249/250, Train Loss: 0.2262, Val Loss: 0.5369, Train Acc: 91.80%, Val Acc: 75.50%\n",
      "Epoch 250/250, Train Loss: 0.1945, Val Loss: 0.5291, Train Acc: 93.00%, Val Acc: 76.50%\n",
      "Best validation accuracy: 77.5%\n"
     ]
    }
   ],
   "source": [
    "model_name ='amazonclasssimple'\n",
    "input_size = next(iter(train_loader))[0].shape[1]\n",
    "model = SimpleANNClassifier(input_size, model_name)\n",
    "model.to(device)\n",
    "criterion = nn.BCELoss()\n",
    "optimizer = optim.AdamW(model.parameters(), lr=0.0001, weight_decay=1e-4)\n",
    "\n",
    "trained_model = train_model(model, criterion, optimizer, train_loader, val_loader, num_epochs=250)"
   ]
  },
  {
   "cell_type": "code",
   "execution_count": 53,
   "id": "0b668100",
   "metadata": {},
   "outputs": [
    {
     "name": "stdout",
     "output_type": "stream",
     "text": [
      "Accuracy on testing dataset: 81.33333333333333%\n",
      "F1-Score: 0.82\n"
     ]
    },
    {
     "data": {
      "image/png": "[encoded data removed]",
      "text/plain": [
       "<Figure size 600x600 with 2 Axes>"
      ]
     },
     "metadata": {},
     "output_type": "display_data"
    }
   ],
   "source": [
    "# Load best model\n",
    "model = SimpleANNClassifier(input_size, model_name)\n",
    "model.load_state_dict(torch.load(model.name, weights_only=True))\n",
    "model.to(device)\n",
    "\n",
    "# Evaluate best model\n",
    "_, test_acc, labels, preds = test_model(model=model, loader=test_loader, criterion=criterion, input_size=input_size)\n",
    "print(f'Accuracy on testing dataset: {test_acc}%')\n",
    "print(f'F1-Score: {f1_score(labels, preds):.2f}')\n",
    "plot_confusion_matrix(labels, preds)"
   ]
  },
  {
   "cell_type": "markdown",
   "id": "ff5b2e79",
   "metadata": {
    "jp-MarkdownHeadingCollapsed": true
   },
   "source": [
    "## Train simple ANN Classifier on large dataset"
   ]
  },
  {
   "cell_type": "code",
   "execution_count": 54,
   "id": "8c5e2b94",
   "metadata": {
    "scrolled": true
   },
   "outputs": [
    {
     "name": "stdout",
     "output_type": "stream",
     "text": [
      "Epoch 1/25, Train Loss: 0.6273, Val Loss: 0.5445, Train Acc: 67.80%, Val Acc: 84.24%\n",
      "Epoch 2/25, Train Loss: 0.5471, Val Loss: 0.4964, Train Acc: 77.66%, Val Acc: 87.00%\n",
      "Epoch 3/25, Train Loss: 0.4963, Val Loss: 0.4544, Train Acc: 80.17%, Val Acc: 87.38%\n",
      "Epoch 4/25, Train Loss: 0.4557, Val Loss: 0.4208, Train Acc: 82.15%, Val Acc: 88.08%\n",
      "Epoch 5/25, Train Loss: 0.4209, Val Loss: 0.3871, Train Acc: 83.45%, Val Acc: 87.34%\n",
      "Epoch 6/25, Train Loss: 0.3936, Val Loss: 0.3646, Train Acc: 84.04%, Val Acc: 88.14%\n",
      "Epoch 7/25, Train Loss: 0.3680, Val Loss: 0.3455, Train Acc: 84.54%, Val Acc: 88.36%\n",
      "Epoch 8/25, Train Loss: 0.3541, Val Loss: 0.3326, Train Acc: 84.45%, Val Acc: 88.42%\n",
      "Epoch 9/25, Train Loss: 0.3371, Val Loss: 0.3237, Train Acc: 84.96%, Val Acc: 88.56%\n",
      "Epoch 10/25, Train Loss: 0.3225, Val Loss: 0.3084, Train Acc: 85.53%, Val Acc: 88.28%\n",
      "Epoch 11/25, Train Loss: 0.3089, Val Loss: 0.2996, Train Acc: 85.65%, Val Acc: 88.38%\n",
      "Epoch 12/25, Train Loss: 0.2946, Val Loss: 0.2949, Train Acc: 86.03%, Val Acc: 88.32%\n",
      "Epoch 13/25, Train Loss: 0.2837, Val Loss: 0.2911, Train Acc: 87.00%, Val Acc: 88.30%\n",
      "Epoch 14/25, Train Loss: 0.2804, Val Loss: 0.2945, Train Acc: 86.26%, Val Acc: 87.88%\n",
      "Epoch 15/25, Train Loss: 0.2695, Val Loss: 0.2895, Train Acc: 86.60%, Val Acc: 88.08%\n",
      "Epoch 16/25, Train Loss: 0.2583, Val Loss: 0.2873, Train Acc: 87.34%, Val Acc: 88.38%\n",
      "Epoch 17/25, Train Loss: 0.2502, Val Loss: 0.2886, Train Acc: 87.55%, Val Acc: 88.34%\n",
      "Epoch 18/25, Train Loss: 0.2533, Val Loss: 0.2959, Train Acc: 87.14%, Val Acc: 88.32%\n",
      "Epoch 19/25, Train Loss: 0.2449, Val Loss: 0.2976, Train Acc: 87.28%, Val Acc: 88.60%\n",
      "Epoch 20/25, Train Loss: 0.2414, Val Loss: 0.3007, Train Acc: 87.46%, Val Acc: 88.22%\n",
      "Epoch 21/25, Train Loss: 0.2385, Val Loss: 0.3062, Train Acc: 87.46%, Val Acc: 88.06%\n",
      "Epoch 22/25, Train Loss: 0.2279, Val Loss: 0.3148, Train Acc: 88.30%, Val Acc: 87.92%\n",
      "Epoch 23/25, Train Loss: 0.2345, Val Loss: 0.3214, Train Acc: 87.42%, Val Acc: 87.64%\n",
      "Epoch 24/25, Train Loss: 0.2274, Val Loss: 0.3288, Train Acc: 87.50%, Val Acc: 87.80%\n",
      "Epoch 25/25, Train Loss: 0.2212, Val Loss: 0.3287, Train Acc: 88.46%, Val Acc: 87.74%\n",
      "Best validation accuracy: 88.6%\n"
     ]
    }
   ],
   "source": [
    "model_name ='amazonclasssimplelarge'\n",
    "input_size = next(iter(train_loader_l))[0].shape[1]\n",
    "model = SimpleANNClassifier(input_size, model_name)\n",
    "model.to(device)\n",
    "criterion = nn.BCELoss()\n",
    "optimizer = optim.AdamW(model.parameters(), lr=0.0001, weight_decay=1e-4)\n",
    "\n",
    "trained_model = train_model(model, criterion, optimizer, train_loader_l, val_loader_l, num_epochs=25)"
   ]
  },
  {
   "cell_type": "code",
   "execution_count": 55,
   "id": "95cf86e6",
   "metadata": {},
   "outputs": [
    {
     "name": "stdout",
     "output_type": "stream",
     "text": [
      "Accuracy on testing dataset: 88.24%\n",
      "F1-Score: 0.90\n"
     ]
    },
    {
     "data": {
      "image/png": "[encoded data removed]",
      "text/plain": [
       "<Figure size 600x600 with 2 Axes>"
      ]
     },
     "metadata": {},
     "output_type": "display_data"
    }
   ],
   "source": [
    "# Load best model\n",
    "model = SimpleANNClassifier(input_size, model_name)\n",
    "model.load_state_dict(torch.load(model.name, weights_only=True))\n",
    "model.to(device)\n",
    "\n",
    "# Evaluate best model\n",
    "_, test_acc, labels, preds = test_model(model=model, loader=test_loader_l, criterion=criterion, input_size=input_size)\n",
    "print(f'Accuracy on testing dataset: {test_acc}%')\n",
    "print(f'F1-Score: {f1_score(labels, preds):.2f}')\n",
    "plot_confusion_matrix(labels, preds)"
   ]
  },
  {
   "cell_type": "markdown",
   "id": "96a71ff4",
   "metadata": {
    "jp-MarkdownHeadingCollapsed": true
   },
   "source": [
    "## Train ANN Classifier on large dataset"
   ]
  },
  {
   "cell_type": "code",
   "execution_count": 56,
   "id": "67ea571b",
   "metadata": {
    "scrolled": true
   },
   "outputs": [
    {
     "name": "stdout",
     "output_type": "stream",
     "text": [
      "Epoch 1/25, Train Loss: 0.6000, Val Loss: 0.4585, Train Acc: 67.78%, Val Acc: 83.08%\n",
      "Epoch 2/25, Train Loss: 0.4509, Val Loss: 0.3651, Train Acc: 80.27%, Val Acc: 86.40%\n",
      "Epoch 3/25, Train Loss: 0.3333, Val Loss: 0.3285, Train Acc: 85.19%, Val Acc: 86.72%\n",
      "Epoch 4/25, Train Loss: 0.2571, Val Loss: 0.3200, Train Acc: 88.21%, Val Acc: 86.78%\n",
      "Epoch 5/25, Train Loss: 0.2186, Val Loss: 0.3339, Train Acc: 88.94%, Val Acc: 86.68%\n",
      "Epoch 6/25, Train Loss: 0.1961, Val Loss: 0.3592, Train Acc: 89.44%, Val Acc: 86.32%\n",
      "Epoch 7/25, Train Loss: 0.1960, Val Loss: 0.3935, Train Acc: 89.22%, Val Acc: 85.60%\n",
      "Epoch 8/25, Train Loss: 0.1901, Val Loss: 0.4099, Train Acc: 89.51%, Val Acc: 86.42%\n",
      "Epoch 9/25, Train Loss: 0.1889, Val Loss: 0.4536, Train Acc: 89.48%, Val Acc: 85.86%\n",
      "Epoch 10/25, Train Loss: 0.1941, Val Loss: 0.4556, Train Acc: 88.99%, Val Acc: 85.80%\n",
      "Epoch 11/25, Train Loss: 0.1857, Val Loss: 0.4490, Train Acc: 89.88%, Val Acc: 86.04%\n",
      "Epoch 12/25, Train Loss: 0.1850, Val Loss: 0.4486, Train Acc: 89.35%, Val Acc: 86.28%\n",
      "Epoch 13/25, Train Loss: 0.1877, Val Loss: 0.4900, Train Acc: 89.70%, Val Acc: 85.76%\n",
      "Epoch 14/25, Train Loss: 0.1756, Val Loss: 0.4916, Train Acc: 89.96%, Val Acc: 86.46%\n",
      "Epoch 15/25, Train Loss: 0.1816, Val Loss: 0.4861, Train Acc: 89.32%, Val Acc: 86.40%\n",
      "Epoch 16/25, Train Loss: 0.1708, Val Loss: 0.4970, Train Acc: 89.93%, Val Acc: 86.16%\n",
      "Epoch 17/25, Train Loss: 0.1741, Val Loss: 0.5557, Train Acc: 89.65%, Val Acc: 86.02%\n",
      "Epoch 18/25, Train Loss: 0.1778, Val Loss: 0.5441, Train Acc: 89.77%, Val Acc: 85.90%\n",
      "Epoch 19/25, Train Loss: 0.1772, Val Loss: 0.5402, Train Acc: 89.54%, Val Acc: 85.74%\n",
      "Epoch 20/25, Train Loss: 0.1792, Val Loss: 0.5616, Train Acc: 89.38%, Val Acc: 86.44%\n",
      "Epoch 21/25, Train Loss: 0.1721, Val Loss: 0.5694, Train Acc: 90.26%, Val Acc: 86.50%\n",
      "Epoch 22/25, Train Loss: 0.1683, Val Loss: 0.6451, Train Acc: 90.17%, Val Acc: 86.16%\n",
      "Epoch 23/25, Train Loss: 0.1700, Val Loss: 0.6331, Train Acc: 89.98%, Val Acc: 86.18%\n",
      "Epoch 24/25, Train Loss: 0.1669, Val Loss: 0.6374, Train Acc: 90.34%, Val Acc: 86.24%\n",
      "Epoch 25/25, Train Loss: 0.1738, Val Loss: 0.6249, Train Acc: 89.50%, Val Acc: 86.30%\n",
      "Best validation accuracy: 86.78%\n"
     ]
    }
   ],
   "source": [
    "model_name_l = 'amazonclasslarge'\n",
    "input_size = next(iter(train_loader_l))[0].shape[1]\n",
    "model = ANNClassifier(input_size, model_name_l)\n",
    "model.to(device)\n",
    "criterion = nn.BCELoss()\n",
    "optimizer = optim.AdamW(model.parameters(), lr=0.0005, weight_decay=1e-4)\n",
    "\n",
    "trained_model = train_model(model, criterion, optimizer, train_loader_l, val_loader_l, num_epochs=25)"
   ]
  },
  {
   "cell_type": "code",
   "execution_count": 57,
   "id": "6a6a8198",
   "metadata": {},
   "outputs": [
    {
     "name": "stdout",
     "output_type": "stream",
     "text": [
      "Accuracy on testing dataset: 87.28%\n",
      "F1-Score: 0.90\n"
     ]
    },
    {
     "data": {
      "image/png": "[encoded data removed]",
      "text/plain": [
       "<Figure size 600x600 with 2 Axes>"
      ]
     },
     "metadata": {},
     "output_type": "display_data"
    }
   ],
   "source": [
    "# Load best model\n",
    "model = ANNClassifier(input_size, model_name_l)\n",
    "model.load_state_dict(torch.load(model.name, weights_only=True))\n",
    "model.to(device)\n",
    "\n",
    "# Evaluate best model\n",
    "_, test_acc, labels, preds = test_model(model=model, loader=test_loader_l, criterion=criterion, input_size=input_size)\n",
    "print(f'Accuracy on testing dataset: {test_acc}%')\n",
    "print(f'F1-Score: {f1_score(labels, preds):.2f}')\n",
    "plot_confusion_matrix(labels, preds)"
   ]
  },
  {
   "cell_type": "markdown",
   "id": "48d52e41",
   "metadata": {
    "jp-MarkdownHeadingCollapsed": true
   },
   "source": [
    "## Train ANN Classifier on Amazon Electronics Dataset"
   ]
  },
  {
   "cell_type": "code",
   "execution_count": 14,
   "id": "4f8d39c8",
   "metadata": {},
   "outputs": [
    {
     "name": "stdout",
     "output_type": "stream",
     "text": [
      "Epoch 1/5, Train Loss: 0.3726, Val Loss: 0.3550, Train Acc: 83.49%, Val Acc: 84.30%\n",
      "Epoch 2/5, Train Loss: 0.3647, Val Loss: 0.3522, Train Acc: 83.91%, Val Acc: 84.51%\n",
      "Epoch 3/5, Train Loss: 0.3626, Val Loss: 0.3506, Train Acc: 84.01%, Val Acc: 84.53%\n",
      "Epoch 4/5, Train Loss: 0.3612, Val Loss: 0.3512, Train Acc: 84.09%, Val Acc: 84.47%\n",
      "Epoch 5/5, Train Loss: 0.3606, Val Loss: 0.3500, Train Acc: 84.12%, Val Acc: 84.57%\n",
      "Best validation accuracy: 84.57459557287628%\n"
     ]
    }
   ],
   "source": [
    "model_name_elec = 'amazonElectronics'\n",
    "input_size = next(iter(train_loader_elec))[0].shape[1]\n",
    "model = ANNClassifierLarge(input_size, model_name_elec)\n",
    "model.to(device)\n",
    "criterion = nn.BCELoss()\n",
    "optimizer = optim.AdamW(model.parameters(), lr=0.0005, weight_decay=1e-4)\n",
    "\n",
    "# This isn't really great for performance, but we need to be a bit\n",
    "# more flexible with out data. Also, all of those operations are\n",
    "# performed on the GPU, so this should be fine ig\n",
    "def bin_mapper(labels):\n",
    "    return (labels >= 4).float()\n",
    "\n",
    "trained_model = train_model(model, criterion, optimizer, train_loader_elec, val_loader_elec, num_epochs=5, mod=bin_mapper)"
   ]
  },
  {
   "cell_type": "code",
   "execution_count": 16,
   "id": "32e87819",
   "metadata": {},
   "outputs": [
    {
     "name": "stdout",
     "output_type": "stream",
     "text": [
      "Accuracy on testing dataset: 84.53893994079561%\n",
      "F1-Score: 0.91\n",
      "Precision-Score: 0.86\n",
      "Recall-Score: 0.97\n"
     ]
    },
    {
     "data": {
      "image/png": "[encoded data removed]",
      "text/plain": [
       "<Figure size 600x600 with 2 Axes>"
      ]
     },
     "metadata": {},
     "output_type": "display_data"
    }
   ],
   "source": [
    "# Load best model\n",
    "model_name_elec = 'amazonElectronics'\n",
    "input_size = next(iter(train_loader_elec))[0].shape[1]\n",
    "model = ANNClassifierLarge(input_size, model_name_elec)\n",
    "model.load_state_dict(torch.load(model.name, weights_only=True))\n",
    "model.to(device)\n",
    "\n",
    "criterion = nn.BCELoss()\n",
    "optimizer = optim.AdamW(model.parameters(), lr=0.0005, weight_decay=1e-4)\n",
    "\n",
    "def bin_mapper(labels):\n",
    "    return (labels >= 4).float()\n",
    "\n",
    "# Evaluate best model\n",
    "_, test_acc, labels, preds = test_model(model=model, loader=test_loader_elec, criterion=criterion, input_size=input_size, mod=bin_mapper)\n",
    "print(f'Accuracy on testing dataset: {test_acc}%')\n",
    "print(f'F1-Score: {f1_score(labels, preds):.2f}')\n",
    "print(f'Precision-Score: {precision_score(labels, preds):.2f}')\n",
    "print(f'Recall-Score: {recall_score(labels, preds):.2f}')\n",
    "plot_confusion_matrix(labels, preds)"
   ]
  },
  {
   "cell_type": "markdown",
   "id": "6920172c",
   "metadata": {},
   "source": [
    "Reasoning: The amazon model is heavily biased towards TP. This is due to the provided dataset has a lot 4 and 5 star ratings:\n",
    "\n",
    "`{5.0: 4_322_520, 3.0: 504_712, 4.0: 1_137_229, 2.0: 306_659, 1.0: 467_117}`\n",
    "\n",
    "That might be the reason why the model has a lot of FP."
   ]
  },
  {
   "cell_type": "markdown",
   "id": "667ee583",
   "metadata": {},
   "source": [
    "---"
   ]
  },
  {
   "cell_type": "markdown",
   "id": "f88581d1",
   "metadata": {
    "jp-MarkdownHeadingCollapsed": true
   },
   "source": [
    "## Train ANN with word embeddings\n",
    "small dataset and small model"
   ]
  },
  {
   "cell_type": "code",
   "execution_count": 58,
   "id": "83e32c33",
   "metadata": {
    "scrolled": true
   },
   "outputs": [
    {
     "name": "stdout",
     "output_type": "stream",
     "text": [
      "Epoch 1/500, Train Loss: 0.7357, Val Loss: 0.7018, Train Acc: 48.00%, Val Acc: 47.00%\n",
      "Epoch 2/500, Train Loss: 0.7059, Val Loss: 0.7020, Train Acc: 53.40%, Val Acc: 47.00%\n",
      "Epoch 3/500, Train Loss: 0.7062, Val Loss: 0.7004, Train Acc: 52.20%, Val Acc: 47.50%\n",
      "Epoch 4/500, Train Loss: 0.7233, Val Loss: 0.7387, Train Acc: 51.40%, Val Acc: 48.50%\n",
      "Epoch 5/500, Train Loss: 0.7400, Val Loss: 0.6955, Train Acc: 49.00%, Val Acc: 46.00%\n",
      "Epoch 6/500, Train Loss: 0.7214, Val Loss: 0.6971, Train Acc: 45.40%, Val Acc: 45.50%\n",
      "Epoch 7/500, Train Loss: 0.7446, Val Loss: 0.6902, Train Acc: 46.80%, Val Acc: 52.00%\n",
      "Epoch 8/500, Train Loss: 0.7037, Val Loss: 0.6904, Train Acc: 52.00%, Val Acc: 52.00%\n",
      "Epoch 9/500, Train Loss: 0.7151, Val Loss: 0.7037, Train Acc: 49.40%, Val Acc: 50.00%\n",
      "Epoch 10/500, Train Loss: 0.7124, Val Loss: 0.7067, Train Acc: 50.60%, Val Acc: 51.00%\n",
      "Epoch 11/500, Train Loss: 0.7179, Val Loss: 0.7032, Train Acc: 50.80%, Val Acc: 47.00%\n",
      "Epoch 12/500, Train Loss: 0.7263, Val Loss: 0.6956, Train Acc: 48.40%, Val Acc: 48.50%\n",
      "Epoch 13/500, Train Loss: 0.7038, Val Loss: 0.6952, Train Acc: 51.00%, Val Acc: 46.50%\n",
      "Epoch 14/500, Train Loss: 0.7220, Val Loss: 0.6967, Train Acc: 51.00%, Val Acc: 46.50%\n",
      "Epoch 15/500, Train Loss: 0.7117, Val Loss: 0.6935, Train Acc: 50.80%, Val Acc: 49.00%\n",
      "Epoch 16/500, Train Loss: 0.7180, Val Loss: 0.6976, Train Acc: 47.80%, Val Acc: 47.00%\n",
      "Epoch 17/500, Train Loss: 0.6943, Val Loss: 0.7009, Train Acc: 51.40%, Val Acc: 47.50%\n",
      "Epoch 18/500, Train Loss: 0.7021, Val Loss: 0.6934, Train Acc: 50.20%, Val Acc: 47.00%\n",
      "Epoch 19/500, Train Loss: 0.7071, Val Loss: 0.6925, Train Acc: 50.40%, Val Acc: 47.50%\n",
      "Epoch 20/500, Train Loss: 0.7035, Val Loss: 0.6862, Train Acc: 50.20%, Val Acc: 53.00%\n",
      "Epoch 21/500, Train Loss: 0.6906, Val Loss: 0.6863, Train Acc: 53.20%, Val Acc: 56.50%\n",
      "Epoch 22/500, Train Loss: 0.6873, Val Loss: 0.6858, Train Acc: 53.40%, Val Acc: 57.50%\n",
      "Epoch 23/500, Train Loss: 0.6972, Val Loss: 0.6836, Train Acc: 51.60%, Val Acc: 54.00%\n",
      "Epoch 24/500, Train Loss: 0.6873, Val Loss: 0.7129, Train Acc: 55.60%, Val Acc: 48.50%\n",
      "Epoch 25/500, Train Loss: 0.6992, Val Loss: 0.6956, Train Acc: 48.80%, Val Acc: 47.50%\n",
      "Epoch 26/500, Train Loss: 0.6942, Val Loss: 0.7024, Train Acc: 50.80%, Val Acc: 48.00%\n",
      "Epoch 27/500, Train Loss: 0.6897, Val Loss: 0.7277, Train Acc: 52.40%, Val Acc: 47.50%\n",
      "Epoch 28/500, Train Loss: 0.6979, Val Loss: 0.6998, Train Acc: 48.80%, Val Acc: 45.00%\n",
      "Epoch 29/500, Train Loss: 0.6885, Val Loss: 0.6957, Train Acc: 52.20%, Val Acc: 46.50%\n",
      "Epoch 30/500, Train Loss: 0.7048, Val Loss: 0.6853, Train Acc: 49.20%, Val Acc: 55.00%\n",
      "Epoch 31/500, Train Loss: 0.7049, Val Loss: 0.6862, Train Acc: 47.80%, Val Acc: 53.00%\n",
      "Epoch 32/500, Train Loss: 0.7054, Val Loss: 0.7332, Train Acc: 48.40%, Val Acc: 48.50%\n",
      "Epoch 33/500, Train Loss: 0.6931, Val Loss: 0.7122, Train Acc: 51.80%, Val Acc: 47.50%\n",
      "Epoch 34/500, Train Loss: 0.6914, Val Loss: 0.7015, Train Acc: 53.40%, Val Acc: 44.50%\n",
      "Epoch 35/500, Train Loss: 0.6967, Val Loss: 0.6979, Train Acc: 48.60%, Val Acc: 44.00%\n",
      "Epoch 36/500, Train Loss: 0.6945, Val Loss: 0.6925, Train Acc: 49.60%, Val Acc: 50.50%\n",
      "Epoch 37/500, Train Loss: 0.6783, Val Loss: 0.7158, Train Acc: 53.60%, Val Acc: 53.00%\n",
      "Epoch 38/500, Train Loss: 0.6985, Val Loss: 0.6840, Train Acc: 50.60%, Val Acc: 53.00%\n",
      "Epoch 39/500, Train Loss: 0.6959, Val Loss: 0.6893, Train Acc: 49.20%, Val Acc: 55.00%\n",
      "Epoch 40/500, Train Loss: 0.6952, Val Loss: 0.6908, Train Acc: 52.00%, Val Acc: 50.50%\n",
      "Epoch 41/500, Train Loss: 0.6919, Val Loss: 0.6909, Train Acc: 50.80%, Val Acc: 47.50%\n",
      "Epoch 42/500, Train Loss: 0.6949, Val Loss: 0.6959, Train Acc: 52.80%, Val Acc: 47.50%\n",
      "Epoch 43/500, Train Loss: 0.6889, Val Loss: 0.6929, Train Acc: 53.20%, Val Acc: 45.50%\n",
      "Epoch 44/500, Train Loss: 0.6952, Val Loss: 0.6858, Train Acc: 52.60%, Val Acc: 53.00%\n",
      "Epoch 45/500, Train Loss: 0.6957, Val Loss: 0.6860, Train Acc: 50.80%, Val Acc: 53.00%\n",
      "Epoch 46/500, Train Loss: 0.6935, Val Loss: 0.6899, Train Acc: 51.80%, Val Acc: 57.00%\n",
      "Epoch 47/500, Train Loss: 0.6948, Val Loss: 0.6910, Train Acc: 47.80%, Val Acc: 54.00%\n",
      "Epoch 48/500, Train Loss: 0.6930, Val Loss: 0.6914, Train Acc: 53.00%, Val Acc: 50.50%\n",
      "Epoch 49/500, Train Loss: 0.6972, Val Loss: 0.6915, Train Acc: 49.60%, Val Acc: 46.50%\n",
      "Epoch 50/500, Train Loss: 0.6894, Val Loss: 0.6925, Train Acc: 52.40%, Val Acc: 48.00%\n",
      "Epoch 51/500, Train Loss: 0.6871, Val Loss: 0.6921, Train Acc: 56.60%, Val Acc: 51.50%\n",
      "Epoch 52/500, Train Loss: 0.6965, Val Loss: 0.6918, Train Acc: 52.20%, Val Acc: 52.00%\n",
      "Epoch 53/500, Train Loss: 0.6904, Val Loss: 0.6935, Train Acc: 55.00%, Val Acc: 50.00%\n",
      "Epoch 54/500, Train Loss: 0.6866, Val Loss: 0.7495, Train Acc: 53.20%, Val Acc: 47.00%\n",
      "Epoch 55/500, Train Loss: 0.6967, Val Loss: 0.7032, Train Acc: 48.60%, Val Acc: 44.00%\n",
      "Epoch 56/500, Train Loss: 0.6976, Val Loss: 0.6939, Train Acc: 51.20%, Val Acc: 44.50%\n",
      "Epoch 57/500, Train Loss: 0.6829, Val Loss: 0.6915, Train Acc: 53.80%, Val Acc: 46.00%\n",
      "Epoch 58/500, Train Loss: 0.6950, Val Loss: 0.6924, Train Acc: 47.60%, Val Acc: 45.00%\n",
      "Epoch 59/500, Train Loss: 0.6939, Val Loss: 0.6922, Train Acc: 51.80%, Val Acc: 45.50%\n",
      "Epoch 60/500, Train Loss: 0.6872, Val Loss: 0.6995, Train Acc: 53.80%, Val Acc: 48.50%\n",
      "Epoch 61/500, Train Loss: 0.6802, Val Loss: 0.6916, Train Acc: 55.80%, Val Acc: 46.50%\n",
      "Epoch 62/500, Train Loss: 0.6863, Val Loss: 0.6915, Train Acc: 52.40%, Val Acc: 46.00%\n",
      "Epoch 63/500, Train Loss: 0.6808, Val Loss: 0.6905, Train Acc: 54.40%, Val Acc: 45.00%\n",
      "Epoch 64/500, Train Loss: 0.6921, Val Loss: 0.7437, Train Acc: 53.20%, Val Acc: 47.50%\n",
      "Epoch 65/500, Train Loss: 0.6922, Val Loss: 0.7039, Train Acc: 50.60%, Val Acc: 47.50%\n",
      "Epoch 66/500, Train Loss: 0.6957, Val Loss: 0.6887, Train Acc: 51.40%, Val Acc: 54.00%\n",
      "Epoch 67/500, Train Loss: 0.6836, Val Loss: 0.6842, Train Acc: 50.60%, Val Acc: 53.00%\n",
      "Epoch 68/500, Train Loss: 0.6856, Val Loss: 0.6814, Train Acc: 52.00%, Val Acc: 56.50%\n",
      "Epoch 69/500, Train Loss: 0.6825, Val Loss: 0.7022, Train Acc: 53.80%, Val Acc: 48.00%\n",
      "Epoch 70/500, Train Loss: 0.6817, Val Loss: 0.6827, Train Acc: 52.40%, Val Acc: 53.50%\n",
      "Epoch 71/500, Train Loss: 0.6951, Val Loss: 0.6907, Train Acc: 54.20%, Val Acc: 49.00%\n",
      "Epoch 72/500, Train Loss: 0.6892, Val Loss: 0.6838, Train Acc: 53.00%, Val Acc: 53.00%\n",
      "Epoch 73/500, Train Loss: 0.6839, Val Loss: 0.6888, Train Acc: 55.80%, Val Acc: 53.50%\n",
      "Epoch 74/500, Train Loss: 0.6861, Val Loss: 0.6905, Train Acc: 59.40%, Val Acc: 49.00%\n",
      "Epoch 75/500, Train Loss: 0.6832, Val Loss: 0.6858, Train Acc: 55.00%, Val Acc: 63.50%\n",
      "Epoch 76/500, Train Loss: 0.6961, Val Loss: 0.6792, Train Acc: 53.00%, Val Acc: 66.00%\n",
      "Epoch 77/500, Train Loss: 0.6884, Val Loss: 0.6910, Train Acc: 49.20%, Val Acc: 50.50%\n",
      "Epoch 78/500, Train Loss: 0.6905, Val Loss: 0.6902, Train Acc: 53.40%, Val Acc: 51.00%\n",
      "Epoch 79/500, Train Loss: 0.6821, Val Loss: 0.6900, Train Acc: 52.60%, Val Acc: 52.50%\n",
      "Epoch 80/500, Train Loss: 0.6942, Val Loss: 0.6886, Train Acc: 50.80%, Val Acc: 52.00%\n",
      "Epoch 81/500, Train Loss: 0.6968, Val Loss: 0.6898, Train Acc: 50.20%, Val Acc: 48.50%\n",
      "Epoch 82/500, Train Loss: 0.6946, Val Loss: 0.6882, Train Acc: 52.00%, Val Acc: 51.00%\n",
      "Epoch 83/500, Train Loss: 0.6895, Val Loss: 0.6872, Train Acc: 52.40%, Val Acc: 52.50%\n",
      "Epoch 84/500, Train Loss: 0.6871, Val Loss: 0.6820, Train Acc: 53.80%, Val Acc: 58.50%\n",
      "Epoch 85/500, Train Loss: 0.6786, Val Loss: 0.7148, Train Acc: 58.00%, Val Acc: 48.50%\n",
      "Epoch 86/500, Train Loss: 0.6784, Val Loss: 0.6873, Train Acc: 57.80%, Val Acc: 48.50%\n",
      "Epoch 87/500, Train Loss: 0.6891, Val Loss: 0.6817, Train Acc: 53.40%, Val Acc: 53.00%\n",
      "Epoch 88/500, Train Loss: 0.6869, Val Loss: 0.6827, Train Acc: 54.40%, Val Acc: 53.00%\n",
      "Epoch 89/500, Train Loss: 0.6787, Val Loss: 0.6882, Train Acc: 52.80%, Val Acc: 47.00%\n",
      "Epoch 90/500, Train Loss: 0.6866, Val Loss: 0.6830, Train Acc: 55.60%, Val Acc: 53.00%\n",
      "Epoch 91/500, Train Loss: 0.6859, Val Loss: 0.6867, Train Acc: 51.20%, Val Acc: 53.50%\n",
      "Epoch 92/500, Train Loss: 0.6818, Val Loss: 0.6876, Train Acc: 55.20%, Val Acc: 55.50%\n",
      "Epoch 93/500, Train Loss: 0.6912, Val Loss: 0.6809, Train Acc: 53.40%, Val Acc: 53.50%\n",
      "Epoch 94/500, Train Loss: 0.6893, Val Loss: 0.6838, Train Acc: 52.00%, Val Acc: 53.00%\n",
      "Epoch 95/500, Train Loss: 0.6969, Val Loss: 0.6991, Train Acc: 50.40%, Val Acc: 53.50%\n",
      "Epoch 96/500, Train Loss: 0.7092, Val Loss: 0.6882, Train Acc: 49.00%, Val Acc: 56.50%\n",
      "Epoch 97/500, Train Loss: 0.6969, Val Loss: 0.6988, Train Acc: 51.60%, Val Acc: 48.00%\n",
      "Epoch 98/500, Train Loss: 0.6851, Val Loss: 0.6854, Train Acc: 57.20%, Val Acc: 55.50%\n",
      "Epoch 99/500, Train Loss: 0.6935, Val Loss: 0.6830, Train Acc: 51.40%, Val Acc: 59.00%\n",
      "Epoch 100/500, Train Loss: 0.6888, Val Loss: 0.6998, Train Acc: 53.40%, Val Acc: 50.50%\n",
      "Epoch 101/500, Train Loss: 0.6811, Val Loss: 0.6869, Train Acc: 55.00%, Val Acc: 51.00%\n",
      "Epoch 102/500, Train Loss: 0.6816, Val Loss: 0.6807, Train Acc: 56.60%, Val Acc: 53.00%\n",
      "Epoch 103/500, Train Loss: 0.6800, Val Loss: 0.6771, Train Acc: 53.60%, Val Acc: 61.50%\n",
      "Epoch 104/500, Train Loss: 0.6824, Val Loss: 0.6795, Train Acc: 53.60%, Val Acc: 61.50%\n",
      "Epoch 105/500, Train Loss: 0.6739, Val Loss: 0.6814, Train Acc: 57.40%, Val Acc: 54.00%\n",
      "Epoch 106/500, Train Loss: 0.6868, Val Loss: 0.6853, Train Acc: 52.80%, Val Acc: 51.50%\n",
      "Epoch 107/500, Train Loss: 0.6820, Val Loss: 0.6886, Train Acc: 52.80%, Val Acc: 50.50%\n",
      "Epoch 108/500, Train Loss: 0.6844, Val Loss: 0.6797, Train Acc: 57.80%, Val Acc: 55.00%\n",
      "Epoch 109/500, Train Loss: 0.6801, Val Loss: 0.6716, Train Acc: 55.80%, Val Acc: 58.00%\n",
      "Epoch 110/500, Train Loss: 0.6791, Val Loss: 0.6799, Train Acc: 55.20%, Val Acc: 53.00%\n",
      "Epoch 111/500, Train Loss: 0.6881, Val Loss: 0.6779, Train Acc: 53.80%, Val Acc: 53.00%\n",
      "Epoch 112/500, Train Loss: 0.6857, Val Loss: 0.6876, Train Acc: 53.20%, Val Acc: 50.00%\n",
      "Epoch 113/500, Train Loss: 0.6964, Val Loss: 0.6809, Train Acc: 54.20%, Val Acc: 61.00%\n",
      "Epoch 114/500, Train Loss: 0.6897, Val Loss: 0.7101, Train Acc: 51.80%, Val Acc: 51.00%\n",
      "Epoch 115/500, Train Loss: 0.6807, Val Loss: 0.6792, Train Acc: 57.20%, Val Acc: 56.50%\n",
      "Epoch 116/500, Train Loss: 0.6794, Val Loss: 0.6801, Train Acc: 57.00%, Val Acc: 55.50%\n",
      "Epoch 117/500, Train Loss: 0.6775, Val Loss: 0.6799, Train Acc: 58.80%, Val Acc: 55.00%\n",
      "Epoch 118/500, Train Loss: 0.6766, Val Loss: 0.6805, Train Acc: 54.40%, Val Acc: 53.00%\n",
      "Epoch 119/500, Train Loss: 0.6754, Val Loss: 0.6804, Train Acc: 57.40%, Val Acc: 57.50%\n",
      "Epoch 120/500, Train Loss: 0.6829, Val Loss: 0.6785, Train Acc: 54.40%, Val Acc: 61.00%\n",
      "Epoch 121/500, Train Loss: 0.6779, Val Loss: 0.6840, Train Acc: 56.80%, Val Acc: 53.00%\n",
      "Epoch 122/500, Train Loss: 0.6829, Val Loss: 0.6754, Train Acc: 54.00%, Val Acc: 58.00%\n",
      "Epoch 123/500, Train Loss: 0.6779, Val Loss: 0.6647, Train Acc: 56.80%, Val Acc: 64.00%\n",
      "Epoch 124/500, Train Loss: 0.6769, Val Loss: 0.6793, Train Acc: 56.20%, Val Acc: 58.50%\n",
      "Epoch 125/500, Train Loss: 0.6774, Val Loss: 0.6802, Train Acc: 56.80%, Val Acc: 55.50%\n",
      "Epoch 126/500, Train Loss: 0.6990, Val Loss: 0.6821, Train Acc: 48.80%, Val Acc: 54.50%\n",
      "Epoch 127/500, Train Loss: 0.6971, Val Loss: 0.6886, Train Acc: 49.20%, Val Acc: 56.50%\n",
      "Epoch 128/500, Train Loss: 0.6884, Val Loss: 0.6913, Train Acc: 50.60%, Val Acc: 48.50%\n",
      "Epoch 129/500, Train Loss: 0.6891, Val Loss: 0.6910, Train Acc: 53.80%, Val Acc: 47.00%\n",
      "Epoch 130/500, Train Loss: 0.6828, Val Loss: 0.6815, Train Acc: 53.40%, Val Acc: 55.00%\n",
      "Epoch 131/500, Train Loss: 0.6833, Val Loss: 0.6867, Train Acc: 55.40%, Val Acc: 53.00%\n",
      "Epoch 132/500, Train Loss: 0.6922, Val Loss: 0.6851, Train Acc: 52.20%, Val Acc: 56.00%\n",
      "Epoch 133/500, Train Loss: 0.6812, Val Loss: 0.6890, Train Acc: 51.80%, Val Acc: 53.00%\n",
      "Epoch 134/500, Train Loss: 0.6810, Val Loss: 0.6808, Train Acc: 55.40%, Val Acc: 60.50%\n",
      "Epoch 135/500, Train Loss: 0.6805, Val Loss: 0.6881, Train Acc: 50.40%, Val Acc: 55.00%\n",
      "Epoch 136/500, Train Loss: 0.6770, Val Loss: 0.7378, Train Acc: 57.20%, Val Acc: 47.50%\n",
      "Epoch 137/500, Train Loss: 0.6826, Val Loss: 0.6803, Train Acc: 51.80%, Val Acc: 53.00%\n",
      "Epoch 138/500, Train Loss: 0.6843, Val Loss: 0.7855, Train Acc: 55.20%, Val Acc: 49.50%\n",
      "Epoch 139/500, Train Loss: 0.6851, Val Loss: 0.6854, Train Acc: 51.60%, Val Acc: 53.00%\n",
      "Epoch 140/500, Train Loss: 0.6738, Val Loss: 0.6757, Train Acc: 58.00%, Val Acc: 53.00%\n",
      "Epoch 141/500, Train Loss: 0.6802, Val Loss: 0.6723, Train Acc: 53.20%, Val Acc: 55.00%\n",
      "Epoch 142/500, Train Loss: 0.6774, Val Loss: 0.6960, Train Acc: 53.20%, Val Acc: 49.50%\n",
      "Epoch 143/500, Train Loss: 0.6731, Val Loss: 0.6730, Train Acc: 54.80%, Val Acc: 59.00%\n",
      "Epoch 144/500, Train Loss: 0.6763, Val Loss: 0.6906, Train Acc: 56.20%, Val Acc: 53.50%\n",
      "Epoch 145/500, Train Loss: 0.6807, Val Loss: 0.6825, Train Acc: 53.80%, Val Acc: 53.50%\n",
      "Epoch 146/500, Train Loss: 0.6887, Val Loss: 0.6747, Train Acc: 51.20%, Val Acc: 62.00%\n",
      "Epoch 147/500, Train Loss: 0.6716, Val Loss: 0.6777, Train Acc: 56.00%, Val Acc: 58.50%\n",
      "Epoch 148/500, Train Loss: 0.6943, Val Loss: 0.6674, Train Acc: 53.20%, Val Acc: 61.00%\n",
      "Epoch 149/500, Train Loss: 0.6920, Val Loss: 0.7325, Train Acc: 52.40%, Val Acc: 48.50%\n",
      "Epoch 150/500, Train Loss: 0.6686, Val Loss: 0.7448, Train Acc: 57.40%, Val Acc: 50.00%\n",
      "Epoch 151/500, Train Loss: 0.6676, Val Loss: 0.6880, Train Acc: 54.80%, Val Acc: 55.00%\n",
      "Epoch 152/500, Train Loss: 0.6805, Val Loss: 0.6718, Train Acc: 55.80%, Val Acc: 53.00%\n",
      "Epoch 153/500, Train Loss: 0.6693, Val Loss: 0.6611, Train Acc: 57.60%, Val Acc: 66.50%\n",
      "Epoch 154/500, Train Loss: 0.6868, Val Loss: 0.6827, Train Acc: 52.00%, Val Acc: 60.00%\n",
      "Epoch 155/500, Train Loss: 0.6758, Val Loss: 0.6760, Train Acc: 56.20%, Val Acc: 53.50%\n",
      "Epoch 156/500, Train Loss: 0.6650, Val Loss: 0.6731, Train Acc: 60.00%, Val Acc: 62.50%\n",
      "Epoch 157/500, Train Loss: 0.6794, Val Loss: 0.6764, Train Acc: 58.20%, Val Acc: 61.50%\n",
      "Epoch 158/500, Train Loss: 0.6841, Val Loss: 0.6705, Train Acc: 54.00%, Val Acc: 55.00%\n",
      "Epoch 159/500, Train Loss: 0.6624, Val Loss: 0.6824, Train Acc: 59.20%, Val Acc: 55.00%\n",
      "Epoch 160/500, Train Loss: 0.6636, Val Loss: 0.6512, Train Acc: 61.00%, Val Acc: 62.50%\n",
      "Epoch 161/500, Train Loss: 0.6589, Val Loss: 0.6788, Train Acc: 58.00%, Val Acc: 55.50%\n",
      "Epoch 162/500, Train Loss: 0.6881, Val Loss: 0.6864, Train Acc: 55.60%, Val Acc: 59.00%\n",
      "Epoch 163/500, Train Loss: 0.6895, Val Loss: 0.6862, Train Acc: 51.60%, Val Acc: 48.50%\n",
      "Epoch 164/500, Train Loss: 0.6756, Val Loss: 0.6806, Train Acc: 58.40%, Val Acc: 51.50%\n",
      "Epoch 165/500, Train Loss: 0.6680, Val Loss: 0.6953, Train Acc: 56.00%, Val Acc: 52.50%\n",
      "Epoch 166/500, Train Loss: 0.6751, Val Loss: 0.7696, Train Acc: 55.80%, Val Acc: 50.00%\n",
      "Epoch 167/500, Train Loss: 0.6646, Val Loss: 0.6578, Train Acc: 55.40%, Val Acc: 60.50%\n",
      "Epoch 168/500, Train Loss: 0.6584, Val Loss: 0.6773, Train Acc: 58.80%, Val Acc: 53.50%\n",
      "Epoch 169/500, Train Loss: 0.6770, Val Loss: 0.6662, Train Acc: 57.40%, Val Acc: 58.50%\n",
      "Epoch 170/500, Train Loss: 0.6861, Val Loss: 0.7013, Train Acc: 55.20%, Val Acc: 51.50%\n",
      "Epoch 171/500, Train Loss: 0.6672, Val Loss: 0.6550, Train Acc: 57.00%, Val Acc: 60.50%\n",
      "Epoch 172/500, Train Loss: 0.6733, Val Loss: 0.6659, Train Acc: 54.60%, Val Acc: 58.00%\n",
      "Epoch 173/500, Train Loss: 0.6732, Val Loss: 0.6673, Train Acc: 56.40%, Val Acc: 59.00%\n",
      "Epoch 174/500, Train Loss: 0.6829, Val Loss: 0.6726, Train Acc: 51.00%, Val Acc: 58.50%\n",
      "Epoch 175/500, Train Loss: 0.6671, Val Loss: 0.7654, Train Acc: 55.60%, Val Acc: 49.00%\n",
      "Epoch 176/500, Train Loss: 0.6936, Val Loss: 0.6779, Train Acc: 52.60%, Val Acc: 53.00%\n",
      "Epoch 177/500, Train Loss: 0.6605, Val Loss: 0.6770, Train Acc: 57.00%, Val Acc: 55.00%\n",
      "Epoch 178/500, Train Loss: 0.6820, Val Loss: 0.6728, Train Acc: 54.00%, Val Acc: 59.00%\n",
      "Epoch 179/500, Train Loss: 0.6652, Val Loss: 0.7130, Train Acc: 56.00%, Val Acc: 50.50%\n",
      "Epoch 180/500, Train Loss: 0.6762, Val Loss: 0.6483, Train Acc: 55.60%, Val Acc: 59.00%\n",
      "Epoch 181/500, Train Loss: 0.6663, Val Loss: 0.6717, Train Acc: 56.40%, Val Acc: 61.00%\n",
      "Epoch 182/500, Train Loss: 0.6591, Val Loss: 0.6742, Train Acc: 56.40%, Val Acc: 55.00%\n",
      "Epoch 183/500, Train Loss: 0.6678, Val Loss: 0.6783, Train Acc: 57.20%, Val Acc: 54.00%\n",
      "Epoch 184/500, Train Loss: 0.6578, Val Loss: 0.6562, Train Acc: 57.20%, Val Acc: 62.00%\n",
      "Epoch 185/500, Train Loss: 0.6550, Val Loss: 0.6663, Train Acc: 59.20%, Val Acc: 58.50%\n",
      "Epoch 186/500, Train Loss: 0.6654, Val Loss: 0.6674, Train Acc: 58.80%, Val Acc: 55.00%\n",
      "Epoch 187/500, Train Loss: 0.6634, Val Loss: 0.6654, Train Acc: 60.60%, Val Acc: 55.00%\n",
      "Epoch 188/500, Train Loss: 0.6552, Val Loss: 0.6965, Train Acc: 55.80%, Val Acc: 55.00%\n",
      "Epoch 189/500, Train Loss: 0.6315, Val Loss: 0.6497, Train Acc: 58.80%, Val Acc: 56.50%\n",
      "Epoch 190/500, Train Loss: 0.6582, Val Loss: 0.7153, Train Acc: 58.60%, Val Acc: 48.50%\n",
      "Epoch 191/500, Train Loss: 0.6820, Val Loss: 0.6622, Train Acc: 50.20%, Val Acc: 54.00%\n",
      "Epoch 192/500, Train Loss: 0.6889, Val Loss: 0.6776, Train Acc: 53.40%, Val Acc: 57.50%\n",
      "Epoch 193/500, Train Loss: 0.6930, Val Loss: 0.6921, Train Acc: 55.80%, Val Acc: 53.50%\n",
      "Epoch 194/500, Train Loss: 0.6737, Val Loss: 0.6849, Train Acc: 56.20%, Val Acc: 50.00%\n",
      "Epoch 195/500, Train Loss: 0.7096, Val Loss: 0.6748, Train Acc: 55.80%, Val Acc: 53.50%\n",
      "Epoch 196/500, Train Loss: 0.6818, Val Loss: 0.6485, Train Acc: 56.00%, Val Acc: 60.50%\n",
      "Epoch 197/500, Train Loss: 0.6685, Val Loss: 0.6522, Train Acc: 57.60%, Val Acc: 67.50%\n",
      "Epoch 198/500, Train Loss: 0.6654, Val Loss: 0.6869, Train Acc: 52.60%, Val Acc: 50.50%\n",
      "Epoch 199/500, Train Loss: 0.6587, Val Loss: 0.6769, Train Acc: 55.80%, Val Acc: 51.50%\n",
      "Epoch 200/500, Train Loss: 0.6783, Val Loss: 0.6821, Train Acc: 55.60%, Val Acc: 53.00%\n",
      "Epoch 201/500, Train Loss: 0.6838, Val Loss: 0.7019, Train Acc: 54.40%, Val Acc: 46.00%\n",
      "Epoch 202/500, Train Loss: 0.6815, Val Loss: 0.6938, Train Acc: 54.40%, Val Acc: 49.00%\n",
      "Epoch 203/500, Train Loss: 0.6780, Val Loss: 0.6816, Train Acc: 56.60%, Val Acc: 53.50%\n",
      "Epoch 204/500, Train Loss: 0.6668, Val Loss: 0.6805, Train Acc: 57.20%, Val Acc: 54.00%\n",
      "Epoch 205/500, Train Loss: 0.6573, Val Loss: 0.6765, Train Acc: 55.20%, Val Acc: 57.00%\n",
      "Epoch 206/500, Train Loss: 0.6647, Val Loss: 0.7135, Train Acc: 55.20%, Val Acc: 53.50%\n",
      "Epoch 207/500, Train Loss: 0.6716, Val Loss: 0.6647, Train Acc: 58.00%, Val Acc: 60.50%\n",
      "Epoch 208/500, Train Loss: 0.6702, Val Loss: 0.6733, Train Acc: 55.00%, Val Acc: 61.50%\n",
      "Epoch 209/500, Train Loss: 0.6687, Val Loss: 0.7644, Train Acc: 56.60%, Val Acc: 49.50%\n",
      "Epoch 210/500, Train Loss: 0.6572, Val Loss: 0.6780, Train Acc: 58.20%, Val Acc: 53.00%\n",
      "Epoch 211/500, Train Loss: 0.6591, Val Loss: 0.6352, Train Acc: 57.40%, Val Acc: 62.50%\n",
      "Epoch 212/500, Train Loss: 0.6583, Val Loss: 0.6443, Train Acc: 56.00%, Val Acc: 63.00%\n",
      "Epoch 213/500, Train Loss: 0.6699, Val Loss: 0.6942, Train Acc: 54.80%, Val Acc: 53.00%\n",
      "Epoch 214/500, Train Loss: 0.6569, Val Loss: 0.6718, Train Acc: 59.80%, Val Acc: 55.50%\n",
      "Epoch 215/500, Train Loss: 0.6639, Val Loss: 0.6601, Train Acc: 58.00%, Val Acc: 61.50%\n",
      "Epoch 216/500, Train Loss: 0.6566, Val Loss: 0.6958, Train Acc: 59.00%, Val Acc: 54.50%\n",
      "Epoch 217/500, Train Loss: 0.6701, Val Loss: 0.6525, Train Acc: 56.00%, Val Acc: 61.00%\n",
      "Epoch 218/500, Train Loss: 0.6581, Val Loss: 0.6583, Train Acc: 61.60%, Val Acc: 59.00%\n",
      "Epoch 219/500, Train Loss: 0.6554, Val Loss: 0.7086, Train Acc: 60.40%, Val Acc: 50.50%\n",
      "Epoch 220/500, Train Loss: 0.6575, Val Loss: 0.6300, Train Acc: 56.80%, Val Acc: 64.50%\n",
      "Epoch 221/500, Train Loss: 0.6558, Val Loss: 0.6778, Train Acc: 59.80%, Val Acc: 54.50%\n",
      "Epoch 222/500, Train Loss: 0.6476, Val Loss: 0.6734, Train Acc: 64.20%, Val Acc: 58.50%\n",
      "Epoch 223/500, Train Loss: 0.6552, Val Loss: 0.7152, Train Acc: 58.20%, Val Acc: 51.50%\n",
      "Epoch 224/500, Train Loss: 0.6607, Val Loss: 0.6286, Train Acc: 58.80%, Val Acc: 66.50%\n",
      "Epoch 225/500, Train Loss: 0.6546, Val Loss: 0.6561, Train Acc: 62.40%, Val Acc: 61.50%\n",
      "Epoch 226/500, Train Loss: 0.6495, Val Loss: 0.6376, Train Acc: 58.20%, Val Acc: 60.50%\n",
      "Epoch 227/500, Train Loss: 0.6671, Val Loss: 0.6723, Train Acc: 55.20%, Val Acc: 49.50%\n",
      "Epoch 228/500, Train Loss: 0.6507, Val Loss: 0.6601, Train Acc: 59.20%, Val Acc: 63.00%\n",
      "Epoch 229/500, Train Loss: 0.6719, Val Loss: 0.6563, Train Acc: 58.20%, Val Acc: 59.50%\n",
      "Epoch 230/500, Train Loss: 0.6692, Val Loss: 0.8476, Train Acc: 58.60%, Val Acc: 49.00%\n",
      "Epoch 231/500, Train Loss: 0.6514, Val Loss: 0.6527, Train Acc: 59.80%, Val Acc: 60.00%\n",
      "Epoch 232/500, Train Loss: 0.6433, Val Loss: 0.6707, Train Acc: 60.00%, Val Acc: 56.50%\n",
      "Epoch 233/500, Train Loss: 0.6393, Val Loss: 0.6268, Train Acc: 60.20%, Val Acc: 63.50%\n",
      "Epoch 234/500, Train Loss: 0.6319, Val Loss: 0.6448, Train Acc: 61.80%, Val Acc: 60.00%\n",
      "Epoch 235/500, Train Loss: 0.6633, Val Loss: 0.6371, Train Acc: 59.00%, Val Acc: 61.50%\n",
      "Epoch 236/500, Train Loss: 0.6747, Val Loss: 0.6719, Train Acc: 57.00%, Val Acc: 61.50%\n",
      "Epoch 237/500, Train Loss: 0.6764, Val Loss: 0.6661, Train Acc: 53.80%, Val Acc: 61.50%\n",
      "Epoch 238/500, Train Loss: 0.6620, Val Loss: 0.8623, Train Acc: 58.00%, Val Acc: 48.00%\n",
      "Epoch 239/500, Train Loss: 0.6976, Val Loss: 0.7140, Train Acc: 54.40%, Val Acc: 52.50%\n",
      "Epoch 240/500, Train Loss: 0.6719, Val Loss: 0.6716, Train Acc: 55.00%, Val Acc: 54.00%\n",
      "Epoch 241/500, Train Loss: 0.6470, Val Loss: 0.6657, Train Acc: 63.00%, Val Acc: 53.00%\n",
      "Epoch 242/500, Train Loss: 0.6608, Val Loss: 0.6718, Train Acc: 59.60%, Val Acc: 54.50%\n",
      "Epoch 243/500, Train Loss: 0.6559, Val Loss: 0.6800, Train Acc: 61.40%, Val Acc: 55.00%\n",
      "Epoch 244/500, Train Loss: 0.6756, Val Loss: 0.6528, Train Acc: 54.40%, Val Acc: 67.50%\n",
      "Epoch 245/500, Train Loss: 0.6587, Val Loss: 0.6644, Train Acc: 58.20%, Val Acc: 61.00%\n",
      "Epoch 246/500, Train Loss: 0.6820, Val Loss: 0.7080, Train Acc: 55.60%, Val Acc: 53.50%\n",
      "Epoch 247/500, Train Loss: 0.6617, Val Loss: 0.6588, Train Acc: 57.20%, Val Acc: 60.50%\n",
      "Epoch 248/500, Train Loss: 0.6623, Val Loss: 0.6839, Train Acc: 60.00%, Val Acc: 50.50%\n",
      "Epoch 249/500, Train Loss: 0.6790, Val Loss: 0.6818, Train Acc: 54.60%, Val Acc: 58.50%\n",
      "Epoch 250/500, Train Loss: 0.6768, Val Loss: 0.6593, Train Acc: 54.00%, Val Acc: 57.50%\n",
      "Epoch 251/500, Train Loss: 0.6469, Val Loss: 0.6544, Train Acc: 60.40%, Val Acc: 56.00%\n",
      "Epoch 252/500, Train Loss: 0.6420, Val Loss: 0.6403, Train Acc: 57.20%, Val Acc: 62.00%\n",
      "Epoch 253/500, Train Loss: 0.6324, Val Loss: 0.6653, Train Acc: 61.60%, Val Acc: 56.50%\n",
      "Epoch 254/500, Train Loss: 0.6508, Val Loss: 0.7536, Train Acc: 60.20%, Val Acc: 53.50%\n",
      "Epoch 255/500, Train Loss: 0.6591, Val Loss: 0.7086, Train Acc: 59.60%, Val Acc: 53.50%\n",
      "Epoch 256/500, Train Loss: 0.6669, Val Loss: 0.7079, Train Acc: 59.40%, Val Acc: 54.00%\n",
      "Epoch 257/500, Train Loss: 0.6500, Val Loss: 0.6927, Train Acc: 60.20%, Val Acc: 49.00%\n",
      "Epoch 258/500, Train Loss: 0.6556, Val Loss: 0.6815, Train Acc: 60.20%, Val Acc: 53.00%\n",
      "Epoch 259/500, Train Loss: 0.6591, Val Loss: 0.6694, Train Acc: 59.20%, Val Acc: 57.50%\n",
      "Epoch 260/500, Train Loss: 0.6569, Val Loss: 0.6674, Train Acc: 57.20%, Val Acc: 55.50%\n",
      "Epoch 261/500, Train Loss: 0.6439, Val Loss: 0.6566, Train Acc: 60.40%, Val Acc: 65.00%\n",
      "Epoch 262/500, Train Loss: 0.6560, Val Loss: 0.9354, Train Acc: 59.80%, Val Acc: 48.50%\n",
      "Epoch 263/500, Train Loss: 0.6584, Val Loss: 0.6480, Train Acc: 60.40%, Val Acc: 60.00%\n",
      "Epoch 264/500, Train Loss: 0.6421, Val Loss: 0.6652, Train Acc: 62.60%, Val Acc: 60.50%\n",
      "Epoch 265/500, Train Loss: 0.6560, Val Loss: 0.6740, Train Acc: 56.60%, Val Acc: 53.50%\n",
      "Epoch 266/500, Train Loss: 0.6455, Val Loss: 0.6341, Train Acc: 59.40%, Val Acc: 61.50%\n",
      "Epoch 267/500, Train Loss: 0.6560, Val Loss: 0.6587, Train Acc: 60.00%, Val Acc: 67.00%\n",
      "Epoch 268/500, Train Loss: 0.6652, Val Loss: 0.6748, Train Acc: 58.60%, Val Acc: 59.00%\n",
      "Epoch 269/500, Train Loss: 0.6575, Val Loss: 0.6311, Train Acc: 57.60%, Val Acc: 61.00%\n",
      "Epoch 270/500, Train Loss: 0.6470, Val Loss: 0.6810, Train Acc: 59.60%, Val Acc: 50.00%\n",
      "Epoch 271/500, Train Loss: 0.6445, Val Loss: 0.6273, Train Acc: 59.60%, Val Acc: 60.50%\n",
      "Epoch 272/500, Train Loss: 0.6527, Val Loss: 0.6783, Train Acc: 65.00%, Val Acc: 60.50%\n",
      "Epoch 273/500, Train Loss: 0.6474, Val Loss: 0.7199, Train Acc: 61.80%, Val Acc: 57.00%\n",
      "Epoch 274/500, Train Loss: 0.6668, Val Loss: 0.8365, Train Acc: 60.20%, Val Acc: 49.00%\n",
      "Epoch 275/500, Train Loss: 0.6989, Val Loss: 0.6614, Train Acc: 55.60%, Val Acc: 59.50%\n",
      "Epoch 276/500, Train Loss: 0.6545, Val Loss: 0.6726, Train Acc: 60.60%, Val Acc: 53.50%\n",
      "Epoch 277/500, Train Loss: 0.6705, Val Loss: 0.6871, Train Acc: 53.80%, Val Acc: 50.00%\n",
      "Epoch 278/500, Train Loss: 0.6494, Val Loss: 0.6532, Train Acc: 60.80%, Val Acc: 61.50%\n",
      "Epoch 279/500, Train Loss: 0.6506, Val Loss: 0.6326, Train Acc: 54.80%, Val Acc: 63.00%\n",
      "Epoch 280/500, Train Loss: 0.6333, Val Loss: 0.6200, Train Acc: 63.80%, Val Acc: 66.00%\n",
      "Epoch 281/500, Train Loss: 0.6512, Val Loss: 0.6739, Train Acc: 59.20%, Val Acc: 59.00%\n",
      "Epoch 282/500, Train Loss: 0.6474, Val Loss: 0.8638, Train Acc: 58.00%, Val Acc: 49.00%\n",
      "Epoch 283/500, Train Loss: 0.6526, Val Loss: 0.6423, Train Acc: 62.80%, Val Acc: 61.00%\n",
      "Epoch 284/500, Train Loss: 0.6537, Val Loss: 0.7360, Train Acc: 58.80%, Val Acc: 52.50%\n",
      "Epoch 285/500, Train Loss: 0.6526, Val Loss: 0.6595, Train Acc: 60.80%, Val Acc: 57.50%\n",
      "Epoch 286/500, Train Loss: 0.6688, Val Loss: 0.6349, Train Acc: 56.00%, Val Acc: 60.50%\n",
      "Epoch 287/500, Train Loss: 0.6241, Val Loss: 0.6454, Train Acc: 64.40%, Val Acc: 61.50%\n",
      "Epoch 288/500, Train Loss: 0.6264, Val Loss: 0.6482, Train Acc: 61.80%, Val Acc: 60.50%\n",
      "Epoch 289/500, Train Loss: 0.6579, Val Loss: 0.6274, Train Acc: 57.80%, Val Acc: 64.00%\n",
      "Epoch 290/500, Train Loss: 0.6443, Val Loss: 0.6641, Train Acc: 59.80%, Val Acc: 56.00%\n",
      "Epoch 291/500, Train Loss: 0.6556, Val Loss: 0.6441, Train Acc: 60.20%, Val Acc: 61.50%\n",
      "Epoch 292/500, Train Loss: 0.6351, Val Loss: 0.6620, Train Acc: 62.40%, Val Acc: 59.00%\n",
      "Epoch 293/500, Train Loss: 0.6338, Val Loss: 0.6492, Train Acc: 62.20%, Val Acc: 64.00%\n",
      "Epoch 294/500, Train Loss: 0.6409, Val Loss: 0.6338, Train Acc: 62.00%, Val Acc: 61.50%\n",
      "Epoch 295/500, Train Loss: 0.6364, Val Loss: 0.6470, Train Acc: 60.60%, Val Acc: 58.00%\n",
      "Epoch 296/500, Train Loss: 0.6428, Val Loss: 0.7007, Train Acc: 61.80%, Val Acc: 52.50%\n",
      "Epoch 297/500, Train Loss: 0.6478, Val Loss: 0.6223, Train Acc: 59.80%, Val Acc: 63.50%\n",
      "Epoch 298/500, Train Loss: 0.6506, Val Loss: 0.6750, Train Acc: 62.20%, Val Acc: 52.50%\n",
      "Epoch 299/500, Train Loss: 0.6641, Val Loss: 0.6345, Train Acc: 57.60%, Val Acc: 64.50%\n",
      "Epoch 300/500, Train Loss: 0.6360, Val Loss: 0.6743, Train Acc: 60.80%, Val Acc: 53.50%\n",
      "Epoch 301/500, Train Loss: 0.6410, Val Loss: 0.6353, Train Acc: 60.40%, Val Acc: 62.00%\n",
      "Epoch 302/500, Train Loss: 0.6291, Val Loss: 0.6354, Train Acc: 64.40%, Val Acc: 61.50%\n",
      "Epoch 303/500, Train Loss: 0.6268, Val Loss: 0.6706, Train Acc: 62.40%, Val Acc: 56.50%\n",
      "Epoch 304/500, Train Loss: 0.6384, Val Loss: 0.6536, Train Acc: 61.60%, Val Acc: 61.00%\n",
      "Epoch 305/500, Train Loss: 0.6581, Val Loss: 0.7023, Train Acc: 59.60%, Val Acc: 51.50%\n",
      "Epoch 306/500, Train Loss: 0.6492, Val Loss: 0.6441, Train Acc: 61.60%, Val Acc: 62.50%\n",
      "Epoch 307/500, Train Loss: 0.6493, Val Loss: 0.6300, Train Acc: 60.80%, Val Acc: 63.50%\n",
      "Epoch 308/500, Train Loss: 0.6510, Val Loss: 0.6143, Train Acc: 60.20%, Val Acc: 63.50%\n",
      "Epoch 309/500, Train Loss: 0.6463, Val Loss: 0.6637, Train Acc: 60.40%, Val Acc: 58.50%\n",
      "Epoch 310/500, Train Loss: 0.6290, Val Loss: 0.7215, Train Acc: 61.80%, Val Acc: 58.50%\n",
      "Epoch 311/500, Train Loss: 0.6598, Val Loss: 0.6433, Train Acc: 57.00%, Val Acc: 58.00%\n",
      "Epoch 312/500, Train Loss: 0.6570, Val Loss: 0.6428, Train Acc: 59.20%, Val Acc: 58.50%\n",
      "Epoch 313/500, Train Loss: 0.6515, Val Loss: 0.6837, Train Acc: 62.40%, Val Acc: 51.50%\n",
      "Epoch 314/500, Train Loss: 0.6473, Val Loss: 0.7260, Train Acc: 62.20%, Val Acc: 56.50%\n",
      "Epoch 315/500, Train Loss: 0.6251, Val Loss: 0.6356, Train Acc: 65.40%, Val Acc: 68.50%\n",
      "Epoch 316/500, Train Loss: 0.6437, Val Loss: 0.7126, Train Acc: 59.80%, Val Acc: 59.50%\n",
      "Epoch 317/500, Train Loss: 0.6373, Val Loss: 0.6555, Train Acc: 60.60%, Val Acc: 60.00%\n",
      "Epoch 318/500, Train Loss: 0.6891, Val Loss: 0.6888, Train Acc: 61.00%, Val Acc: 49.00%\n",
      "Epoch 319/500, Train Loss: 0.6742, Val Loss: 0.6422, Train Acc: 57.40%, Val Acc: 61.00%\n",
      "Epoch 320/500, Train Loss: 0.6473, Val Loss: 0.7510, Train Acc: 59.80%, Val Acc: 50.50%\n",
      "Epoch 321/500, Train Loss: 0.6297, Val Loss: 0.7679, Train Acc: 59.60%, Val Acc: 58.00%\n",
      "Epoch 322/500, Train Loss: 0.6521, Val Loss: 0.6369, Train Acc: 56.00%, Val Acc: 60.50%\n",
      "Epoch 323/500, Train Loss: 0.6170, Val Loss: 0.6441, Train Acc: 65.40%, Val Acc: 59.00%\n",
      "Epoch 324/500, Train Loss: 0.6331, Val Loss: 0.6286, Train Acc: 62.00%, Val Acc: 62.00%\n",
      "Epoch 325/500, Train Loss: 0.6471, Val Loss: 0.6845, Train Acc: 60.00%, Val Acc: 50.00%\n",
      "Epoch 326/500, Train Loss: 0.6776, Val Loss: 0.6774, Train Acc: 59.60%, Val Acc: 58.50%\n",
      "Epoch 327/500, Train Loss: 0.6541, Val Loss: 0.6859, Train Acc: 59.40%, Val Acc: 56.00%\n",
      "Epoch 328/500, Train Loss: 0.6409, Val Loss: 0.6391, Train Acc: 63.20%, Val Acc: 68.50%\n",
      "Epoch 329/500, Train Loss: 0.6437, Val Loss: 0.6619, Train Acc: 60.40%, Val Acc: 59.00%\n",
      "Epoch 330/500, Train Loss: 0.6205, Val Loss: 0.6182, Train Acc: 63.40%, Val Acc: 66.00%\n",
      "Epoch 331/500, Train Loss: 0.6509, Val Loss: 0.6312, Train Acc: 61.00%, Val Acc: 62.50%\n",
      "Epoch 332/500, Train Loss: 0.6358, Val Loss: 0.6417, Train Acc: 61.40%, Val Acc: 58.50%\n",
      "Epoch 333/500, Train Loss: 0.6450, Val Loss: 0.6519, Train Acc: 59.60%, Val Acc: 58.00%\n",
      "Epoch 334/500, Train Loss: 0.6528, Val Loss: 0.8551, Train Acc: 59.20%, Val Acc: 49.00%\n",
      "Epoch 335/500, Train Loss: 0.6812, Val Loss: 0.6571, Train Acc: 56.80%, Val Acc: 60.00%\n",
      "Epoch 336/500, Train Loss: 0.6378, Val Loss: 0.6463, Train Acc: 63.00%, Val Acc: 61.50%\n",
      "Epoch 337/500, Train Loss: 0.6193, Val Loss: 0.6596, Train Acc: 63.00%, Val Acc: 57.00%\n",
      "Epoch 338/500, Train Loss: 0.6314, Val Loss: 0.6173, Train Acc: 63.00%, Val Acc: 67.00%\n",
      "Epoch 339/500, Train Loss: 0.6290, Val Loss: 0.6475, Train Acc: 62.20%, Val Acc: 59.50%\n",
      "Epoch 340/500, Train Loss: 0.6510, Val Loss: 0.6285, Train Acc: 62.80%, Val Acc: 63.00%\n",
      "Epoch 341/500, Train Loss: 0.6550, Val Loss: 0.6511, Train Acc: 60.80%, Val Acc: 60.50%\n",
      "Epoch 342/500, Train Loss: 0.6624, Val Loss: 0.6389, Train Acc: 59.60%, Val Acc: 58.50%\n",
      "Epoch 343/500, Train Loss: 0.6611, Val Loss: 0.6314, Train Acc: 58.80%, Val Acc: 60.00%\n",
      "Epoch 344/500, Train Loss: 0.6371, Val Loss: 0.6716, Train Acc: 61.40%, Val Acc: 56.00%\n",
      "Epoch 345/500, Train Loss: 0.6437, Val Loss: 0.6463, Train Acc: 59.40%, Val Acc: 57.00%\n",
      "Epoch 346/500, Train Loss: 0.6375, Val Loss: 0.6308, Train Acc: 61.80%, Val Acc: 62.50%\n",
      "Epoch 347/500, Train Loss: 0.6245, Val Loss: 0.6696, Train Acc: 64.20%, Val Acc: 53.00%\n",
      "Epoch 348/500, Train Loss: 0.6312, Val Loss: 0.6511, Train Acc: 63.00%, Val Acc: 56.50%\n",
      "Epoch 349/500, Train Loss: 0.6392, Val Loss: 0.6081, Train Acc: 62.80%, Val Acc: 66.50%\n",
      "Epoch 350/500, Train Loss: 0.6385, Val Loss: 0.6963, Train Acc: 62.80%, Val Acc: 57.50%\n",
      "Epoch 351/500, Train Loss: 0.6352, Val Loss: 0.6337, Train Acc: 63.00%, Val Acc: 66.50%\n",
      "Epoch 352/500, Train Loss: 0.6329, Val Loss: 0.6123, Train Acc: 62.60%, Val Acc: 67.00%\n",
      "Epoch 353/500, Train Loss: 0.6444, Val Loss: 0.6195, Train Acc: 59.80%, Val Acc: 65.00%\n",
      "Epoch 354/500, Train Loss: 0.6506, Val Loss: 0.6465, Train Acc: 58.80%, Val Acc: 61.00%\n",
      "Epoch 355/500, Train Loss: 0.6364, Val Loss: 0.6737, Train Acc: 59.20%, Val Acc: 55.50%\n",
      "Epoch 356/500, Train Loss: 0.6661, Val Loss: 0.6293, Train Acc: 60.60%, Val Acc: 59.00%\n",
      "Epoch 357/500, Train Loss: 0.6117, Val Loss: 0.6714, Train Acc: 63.00%, Val Acc: 61.00%\n",
      "Epoch 358/500, Train Loss: 0.6444, Val Loss: 0.6289, Train Acc: 57.20%, Val Acc: 66.00%\n",
      "Epoch 359/500, Train Loss: 0.6326, Val Loss: 0.6325, Train Acc: 61.20%, Val Acc: 68.00%\n",
      "Epoch 360/500, Train Loss: 0.6287, Val Loss: 0.6649, Train Acc: 62.80%, Val Acc: 57.50%\n",
      "Epoch 361/500, Train Loss: 0.6283, Val Loss: 0.6465, Train Acc: 62.80%, Val Acc: 60.50%\n",
      "Epoch 362/500, Train Loss: 0.6216, Val Loss: 0.6427, Train Acc: 62.40%, Val Acc: 67.50%\n",
      "Epoch 363/500, Train Loss: 0.6430, Val Loss: 0.6977, Train Acc: 60.20%, Val Acc: 58.50%\n",
      "Epoch 364/500, Train Loss: 0.6558, Val Loss: 0.6669, Train Acc: 60.00%, Val Acc: 55.50%\n",
      "Epoch 365/500, Train Loss: 0.6288, Val Loss: 0.6129, Train Acc: 59.80%, Val Acc: 65.50%\n",
      "Epoch 366/500, Train Loss: 0.6073, Val Loss: 0.6406, Train Acc: 64.20%, Val Acc: 65.00%\n",
      "Epoch 367/500, Train Loss: 0.6640, Val Loss: 0.6919, Train Acc: 59.60%, Val Acc: 53.50%\n",
      "Epoch 368/500, Train Loss: 0.6434, Val Loss: 0.6646, Train Acc: 60.60%, Val Acc: 56.50%\n",
      "Epoch 369/500, Train Loss: 0.6371, Val Loss: 0.6427, Train Acc: 63.40%, Val Acc: 61.00%\n",
      "Epoch 370/500, Train Loss: 0.6385, Val Loss: 0.6889, Train Acc: 64.20%, Val Acc: 50.50%\n",
      "Epoch 371/500, Train Loss: 0.6216, Val Loss: 0.6351, Train Acc: 62.60%, Val Acc: 64.00%\n",
      "Epoch 372/500, Train Loss: 0.6249, Val Loss: 0.6038, Train Acc: 64.40%, Val Acc: 67.00%\n",
      "Epoch 373/500, Train Loss: 0.6408, Val Loss: 0.6373, Train Acc: 61.60%, Val Acc: 60.00%\n",
      "Epoch 374/500, Train Loss: 0.6381, Val Loss: 0.7048, Train Acc: 60.60%, Val Acc: 59.00%\n",
      "Epoch 375/500, Train Loss: 0.6198, Val Loss: 0.6895, Train Acc: 63.40%, Val Acc: 58.00%\n",
      "Epoch 376/500, Train Loss: 0.6561, Val Loss: 0.6501, Train Acc: 60.40%, Val Acc: 58.00%\n",
      "Epoch 377/500, Train Loss: 0.6232, Val Loss: 0.6520, Train Acc: 62.80%, Val Acc: 67.50%\n",
      "Epoch 378/500, Train Loss: 0.6336, Val Loss: 0.7990, Train Acc: 61.20%, Val Acc: 58.50%\n",
      "Epoch 379/500, Train Loss: 0.6739, Val Loss: 0.8983, Train Acc: 61.40%, Val Acc: 50.50%\n",
      "Epoch 380/500, Train Loss: 0.6735, Val Loss: 0.6871, Train Acc: 56.20%, Val Acc: 54.00%\n",
      "Epoch 381/500, Train Loss: 0.6544, Val Loss: 0.6678, Train Acc: 61.20%, Val Acc: 58.00%\n",
      "Epoch 382/500, Train Loss: 0.6296, Val Loss: 0.6740, Train Acc: 61.80%, Val Acc: 51.50%\n",
      "Epoch 383/500, Train Loss: 0.6380, Val Loss: 0.6314, Train Acc: 60.80%, Val Acc: 61.00%\n",
      "Epoch 384/500, Train Loss: 0.6265, Val Loss: 0.6096, Train Acc: 60.40%, Val Acc: 67.00%\n",
      "Epoch 385/500, Train Loss: 0.6102, Val Loss: 0.6197, Train Acc: 66.80%, Val Acc: 65.00%\n",
      "Epoch 386/500, Train Loss: 0.6438, Val Loss: 0.7098, Train Acc: 60.00%, Val Acc: 58.50%\n",
      "Epoch 387/500, Train Loss: 0.6341, Val Loss: 0.6421, Train Acc: 63.00%, Val Acc: 58.00%\n",
      "Epoch 388/500, Train Loss: 0.6726, Val Loss: 0.6262, Train Acc: 56.80%, Val Acc: 64.00%\n",
      "Epoch 389/500, Train Loss: 0.6563, Val Loss: 0.6459, Train Acc: 59.20%, Val Acc: 56.00%\n",
      "Epoch 390/500, Train Loss: 0.6492, Val Loss: 0.6394, Train Acc: 61.20%, Val Acc: 61.50%\n",
      "Epoch 391/500, Train Loss: 0.6430, Val Loss: 0.6714, Train Acc: 59.80%, Val Acc: 53.00%\n",
      "Epoch 392/500, Train Loss: 0.6532, Val Loss: 0.6016, Train Acc: 59.00%, Val Acc: 67.00%\n",
      "Epoch 393/500, Train Loss: 0.6289, Val Loss: 0.6406, Train Acc: 63.20%, Val Acc: 61.00%\n",
      "Epoch 394/500, Train Loss: 0.6260, Val Loss: 0.7977, Train Acc: 63.00%, Val Acc: 50.00%\n",
      "Epoch 395/500, Train Loss: 0.6390, Val Loss: 0.6353, Train Acc: 63.20%, Val Acc: 60.50%\n",
      "Epoch 396/500, Train Loss: 0.6177, Val Loss: 0.6393, Train Acc: 63.00%, Val Acc: 60.00%\n",
      "Epoch 397/500, Train Loss: 0.6481, Val Loss: 0.6222, Train Acc: 56.80%, Val Acc: 66.50%\n",
      "Epoch 398/500, Train Loss: 0.6301, Val Loss: 0.6335, Train Acc: 62.20%, Val Acc: 66.50%\n",
      "Epoch 399/500, Train Loss: 0.6278, Val Loss: 0.6077, Train Acc: 63.00%, Val Acc: 64.00%\n",
      "Epoch 400/500, Train Loss: 0.6135, Val Loss: 0.6220, Train Acc: 61.40%, Val Acc: 64.00%\n",
      "Epoch 401/500, Train Loss: 0.6416, Val Loss: 0.6414, Train Acc: 59.60%, Val Acc: 62.50%\n",
      "Epoch 402/500, Train Loss: 0.6524, Val Loss: 0.7806, Train Acc: 61.20%, Val Acc: 50.50%\n",
      "Epoch 403/500, Train Loss: 0.6513, Val Loss: 0.6627, Train Acc: 61.20%, Val Acc: 58.50%\n",
      "Epoch 404/500, Train Loss: 0.6246, Val Loss: 0.6868, Train Acc: 63.80%, Val Acc: 58.00%\n",
      "Epoch 405/500, Train Loss: 0.6409, Val Loss: 0.6549, Train Acc: 62.20%, Val Acc: 57.00%\n",
      "Epoch 406/500, Train Loss: 0.6475, Val Loss: 0.7143, Train Acc: 60.20%, Val Acc: 51.00%\n",
      "Epoch 407/500, Train Loss: 0.6381, Val Loss: 0.7821, Train Acc: 62.40%, Val Acc: 58.50%\n",
      "Epoch 408/500, Train Loss: 0.6475, Val Loss: 0.6142, Train Acc: 60.00%, Val Acc: 66.50%\n",
      "Epoch 409/500, Train Loss: 0.6466, Val Loss: 0.6606, Train Acc: 59.40%, Val Acc: 53.50%\n",
      "Epoch 410/500, Train Loss: 0.6342, Val Loss: 0.6409, Train Acc: 60.00%, Val Acc: 60.00%\n",
      "Epoch 411/500, Train Loss: 0.6315, Val Loss: 0.6193, Train Acc: 60.20%, Val Acc: 66.00%\n",
      "Epoch 412/500, Train Loss: 0.6266, Val Loss: 0.6077, Train Acc: 63.00%, Val Acc: 66.50%\n",
      "Epoch 413/500, Train Loss: 0.6318, Val Loss: 0.6476, Train Acc: 60.60%, Val Acc: 61.50%\n",
      "Epoch 414/500, Train Loss: 0.6397, Val Loss: 0.6206, Train Acc: 58.40%, Val Acc: 64.00%\n",
      "Epoch 415/500, Train Loss: 0.6225, Val Loss: 0.6666, Train Acc: 64.20%, Val Acc: 58.00%\n",
      "Epoch 416/500, Train Loss: 0.6562, Val Loss: 0.7513, Train Acc: 63.00%, Val Acc: 50.50%\n",
      "Epoch 417/500, Train Loss: 0.6683, Val Loss: 0.6471, Train Acc: 58.40%, Val Acc: 60.50%\n",
      "Epoch 418/500, Train Loss: 0.6204, Val Loss: 0.6196, Train Acc: 60.60%, Val Acc: 63.50%\n",
      "Epoch 419/500, Train Loss: 0.6286, Val Loss: 0.6061, Train Acc: 60.80%, Val Acc: 68.50%\n",
      "Epoch 420/500, Train Loss: 0.6463, Val Loss: 0.6882, Train Acc: 60.60%, Val Acc: 54.00%\n",
      "Epoch 421/500, Train Loss: 0.6479, Val Loss: 0.6357, Train Acc: 61.20%, Val Acc: 62.50%\n",
      "Epoch 422/500, Train Loss: 0.6360, Val Loss: 0.6223, Train Acc: 61.80%, Val Acc: 66.50%\n",
      "Epoch 423/500, Train Loss: 0.6366, Val Loss: 0.6897, Train Acc: 61.00%, Val Acc: 56.00%\n",
      "Epoch 424/500, Train Loss: 0.6546, Val Loss: 0.6702, Train Acc: 56.80%, Val Acc: 55.50%\n",
      "Epoch 425/500, Train Loss: 0.6530, Val Loss: 0.7166, Train Acc: 59.60%, Val Acc: 56.00%\n",
      "Epoch 426/500, Train Loss: 0.6461, Val Loss: 0.6382, Train Acc: 62.20%, Val Acc: 64.50%\n",
      "Epoch 427/500, Train Loss: 0.6511, Val Loss: 0.6629, Train Acc: 61.00%, Val Acc: 51.50%\n",
      "Epoch 428/500, Train Loss: 0.6605, Val Loss: 0.6540, Train Acc: 60.00%, Val Acc: 60.00%\n",
      "Epoch 429/500, Train Loss: 0.6615, Val Loss: 0.6455, Train Acc: 62.60%, Val Acc: 59.50%\n",
      "Epoch 430/500, Train Loss: 0.6386, Val Loss: 0.6395, Train Acc: 64.00%, Val Acc: 59.00%\n",
      "Epoch 431/500, Train Loss: 0.6476, Val Loss: 0.6460, Train Acc: 61.00%, Val Acc: 59.00%\n",
      "Epoch 432/500, Train Loss: 0.6429, Val Loss: 0.6364, Train Acc: 59.40%, Val Acc: 63.50%\n",
      "Epoch 433/500, Train Loss: 0.6240, Val Loss: 0.6680, Train Acc: 63.00%, Val Acc: 51.50%\n",
      "Epoch 434/500, Train Loss: 0.6185, Val Loss: 0.6854, Train Acc: 61.80%, Val Acc: 59.00%\n",
      "Epoch 435/500, Train Loss: 0.6370, Val Loss: 0.6600, Train Acc: 60.80%, Val Acc: 59.00%\n",
      "Epoch 436/500, Train Loss: 0.6635, Val Loss: 0.6282, Train Acc: 57.00%, Val Acc: 64.00%\n",
      "Epoch 437/500, Train Loss: 0.6235, Val Loss: 0.6180, Train Acc: 63.60%, Val Acc: 62.50%\n",
      "Epoch 438/500, Train Loss: 0.6267, Val Loss: 0.6359, Train Acc: 64.00%, Val Acc: 60.50%\n",
      "Epoch 439/500, Train Loss: 0.6285, Val Loss: 0.6409, Train Acc: 61.00%, Val Acc: 61.00%\n",
      "Epoch 440/500, Train Loss: 0.6335, Val Loss: 0.6132, Train Acc: 62.00%, Val Acc: 64.00%\n",
      "Epoch 441/500, Train Loss: 0.6217, Val Loss: 0.6794, Train Acc: 65.60%, Val Acc: 55.00%\n",
      "Epoch 442/500, Train Loss: 0.6644, Val Loss: 0.6806, Train Acc: 63.20%, Val Acc: 56.50%\n",
      "Epoch 443/500, Train Loss: 0.6646, Val Loss: 0.6367, Train Acc: 60.40%, Val Acc: 64.50%\n",
      "Epoch 444/500, Train Loss: 0.6335, Val Loss: 0.6728, Train Acc: 63.60%, Val Acc: 54.00%\n",
      "Epoch 445/500, Train Loss: 0.6157, Val Loss: 0.6338, Train Acc: 65.20%, Val Acc: 62.50%\n",
      "Epoch 446/500, Train Loss: 0.6538, Val Loss: 0.6115, Train Acc: 60.80%, Val Acc: 66.00%\n",
      "Epoch 447/500, Train Loss: 0.6243, Val Loss: 0.6241, Train Acc: 67.60%, Val Acc: 62.00%\n",
      "Epoch 448/500, Train Loss: 0.6454, Val Loss: 0.6441, Train Acc: 61.40%, Val Acc: 58.50%\n",
      "Epoch 449/500, Train Loss: 0.6274, Val Loss: 0.6924, Train Acc: 60.00%, Val Acc: 57.00%\n",
      "Epoch 450/500, Train Loss: 0.6252, Val Loss: 0.6034, Train Acc: 62.80%, Val Acc: 65.50%\n",
      "Epoch 451/500, Train Loss: 0.6163, Val Loss: 0.6427, Train Acc: 64.60%, Val Acc: 58.50%\n",
      "Epoch 452/500, Train Loss: 0.6359, Val Loss: 0.6159, Train Acc: 63.60%, Val Acc: 67.00%\n",
      "Epoch 453/500, Train Loss: 0.6457, Val Loss: 0.6229, Train Acc: 60.40%, Val Acc: 65.00%\n",
      "Epoch 454/500, Train Loss: 0.5989, Val Loss: 0.6730, Train Acc: 64.00%, Val Acc: 60.00%\n",
      "Epoch 455/500, Train Loss: 0.6314, Val Loss: 0.6130, Train Acc: 61.60%, Val Acc: 67.00%\n",
      "Epoch 456/500, Train Loss: 0.6461, Val Loss: 0.6447, Train Acc: 61.20%, Val Acc: 59.50%\n",
      "Epoch 457/500, Train Loss: 0.6516, Val Loss: 0.7180, Train Acc: 60.80%, Val Acc: 52.50%\n",
      "Epoch 458/500, Train Loss: 0.6282, Val Loss: 0.6177, Train Acc: 62.60%, Val Acc: 70.00%\n",
      "Epoch 459/500, Train Loss: 0.6083, Val Loss: 0.6327, Train Acc: 65.20%, Val Acc: 61.50%\n",
      "Epoch 460/500, Train Loss: 0.6280, Val Loss: 0.6197, Train Acc: 59.80%, Val Acc: 63.50%\n",
      "Epoch 461/500, Train Loss: 0.6296, Val Loss: 0.6187, Train Acc: 62.20%, Val Acc: 67.00%\n",
      "Epoch 462/500, Train Loss: 0.6290, Val Loss: 0.6244, Train Acc: 62.80%, Val Acc: 67.00%\n",
      "Epoch 463/500, Train Loss: 0.6164, Val Loss: 0.6103, Train Acc: 64.00%, Val Acc: 67.00%\n",
      "Epoch 464/500, Train Loss: 0.6473, Val Loss: 0.6333, Train Acc: 61.20%, Val Acc: 62.00%\n",
      "Epoch 465/500, Train Loss: 0.6209, Val Loss: 0.6077, Train Acc: 60.00%, Val Acc: 67.50%\n",
      "Epoch 466/500, Train Loss: 0.6184, Val Loss: 0.6139, Train Acc: 63.20%, Val Acc: 62.50%\n",
      "Epoch 467/500, Train Loss: 0.6400, Val Loss: 0.6181, Train Acc: 60.40%, Val Acc: 63.50%\n",
      "Epoch 468/500, Train Loss: 0.6248, Val Loss: 0.6468, Train Acc: 62.60%, Val Acc: 59.50%\n",
      "Epoch 469/500, Train Loss: 0.6257, Val Loss: 0.6282, Train Acc: 65.40%, Val Acc: 60.50%\n",
      "Epoch 470/500, Train Loss: 0.6268, Val Loss: 0.5985, Train Acc: 62.00%, Val Acc: 66.50%\n",
      "Epoch 471/500, Train Loss: 0.6410, Val Loss: 0.6454, Train Acc: 62.00%, Val Acc: 61.00%\n",
      "Epoch 472/500, Train Loss: 0.6068, Val Loss: 0.7666, Train Acc: 62.20%, Val Acc: 59.50%\n",
      "Epoch 473/500, Train Loss: 0.6282, Val Loss: 0.6481, Train Acc: 63.00%, Val Acc: 60.00%\n",
      "Epoch 474/500, Train Loss: 0.6452, Val Loss: 0.6060, Train Acc: 61.00%, Val Acc: 67.00%\n",
      "Epoch 475/500, Train Loss: 0.6441, Val Loss: 0.6672, Train Acc: 60.20%, Val Acc: 59.50%\n",
      "Epoch 476/500, Train Loss: 0.6696, Val Loss: 0.6784, Train Acc: 58.40%, Val Acc: 53.00%\n",
      "Epoch 477/500, Train Loss: 0.6188, Val Loss: 0.6248, Train Acc: 64.00%, Val Acc: 64.00%\n",
      "Epoch 478/500, Train Loss: 0.6075, Val Loss: 0.6684, Train Acc: 62.20%, Val Acc: 59.00%\n",
      "Epoch 479/500, Train Loss: 0.6327, Val Loss: 0.6283, Train Acc: 62.00%, Val Acc: 60.50%\n",
      "Epoch 480/500, Train Loss: 0.6301, Val Loss: 0.7370, Train Acc: 64.20%, Val Acc: 57.50%\n",
      "Epoch 481/500, Train Loss: 0.6258, Val Loss: 0.6478, Train Acc: 67.80%, Val Acc: 60.00%\n",
      "Epoch 482/500, Train Loss: 0.6511, Val Loss: 0.6402, Train Acc: 61.00%, Val Acc: 63.50%\n",
      "Epoch 483/500, Train Loss: 0.6434, Val Loss: 0.6473, Train Acc: 59.20%, Val Acc: 62.00%\n",
      "Epoch 484/500, Train Loss: 0.6259, Val Loss: 0.6842, Train Acc: 61.80%, Val Acc: 54.50%\n",
      "Epoch 485/500, Train Loss: 0.6341, Val Loss: 0.6434, Train Acc: 59.80%, Val Acc: 60.50%\n",
      "Epoch 486/500, Train Loss: 0.6654, Val Loss: 0.6119, Train Acc: 60.60%, Val Acc: 62.50%\n",
      "Epoch 487/500, Train Loss: 0.6369, Val Loss: 0.6326, Train Acc: 62.40%, Val Acc: 59.50%\n",
      "Epoch 488/500, Train Loss: 0.6528, Val Loss: 0.6422, Train Acc: 56.20%, Val Acc: 60.50%\n",
      "Epoch 489/500, Train Loss: 0.6481, Val Loss: 0.7844, Train Acc: 54.80%, Val Acc: 51.50%\n",
      "Epoch 490/500, Train Loss: 0.6424, Val Loss: 0.6738, Train Acc: 61.60%, Val Acc: 58.50%\n",
      "Epoch 491/500, Train Loss: 0.6414, Val Loss: 0.6244, Train Acc: 57.40%, Val Acc: 62.00%\n",
      "Epoch 492/500, Train Loss: 0.6345, Val Loss: 0.6626, Train Acc: 63.00%, Val Acc: 57.00%\n",
      "Epoch 493/500, Train Loss: 0.6323, Val Loss: 0.6403, Train Acc: 63.00%, Val Acc: 57.50%\n",
      "Epoch 494/500, Train Loss: 0.6131, Val Loss: 0.6229, Train Acc: 65.40%, Val Acc: 61.50%\n",
      "Epoch 495/500, Train Loss: 0.6321, Val Loss: 0.6199, Train Acc: 61.00%, Val Acc: 62.50%\n",
      "Epoch 496/500, Train Loss: 0.6158, Val Loss: 0.6145, Train Acc: 64.40%, Val Acc: 64.00%\n",
      "Epoch 497/500, Train Loss: 0.6277, Val Loss: 0.6226, Train Acc: 59.20%, Val Acc: 63.00%\n",
      "Epoch 498/500, Train Loss: 0.6651, Val Loss: 0.6389, Train Acc: 57.20%, Val Acc: 61.50%\n",
      "Epoch 499/500, Train Loss: 0.6381, Val Loss: 0.6833, Train Acc: 62.40%, Val Acc: 53.00%\n",
      "Epoch 500/500, Train Loss: 0.6364, Val Loss: 0.6354, Train Acc: 61.40%, Val Acc: 65.50%\n",
      "Best validation accuracy: 70.0%\n"
     ]
    }
   ],
   "source": [
    "model_name ='amazonclasssimplew2v'\n",
    "input_size = train_x_tensor_w2v.shape[1]\n",
    "model = SimpleANNClassifier(input_size, model_name)\n",
    "model.to(device)\n",
    "criterion = nn.BCELoss()\n",
    "optimizer = optim.AdamW(model.parameters(), lr=0.001, weight_decay=1e-5)\n",
    "\n",
    "trained_model = train_model(model, criterion, optimizer, train_loader_w2v, val_loader_w2v, num_epochs=500)"
   ]
  },
  {
   "cell_type": "code",
   "execution_count": 59,
   "id": "e3cf246e",
   "metadata": {},
   "outputs": [
    {
     "name": "stdout",
     "output_type": "stream",
     "text": [
      "Accuracy on testing dataset: 66.33333333333333%\n",
      "F1-Score: 0.64\n"
     ]
    },
    {
     "data": {
      "image/png": "[encoded data removed]",
      "text/plain": [
       "<Figure size 600x600 with 2 Axes>"
      ]
     },
     "metadata": {},
     "output_type": "display_data"
    }
   ],
   "source": [
    "# Load best model\n",
    "model = SimpleANNClassifier(input_size, model_name)\n",
    "model.load_state_dict(torch.load(model.name, weights_only=True))\n",
    "model.to(device)\n",
    "\n",
    "# Evaluate best model\n",
    "_, test_acc, labels, preds = test_model(model=model, loader=test_loader_w2v, criterion=criterion, input_size=input_size)\n",
    "print(f'Accuracy on testing dataset: {test_acc}%')\n",
    "print(f'F1-Score: {f1_score(labels, preds):.2f}')\n",
    "plot_confusion_matrix(labels, preds)"
   ]
  },
  {
   "cell_type": "markdown",
   "id": "4a68b9c1",
   "metadata": {},
   "source": [
    "larger dataset and larger model"
   ]
  },
  {
   "cell_type": "code",
   "execution_count": 60,
   "id": "e212c148",
   "metadata": {},
   "outputs": [
    {
     "name": "stdout",
     "output_type": "stream",
     "text": [
      "Epoch 1/50, Train Loss: 0.5057, Val Loss: 0.4617, Train Acc: 74.79%, Val Acc: 76.26%\n",
      "Epoch 2/50, Train Loss: 0.4550, Val Loss: 0.4558, Train Acc: 78.30%, Val Acc: 78.18%\n",
      "Epoch 3/50, Train Loss: 0.4443, Val Loss: 0.4422, Train Acc: 79.14%, Val Acc: 78.26%\n",
      "Epoch 4/50, Train Loss: 0.4369, Val Loss: 0.4343, Train Acc: 79.62%, Val Acc: 78.14%\n",
      "Epoch 5/50, Train Loss: 0.4279, Val Loss: 0.4314, Train Acc: 79.76%, Val Acc: 79.16%\n",
      "Epoch 6/50, Train Loss: 0.4267, Val Loss: 0.4455, Train Acc: 79.81%, Val Acc: 77.80%\n",
      "Epoch 7/50, Train Loss: 0.4254, Val Loss: 0.4785, Train Acc: 80.06%, Val Acc: 77.04%\n",
      "Epoch 8/50, Train Loss: 0.4195, Val Loss: 0.4444, Train Acc: 80.18%, Val Acc: 78.68%\n",
      "Epoch 9/50, Train Loss: 0.4178, Val Loss: 0.4305, Train Acc: 80.36%, Val Acc: 79.34%\n",
      "Epoch 10/50, Train Loss: 0.4105, Val Loss: 0.4372, Train Acc: 80.94%, Val Acc: 78.50%\n",
      "Epoch 11/50, Train Loss: 0.4063, Val Loss: 0.4377, Train Acc: 80.98%, Val Acc: 78.98%\n",
      "Epoch 12/50, Train Loss: 0.4055, Val Loss: 0.4488, Train Acc: 81.60%, Val Acc: 78.14%\n",
      "Epoch 13/50, Train Loss: 0.4010, Val Loss: 0.4339, Train Acc: 80.87%, Val Acc: 79.22%\n",
      "Epoch 14/50, Train Loss: 0.3981, Val Loss: 0.4375, Train Acc: 81.03%, Val Acc: 79.32%\n",
      "Epoch 15/50, Train Loss: 0.3879, Val Loss: 0.4386, Train Acc: 81.62%, Val Acc: 79.22%\n",
      "Epoch 16/50, Train Loss: 0.3927, Val Loss: 0.4681, Train Acc: 81.42%, Val Acc: 76.80%\n",
      "Epoch 17/50, Train Loss: 0.3882, Val Loss: 0.4397, Train Acc: 81.82%, Val Acc: 78.52%\n",
      "Epoch 18/50, Train Loss: 0.3846, Val Loss: 0.4622, Train Acc: 81.73%, Val Acc: 77.86%\n",
      "Epoch 19/50, Train Loss: 0.3855, Val Loss: 0.4340, Train Acc: 82.17%, Val Acc: 79.60%\n",
      "Epoch 20/50, Train Loss: 0.3760, Val Loss: 0.4348, Train Acc: 82.13%, Val Acc: 79.60%\n",
      "Epoch 21/50, Train Loss: 0.3767, Val Loss: 0.4590, Train Acc: 82.51%, Val Acc: 78.26%\n",
      "Epoch 22/50, Train Loss: 0.3760, Val Loss: 0.4648, Train Acc: 82.61%, Val Acc: 78.78%\n",
      "Epoch 23/50, Train Loss: 0.3662, Val Loss: 0.4483, Train Acc: 83.18%, Val Acc: 78.12%\n",
      "Epoch 24/50, Train Loss: 0.3754, Val Loss: 0.4388, Train Acc: 82.40%, Val Acc: 79.12%\n",
      "Epoch 25/50, Train Loss: 0.3606, Val Loss: 0.4478, Train Acc: 83.50%, Val Acc: 78.64%\n",
      "Epoch 26/50, Train Loss: 0.3556, Val Loss: 0.4584, Train Acc: 83.68%, Val Acc: 78.12%\n",
      "Epoch 27/50, Train Loss: 0.3490, Val Loss: 0.4853, Train Acc: 83.86%, Val Acc: 78.12%\n",
      "Epoch 28/50, Train Loss: 0.3563, Val Loss: 0.4991, Train Acc: 83.66%, Val Acc: 76.54%\n",
      "Epoch 29/50, Train Loss: 0.3516, Val Loss: 0.4628, Train Acc: 84.02%, Val Acc: 78.34%\n",
      "Epoch 30/50, Train Loss: 0.3455, Val Loss: 0.4610, Train Acc: 84.36%, Val Acc: 78.00%\n",
      "Epoch 31/50, Train Loss: 0.3410, Val Loss: 0.4667, Train Acc: 84.36%, Val Acc: 78.00%\n",
      "Epoch 32/50, Train Loss: 0.3443, Val Loss: 0.4584, Train Acc: 84.38%, Val Acc: 78.94%\n",
      "Epoch 33/50, Train Loss: 0.3378, Val Loss: 0.4735, Train Acc: 84.45%, Val Acc: 78.76%\n",
      "Epoch 34/50, Train Loss: 0.3364, Val Loss: 0.4679, Train Acc: 84.67%, Val Acc: 78.56%\n",
      "Epoch 35/50, Train Loss: 0.3317, Val Loss: 0.4650, Train Acc: 84.60%, Val Acc: 78.90%\n",
      "Epoch 36/50, Train Loss: 0.3319, Val Loss: 0.5008, Train Acc: 84.94%, Val Acc: 78.58%\n",
      "Epoch 37/50, Train Loss: 0.3271, Val Loss: 0.4655, Train Acc: 85.39%, Val Acc: 78.74%\n",
      "Epoch 38/50, Train Loss: 0.3231, Val Loss: 0.5756, Train Acc: 85.26%, Val Acc: 74.68%\n",
      "Epoch 39/50, Train Loss: 0.3256, Val Loss: 0.5295, Train Acc: 85.13%, Val Acc: 77.30%\n",
      "Epoch 40/50, Train Loss: 0.3196, Val Loss: 0.4857, Train Acc: 85.60%, Val Acc: 78.32%\n",
      "Epoch 41/50, Train Loss: 0.3178, Val Loss: 0.5178, Train Acc: 85.50%, Val Acc: 78.14%\n",
      "Epoch 42/50, Train Loss: 0.3155, Val Loss: 0.4826, Train Acc: 85.61%, Val Acc: 78.46%\n",
      "Epoch 43/50, Train Loss: 0.3124, Val Loss: 0.4997, Train Acc: 85.48%, Val Acc: 77.48%\n",
      "Epoch 44/50, Train Loss: 0.3073, Val Loss: 0.4938, Train Acc: 86.02%, Val Acc: 78.14%\n",
      "Epoch 45/50, Train Loss: 0.3126, Val Loss: 0.4879, Train Acc: 86.02%, Val Acc: 77.90%\n",
      "Epoch 46/50, Train Loss: 0.3038, Val Loss: 0.4825, Train Acc: 86.06%, Val Acc: 78.32%\n",
      "Epoch 47/50, Train Loss: 0.3042, Val Loss: 0.4996, Train Acc: 86.57%, Val Acc: 78.20%\n",
      "Epoch 48/50, Train Loss: 0.2993, Val Loss: 0.5191, Train Acc: 86.60%, Val Acc: 78.00%\n",
      "Epoch 49/50, Train Loss: 0.2950, Val Loss: 0.5021, Train Acc: 87.17%, Val Acc: 77.40%\n",
      "Epoch 50/50, Train Loss: 0.2924, Val Loss: 0.5783, Train Acc: 87.10%, Val Acc: 76.08%\n",
      "Best validation accuracy: 79.6%\n"
     ]
    }
   ],
   "source": [
    "model_name ='amazonclasssimplew2vlarge'\n",
    "input_size = train_x_tensor_w2v_l.shape[1]\n",
    "model = ANNClassifierLarge(input_size, model_name)\n",
    "model.to(device)\n",
    "criterion = nn.BCELoss()\n",
    "optimizer = optim.AdamW(model.parameters(), lr=0.001, weight_decay=1e-5)\n",
    "\n",
    "trained_model = train_model(model, criterion, optimizer, train_loader_w2v_l, val_loader_w2v_l, num_epochs=50)"
   ]
  },
  {
   "cell_type": "code",
   "execution_count": 61,
   "id": "d921b356",
   "metadata": {},
   "outputs": [
    {
     "name": "stdout",
     "output_type": "stream",
     "text": [
      "Accuracy on testing dataset: 79.17333333333333%\n",
      "F1-Score: 0.83\n"
     ]
    },
    {
     "data": {
      "image/png": "[encoded data removed]",
      "text/plain": [
       "<Figure size 600x600 with 2 Axes>"
      ]
     },
     "metadata": {},
     "output_type": "display_data"
    }
   ],
   "source": [
    "# Load best model\n",
    "model = ANNClassifierLarge(input_size, model_name)\n",
    "model.load_state_dict(torch.load(model.name, weights_only=True))\n",
    "model.to(device)\n",
    "\n",
    "# Evaluate best model\n",
    "_, test_acc, labels, preds = test_model(model=model, loader=test_loader_w2v_l, criterion=criterion, input_size=input_size)\n",
    "print(f'Accuracy on testing dataset: {test_acc}%')\n",
    "print(f'F1-Score: {f1_score(labels, preds):.2f}')\n",
    "plot_confusion_matrix(labels, preds)"
   ]
  },
  {
   "cell_type": "markdown",
   "id": "bc33bb21",
   "metadata": {},
   "source": [
    "---"
   ]
  },
  {
   "cell_type": "markdown",
   "id": "cf48190c",
   "metadata": {},
   "source": [
    "# Transformer"
   ]
  },
  {
   "cell_type": "markdown",
   "id": "b02b5da0",
   "metadata": {
    "jp-MarkdownHeadingCollapsed": true
   },
   "source": [
    "### RoBERTa\n",
    "\n",
    "In this part we perform feature extraction on the RoBERTa transformer model for binary classification"
   ]
  },
  {
   "cell_type": "code",
   "execution_count": 6,
   "id": "093e1b26",
   "metadata": {},
   "outputs": [
    {
     "name": "stderr",
     "output_type": "stream",
     "text": [
      "2025-05-21 21:37:52.788208: I tensorflow/core/util/port.cc:153] oneDNN custom operations are on. You may see slightly different numerical results due to floating-point round-off errors from different computation orders. To turn them off, set the environment variable `TF_ENABLE_ONEDNN_OPTS=0`.\n",
      "2025-05-21 21:37:52.802760: E external/local_xla/xla/stream_executor/cuda/cuda_fft.cc:467] Unable to register cuFFT factory: Attempting to register factory for plugin cuFFT when one has already been registered\n",
      "WARNING: All log messages before absl::InitializeLog() is called are written to STDERR\n",
      "E0000 00:00:1747856272.822054  138574 cuda_dnn.cc:8579] Unable to register cuDNN factory: Attempting to register factory for plugin cuDNN when one has already been registered\n",
      "E0000 00:00:1747856272.827855  138574 cuda_blas.cc:1407] Unable to register cuBLAS factory: Attempting to register factory for plugin cuBLAS when one has already been registered\n",
      "W0000 00:00:1747856272.842171  138574 computation_placer.cc:177] computation placer already registered. Please check linkage and avoid linking the same target more than once.\n",
      "W0000 00:00:1747856272.842188  138574 computation_placer.cc:177] computation placer already registered. Please check linkage and avoid linking the same target more than once.\n",
      "W0000 00:00:1747856272.842190  138574 computation_placer.cc:177] computation placer already registered. Please check linkage and avoid linking the same target more than once.\n",
      "W0000 00:00:1747856272.842191  138574 computation_placer.cc:177] computation placer already registered. Please check linkage and avoid linking the same target more than once.\n",
      "2025-05-21 21:37:52.847673: I tensorflow/core/platform/cpu_feature_guard.cc:210] This TensorFlow binary is optimized to use available CPU instructions in performance-critical operations.\n",
      "To enable the following instructions: AVX2 AVX512F AVX512_VNNI FMA, in other operations, rebuild TensorFlow with the appropriate compiler flags.\n"
     ]
    }
   ],
   "source": [
    "from transformers import RobertaTokenizer, RobertaForSequenceClassification, TrainingArguments, Trainer\n",
    "from datasets import Dataset\n",
    "from sklearn.metrics import accuracy_score, f1_score"
   ]
  },
  {
   "cell_type": "markdown",
   "id": "5e28bd20",
   "metadata": {},
   "source": [
    "#### Small Dataset"
   ]
  },
  {
   "cell_type": "code",
   "execution_count": 7,
   "id": "40325f22",
   "metadata": {},
   "outputs": [
    {
     "data": {
      "application/vnd.jupyter.widget-view+json": {
       "model_id": "0008b295b9af430cb216ed05cd94579f",
       "version_major": 2,
       "version_minor": 0
      },
      "text/plain": [
       "Map:   0%|          | 0/500 [00:00<?, ? examples/s]"
      ]
     },
     "metadata": {},
     "output_type": "display_data"
    },
    {
     "data": {
      "application/vnd.jupyter.widget-view+json": {
       "model_id": "22ec0a79c7354bd7b11ebb6bb6f6e21a",
       "version_major": 2,
       "version_minor": 0
      },
      "text/plain": [
       "Map:   0%|          | 0/200 [00:00<?, ? examples/s]"
      ]
     },
     "metadata": {},
     "output_type": "display_data"
    },
    {
     "data": {
      "application/vnd.jupyter.widget-view+json": {
       "model_id": "1a8bf930fa9548098dd1cbd2ca247396",
       "version_major": 2,
       "version_minor": 0
      },
      "text/plain": [
       "Map:   0%|          | 0/300 [00:00<?, ? examples/s]"
      ]
     },
     "metadata": {},
     "output_type": "display_data"
    },
    {
     "data": {
      "application/vnd.jupyter.widget-view+json": {
       "model_id": "34637d3154424c0f8004cf4863022e44",
       "version_major": 2,
       "version_minor": 0
      },
      "text/plain": [
       "Map:   0%|          | 0/12500 [00:00<?, ? examples/s]"
      ]
     },
     "metadata": {},
     "output_type": "display_data"
    },
    {
     "data": {
      "application/vnd.jupyter.widget-view+json": {
       "model_id": "641c80fffe4446c7a59534194c666d81",
       "version_major": 2,
       "version_minor": 0
      },
      "text/plain": [
       "Map:   0%|          | 0/5000 [00:00<?, ? examples/s]"
      ]
     },
     "metadata": {},
     "output_type": "display_data"
    },
    {
     "data": {
      "application/vnd.jupyter.widget-view+json": {
       "model_id": "4b7f9da4657d4d5db6c5c0132bac66fe",
       "version_major": 2,
       "version_minor": 0
      },
      "text/plain": [
       "Map:   0%|          | 0/7500 [00:00<?, ? examples/s]"
      ]
     },
     "metadata": {},
     "output_type": "display_data"
    }
   ],
   "source": [
    "tokenizer = RobertaTokenizer.from_pretrained(\"roberta-base\")\n",
    "\n",
    "def create_dataset(X_train, y_train, X_val, y_val, X_test, y_test):\n",
    "    train_dataset = Dataset.from_dict({\"sentence\": X_train, \"labels\": y_train})\n",
    "    val_dataset = Dataset.from_dict({\"sentence\": X_val, \"labels\": y_val})\n",
    "    test_dataset = Dataset.from_dict({\"sentence\": X_test, \"labels\": y_test})\n",
    "    return train_dataset.map(tokenize, batched=True), val_dataset.map(tokenize, batched=True), test_dataset.map(tokenize, batched=True)\n",
    "\n",
    "def tokenize(batch):\n",
    "    return tokenizer(batch[\"sentence\"], padding=\"max_length\", truncation=True)\n",
    "\n",
    "def compute_metrics(eval_pred):\n",
    "    logits, labels = eval_pred\n",
    "    preds = logits.argmax(axis=1)\n",
    "    return {\n",
    "        \"precision\": precision_score(labels, preds),\n",
    "        \"accuracy\": accuracy_score(labels, preds),\n",
    "        \"f1\": f1_score(labels, preds),\n",
    "        \"recall\": recall_score(labels, preds)\n",
    "    }\n",
    "\n",
    "# Create small and large dataset\n",
    "train_dataset, val_dataset, test_dataset = create_dataset(X_train, y_train, X_val, y_val, X_test, y_test)\n",
    "train_dataset_l, val_dataset_l, test_dataset_l = create_dataset(X_train_l, y_train_l, X_val_l, y_val_l, X_test_l, y_test_l)"
   ]
  },
  {
   "cell_type": "code",
   "execution_count": 28,
   "id": "1e9a5a23",
   "metadata": {},
   "outputs": [
    {
     "name": "stderr",
     "output_type": "stream",
     "text": [
      "Some weights of RobertaForSequenceClassification were not initialized from the model checkpoint at roberta-base and are newly initialized: ['classifier.dense.bias', 'classifier.dense.weight', 'classifier.out_proj.bias', 'classifier.out_proj.weight']\n",
      "You should probably TRAIN this model on a down-stream task to be able to use it for predictions and inference.\n"
     ]
    },
    {
     "data": {
      "text/html": [
       "\n",
       "    <div>\n",
       "      \n",
       "      <progress value='189' max='189' style='width:300px; height:20px; vertical-align: middle;'></progress>\n",
       "      [189/189 01:51, Epoch 3/3]\n",
       "    </div>\n",
       "    <table border=\"1\" class=\"dataframe\">\n",
       "  <thead>\n",
       " <tr style=\"text-align: left;\">\n",
       "      <th>Epoch</th>\n",
       "      <th>Training Loss</th>\n",
       "      <th>Validation Loss</th>\n",
       "      <th>Precision</th>\n",
       "      <th>Accuracy</th>\n",
       "      <th>F1</th>\n",
       "      <th>Recall</th>\n",
       "    </tr>\n",
       "  </thead>\n",
       "  <tbody>\n",
       "    <tr>\n",
       "      <td>1</td>\n",
       "      <td>No log</td>\n",
       "      <td>0.298316</td>\n",
       "      <td>0.954023</td>\n",
       "      <td>0.925000</td>\n",
       "      <td>0.917127</td>\n",
       "      <td>0.882979</td>\n",
       "    </tr>\n",
       "    <tr>\n",
       "      <td>2</td>\n",
       "      <td>No log</td>\n",
       "      <td>0.571897</td>\n",
       "      <td>0.849057</td>\n",
       "      <td>0.900000</td>\n",
       "      <td>0.900000</td>\n",
       "      <td>0.957447</td>\n",
       "    </tr>\n",
       "    <tr>\n",
       "      <td>3</td>\n",
       "      <td>No log</td>\n",
       "      <td>0.254291</td>\n",
       "      <td>0.946809</td>\n",
       "      <td>0.950000</td>\n",
       "      <td>0.946809</td>\n",
       "      <td>0.946809</td>\n",
       "    </tr>\n",
       "  </tbody>\n",
       "</table><p>"
      ],
      "text/plain": [
       "<IPython.core.display.HTML object>"
      ]
     },
     "metadata": {},
     "output_type": "display_data"
    },
    {
     "data": {
      "text/plain": [
       "TrainOutput(global_step=189, training_loss=0.2952616252596416, metrics={'train_runtime': 112.7971, 'train_samples_per_second': 13.298, 'train_steps_per_second': 1.676, 'total_flos': 30062493630000.0, 'train_loss': 0.2952616252596416, 'epoch': 3.0})"
      ]
     },
     "execution_count": 28,
     "metadata": {},
     "output_type": "execute_result"
    }
   ],
   "source": [
    "model = RobertaForSequenceClassification.from_pretrained(\"roberta-base\", num_labels=2)\n",
    "trainer = Trainer(\n",
    "    model=model,\n",
    "    args=TrainingArguments(\n",
    "        output_dir=\"./results\",\n",
    "        eval_strategy=\"epoch\",\n",
    "        logging_dir=\"./logs\",\n",
    "        num_train_epochs=3,\n",
    "        per_device_train_batch_size=8\n",
    "    ),\n",
    "    train_dataset = train_dataset,\n",
    "    eval_dataset=val_dataset,\n",
    "    compute_metrics=compute_metrics\n",
    ")\n",
    "\n",
    "trainer.train()"
   ]
  },
  {
   "cell_type": "code",
   "execution_count": 29,
   "id": "7042399e",
   "metadata": {},
   "outputs": [
    {
     "data": {
      "text/html": [
       "\n",
       "    <div>\n",
       "      \n",
       "      <progress value='38' max='38' style='width:300px; height:20px; vertical-align: middle;'></progress>\n",
       "      [38/38 00:03]\n",
       "    </div>\n",
       "    "
      ],
      "text/plain": [
       "<IPython.core.display.HTML object>"
      ]
     },
     "metadata": {},
     "output_type": "display_data"
    },
    {
     "name": "stdout",
     "output_type": "stream",
     "text": [
      "{'eval_loss': 0.20251715183258057, 'eval_precision': 0.9625, 'eval_accuracy': 0.9666666666666667, 'eval_f1': 0.9685534591194969, 'eval_recall': 0.9746835443037974, 'eval_runtime': 3.3241, 'eval_samples_per_second': 90.25, 'eval_steps_per_second': 11.432, 'epoch': 3.0}\n"
     ]
    }
   ],
   "source": [
    "metrics = trainer.evaluate(\n",
    "    eval_dataset=test_dataset,\n",
    ")\n",
    "\n",
    "print(metrics)"
   ]
  },
  {
   "cell_type": "markdown",
   "id": "33a361fd",
   "metadata": {
    "jp-MarkdownHeadingCollapsed": true
   },
   "source": [
    "#### Playground\n",
    "Cause it is fancy to try around"
   ]
  },
  {
   "cell_type": "code",
   "execution_count": 30,
   "id": "95722d77",
   "metadata": {},
   "outputs": [
    {
     "name": "stdout",
     "output_type": "stream",
     "text": [
      "Predicted class: 1\n",
      "Probabilities: [[0.0043547 0.9956453]]\n"
     ]
    }
   ],
   "source": [
    "# It is really fancy to try it a bit out\n",
    "text = \"does what it promised\"\n",
    "inputs = tokenizer(text, return_tensors=\"pt\", truncation=True, padding=True)\n",
    "with torch.no_grad():\n",
    "    outputs = model(**inputs)\n",
    "    logits = outputs.logits\n",
    "    probabilities = torch.softmax(logits, dim=1)\n",
    "    predicted_class = torch.argmax(probabilities, dim=1).item()\n",
    "print(f\"Predicted class: {predicted_class}\")\n",
    "print(f\"Probabilities: {probabilities.numpy()}\")"
   ]
  },
  {
   "cell_type": "markdown",
   "id": "07220b52",
   "metadata": {
    "jp-MarkdownHeadingCollapsed": true
   },
   "source": [
    "#### Large Dataset"
   ]
  },
  {
   "cell_type": "code",
   "execution_count": 9,
   "id": "14d0d0d2",
   "metadata": {},
   "outputs": [
    {
     "name": "stderr",
     "output_type": "stream",
     "text": [
      "Xet Storage is enabled for this repo, but the 'hf_xet' package is not installed. Falling back to regular HTTP download. For better performance, install the package with: `pip install huggingface_hub[hf_xet]` or `pip install hf_xet`\n",
      "Some weights of RobertaForSequenceClassification were not initialized from the model checkpoint at roberta-base and are newly initialized: ['classifier.dense.bias', 'classifier.dense.weight', 'classifier.out_proj.bias', 'classifier.out_proj.weight']\n",
      "You should probably TRAIN this model on a down-stream task to be able to use it for predictions and inference.\n"
     ]
    },
    {
     "data": {
      "text/html": [
       "\n",
       "    <div>\n",
       "      \n",
       "      <progress value='4689' max='4689' style='width:300px; height:20px; vertical-align: middle;'></progress>\n",
       "      [4689/4689 18:01, Epoch 3/3]\n",
       "    </div>\n",
       "    <table border=\"1\" class=\"dataframe\">\n",
       "  <thead>\n",
       " <tr style=\"text-align: left;\">\n",
       "      <th>Epoch</th>\n",
       "      <th>Training Loss</th>\n",
       "      <th>Validation Loss</th>\n",
       "      <th>Precision</th>\n",
       "      <th>Accuracy</th>\n",
       "      <th>F1</th>\n",
       "      <th>Recall</th>\n",
       "    </tr>\n",
       "  </thead>\n",
       "  <tbody>\n",
       "    <tr>\n",
       "      <td>1</td>\n",
       "      <td>0.329300</td>\n",
       "      <td>0.276609</td>\n",
       "      <td>0.935792</td>\n",
       "      <td>0.917800</td>\n",
       "      <td>0.932568</td>\n",
       "      <td>0.929366</td>\n",
       "    </tr>\n",
       "    <tr>\n",
       "      <td>2</td>\n",
       "      <td>0.219700</td>\n",
       "      <td>0.253355</td>\n",
       "      <td>0.947941</td>\n",
       "      <td>0.932200</td>\n",
       "      <td>0.944362</td>\n",
       "      <td>0.940811</td>\n",
       "    </tr>\n",
       "    <tr>\n",
       "      <td>3</td>\n",
       "      <td>0.148100</td>\n",
       "      <td>0.298459</td>\n",
       "      <td>0.942221</td>\n",
       "      <td>0.936400</td>\n",
       "      <td>0.948343</td>\n",
       "      <td>0.954545</td>\n",
       "    </tr>\n",
       "  </tbody>\n",
       "</table><p>"
      ],
      "text/plain": [
       "<IPython.core.display.HTML object>"
      ]
     },
     "metadata": {},
     "output_type": "display_data"
    },
    {
     "data": {
      "text/plain": [
       "TrainOutput(global_step=4689, training_loss=0.24563814017990807, metrics={'train_runtime': 1082.5085, 'train_samples_per_second': 34.642, 'train_steps_per_second': 4.332, 'total_flos': 9866664576000000.0, 'train_loss': 0.24563814017990807, 'epoch': 3.0})"
      ]
     },
     "execution_count": 9,
     "metadata": {},
     "output_type": "execute_result"
    }
   ],
   "source": [
    "model_l = RobertaForSequenceClassification.from_pretrained(\"roberta-base\", num_labels=2)\n",
    "trainer_l = Trainer(\n",
    "    model=model_l,\n",
    "    args=TrainingArguments(\n",
    "        output_dir=\"./results_large\",\n",
    "        eval_strategy=\"epoch\",\n",
    "        logging_dir=\"./logs_large\",\n",
    "        num_train_epochs=3,\n",
    "        per_device_train_batch_size=8\n",
    "    ),\n",
    "    train_dataset = train_dataset_l,\n",
    "    eval_dataset = val_dataset_l,\n",
    "    compute_metrics=compute_metrics\n",
    ")\n",
    "\n",
    "trainer_l.train()"
   ]
  },
  {
   "cell_type": "code",
   "execution_count": 10,
   "id": "63145cf1",
   "metadata": {},
   "outputs": [
    {
     "data": {
      "text/html": [
       "\n",
       "    <div>\n",
       "      \n",
       "      <progress value='938' max='938' style='width:300px; height:20px; vertical-align: middle;'></progress>\n",
       "      [938/938 00:54]\n",
       "    </div>\n",
       "    "
      ],
      "text/plain": [
       "<IPython.core.display.HTML object>"
      ]
     },
     "metadata": {},
     "output_type": "display_data"
    },
    {
     "name": "stdout",
     "output_type": "stream",
     "text": [
      "{'eval_loss': 0.2807043194770813, 'eval_precision': 0.9447918913090361, 'eval_accuracy': 0.9389333333333333, 'eval_f1': 0.9503253796095444, 'eval_recall': 0.9559240672048877, 'eval_runtime': 54.6927, 'eval_samples_per_second': 137.13, 'eval_steps_per_second': 17.15, 'epoch': 3.0}\n"
     ]
    }
   ],
   "source": [
    "metrics = trainer_l.evaluate(\n",
    "    eval_dataset=test_dataset_l,\n",
    ")\n",
    "\n",
    "print(metrics)"
   ]
  },
  {
   "cell_type": "markdown",
   "id": "f60c63c4-4cd0-4782-97a7-7e358a94fdbf",
   "metadata": {},
   "source": [
    "### WandB optimisation of RoBERTa"
   ]
  },
  {
   "cell_type": "code",
   "execution_count": 5,
   "id": "920e3c5a-2397-4dd5-9cee-b92a18010ba8",
   "metadata": {},
   "outputs": [
    {
     "name": "stderr",
     "output_type": "stream",
     "text": [
      "2025-05-21 23:58:58.233282: I tensorflow/core/util/port.cc:153] oneDNN custom operations are on. You may see slightly different numerical results due to floating-point round-off errors from different computation orders. To turn them off, set the environment variable `TF_ENABLE_ONEDNN_OPTS=0`.\n",
      "2025-05-21 23:58:58.248536: E external/local_xla/xla/stream_executor/cuda/cuda_fft.cc:467] Unable to register cuFFT factory: Attempting to register factory for plugin cuFFT when one has already been registered\n",
      "WARNING: All log messages before absl::InitializeLog() is called are written to STDERR\n",
      "E0000 00:00:1747864738.269315  147385 cuda_dnn.cc:8579] Unable to register cuDNN factory: Attempting to register factory for plugin cuDNN when one has already been registered\n",
      "E0000 00:00:1747864738.275321  147385 cuda_blas.cc:1407] Unable to register cuBLAS factory: Attempting to register factory for plugin cuBLAS when one has already been registered\n",
      "W0000 00:00:1747864738.290939  147385 computation_placer.cc:177] computation placer already registered. Please check linkage and avoid linking the same target more than once.\n",
      "W0000 00:00:1747864738.290955  147385 computation_placer.cc:177] computation placer already registered. Please check linkage and avoid linking the same target more than once.\n",
      "W0000 00:00:1747864738.290957  147385 computation_placer.cc:177] computation placer already registered. Please check linkage and avoid linking the same target more than once.\n",
      "W0000 00:00:1747864738.290958  147385 computation_placer.cc:177] computation placer already registered. Please check linkage and avoid linking the same target more than once.\n",
      "2025-05-21 23:58:58.296552: I tensorflow/core/platform/cpu_feature_guard.cc:210] This TensorFlow binary is optimized to use available CPU instructions in performance-critical operations.\n",
      "To enable the following instructions: AVX2 AVX512F AVX512_VNNI FMA, in other operations, rebuild TensorFlow with the appropriate compiler flags.\n"
     ]
    }
   ],
   "source": [
    "from transformers import RobertaTokenizer, RobertaForSequenceClassification, TrainingArguments, Trainer\n",
    "from datasets import Dataset\n",
    "from sklearn.metrics import accuracy_score, f1_score\n",
    "\n",
    "import wandb\n",
    "\n",
    "import torch\n",
    "import gc"
   ]
  },
  {
   "cell_type": "code",
   "execution_count": 6,
   "id": "370597bd-9ca7-4eac-8777-882b7ac88210",
   "metadata": {},
   "outputs": [
    {
     "data": {
      "application/vnd.jupyter.widget-view+json": {
       "model_id": "28034ff77c1c4acd83418f06b3b7e74e",
       "version_major": 2,
       "version_minor": 0
      },
      "text/plain": [
       "Map:   0%|          | 0/500 [00:00<?, ? examples/s]"
      ]
     },
     "metadata": {},
     "output_type": "display_data"
    },
    {
     "data": {
      "application/vnd.jupyter.widget-view+json": {
       "model_id": "ba9d89dae29847609cd820525b6f25c9",
       "version_major": 2,
       "version_minor": 0
      },
      "text/plain": [
       "Map:   0%|          | 0/200 [00:00<?, ? examples/s]"
      ]
     },
     "metadata": {},
     "output_type": "display_data"
    },
    {
     "data": {
      "application/vnd.jupyter.widget-view+json": {
       "model_id": "b7d9f5e151ae48dd86632cf28631dc6c",
       "version_major": 2,
       "version_minor": 0
      },
      "text/plain": [
       "Map:   0%|          | 0/300 [00:00<?, ? examples/s]"
      ]
     },
     "metadata": {},
     "output_type": "display_data"
    }
   ],
   "source": [
    "tokenizer = RobertaTokenizer.from_pretrained(\"roberta-base\")\n",
    "\n",
    "def create_dataset(X_train, y_train, X_val, y_val, X_test, y_test):\n",
    "    train_dataset = Dataset.from_dict({\"sentence\": X_train, \"labels\": y_train})\n",
    "    val_dataset = Dataset.from_dict({\"sentence\": X_val, \"labels\": y_val})\n",
    "    test_dataset = Dataset.from_dict({\"sentence\": X_test, \"labels\": y_test})\n",
    "    return train_dataset.map(tokenize, batched=True), val_dataset.map(tokenize, batched=True), test_dataset.map(tokenize, batched=True)\n",
    "\n",
    "def tokenize(batch):\n",
    "    return tokenizer(batch[\"sentence\"], padding=\"max_length\", truncation=True)\n",
    "\n",
    "def compute_metrics(eval_pred):\n",
    "    logits, labels = eval_pred\n",
    "    preds = logits.argmax(axis=1)\n",
    "    return {\n",
    "        \"precision\": precision_score(labels, preds),\n",
    "        \"accuracy\": accuracy_score(labels, preds),\n",
    "        \"f1\": f1_score(labels, preds),\n",
    "        \"recall\": recall_score(labels, preds)\n",
    "    }\n",
    "\n",
    "# Create small and large dataset\n",
    "train_dataset, val_dataset, test_dataset = create_dataset(X_train, y_train, X_val, y_val, X_test, y_test)\n",
    "#train_dataset_l, val_dataset_l, test_dataset_l = create_dataset(X_train_l, y_train_l, X_val_l, y_val_l, X_test_l, y_test_l)"
   ]
  },
  {
   "cell_type": "markdown",
   "id": "5451e5f1-15cf-4611-8da5-2fe9daa3a9c5",
   "metadata": {},
   "source": [
    "Small dataset"
   ]
  },
  {
   "cell_type": "code",
   "execution_count": null,
   "id": "d460ef0f-3867-4bcd-8607-f3aad7149efa",
   "metadata": {},
   "outputs": [],
   "source": [
    "wandb.login()"
   ]
  },
  {
   "cell_type": "code",
   "execution_count": 14,
   "id": "810d4c15-2845-4e14-bf48-d5409c864197",
   "metadata": {},
   "outputs": [],
   "source": [
    "sweep_config = {\n",
    "    \"method\": \"bayes\",\n",
    "    \"metric\": {\n",
    "        \"name\": \"eval/f1\",\n",
    "        \"goal\": \"maximize\"\n",
    "    },\n",
    "    \"parameters\": {\n",
    "        \"learning_rate\": {\n",
    "            \"min\": 1e-6,\n",
    "            \"max\": 5e-5\n",
    "        },\n",
    "        \"per_device_train_batch_size\": {\n",
    "            \"values\": [8, 16, 32]\n",
    "        },\n",
    "        \"num_train_epochs\": {\n",
    "            \"values\": [2, 3, 4]\n",
    "        }\n",
    "    }\n",
    "}"
   ]
  },
  {
   "cell_type": "code",
   "execution_count": 15,
   "id": "d049389d-a1a7-40bc-b383-9b5240403759",
   "metadata": {},
   "outputs": [
    {
     "name": "stdout",
     "output_type": "stream",
     "text": [
      "Create sweep with ID: wecneufa\n",
      "Sweep URL: https://wandb.ai/natalia-timokhova-v-lule-university-of-technology/roberta-sweep-lab1/sweeps/wecneufa\n"
     ]
    }
   ],
   "source": [
    "sweep_id = wandb.sweep(sweep_config, project=\"roberta-sweep-lab1\")"
   ]
  },
  {
   "cell_type": "code",
   "execution_count": 16,
   "id": "66284ddd-f88f-41f0-83bf-403f8a83c303",
   "metadata": {},
   "outputs": [],
   "source": [
    "def train():\n",
    "    with wandb.init() as run:\n",
    "        config = run.config\n",
    "\n",
    "        model = RobertaForSequenceClassification.from_pretrained(\"roberta-base\", num_labels=2)\n",
    "\n",
    "        training_args = TrainingArguments(\n",
    "            output_dir=\"./results\",\n",
    "            eval_strategy=\"epoch\",\n",
    "            logging_dir=\"./logs\",\n",
    "            report_to=\"wandb\",\n",
    "            learning_rate=config.learning_rate,\n",
    "            per_device_train_batch_size=config.per_device_train_batch_size,\n",
    "            num_train_epochs=config.num_train_epochs,\n",
    "            logging_steps=10,\n",
    "            save_strategy=\"epoch\",\n",
    "            load_best_model_at_end=True,\n",
    "            metric_for_best_model=\"f1\",\n",
    "            greater_is_better=True\n",
    "        )\n",
    "\n",
    "        trainer = Trainer(\n",
    "            model=model,\n",
    "            args=training_args,\n",
    "            train_dataset=train_dataset,\n",
    "            eval_dataset=val_dataset,\n",
    "            compute_metrics=compute_metrics\n",
    "        )\n",
    "\n",
    "        trainer.train()\n",
    "\n",
    "        # Save model \n",
    "        model_dir = f\"./models/{wandb.run.name}\"\n",
    "        trainer.save_model(model_dir)\n",
    "        wandb.save(f\"{model_dir}/*\") \n",
    "\n",
    "        del trainer\n",
    "        del model\n",
    "        gc.collect()\n",
    "        torch.cuda.empty_cache()"
   ]
  },
  {
   "cell_type": "code",
   "execution_count": 17,
   "id": "5d02f14a-51f9-4d3f-910d-5df2611e9275",
   "metadata": {
    "scrolled": true
   },
   "outputs": [
    {
     "name": "stderr",
     "output_type": "stream",
     "text": [
      "\u001b[34m\u001b[1mwandb\u001b[0m: Agent Starting Run: isndre95 with config:\n",
      "\u001b[34m\u001b[1mwandb\u001b[0m: \tlearning_rate: 1.185334974456161e-05\n",
      "\u001b[34m\u001b[1mwandb\u001b[0m: \tnum_train_epochs: 3\n",
      "\u001b[34m\u001b[1mwandb\u001b[0m: \tper_device_train_batch_size: 8\n"
     ]
    },
    {
     "data": {
      "text/html": [
       "Tracking run with wandb version 0.19.9"
      ],
      "text/plain": [
       "<IPython.core.display.HTML object>"
      ]
     },
     "metadata": {},
     "output_type": "display_data"
    },
    {
     "data": {
      "text/html": [
       "Run data is saved locally in <code>/Lab_1/wandb/run-20250521_225406-isndre95</code>"
      ],
      "text/plain": [
       "<IPython.core.display.HTML object>"
      ]
     },
     "metadata": {},
     "output_type": "display_data"
    },
    {
     "data": {
      "text/html": [
       "Syncing run <strong><a href='https://wandb.ai/natalia-timokhova-v-lule-university-of-technology/roberta-sweep-lab1/runs/isndre95' target=\"_blank\">decent-sweep-1</a></strong> to <a href='https://wandb.ai/natalia-timokhova-v-lule-university-of-technology/roberta-sweep-lab1' target=\"_blank\">Weights & Biases</a> (<a href='https://wandb.me/developer-guide' target=\"_blank\">docs</a>)<br>Sweep page: <a href='https://wandb.ai/natalia-timokhova-v-lule-university-of-technology/roberta-sweep-lab1/sweeps/wecneufa' target=\"_blank\">https://wandb.ai/natalia-timokhova-v-lule-university-of-technology/roberta-sweep-lab1/sweeps/wecneufa</a>"
      ],
      "text/plain": [
       "<IPython.core.display.HTML object>"
      ]
     },
     "metadata": {},
     "output_type": "display_data"
    },
    {
     "data": {
      "text/html": [
       " View project at <a href='https://wandb.ai/natalia-timokhova-v-lule-university-of-technology/roberta-sweep-lab1' target=\"_blank\">https://wandb.ai/natalia-timokhova-v-lule-university-of-technology/roberta-sweep-lab1</a>"
      ],
      "text/plain": [
       "<IPython.core.display.HTML object>"
      ]
     },
     "metadata": {},
     "output_type": "display_data"
    },
    {
     "data": {
      "text/html": [
       " View sweep at <a href='https://wandb.ai/natalia-timokhova-v-lule-university-of-technology/roberta-sweep-lab1/sweeps/wecneufa' target=\"_blank\">https://wandb.ai/natalia-timokhova-v-lule-university-of-technology/roberta-sweep-lab1/sweeps/wecneufa</a>"
      ],
      "text/plain": [
       "<IPython.core.display.HTML object>"
      ]
     },
     "metadata": {},
     "output_type": "display_data"
    },
    {
     "data": {
      "text/html": [
       " View run at <a href='https://wandb.ai/natalia-timokhova-v-lule-university-of-technology/roberta-sweep-lab1/runs/isndre95' target=\"_blank\">https://wandb.ai/natalia-timokhova-v-lule-university-of-technology/roberta-sweep-lab1/runs/isndre95</a>"
      ],
      "text/plain": [
       "<IPython.core.display.HTML object>"
      ]
     },
     "metadata": {},
     "output_type": "display_data"
    },
    {
     "name": "stderr",
     "output_type": "stream",
     "text": [
      "Some weights of RobertaForSequenceClassification were not initialized from the model checkpoint at roberta-base and are newly initialized: ['classifier.dense.bias', 'classifier.dense.weight', 'classifier.out_proj.bias', 'classifier.out_proj.weight']\n",
      "You should probably TRAIN this model on a down-stream task to be able to use it for predictions and inference.\n",
      "\u001b[34m\u001b[1mwandb\u001b[0m: \u001b[33mWARNING\u001b[0m Config item 'per_device_train_batch_size' was locked by 'sweep' (ignored update).\n",
      "\u001b[34m\u001b[1mwandb\u001b[0m: \u001b[33mWARNING\u001b[0m Config item 'learning_rate' was locked by 'sweep' (ignored update).\n",
      "\u001b[34m\u001b[1mwandb\u001b[0m: \u001b[33mWARNING\u001b[0m Config item 'num_train_epochs' was locked by 'sweep' (ignored update).\n"
     ]
    },
    {
     "data": {
      "text/html": [
       "\n",
       "    <div>\n",
       "      \n",
       "      <progress value='189' max='189' style='width:300px; height:20px; vertical-align: middle;'></progress>\n",
       "      [189/189 01:16, Epoch 3/3]\n",
       "    </div>\n",
       "    <table border=\"1\" class=\"dataframe\">\n",
       "  <thead>\n",
       " <tr style=\"text-align: left;\">\n",
       "      <th>Epoch</th>\n",
       "      <th>Training Loss</th>\n",
       "      <th>Validation Loss</th>\n",
       "      <th>Precision</th>\n",
       "      <th>Accuracy</th>\n",
       "      <th>F1</th>\n",
       "      <th>Recall</th>\n",
       "    </tr>\n",
       "  </thead>\n",
       "  <tbody>\n",
       "    <tr>\n",
       "      <td>1</td>\n",
       "      <td>0.611400</td>\n",
       "      <td>0.418820</td>\n",
       "      <td>0.946809</td>\n",
       "      <td>0.950000</td>\n",
       "      <td>0.946809</td>\n",
       "      <td>0.946809</td>\n",
       "    </tr>\n",
       "    <tr>\n",
       "      <td>2</td>\n",
       "      <td>0.240700</td>\n",
       "      <td>0.257434</td>\n",
       "      <td>0.919192</td>\n",
       "      <td>0.945000</td>\n",
       "      <td>0.943005</td>\n",
       "      <td>0.968085</td>\n",
       "    </tr>\n",
       "    <tr>\n",
       "      <td>3</td>\n",
       "      <td>0.188200</td>\n",
       "      <td>0.256254</td>\n",
       "      <td>0.937500</td>\n",
       "      <td>0.950000</td>\n",
       "      <td>0.947368</td>\n",
       "      <td>0.957447</td>\n",
       "    </tr>\n",
       "  </tbody>\n",
       "</table><p>"
      ],
      "text/plain": [
       "<IPython.core.display.HTML object>"
      ]
     },
     "metadata": {},
     "output_type": "display_data"
    },
    {
     "name": "stderr",
     "output_type": "stream",
     "text": [
      "\u001b[34m\u001b[1mwandb\u001b[0m: \u001b[33mWARNING\u001b[0m Symlinked 3 files into the W&B run directory, call wandb.save again to sync new files.\n"
     ]
    },
    {
     "data": {
      "text/html": [],
      "text/plain": [
       "<IPython.core.display.HTML object>"
      ]
     },
     "metadata": {},
     "output_type": "display_data"
    },
    {
     "data": {
      "text/html": [
       "<br>    <style><br>        .wandb-row {<br>            display: flex;<br>            flex-direction: row;<br>            flex-wrap: wrap;<br>            justify-content: flex-start;<br>            width: 100%;<br>        }<br>        .wandb-col {<br>            display: flex;<br>            flex-direction: column;<br>            flex-basis: 100%;<br>            flex: 1;<br>            padding: 10px;<br>        }<br>    </style><br><div class=\"wandb-row\"><div class=\"wandb-col\"><h3>Run history:</h3><br/><table class=\"wandb\"><tr><td>eval/accuracy</td><td>█▁█</td></tr><tr><td>eval/f1</td><td>▇▁█</td></tr><tr><td>eval/loss</td><td>█▁▁</td></tr><tr><td>eval/precision</td><td>█▁▆</td></tr><tr><td>eval/recall</td><td>▁█▅</td></tr><tr><td>eval/runtime</td><td>▁▅█</td></tr><tr><td>eval/samples_per_second</td><td>█▄▁</td></tr><tr><td>eval/steps_per_second</td><td>█▄▁</td></tr><tr><td>train/epoch</td><td>▁▁▂▂▃▃▃▃▄▄▅▅▅▆▆▆▆▇▇███</td></tr><tr><td>train/global_step</td><td>▁▁▂▂▃▃▃▃▄▄▅▅▅▆▆▆▆▇▇███</td></tr><tr><td>train/grad_norm</td><td>▁▁▁▁▁▁▂▂▃▁▇█▁▁▁▁▁▁</td></tr><tr><td>train/learning_rate</td><td>██▇▇▆▆▆▅▅▄▄▃▃▃▂▂▁▁</td></tr><tr><td>train/loss</td><td>████▇▇▅▃▂▃▃▃▃▂▃▁▁▂</td></tr></table><br/></div><div class=\"wandb-col\"><h3>Run summary:</h3><br/><table class=\"wandb\"><tr><td>eval/accuracy</td><td>0.95</td></tr><tr><td>eval/f1</td><td>0.94737</td></tr><tr><td>eval/loss</td><td>0.25625</td></tr><tr><td>eval/precision</td><td>0.9375</td></tr><tr><td>eval/recall</td><td>0.95745</td></tr><tr><td>eval/runtime</td><td>2.0398</td></tr><tr><td>eval/samples_per_second</td><td>98.05</td></tr><tr><td>eval/steps_per_second</td><td>12.256</td></tr><tr><td>total_flos</td><td>394666583040000.0</td></tr><tr><td>train/epoch</td><td>3</td></tr><tr><td>train/global_step</td><td>189</td></tr><tr><td>train/grad_norm</td><td>0.12638</td></tr><tr><td>train/learning_rate</td><td>0.0</td></tr><tr><td>train/loss</td><td>0.1882</td></tr><tr><td>train_loss</td><td>0.35765</td></tr><tr><td>train_runtime</td><td>77.0513</td></tr><tr><td>train_samples_per_second</td><td>19.468</td></tr><tr><td>train_steps_per_second</td><td>2.453</td></tr></table><br/></div></div>"
      ],
      "text/plain": [
       "<IPython.core.display.HTML object>"
      ]
     },
     "metadata": {},
     "output_type": "display_data"
    },
    {
     "data": {
      "text/html": [
       " View run <strong style=\"color:#cdcd00\">decent-sweep-1</strong> at: <a href='https://wandb.ai/natalia-timokhova-v-lule-university-of-technology/roberta-sweep-lab1/runs/isndre95' target=\"_blank\">https://wandb.ai/natalia-timokhova-v-lule-university-of-technology/roberta-sweep-lab1/runs/isndre95</a><br> View project at: <a href='https://wandb.ai/natalia-timokhova-v-lule-university-of-technology/roberta-sweep-lab1' target=\"_blank\">https://wandb.ai/natalia-timokhova-v-lule-university-of-technology/roberta-sweep-lab1</a><br>Synced 5 W&B file(s), 0 media file(s), 0 artifact file(s) and 3 other file(s)"
      ],
      "text/plain": [
       "<IPython.core.display.HTML object>"
      ]
     },
     "metadata": {},
     "output_type": "display_data"
    },
    {
     "data": {
      "text/html": [
       "Find logs at: <code>./wandb/run-20250521_225406-isndre95/logs</code>"
      ],
      "text/plain": [
       "<IPython.core.display.HTML object>"
      ]
     },
     "metadata": {},
     "output_type": "display_data"
    },
    {
     "name": "stderr",
     "output_type": "stream",
     "text": [
      "\u001b[34m\u001b[1mwandb\u001b[0m: Agent Starting Run: us7ipbia with config:\n",
      "\u001b[34m\u001b[1mwandb\u001b[0m: \tlearning_rate: 4.917464376348869e-05\n",
      "\u001b[34m\u001b[1mwandb\u001b[0m: \tnum_train_epochs: 4\n",
      "\u001b[34m\u001b[1mwandb\u001b[0m: \tper_device_train_batch_size: 8\n"
     ]
    },
    {
     "data": {
      "text/html": [
       "Tracking run with wandb version 0.19.9"
      ],
      "text/plain": [
       "<IPython.core.display.HTML object>"
      ]
     },
     "metadata": {},
     "output_type": "display_data"
    },
    {
     "data": {
      "text/html": [
       "Run data is saved locally in <code>/Lab_1/wandb/run-20250521_225600-us7ipbia</code>"
      ],
      "text/plain": [
       "<IPython.core.display.HTML object>"
      ]
     },
     "metadata": {},
     "output_type": "display_data"
    },
    {
     "data": {
      "text/html": [
       "Syncing run <strong><a href='https://wandb.ai/natalia-timokhova-v-lule-university-of-technology/roberta-sweep-lab1/runs/us7ipbia' target=\"_blank\">clean-sweep-2</a></strong> to <a href='https://wandb.ai/natalia-timokhova-v-lule-university-of-technology/roberta-sweep-lab1' target=\"_blank\">Weights & Biases</a> (<a href='https://wandb.me/developer-guide' target=\"_blank\">docs</a>)<br>Sweep page: <a href='https://wandb.ai/natalia-timokhova-v-lule-university-of-technology/roberta-sweep-lab1/sweeps/wecneufa' target=\"_blank\">https://wandb.ai/natalia-timokhova-v-lule-university-of-technology/roberta-sweep-lab1/sweeps/wecneufa</a>"
      ],
      "text/plain": [
       "<IPython.core.display.HTML object>"
      ]
     },
     "metadata": {},
     "output_type": "display_data"
    },
    {
     "data": {
      "text/html": [
       " View project at <a href='https://wandb.ai/natalia-timokhova-v-lule-university-of-technology/roberta-sweep-lab1' target=\"_blank\">https://wandb.ai/natalia-timokhova-v-lule-university-of-technology/roberta-sweep-lab1</a>"
      ],
      "text/plain": [
       "<IPython.core.display.HTML object>"
      ]
     },
     "metadata": {},
     "output_type": "display_data"
    },
    {
     "data": {
      "text/html": [
       " View sweep at <a href='https://wandb.ai/natalia-timokhova-v-lule-university-of-technology/roberta-sweep-lab1/sweeps/wecneufa' target=\"_blank\">https://wandb.ai/natalia-timokhova-v-lule-university-of-technology/roberta-sweep-lab1/sweeps/wecneufa</a>"
      ],
      "text/plain": [
       "<IPython.core.display.HTML object>"
      ]
     },
     "metadata": {},
     "output_type": "display_data"
    },
    {
     "data": {
      "text/html": [
       " View run at <a href='https://wandb.ai/natalia-timokhova-v-lule-university-of-technology/roberta-sweep-lab1/runs/us7ipbia' target=\"_blank\">https://wandb.ai/natalia-timokhova-v-lule-university-of-technology/roberta-sweep-lab1/runs/us7ipbia</a>"
      ],
      "text/plain": [
       "<IPython.core.display.HTML object>"
      ]
     },
     "metadata": {},
     "output_type": "display_data"
    },
    {
     "name": "stderr",
     "output_type": "stream",
     "text": [
      "Some weights of RobertaForSequenceClassification were not initialized from the model checkpoint at roberta-base and are newly initialized: ['classifier.dense.bias', 'classifier.dense.weight', 'classifier.out_proj.bias', 'classifier.out_proj.weight']\n",
      "You should probably TRAIN this model on a down-stream task to be able to use it for predictions and inference.\n",
      "\u001b[34m\u001b[1mwandb\u001b[0m: \u001b[33mWARNING\u001b[0m Config item 'per_device_train_batch_size' was locked by 'sweep' (ignored update).\n",
      "\u001b[34m\u001b[1mwandb\u001b[0m: \u001b[33mWARNING\u001b[0m Config item 'learning_rate' was locked by 'sweep' (ignored update).\n",
      "\u001b[34m\u001b[1mwandb\u001b[0m: \u001b[33mWARNING\u001b[0m Config item 'num_train_epochs' was locked by 'sweep' (ignored update).\n"
     ]
    },
    {
     "data": {
      "text/html": [
       "\n",
       "    <div>\n",
       "      \n",
       "      <progress value='252' max='252' style='width:300px; height:20px; vertical-align: middle;'></progress>\n",
       "      [252/252 01:43, Epoch 4/4]\n",
       "    </div>\n",
       "    <table border=\"1\" class=\"dataframe\">\n",
       "  <thead>\n",
       " <tr style=\"text-align: left;\">\n",
       "      <th>Epoch</th>\n",
       "      <th>Training Loss</th>\n",
       "      <th>Validation Loss</th>\n",
       "      <th>Precision</th>\n",
       "      <th>Accuracy</th>\n",
       "      <th>F1</th>\n",
       "      <th>Recall</th>\n",
       "    </tr>\n",
       "  </thead>\n",
       "  <tbody>\n",
       "    <tr>\n",
       "      <td>1</td>\n",
       "      <td>0.323200</td>\n",
       "      <td>0.317384</td>\n",
       "      <td>0.926316</td>\n",
       "      <td>0.935000</td>\n",
       "      <td>0.931217</td>\n",
       "      <td>0.936170</td>\n",
       "    </tr>\n",
       "    <tr>\n",
       "      <td>2</td>\n",
       "      <td>0.292700</td>\n",
       "      <td>0.358674</td>\n",
       "      <td>0.871287</td>\n",
       "      <td>0.905000</td>\n",
       "      <td>0.902564</td>\n",
       "      <td>0.936170</td>\n",
       "    </tr>\n",
       "    <tr>\n",
       "      <td>3</td>\n",
       "      <td>0.128200</td>\n",
       "      <td>0.291469</td>\n",
       "      <td>0.977011</td>\n",
       "      <td>0.945000</td>\n",
       "      <td>0.939227</td>\n",
       "      <td>0.904255</td>\n",
       "    </tr>\n",
       "    <tr>\n",
       "      <td>4</td>\n",
       "      <td>0.138500</td>\n",
       "      <td>0.295266</td>\n",
       "      <td>0.936842</td>\n",
       "      <td>0.945000</td>\n",
       "      <td>0.941799</td>\n",
       "      <td>0.946809</td>\n",
       "    </tr>\n",
       "  </tbody>\n",
       "</table><p>"
      ],
      "text/plain": [
       "<IPython.core.display.HTML object>"
      ]
     },
     "metadata": {},
     "output_type": "display_data"
    },
    {
     "name": "stderr",
     "output_type": "stream",
     "text": [
      "\u001b[34m\u001b[1mwandb\u001b[0m: \u001b[33mWARNING\u001b[0m Symlinked 3 files into the W&B run directory, call wandb.save again to sync new files.\n"
     ]
    },
    {
     "data": {
      "text/html": [],
      "text/plain": [
       "<IPython.core.display.HTML object>"
      ]
     },
     "metadata": {},
     "output_type": "display_data"
    },
    {
     "data": {
      "text/html": [
       "<br>    <style><br>        .wandb-row {<br>            display: flex;<br>            flex-direction: row;<br>            flex-wrap: wrap;<br>            justify-content: flex-start;<br>            width: 100%;<br>        }<br>        .wandb-col {<br>            display: flex;<br>            flex-direction: column;<br>            flex-basis: 100%;<br>            flex: 1;<br>            padding: 10px;<br>        }<br>    </style><br><div class=\"wandb-row\"><div class=\"wandb-col\"><h3>Run history:</h3><br/><table class=\"wandb\"><tr><td>eval/accuracy</td><td>▆▁██</td></tr><tr><td>eval/f1</td><td>▆▁██</td></tr><tr><td>eval/loss</td><td>▄█▁▁</td></tr><tr><td>eval/precision</td><td>▅▁█▅</td></tr><tr><td>eval/recall</td><td>▆▆▁█</td></tr><tr><td>eval/runtime</td><td>▁▆▇█</td></tr><tr><td>eval/samples_per_second</td><td>█▃▂▁</td></tr><tr><td>eval/steps_per_second</td><td>█▃▂▁</td></tr><tr><td>train/epoch</td><td>▁▁▂▂▂▂▃▃▃▃▄▄▄▄▄▅▅▅▆▆▆▆▆▇▇▇████</td></tr><tr><td>train/global_step</td><td>▁▁▂▂▂▂▃▃▃▃▄▄▄▄▄▅▅▅▆▆▆▆▆▇▇▇████</td></tr><tr><td>train/grad_norm</td><td>▁▁▁▁▂▁▁▁▁▁▁▁▁▁▁▁▁▁▁▁▁█▁▁▁</td></tr><tr><td>train/learning_rate</td><td>██▇▇▇▇▆▆▆▅▅▅▅▄▄▄▃▃▃▂▂▂▂▁▁</td></tr><tr><td>train/loss</td><td>▇▇▅▄▄▄█▃▃▅▃▃▅▂▄▅▂▂▃▃▁▃▂▂▂</td></tr></table><br/></div><div class=\"wandb-col\"><h3>Run summary:</h3><br/><table class=\"wandb\"><tr><td>eval/accuracy</td><td>0.945</td></tr><tr><td>eval/f1</td><td>0.9418</td></tr><tr><td>eval/loss</td><td>0.29527</td></tr><tr><td>eval/precision</td><td>0.93684</td></tr><tr><td>eval/recall</td><td>0.94681</td></tr><tr><td>eval/runtime</td><td>2.0539</td></tr><tr><td>eval/samples_per_second</td><td>97.377</td></tr><tr><td>eval/steps_per_second</td><td>12.172</td></tr><tr><td>total_flos</td><td>526222110720000.0</td></tr><tr><td>train/epoch</td><td>4</td></tr><tr><td>train/global_step</td><td>252</td></tr><tr><td>train/grad_norm</td><td>0.07304</td></tr><tr><td>train/learning_rate</td><td>0.0</td></tr><tr><td>train/loss</td><td>0.1385</td></tr><tr><td>train_loss</td><td>0.30176</td></tr><tr><td>train_runtime</td><td>103.873</td></tr><tr><td>train_samples_per_second</td><td>19.254</td></tr><tr><td>train_steps_per_second</td><td>2.426</td></tr></table><br/></div></div>"
      ],
      "text/plain": [
       "<IPython.core.display.HTML object>"
      ]
     },
     "metadata": {},
     "output_type": "display_data"
    },
    {
     "data": {
      "text/html": [
       " View run <strong style=\"color:#cdcd00\">clean-sweep-2</strong> at: <a href='https://wandb.ai/natalia-timokhova-v-lule-university-of-technology/roberta-sweep-lab1/runs/us7ipbia' target=\"_blank\">https://wandb.ai/natalia-timokhova-v-lule-university-of-technology/roberta-sweep-lab1/runs/us7ipbia</a><br> View project at: <a href='https://wandb.ai/natalia-timokhova-v-lule-university-of-technology/roberta-sweep-lab1' target=\"_blank\">https://wandb.ai/natalia-timokhova-v-lule-university-of-technology/roberta-sweep-lab1</a><br>Synced 5 W&B file(s), 0 media file(s), 0 artifact file(s) and 3 other file(s)"
      ],
      "text/plain": [
       "<IPython.core.display.HTML object>"
      ]
     },
     "metadata": {},
     "output_type": "display_data"
    },
    {
     "data": {
      "text/html": [
       "Find logs at: <code>./wandb/run-20250521_225600-us7ipbia/logs</code>"
      ],
      "text/plain": [
       "<IPython.core.display.HTML object>"
      ]
     },
     "metadata": {},
     "output_type": "display_data"
    },
    {
     "name": "stderr",
     "output_type": "stream",
     "text": [
      "\u001b[34m\u001b[1mwandb\u001b[0m: Agent Starting Run: 83wbkcwc with config:\n",
      "\u001b[34m\u001b[1mwandb\u001b[0m: \tlearning_rate: 3.096975465549019e-05\n",
      "\u001b[34m\u001b[1mwandb\u001b[0m: \tnum_train_epochs: 3\n",
      "\u001b[34m\u001b[1mwandb\u001b[0m: \tper_device_train_batch_size: 8\n"
     ]
    },
    {
     "data": {
      "text/html": [
       "Tracking run with wandb version 0.19.9"
      ],
      "text/plain": [
       "<IPython.core.display.HTML object>"
      ]
     },
     "metadata": {},
     "output_type": "display_data"
    },
    {
     "data": {
      "text/html": [
       "Run data is saved locally in <code>/Lab_1/wandb/run-20250521_225821-83wbkcwc</code>"
      ],
      "text/plain": [
       "<IPython.core.display.HTML object>"
      ]
     },
     "metadata": {},
     "output_type": "display_data"
    },
    {
     "data": {
      "text/html": [
       "Syncing run <strong><a href='https://wandb.ai/natalia-timokhova-v-lule-university-of-technology/roberta-sweep-lab1/runs/83wbkcwc' target=\"_blank\">smooth-sweep-3</a></strong> to <a href='https://wandb.ai/natalia-timokhova-v-lule-university-of-technology/roberta-sweep-lab1' target=\"_blank\">Weights & Biases</a> (<a href='https://wandb.me/developer-guide' target=\"_blank\">docs</a>)<br>Sweep page: <a href='https://wandb.ai/natalia-timokhova-v-lule-university-of-technology/roberta-sweep-lab1/sweeps/wecneufa' target=\"_blank\">https://wandb.ai/natalia-timokhova-v-lule-university-of-technology/roberta-sweep-lab1/sweeps/wecneufa</a>"
      ],
      "text/plain": [
       "<IPython.core.display.HTML object>"
      ]
     },
     "metadata": {},
     "output_type": "display_data"
    },
    {
     "data": {
      "text/html": [
       " View project at <a href='https://wandb.ai/natalia-timokhova-v-lule-university-of-technology/roberta-sweep-lab1' target=\"_blank\">https://wandb.ai/natalia-timokhova-v-lule-university-of-technology/roberta-sweep-lab1</a>"
      ],
      "text/plain": [
       "<IPython.core.display.HTML object>"
      ]
     },
     "metadata": {},
     "output_type": "display_data"
    },
    {
     "data": {
      "text/html": [
       " View sweep at <a href='https://wandb.ai/natalia-timokhova-v-lule-university-of-technology/roberta-sweep-lab1/sweeps/wecneufa' target=\"_blank\">https://wandb.ai/natalia-timokhova-v-lule-university-of-technology/roberta-sweep-lab1/sweeps/wecneufa</a>"
      ],
      "text/plain": [
       "<IPython.core.display.HTML object>"
      ]
     },
     "metadata": {},
     "output_type": "display_data"
    },
    {
     "data": {
      "text/html": [
       " View run at <a href='https://wandb.ai/natalia-timokhova-v-lule-university-of-technology/roberta-sweep-lab1/runs/83wbkcwc' target=\"_blank\">https://wandb.ai/natalia-timokhova-v-lule-university-of-technology/roberta-sweep-lab1/runs/83wbkcwc</a>"
      ],
      "text/plain": [
       "<IPython.core.display.HTML object>"
      ]
     },
     "metadata": {},
     "output_type": "display_data"
    },
    {
     "name": "stderr",
     "output_type": "stream",
     "text": [
      "Some weights of RobertaForSequenceClassification were not initialized from the model checkpoint at roberta-base and are newly initialized: ['classifier.dense.bias', 'classifier.dense.weight', 'classifier.out_proj.bias', 'classifier.out_proj.weight']\n",
      "You should probably TRAIN this model on a down-stream task to be able to use it for predictions and inference.\n",
      "\u001b[34m\u001b[1mwandb\u001b[0m: \u001b[33mWARNING\u001b[0m Config item 'per_device_train_batch_size' was locked by 'sweep' (ignored update).\n",
      "\u001b[34m\u001b[1mwandb\u001b[0m: \u001b[33mWARNING\u001b[0m Config item 'learning_rate' was locked by 'sweep' (ignored update).\n",
      "\u001b[34m\u001b[1mwandb\u001b[0m: \u001b[33mWARNING\u001b[0m Config item 'num_train_epochs' was locked by 'sweep' (ignored update).\n"
     ]
    },
    {
     "data": {
      "text/html": [
       "\n",
       "    <div>\n",
       "      \n",
       "      <progress value='189' max='189' style='width:300px; height:20px; vertical-align: middle;'></progress>\n",
       "      [189/189 01:17, Epoch 3/3]\n",
       "    </div>\n",
       "    <table border=\"1\" class=\"dataframe\">\n",
       "  <thead>\n",
       " <tr style=\"text-align: left;\">\n",
       "      <th>Epoch</th>\n",
       "      <th>Training Loss</th>\n",
       "      <th>Validation Loss</th>\n",
       "      <th>Precision</th>\n",
       "      <th>Accuracy</th>\n",
       "      <th>F1</th>\n",
       "      <th>Recall</th>\n",
       "    </tr>\n",
       "  </thead>\n",
       "  <tbody>\n",
       "    <tr>\n",
       "      <td>1</td>\n",
       "      <td>0.406900</td>\n",
       "      <td>0.227441</td>\n",
       "      <td>0.928571</td>\n",
       "      <td>0.950000</td>\n",
       "      <td>0.947917</td>\n",
       "      <td>0.968085</td>\n",
       "    </tr>\n",
       "    <tr>\n",
       "      <td>2</td>\n",
       "      <td>0.003200</td>\n",
       "      <td>0.253711</td>\n",
       "      <td>0.957447</td>\n",
       "      <td>0.960000</td>\n",
       "      <td>0.957447</td>\n",
       "      <td>0.957447</td>\n",
       "    </tr>\n",
       "    <tr>\n",
       "      <td>3</td>\n",
       "      <td>0.184600</td>\n",
       "      <td>0.253309</td>\n",
       "      <td>0.957447</td>\n",
       "      <td>0.960000</td>\n",
       "      <td>0.957447</td>\n",
       "      <td>0.957447</td>\n",
       "    </tr>\n",
       "  </tbody>\n",
       "</table><p>"
      ],
      "text/plain": [
       "<IPython.core.display.HTML object>"
      ]
     },
     "metadata": {},
     "output_type": "display_data"
    },
    {
     "name": "stderr",
     "output_type": "stream",
     "text": [
      "\u001b[34m\u001b[1mwandb\u001b[0m: \u001b[33mWARNING\u001b[0m Symlinked 3 files into the W&B run directory, call wandb.save again to sync new files.\n"
     ]
    },
    {
     "data": {
      "text/html": [],
      "text/plain": [
       "<IPython.core.display.HTML object>"
      ]
     },
     "metadata": {},
     "output_type": "display_data"
    },
    {
     "data": {
      "text/html": [
       "<br>    <style><br>        .wandb-row {<br>            display: flex;<br>            flex-direction: row;<br>            flex-wrap: wrap;<br>            justify-content: flex-start;<br>            width: 100%;<br>        }<br>        .wandb-col {<br>            display: flex;<br>            flex-direction: column;<br>            flex-basis: 100%;<br>            flex: 1;<br>            padding: 10px;<br>        }<br>    </style><br><div class=\"wandb-row\"><div class=\"wandb-col\"><h3>Run history:</h3><br/><table class=\"wandb\"><tr><td>eval/accuracy</td><td>▁██</td></tr><tr><td>eval/f1</td><td>▁██</td></tr><tr><td>eval/loss</td><td>▁██</td></tr><tr><td>eval/precision</td><td>▁██</td></tr><tr><td>eval/recall</td><td>█▁▁</td></tr><tr><td>eval/runtime</td><td>▁▇█</td></tr><tr><td>eval/samples_per_second</td><td>█▂▁</td></tr><tr><td>eval/steps_per_second</td><td>█▂▁</td></tr><tr><td>train/epoch</td><td>▁▁▂▂▃▃▃▃▄▄▅▅▅▆▆▆▆▇▇███</td></tr><tr><td>train/global_step</td><td>▁▁▂▂▃▃▃▃▄▄▅▅▅▆▆▆▆▇▇███</td></tr><tr><td>train/grad_norm</td><td>▁▁▁▁▁▁▁▁▁█▃▁▁▁▁▁▁▁</td></tr><tr><td>train/learning_rate</td><td>██▇▇▆▆▆▅▅▄▄▃▃▃▂▂▁▁</td></tr><tr><td>train/loss</td><td>██▆▄▂▅▅▂▃▂▃▁▄▁▂▂▁▃</td></tr></table><br/></div><div class=\"wandb-col\"><h3>Run summary:</h3><br/><table class=\"wandb\"><tr><td>eval/accuracy</td><td>0.96</td></tr><tr><td>eval/f1</td><td>0.95745</td></tr><tr><td>eval/loss</td><td>0.25331</td></tr><tr><td>eval/precision</td><td>0.95745</td></tr><tr><td>eval/recall</td><td>0.95745</td></tr><tr><td>eval/runtime</td><td>2.0519</td></tr><tr><td>eval/samples_per_second</td><td>97.469</td></tr><tr><td>eval/steps_per_second</td><td>12.184</td></tr><tr><td>total_flos</td><td>394666583040000.0</td></tr><tr><td>train/epoch</td><td>3</td></tr><tr><td>train/global_step</td><td>189</td></tr><tr><td>train/grad_norm</td><td>0.06253</td></tr><tr><td>train/learning_rate</td><td>0.0</td></tr><tr><td>train/loss</td><td>0.1846</td></tr><tr><td>train_loss</td><td>0.24117</td></tr><tr><td>train_runtime</td><td>77.9679</td></tr><tr><td>train_samples_per_second</td><td>19.239</td></tr><tr><td>train_steps_per_second</td><td>2.424</td></tr></table><br/></div></div>"
      ],
      "text/plain": [
       "<IPython.core.display.HTML object>"
      ]
     },
     "metadata": {},
     "output_type": "display_data"
    },
    {
     "data": {
      "text/html": [
       " View run <strong style=\"color:#cdcd00\">smooth-sweep-3</strong> at: <a href='https://wandb.ai/natalia-timokhova-v-lule-university-of-technology/roberta-sweep-lab1/runs/83wbkcwc' target=\"_blank\">https://wandb.ai/natalia-timokhova-v-lule-university-of-technology/roberta-sweep-lab1/runs/83wbkcwc</a><br> View project at: <a href='https://wandb.ai/natalia-timokhova-v-lule-university-of-technology/roberta-sweep-lab1' target=\"_blank\">https://wandb.ai/natalia-timokhova-v-lule-university-of-technology/roberta-sweep-lab1</a><br>Synced 5 W&B file(s), 0 media file(s), 0 artifact file(s) and 3 other file(s)"
      ],
      "text/plain": [
       "<IPython.core.display.HTML object>"
      ]
     },
     "metadata": {},
     "output_type": "display_data"
    },
    {
     "data": {
      "text/html": [
       "Find logs at: <code>./wandb/run-20250521_225821-83wbkcwc/logs</code>"
      ],
      "text/plain": [
       "<IPython.core.display.HTML object>"
      ]
     },
     "metadata": {},
     "output_type": "display_data"
    },
    {
     "name": "stderr",
     "output_type": "stream",
     "text": [
      "\u001b[34m\u001b[1mwandb\u001b[0m: Agent Starting Run: cvs0003s with config:\n",
      "\u001b[34m\u001b[1mwandb\u001b[0m: \tlearning_rate: 3.828490382974806e-05\n",
      "\u001b[34m\u001b[1mwandb\u001b[0m: \tnum_train_epochs: 4\n",
      "\u001b[34m\u001b[1mwandb\u001b[0m: \tper_device_train_batch_size: 16\n"
     ]
    },
    {
     "data": {
      "text/html": [
       "Tracking run with wandb version 0.19.9"
      ],
      "text/plain": [
       "<IPython.core.display.HTML object>"
      ]
     },
     "metadata": {},
     "output_type": "display_data"
    },
    {
     "data": {
      "text/html": [
       "Run data is saved locally in <code>/Lab_1/wandb/run-20250521_230015-cvs0003s</code>"
      ],
      "text/plain": [
       "<IPython.core.display.HTML object>"
      ]
     },
     "metadata": {},
     "output_type": "display_data"
    },
    {
     "data": {
      "text/html": [
       "Syncing run <strong><a href='https://wandb.ai/natalia-timokhova-v-lule-university-of-technology/roberta-sweep-lab1/runs/cvs0003s' target=\"_blank\">dashing-sweep-4</a></strong> to <a href='https://wandb.ai/natalia-timokhova-v-lule-university-of-technology/roberta-sweep-lab1' target=\"_blank\">Weights & Biases</a> (<a href='https://wandb.me/developer-guide' target=\"_blank\">docs</a>)<br>Sweep page: <a href='https://wandb.ai/natalia-timokhova-v-lule-university-of-technology/roberta-sweep-lab1/sweeps/wecneufa' target=\"_blank\">https://wandb.ai/natalia-timokhova-v-lule-university-of-technology/roberta-sweep-lab1/sweeps/wecneufa</a>"
      ],
      "text/plain": [
       "<IPython.core.display.HTML object>"
      ]
     },
     "metadata": {},
     "output_type": "display_data"
    },
    {
     "data": {
      "text/html": [
       " View project at <a href='https://wandb.ai/natalia-timokhova-v-lule-university-of-technology/roberta-sweep-lab1' target=\"_blank\">https://wandb.ai/natalia-timokhova-v-lule-university-of-technology/roberta-sweep-lab1</a>"
      ],
      "text/plain": [
       "<IPython.core.display.HTML object>"
      ]
     },
     "metadata": {},
     "output_type": "display_data"
    },
    {
     "data": {
      "text/html": [
       " View sweep at <a href='https://wandb.ai/natalia-timokhova-v-lule-university-of-technology/roberta-sweep-lab1/sweeps/wecneufa' target=\"_blank\">https://wandb.ai/natalia-timokhova-v-lule-university-of-technology/roberta-sweep-lab1/sweeps/wecneufa</a>"
      ],
      "text/plain": [
       "<IPython.core.display.HTML object>"
      ]
     },
     "metadata": {},
     "output_type": "display_data"
    },
    {
     "data": {
      "text/html": [
       " View run at <a href='https://wandb.ai/natalia-timokhova-v-lule-university-of-technology/roberta-sweep-lab1/runs/cvs0003s' target=\"_blank\">https://wandb.ai/natalia-timokhova-v-lule-university-of-technology/roberta-sweep-lab1/runs/cvs0003s</a>"
      ],
      "text/plain": [
       "<IPython.core.display.HTML object>"
      ]
     },
     "metadata": {},
     "output_type": "display_data"
    },
    {
     "name": "stderr",
     "output_type": "stream",
     "text": [
      "Some weights of RobertaForSequenceClassification were not initialized from the model checkpoint at roberta-base and are newly initialized: ['classifier.dense.bias', 'classifier.dense.weight', 'classifier.out_proj.bias', 'classifier.out_proj.weight']\n",
      "You should probably TRAIN this model on a down-stream task to be able to use it for predictions and inference.\n",
      "\u001b[34m\u001b[1mwandb\u001b[0m: \u001b[33mWARNING\u001b[0m Config item 'per_device_train_batch_size' was locked by 'sweep' (ignored update).\n",
      "\u001b[34m\u001b[1mwandb\u001b[0m: \u001b[33mWARNING\u001b[0m Config item 'learning_rate' was locked by 'sweep' (ignored update).\n",
      "\u001b[34m\u001b[1mwandb\u001b[0m: \u001b[33mWARNING\u001b[0m Config item 'num_train_epochs' was locked by 'sweep' (ignored update).\n"
     ]
    },
    {
     "data": {
      "text/html": [
       "\n",
       "    <div>\n",
       "      \n",
       "      <progress value='128' max='128' style='width:300px; height:20px; vertical-align: middle;'></progress>\n",
       "      [128/128 01:38, Epoch 4/4]\n",
       "    </div>\n",
       "    <table border=\"1\" class=\"dataframe\">\n",
       "  <thead>\n",
       " <tr style=\"text-align: left;\">\n",
       "      <th>Epoch</th>\n",
       "      <th>Training Loss</th>\n",
       "      <th>Validation Loss</th>\n",
       "      <th>Precision</th>\n",
       "      <th>Accuracy</th>\n",
       "      <th>F1</th>\n",
       "      <th>Recall</th>\n",
       "    </tr>\n",
       "  </thead>\n",
       "  <tbody>\n",
       "    <tr>\n",
       "      <td>1</td>\n",
       "      <td>0.280200</td>\n",
       "      <td>0.221451</td>\n",
       "      <td>0.945652</td>\n",
       "      <td>0.940000</td>\n",
       "      <td>0.935484</td>\n",
       "      <td>0.925532</td>\n",
       "    </tr>\n",
       "    <tr>\n",
       "      <td>2</td>\n",
       "      <td>0.169800</td>\n",
       "      <td>0.265164</td>\n",
       "      <td>0.872549</td>\n",
       "      <td>0.910000</td>\n",
       "      <td>0.908163</td>\n",
       "      <td>0.946809</td>\n",
       "    </tr>\n",
       "    <tr>\n",
       "      <td>3</td>\n",
       "      <td>0.057000</td>\n",
       "      <td>0.433979</td>\n",
       "      <td>0.875000</td>\n",
       "      <td>0.920000</td>\n",
       "      <td>0.919192</td>\n",
       "      <td>0.968085</td>\n",
       "    </tr>\n",
       "    <tr>\n",
       "      <td>4</td>\n",
       "      <td>0.109000</td>\n",
       "      <td>0.362083</td>\n",
       "      <td>0.883495</td>\n",
       "      <td>0.925000</td>\n",
       "      <td>0.923858</td>\n",
       "      <td>0.968085</td>\n",
       "    </tr>\n",
       "  </tbody>\n",
       "</table><p>"
      ],
      "text/plain": [
       "<IPython.core.display.HTML object>"
      ]
     },
     "metadata": {},
     "output_type": "display_data"
    },
    {
     "name": "stderr",
     "output_type": "stream",
     "text": [
      "\u001b[34m\u001b[1mwandb\u001b[0m: \u001b[33mWARNING\u001b[0m Symlinked 3 files into the W&B run directory, call wandb.save again to sync new files.\n"
     ]
    },
    {
     "data": {
      "text/html": [],
      "text/plain": [
       "<IPython.core.display.HTML object>"
      ]
     },
     "metadata": {},
     "output_type": "display_data"
    },
    {
     "data": {
      "text/html": [
       "<br>    <style><br>        .wandb-row {<br>            display: flex;<br>            flex-direction: row;<br>            flex-wrap: wrap;<br>            justify-content: flex-start;<br>            width: 100%;<br>        }<br>        .wandb-col {<br>            display: flex;<br>            flex-direction: column;<br>            flex-basis: 100%;<br>            flex: 1;<br>            padding: 10px;<br>        }<br>    </style><br><div class=\"wandb-row\"><div class=\"wandb-col\"><h3>Run history:</h3><br/><table class=\"wandb\"><tr><td>eval/accuracy</td><td>█▁▃▅</td></tr><tr><td>eval/f1</td><td>█▁▄▅</td></tr><tr><td>eval/loss</td><td>▁▂█▆</td></tr><tr><td>eval/precision</td><td>█▁▁▂</td></tr><tr><td>eval/recall</td><td>▁▅██</td></tr><tr><td>eval/runtime</td><td>▁▅██</td></tr><tr><td>eval/samples_per_second</td><td>█▄▁▁</td></tr><tr><td>eval/steps_per_second</td><td>█▄▁▁</td></tr><tr><td>train/epoch</td><td>▁▂▂▂▃▃▄▄▅▅▆▆▆▇███</td></tr><tr><td>train/global_step</td><td>▁▂▂▂▃▃▄▄▅▅▆▆▆▇███</td></tr><tr><td>train/grad_norm</td><td>▁▂▁▁▄█▆▆▂▁▁▁</td></tr><tr><td>train/learning_rate</td><td>█▇▇▆▅▅▄▄▃▂▂▁</td></tr><tr><td>train/loss</td><td>█▇▃▃▃▂▄▄▁▃▂▂</td></tr></table><br/></div><div class=\"wandb-col\"><h3>Run summary:</h3><br/><table class=\"wandb\"><tr><td>eval/accuracy</td><td>0.925</td></tr><tr><td>eval/f1</td><td>0.92386</td></tr><tr><td>eval/loss</td><td>0.36208</td></tr><tr><td>eval/precision</td><td>0.8835</td></tr><tr><td>eval/recall</td><td>0.96809</td></tr><tr><td>eval/runtime</td><td>2.0524</td></tr><tr><td>eval/samples_per_second</td><td>97.449</td></tr><tr><td>eval/steps_per_second</td><td>12.181</td></tr><tr><td>total_flos</td><td>526222110720000.0</td></tr><tr><td>train/epoch</td><td>4</td></tr><tr><td>train/global_step</td><td>128</td></tr><tr><td>train/grad_norm</td><td>0.27953</td></tr><tr><td>train/learning_rate</td><td>0.0</td></tr><tr><td>train/loss</td><td>0.109</td></tr><tr><td>train_loss</td><td>0.27538</td></tr><tr><td>train_runtime</td><td>99.3193</td></tr><tr><td>train_samples_per_second</td><td>20.137</td></tr><tr><td>train_steps_per_second</td><td>1.289</td></tr></table><br/></div></div>"
      ],
      "text/plain": [
       "<IPython.core.display.HTML object>"
      ]
     },
     "metadata": {},
     "output_type": "display_data"
    },
    {
     "data": {
      "text/html": [
       " View run <strong style=\"color:#cdcd00\">dashing-sweep-4</strong> at: <a href='https://wandb.ai/natalia-timokhova-v-lule-university-of-technology/roberta-sweep-lab1/runs/cvs0003s' target=\"_blank\">https://wandb.ai/natalia-timokhova-v-lule-university-of-technology/roberta-sweep-lab1/runs/cvs0003s</a><br> View project at: <a href='https://wandb.ai/natalia-timokhova-v-lule-university-of-technology/roberta-sweep-lab1' target=\"_blank\">https://wandb.ai/natalia-timokhova-v-lule-university-of-technology/roberta-sweep-lab1</a><br>Synced 5 W&B file(s), 0 media file(s), 0 artifact file(s) and 3 other file(s)"
      ],
      "text/plain": [
       "<IPython.core.display.HTML object>"
      ]
     },
     "metadata": {},
     "output_type": "display_data"
    },
    {
     "data": {
      "text/html": [
       "Find logs at: <code>./wandb/run-20250521_230015-cvs0003s/logs</code>"
      ],
      "text/plain": [
       "<IPython.core.display.HTML object>"
      ]
     },
     "metadata": {},
     "output_type": "display_data"
    },
    {
     "name": "stderr",
     "output_type": "stream",
     "text": [
      "\u001b[34m\u001b[1mwandb\u001b[0m: Agent Starting Run: 354ggpcy with config:\n",
      "\u001b[34m\u001b[1mwandb\u001b[0m: \tlearning_rate: 2.7507103932419822e-05\n",
      "\u001b[34m\u001b[1mwandb\u001b[0m: \tnum_train_epochs: 4\n",
      "\u001b[34m\u001b[1mwandb\u001b[0m: \tper_device_train_batch_size: 8\n"
     ]
    },
    {
     "data": {
      "text/html": [
       "Tracking run with wandb version 0.19.9"
      ],
      "text/plain": [
       "<IPython.core.display.HTML object>"
      ]
     },
     "metadata": {},
     "output_type": "display_data"
    },
    {
     "data": {
      "text/html": [
       "Run data is saved locally in <code>/Lab_1/wandb/run-20250521_230229-354ggpcy</code>"
      ],
      "text/plain": [
       "<IPython.core.display.HTML object>"
      ]
     },
     "metadata": {},
     "output_type": "display_data"
    },
    {
     "data": {
      "text/html": [
       "Syncing run <strong><a href='https://wandb.ai/natalia-timokhova-v-lule-university-of-technology/roberta-sweep-lab1/runs/354ggpcy' target=\"_blank\">different-sweep-5</a></strong> to <a href='https://wandb.ai/natalia-timokhova-v-lule-university-of-technology/roberta-sweep-lab1' target=\"_blank\">Weights & Biases</a> (<a href='https://wandb.me/developer-guide' target=\"_blank\">docs</a>)<br>Sweep page: <a href='https://wandb.ai/natalia-timokhova-v-lule-university-of-technology/roberta-sweep-lab1/sweeps/wecneufa' target=\"_blank\">https://wandb.ai/natalia-timokhova-v-lule-university-of-technology/roberta-sweep-lab1/sweeps/wecneufa</a>"
      ],
      "text/plain": [
       "<IPython.core.display.HTML object>"
      ]
     },
     "metadata": {},
     "output_type": "display_data"
    },
    {
     "data": {
      "text/html": [
       " View project at <a href='https://wandb.ai/natalia-timokhova-v-lule-university-of-technology/roberta-sweep-lab1' target=\"_blank\">https://wandb.ai/natalia-timokhova-v-lule-university-of-technology/roberta-sweep-lab1</a>"
      ],
      "text/plain": [
       "<IPython.core.display.HTML object>"
      ]
     },
     "metadata": {},
     "output_type": "display_data"
    },
    {
     "data": {
      "text/html": [
       " View sweep at <a href='https://wandb.ai/natalia-timokhova-v-lule-university-of-technology/roberta-sweep-lab1/sweeps/wecneufa' target=\"_blank\">https://wandb.ai/natalia-timokhova-v-lule-university-of-technology/roberta-sweep-lab1/sweeps/wecneufa</a>"
      ],
      "text/plain": [
       "<IPython.core.display.HTML object>"
      ]
     },
     "metadata": {},
     "output_type": "display_data"
    },
    {
     "data": {
      "text/html": [
       " View run at <a href='https://wandb.ai/natalia-timokhova-v-lule-university-of-technology/roberta-sweep-lab1/runs/354ggpcy' target=\"_blank\">https://wandb.ai/natalia-timokhova-v-lule-university-of-technology/roberta-sweep-lab1/runs/354ggpcy</a>"
      ],
      "text/plain": [
       "<IPython.core.display.HTML object>"
      ]
     },
     "metadata": {},
     "output_type": "display_data"
    },
    {
     "name": "stderr",
     "output_type": "stream",
     "text": [
      "Some weights of RobertaForSequenceClassification were not initialized from the model checkpoint at roberta-base and are newly initialized: ['classifier.dense.bias', 'classifier.dense.weight', 'classifier.out_proj.bias', 'classifier.out_proj.weight']\n",
      "You should probably TRAIN this model on a down-stream task to be able to use it for predictions and inference.\n",
      "\u001b[34m\u001b[1mwandb\u001b[0m: \u001b[33mWARNING\u001b[0m Config item 'per_device_train_batch_size' was locked by 'sweep' (ignored update).\n",
      "\u001b[34m\u001b[1mwandb\u001b[0m: \u001b[33mWARNING\u001b[0m Config item 'learning_rate' was locked by 'sweep' (ignored update).\n",
      "\u001b[34m\u001b[1mwandb\u001b[0m: \u001b[33mWARNING\u001b[0m Config item 'num_train_epochs' was locked by 'sweep' (ignored update).\n"
     ]
    },
    {
     "data": {
      "text/html": [
       "\n",
       "    <div>\n",
       "      \n",
       "      <progress value='252' max='252' style='width:300px; height:20px; vertical-align: middle;'></progress>\n",
       "      [252/252 01:43, Epoch 4/4]\n",
       "    </div>\n",
       "    <table border=\"1\" class=\"dataframe\">\n",
       "  <thead>\n",
       " <tr style=\"text-align: left;\">\n",
       "      <th>Epoch</th>\n",
       "      <th>Training Loss</th>\n",
       "      <th>Validation Loss</th>\n",
       "      <th>Precision</th>\n",
       "      <th>Accuracy</th>\n",
       "      <th>F1</th>\n",
       "      <th>Recall</th>\n",
       "    </tr>\n",
       "  </thead>\n",
       "  <tbody>\n",
       "    <tr>\n",
       "      <td>1</td>\n",
       "      <td>0.503800</td>\n",
       "      <td>0.206535</td>\n",
       "      <td>0.956522</td>\n",
       "      <td>0.950000</td>\n",
       "      <td>0.946237</td>\n",
       "      <td>0.936170</td>\n",
       "    </tr>\n",
       "    <tr>\n",
       "      <td>2</td>\n",
       "      <td>0.143100</td>\n",
       "      <td>0.319048</td>\n",
       "      <td>0.918367</td>\n",
       "      <td>0.940000</td>\n",
       "      <td>0.937500</td>\n",
       "      <td>0.957447</td>\n",
       "    </tr>\n",
       "    <tr>\n",
       "      <td>3</td>\n",
       "      <td>0.145600</td>\n",
       "      <td>0.232690</td>\n",
       "      <td>0.947368</td>\n",
       "      <td>0.955000</td>\n",
       "      <td>0.952381</td>\n",
       "      <td>0.957447</td>\n",
       "    </tr>\n",
       "    <tr>\n",
       "      <td>4</td>\n",
       "      <td>0.001100</td>\n",
       "      <td>0.343996</td>\n",
       "      <td>0.918367</td>\n",
       "      <td>0.940000</td>\n",
       "      <td>0.937500</td>\n",
       "      <td>0.957447</td>\n",
       "    </tr>\n",
       "  </tbody>\n",
       "</table><p>"
      ],
      "text/plain": [
       "<IPython.core.display.HTML object>"
      ]
     },
     "metadata": {},
     "output_type": "display_data"
    },
    {
     "name": "stderr",
     "output_type": "stream",
     "text": [
      "\u001b[34m\u001b[1mwandb\u001b[0m: \u001b[33mWARNING\u001b[0m Symlinked 3 files into the W&B run directory, call wandb.save again to sync new files.\n"
     ]
    },
    {
     "data": {
      "text/html": [],
      "text/plain": [
       "<IPython.core.display.HTML object>"
      ]
     },
     "metadata": {},
     "output_type": "display_data"
    },
    {
     "data": {
      "text/html": [
       "<br>    <style><br>        .wandb-row {<br>            display: flex;<br>            flex-direction: row;<br>            flex-wrap: wrap;<br>            justify-content: flex-start;<br>            width: 100%;<br>        }<br>        .wandb-col {<br>            display: flex;<br>            flex-direction: column;<br>            flex-basis: 100%;<br>            flex: 1;<br>            padding: 10px;<br>        }<br>    </style><br><div class=\"wandb-row\"><div class=\"wandb-col\"><h3>Run history:</h3><br/><table class=\"wandb\"><tr><td>eval/accuracy</td><td>▆▁█▁</td></tr><tr><td>eval/f1</td><td>▅▁█▁</td></tr><tr><td>eval/loss</td><td>▁▇▂█</td></tr><tr><td>eval/precision</td><td>█▁▆▁</td></tr><tr><td>eval/recall</td><td>▁███</td></tr><tr><td>eval/runtime</td><td>▁▄██</td></tr><tr><td>eval/samples_per_second</td><td>█▅▁▁</td></tr><tr><td>eval/steps_per_second</td><td>█▅▁▁</td></tr><tr><td>train/epoch</td><td>▁▁▂▂▂▂▃▃▃▃▄▄▄▄▄▅▅▅▆▆▆▆▆▇▇▇████</td></tr><tr><td>train/global_step</td><td>▁▁▂▂▂▂▃▃▃▃▄▄▄▄▄▅▅▅▆▆▆▆▆▇▇▇████</td></tr><tr><td>train/grad_norm</td><td>▁▁▂▁▁▂█▁▂▁▁▁▁▁▄▁▁▁▁▁▁▁▁▁▁</td></tr><tr><td>train/learning_rate</td><td>██▇▇▇▇▆▆▆▅▅▅▄▄▄▄▃▃▃▂▂▂▂▁▁</td></tr><tr><td>train/loss</td><td>██▆▄▂▆▆▂▂▂▂▂▅▂▃▁▁▂▂▂▁▁▁▁▁</td></tr></table><br/></div><div class=\"wandb-col\"><h3>Run summary:</h3><br/><table class=\"wandb\"><tr><td>eval/accuracy</td><td>0.94</td></tr><tr><td>eval/f1</td><td>0.9375</td></tr><tr><td>eval/loss</td><td>0.344</td></tr><tr><td>eval/precision</td><td>0.91837</td></tr><tr><td>eval/recall</td><td>0.95745</td></tr><tr><td>eval/runtime</td><td>2.059</td></tr><tr><td>eval/samples_per_second</td><td>97.135</td></tr><tr><td>eval/steps_per_second</td><td>12.142</td></tr><tr><td>total_flos</td><td>526222110720000.0</td></tr><tr><td>train/epoch</td><td>4</td></tr><tr><td>train/global_step</td><td>252</td></tr><tr><td>train/grad_norm</td><td>0.04586</td></tr><tr><td>train/learning_rate</td><td>0.0</td></tr><tr><td>train/loss</td><td>0.0011</td></tr><tr><td>train_loss</td><td>0.20074</td></tr><tr><td>train_runtime</td><td>104.0579</td></tr><tr><td>train_samples_per_second</td><td>19.22</td></tr><tr><td>train_steps_per_second</td><td>2.422</td></tr></table><br/></div></div>"
      ],
      "text/plain": [
       "<IPython.core.display.HTML object>"
      ]
     },
     "metadata": {},
     "output_type": "display_data"
    },
    {
     "data": {
      "text/html": [
       " View run <strong style=\"color:#cdcd00\">different-sweep-5</strong> at: <a href='https://wandb.ai/natalia-timokhova-v-lule-university-of-technology/roberta-sweep-lab1/runs/354ggpcy' target=\"_blank\">https://wandb.ai/natalia-timokhova-v-lule-university-of-technology/roberta-sweep-lab1/runs/354ggpcy</a><br> View project at: <a href='https://wandb.ai/natalia-timokhova-v-lule-university-of-technology/roberta-sweep-lab1' target=\"_blank\">https://wandb.ai/natalia-timokhova-v-lule-university-of-technology/roberta-sweep-lab1</a><br>Synced 5 W&B file(s), 0 media file(s), 0 artifact file(s) and 3 other file(s)"
      ],
      "text/plain": [
       "<IPython.core.display.HTML object>"
      ]
     },
     "metadata": {},
     "output_type": "display_data"
    },
    {
     "data": {
      "text/html": [
       "Find logs at: <code>./wandb/run-20250521_230229-354ggpcy/logs</code>"
      ],
      "text/plain": [
       "<IPython.core.display.HTML object>"
      ]
     },
     "metadata": {},
     "output_type": "display_data"
    },
    {
     "name": "stderr",
     "output_type": "stream",
     "text": [
      "\u001b[34m\u001b[1mwandb\u001b[0m: Agent Starting Run: agwef8p6 with config:\n",
      "\u001b[34m\u001b[1mwandb\u001b[0m: \tlearning_rate: 2.573010616660904e-05\n",
      "\u001b[34m\u001b[1mwandb\u001b[0m: \tnum_train_epochs: 3\n",
      "\u001b[34m\u001b[1mwandb\u001b[0m: \tper_device_train_batch_size: 16\n"
     ]
    },
    {
     "data": {
      "text/html": [
       "Tracking run with wandb version 0.19.9"
      ],
      "text/plain": [
       "<IPython.core.display.HTML object>"
      ]
     },
     "metadata": {},
     "output_type": "display_data"
    },
    {
     "data": {
      "text/html": [
       "Run data is saved locally in <code>/Lab_1/wandb/run-20250521_230450-agwef8p6</code>"
      ],
      "text/plain": [
       "<IPython.core.display.HTML object>"
      ]
     },
     "metadata": {},
     "output_type": "display_data"
    },
    {
     "data": {
      "text/html": [
       "Syncing run <strong><a href='https://wandb.ai/natalia-timokhova-v-lule-university-of-technology/roberta-sweep-lab1/runs/agwef8p6' target=\"_blank\">wobbly-sweep-6</a></strong> to <a href='https://wandb.ai/natalia-timokhova-v-lule-university-of-technology/roberta-sweep-lab1' target=\"_blank\">Weights & Biases</a> (<a href='https://wandb.me/developer-guide' target=\"_blank\">docs</a>)<br>Sweep page: <a href='https://wandb.ai/natalia-timokhova-v-lule-university-of-technology/roberta-sweep-lab1/sweeps/wecneufa' target=\"_blank\">https://wandb.ai/natalia-timokhova-v-lule-university-of-technology/roberta-sweep-lab1/sweeps/wecneufa</a>"
      ],
      "text/plain": [
       "<IPython.core.display.HTML object>"
      ]
     },
     "metadata": {},
     "output_type": "display_data"
    },
    {
     "data": {
      "text/html": [
       " View project at <a href='https://wandb.ai/natalia-timokhova-v-lule-university-of-technology/roberta-sweep-lab1' target=\"_blank\">https://wandb.ai/natalia-timokhova-v-lule-university-of-technology/roberta-sweep-lab1</a>"
      ],
      "text/plain": [
       "<IPython.core.display.HTML object>"
      ]
     },
     "metadata": {},
     "output_type": "display_data"
    },
    {
     "data": {
      "text/html": [
       " View sweep at <a href='https://wandb.ai/natalia-timokhova-v-lule-university-of-technology/roberta-sweep-lab1/sweeps/wecneufa' target=\"_blank\">https://wandb.ai/natalia-timokhova-v-lule-university-of-technology/roberta-sweep-lab1/sweeps/wecneufa</a>"
      ],
      "text/plain": [
       "<IPython.core.display.HTML object>"
      ]
     },
     "metadata": {},
     "output_type": "display_data"
    },
    {
     "data": {
      "text/html": [
       " View run at <a href='https://wandb.ai/natalia-timokhova-v-lule-university-of-technology/roberta-sweep-lab1/runs/agwef8p6' target=\"_blank\">https://wandb.ai/natalia-timokhova-v-lule-university-of-technology/roberta-sweep-lab1/runs/agwef8p6</a>"
      ],
      "text/plain": [
       "<IPython.core.display.HTML object>"
      ]
     },
     "metadata": {},
     "output_type": "display_data"
    },
    {
     "name": "stderr",
     "output_type": "stream",
     "text": [
      "Some weights of RobertaForSequenceClassification were not initialized from the model checkpoint at roberta-base and are newly initialized: ['classifier.dense.bias', 'classifier.dense.weight', 'classifier.out_proj.bias', 'classifier.out_proj.weight']\n",
      "You should probably TRAIN this model on a down-stream task to be able to use it for predictions and inference.\n",
      "\u001b[34m\u001b[1mwandb\u001b[0m: \u001b[33mWARNING\u001b[0m Config item 'per_device_train_batch_size' was locked by 'sweep' (ignored update).\n",
      "\u001b[34m\u001b[1mwandb\u001b[0m: \u001b[33mWARNING\u001b[0m Config item 'learning_rate' was locked by 'sweep' (ignored update).\n",
      "\u001b[34m\u001b[1mwandb\u001b[0m: \u001b[33mWARNING\u001b[0m Config item 'num_train_epochs' was locked by 'sweep' (ignored update).\n"
     ]
    },
    {
     "data": {
      "text/html": [
       "\n",
       "    <div>\n",
       "      \n",
       "      <progress value='96' max='96' style='width:300px; height:20px; vertical-align: middle;'></progress>\n",
       "      [96/96 01:13, Epoch 3/3]\n",
       "    </div>\n",
       "    <table border=\"1\" class=\"dataframe\">\n",
       "  <thead>\n",
       " <tr style=\"text-align: left;\">\n",
       "      <th>Epoch</th>\n",
       "      <th>Training Loss</th>\n",
       "      <th>Validation Loss</th>\n",
       "      <th>Precision</th>\n",
       "      <th>Accuracy</th>\n",
       "      <th>F1</th>\n",
       "      <th>Recall</th>\n",
       "    </tr>\n",
       "  </thead>\n",
       "  <tbody>\n",
       "    <tr>\n",
       "      <td>1</td>\n",
       "      <td>0.540700</td>\n",
       "      <td>0.203563</td>\n",
       "      <td>0.946237</td>\n",
       "      <td>0.945000</td>\n",
       "      <td>0.941176</td>\n",
       "      <td>0.936170</td>\n",
       "    </tr>\n",
       "    <tr>\n",
       "      <td>2</td>\n",
       "      <td>0.151600</td>\n",
       "      <td>0.172564</td>\n",
       "      <td>0.947368</td>\n",
       "      <td>0.955000</td>\n",
       "      <td>0.952381</td>\n",
       "      <td>0.957447</td>\n",
       "    </tr>\n",
       "    <tr>\n",
       "      <td>3</td>\n",
       "      <td>0.018900</td>\n",
       "      <td>0.209999</td>\n",
       "      <td>0.956989</td>\n",
       "      <td>0.955000</td>\n",
       "      <td>0.951872</td>\n",
       "      <td>0.946809</td>\n",
       "    </tr>\n",
       "  </tbody>\n",
       "</table><p>"
      ],
      "text/plain": [
       "<IPython.core.display.HTML object>"
      ]
     },
     "metadata": {},
     "output_type": "display_data"
    },
    {
     "name": "stderr",
     "output_type": "stream",
     "text": [
      "\u001b[34m\u001b[1mwandb\u001b[0m: \u001b[33mWARNING\u001b[0m Symlinked 3 files into the W&B run directory, call wandb.save again to sync new files.\n"
     ]
    },
    {
     "data": {
      "text/html": [],
      "text/plain": [
       "<IPython.core.display.HTML object>"
      ]
     },
     "metadata": {},
     "output_type": "display_data"
    },
    {
     "data": {
      "text/html": [
       "<br>    <style><br>        .wandb-row {<br>            display: flex;<br>            flex-direction: row;<br>            flex-wrap: wrap;<br>            justify-content: flex-start;<br>            width: 100%;<br>        }<br>        .wandb-col {<br>            display: flex;<br>            flex-direction: column;<br>            flex-basis: 100%;<br>            flex: 1;<br>            padding: 10px;<br>        }<br>    </style><br><div class=\"wandb-row\"><div class=\"wandb-col\"><h3>Run history:</h3><br/><table class=\"wandb\"><tr><td>eval/accuracy</td><td>▁██</td></tr><tr><td>eval/f1</td><td>▁██</td></tr><tr><td>eval/loss</td><td>▇▁█</td></tr><tr><td>eval/precision</td><td>▁▂█</td></tr><tr><td>eval/recall</td><td>▁█▅</td></tr><tr><td>eval/runtime</td><td>▁▅█</td></tr><tr><td>eval/samples_per_second</td><td>█▄▁</td></tr><tr><td>eval/steps_per_second</td><td>█▄▁</td></tr><tr><td>train/epoch</td><td>▁▂▃▃▃▄▅▅▆▇███</td></tr><tr><td>train/global_step</td><td>▁▂▃▃▃▄▅▅▆▇███</td></tr><tr><td>train/grad_norm</td><td>▁▁▁▁▅█▁▂▁</td></tr><tr><td>train/learning_rate</td><td>█▇▆▅▄▄▃▂▁</td></tr><tr><td>train/loss</td><td>██▆▃▃▂▃▂▁</td></tr></table><br/></div><div class=\"wandb-col\"><h3>Run summary:</h3><br/><table class=\"wandb\"><tr><td>eval/accuracy</td><td>0.955</td></tr><tr><td>eval/f1</td><td>0.95187</td></tr><tr><td>eval/loss</td><td>0.21</td></tr><tr><td>eval/precision</td><td>0.95699</td></tr><tr><td>eval/recall</td><td>0.94681</td></tr><tr><td>eval/runtime</td><td>2.0533</td></tr><tr><td>eval/samples_per_second</td><td>97.403</td></tr><tr><td>eval/steps_per_second</td><td>12.175</td></tr><tr><td>total_flos</td><td>394666583040000.0</td></tr><tr><td>train/epoch</td><td>3</td></tr><tr><td>train/global_step</td><td>96</td></tr><tr><td>train/grad_norm</td><td>0.79551</td></tr><tr><td>train/learning_rate</td><td>0.0</td></tr><tr><td>train/loss</td><td>0.0189</td></tr><tr><td>train_loss</td><td>0.3038</td></tr><tr><td>train_runtime</td><td>74.329</td></tr><tr><td>train_samples_per_second</td><td>20.181</td></tr><tr><td>train_steps_per_second</td><td>1.292</td></tr></table><br/></div></div>"
      ],
      "text/plain": [
       "<IPython.core.display.HTML object>"
      ]
     },
     "metadata": {},
     "output_type": "display_data"
    },
    {
     "data": {
      "text/html": [
       " View run <strong style=\"color:#cdcd00\">wobbly-sweep-6</strong> at: <a href='https://wandb.ai/natalia-timokhova-v-lule-university-of-technology/roberta-sweep-lab1/runs/agwef8p6' target=\"_blank\">https://wandb.ai/natalia-timokhova-v-lule-university-of-technology/roberta-sweep-lab1/runs/agwef8p6</a><br> View project at: <a href='https://wandb.ai/natalia-timokhova-v-lule-university-of-technology/roberta-sweep-lab1' target=\"_blank\">https://wandb.ai/natalia-timokhova-v-lule-university-of-technology/roberta-sweep-lab1</a><br>Synced 5 W&B file(s), 0 media file(s), 0 artifact file(s) and 3 other file(s)"
      ],
      "text/plain": [
       "<IPython.core.display.HTML object>"
      ]
     },
     "metadata": {},
     "output_type": "display_data"
    },
    {
     "data": {
      "text/html": [
       "Find logs at: <code>./wandb/run-20250521_230450-agwef8p6/logs</code>"
      ],
      "text/plain": [
       "<IPython.core.display.HTML object>"
      ]
     },
     "metadata": {},
     "output_type": "display_data"
    },
    {
     "name": "stderr",
     "output_type": "stream",
     "text": [
      "\u001b[34m\u001b[1mwandb\u001b[0m: Agent Starting Run: p6sebaro with config:\n",
      "\u001b[34m\u001b[1mwandb\u001b[0m: \tlearning_rate: 2.8874019251693835e-05\n",
      "\u001b[34m\u001b[1mwandb\u001b[0m: \tnum_train_epochs: 4\n",
      "\u001b[34m\u001b[1mwandb\u001b[0m: \tper_device_train_batch_size: 16\n"
     ]
    },
    {
     "data": {
      "text/html": [
       "Tracking run with wandb version 0.19.9"
      ],
      "text/plain": [
       "<IPython.core.display.HTML object>"
      ]
     },
     "metadata": {},
     "output_type": "display_data"
    },
    {
     "data": {
      "text/html": [
       "Run data is saved locally in <code>/Lab_1/wandb/run-20250521_230641-p6sebaro</code>"
      ],
      "text/plain": [
       "<IPython.core.display.HTML object>"
      ]
     },
     "metadata": {},
     "output_type": "display_data"
    },
    {
     "data": {
      "text/html": [
       "Syncing run <strong><a href='https://wandb.ai/natalia-timokhova-v-lule-university-of-technology/roberta-sweep-lab1/runs/p6sebaro' target=\"_blank\">laced-sweep-7</a></strong> to <a href='https://wandb.ai/natalia-timokhova-v-lule-university-of-technology/roberta-sweep-lab1' target=\"_blank\">Weights & Biases</a> (<a href='https://wandb.me/developer-guide' target=\"_blank\">docs</a>)<br>Sweep page: <a href='https://wandb.ai/natalia-timokhova-v-lule-university-of-technology/roberta-sweep-lab1/sweeps/wecneufa' target=\"_blank\">https://wandb.ai/natalia-timokhova-v-lule-university-of-technology/roberta-sweep-lab1/sweeps/wecneufa</a>"
      ],
      "text/plain": [
       "<IPython.core.display.HTML object>"
      ]
     },
     "metadata": {},
     "output_type": "display_data"
    },
    {
     "data": {
      "text/html": [
       " View project at <a href='https://wandb.ai/natalia-timokhova-v-lule-university-of-technology/roberta-sweep-lab1' target=\"_blank\">https://wandb.ai/natalia-timokhova-v-lule-university-of-technology/roberta-sweep-lab1</a>"
      ],
      "text/plain": [
       "<IPython.core.display.HTML object>"
      ]
     },
     "metadata": {},
     "output_type": "display_data"
    },
    {
     "data": {
      "text/html": [
       " View sweep at <a href='https://wandb.ai/natalia-timokhova-v-lule-university-of-technology/roberta-sweep-lab1/sweeps/wecneufa' target=\"_blank\">https://wandb.ai/natalia-timokhova-v-lule-university-of-technology/roberta-sweep-lab1/sweeps/wecneufa</a>"
      ],
      "text/plain": [
       "<IPython.core.display.HTML object>"
      ]
     },
     "metadata": {},
     "output_type": "display_data"
    },
    {
     "data": {
      "text/html": [
       " View run at <a href='https://wandb.ai/natalia-timokhova-v-lule-university-of-technology/roberta-sweep-lab1/runs/p6sebaro' target=\"_blank\">https://wandb.ai/natalia-timokhova-v-lule-university-of-technology/roberta-sweep-lab1/runs/p6sebaro</a>"
      ],
      "text/plain": [
       "<IPython.core.display.HTML object>"
      ]
     },
     "metadata": {},
     "output_type": "display_data"
    },
    {
     "name": "stderr",
     "output_type": "stream",
     "text": [
      "Some weights of RobertaForSequenceClassification were not initialized from the model checkpoint at roberta-base and are newly initialized: ['classifier.dense.bias', 'classifier.dense.weight', 'classifier.out_proj.bias', 'classifier.out_proj.weight']\n",
      "You should probably TRAIN this model on a down-stream task to be able to use it for predictions and inference.\n",
      "\u001b[34m\u001b[1mwandb\u001b[0m: \u001b[33mWARNING\u001b[0m Config item 'per_device_train_batch_size' was locked by 'sweep' (ignored update).\n",
      "\u001b[34m\u001b[1mwandb\u001b[0m: \u001b[33mWARNING\u001b[0m Config item 'learning_rate' was locked by 'sweep' (ignored update).\n",
      "\u001b[34m\u001b[1mwandb\u001b[0m: \u001b[33mWARNING\u001b[0m Config item 'num_train_epochs' was locked by 'sweep' (ignored update).\n"
     ]
    },
    {
     "data": {
      "text/html": [
       "\n",
       "    <div>\n",
       "      \n",
       "      <progress value='128' max='128' style='width:300px; height:20px; vertical-align: middle;'></progress>\n",
       "      [128/128 01:38, Epoch 4/4]\n",
       "    </div>\n",
       "    <table border=\"1\" class=\"dataframe\">\n",
       "  <thead>\n",
       " <tr style=\"text-align: left;\">\n",
       "      <th>Epoch</th>\n",
       "      <th>Training Loss</th>\n",
       "      <th>Validation Loss</th>\n",
       "      <th>Precision</th>\n",
       "      <th>Accuracy</th>\n",
       "      <th>F1</th>\n",
       "      <th>Recall</th>\n",
       "    </tr>\n",
       "  </thead>\n",
       "  <tbody>\n",
       "    <tr>\n",
       "      <td>1</td>\n",
       "      <td>0.376000</td>\n",
       "      <td>0.212822</td>\n",
       "      <td>0.917526</td>\n",
       "      <td>0.935000</td>\n",
       "      <td>0.931937</td>\n",
       "      <td>0.946809</td>\n",
       "    </tr>\n",
       "    <tr>\n",
       "      <td>2</td>\n",
       "      <td>0.171300</td>\n",
       "      <td>0.270593</td>\n",
       "      <td>0.927835</td>\n",
       "      <td>0.945000</td>\n",
       "      <td>0.942408</td>\n",
       "      <td>0.957447</td>\n",
       "    </tr>\n",
       "    <tr>\n",
       "      <td>3</td>\n",
       "      <td>0.092900</td>\n",
       "      <td>0.226091</td>\n",
       "      <td>0.946809</td>\n",
       "      <td>0.950000</td>\n",
       "      <td>0.946809</td>\n",
       "      <td>0.946809</td>\n",
       "    </tr>\n",
       "    <tr>\n",
       "      <td>4</td>\n",
       "      <td>0.060500</td>\n",
       "      <td>0.305337</td>\n",
       "      <td>0.918367</td>\n",
       "      <td>0.940000</td>\n",
       "      <td>0.937500</td>\n",
       "      <td>0.957447</td>\n",
       "    </tr>\n",
       "  </tbody>\n",
       "</table><p>"
      ],
      "text/plain": [
       "<IPython.core.display.HTML object>"
      ]
     },
     "metadata": {},
     "output_type": "display_data"
    },
    {
     "name": "stderr",
     "output_type": "stream",
     "text": [
      "\u001b[34m\u001b[1mwandb\u001b[0m: \u001b[33mWARNING\u001b[0m Symlinked 3 files into the W&B run directory, call wandb.save again to sync new files.\n"
     ]
    },
    {
     "data": {
      "text/html": [],
      "text/plain": [
       "<IPython.core.display.HTML object>"
      ]
     },
     "metadata": {},
     "output_type": "display_data"
    },
    {
     "data": {
      "text/html": [
       "<br>    <style><br>        .wandb-row {<br>            display: flex;<br>            flex-direction: row;<br>            flex-wrap: wrap;<br>            justify-content: flex-start;<br>            width: 100%;<br>        }<br>        .wandb-col {<br>            display: flex;<br>            flex-direction: column;<br>            flex-basis: 100%;<br>            flex: 1;<br>            padding: 10px;<br>        }<br>    </style><br><div class=\"wandb-row\"><div class=\"wandb-col\"><h3>Run history:</h3><br/><table class=\"wandb\"><tr><td>eval/accuracy</td><td>▁▆█▃</td></tr><tr><td>eval/f1</td><td>▁▆█▄</td></tr><tr><td>eval/loss</td><td>▁▅▂█</td></tr><tr><td>eval/precision</td><td>▁▃█▁</td></tr><tr><td>eval/recall</td><td>▁█▁█</td></tr><tr><td>eval/runtime</td><td>▁▅█▇</td></tr><tr><td>eval/samples_per_second</td><td>█▄▁▂</td></tr><tr><td>eval/steps_per_second</td><td>█▄▁▂</td></tr><tr><td>train/epoch</td><td>▁▂▂▂▃▃▄▄▅▅▆▆▆▇███</td></tr><tr><td>train/global_step</td><td>▁▂▂▂▃▃▄▄▅▅▆▆▆▇███</td></tr><tr><td>train/grad_norm</td><td>▁▁▁▁█▂▁▁▄▁▁▁</td></tr><tr><td>train/learning_rate</td><td>█▇▇▆▅▅▄▄▃▂▂▁</td></tr><tr><td>train/loss</td><td>██▅▃▃▂▃▂▂▂▁▁</td></tr></table><br/></div><div class=\"wandb-col\"><h3>Run summary:</h3><br/><table class=\"wandb\"><tr><td>eval/accuracy</td><td>0.94</td></tr><tr><td>eval/f1</td><td>0.9375</td></tr><tr><td>eval/loss</td><td>0.30534</td></tr><tr><td>eval/precision</td><td>0.91837</td></tr><tr><td>eval/recall</td><td>0.95745</td></tr><tr><td>eval/runtime</td><td>2.0504</td></tr><tr><td>eval/samples_per_second</td><td>97.541</td></tr><tr><td>eval/steps_per_second</td><td>12.193</td></tr><tr><td>total_flos</td><td>526222110720000.0</td></tr><tr><td>train/epoch</td><td>4</td></tr><tr><td>train/global_step</td><td>128</td></tr><tr><td>train/grad_norm</td><td>0.08128</td></tr><tr><td>train/learning_rate</td><td>0.0</td></tr><tr><td>train/loss</td><td>0.0605</td></tr><tr><td>train_loss</td><td>0.25566</td></tr><tr><td>train_runtime</td><td>98.9334</td></tr><tr><td>train_samples_per_second</td><td>20.216</td></tr><tr><td>train_steps_per_second</td><td>1.294</td></tr></table><br/></div></div>"
      ],
      "text/plain": [
       "<IPython.core.display.HTML object>"
      ]
     },
     "metadata": {},
     "output_type": "display_data"
    },
    {
     "data": {
      "text/html": [
       " View run <strong style=\"color:#cdcd00\">laced-sweep-7</strong> at: <a href='https://wandb.ai/natalia-timokhova-v-lule-university-of-technology/roberta-sweep-lab1/runs/p6sebaro' target=\"_blank\">https://wandb.ai/natalia-timokhova-v-lule-university-of-technology/roberta-sweep-lab1/runs/p6sebaro</a><br> View project at: <a href='https://wandb.ai/natalia-timokhova-v-lule-university-of-technology/roberta-sweep-lab1' target=\"_blank\">https://wandb.ai/natalia-timokhova-v-lule-university-of-technology/roberta-sweep-lab1</a><br>Synced 5 W&B file(s), 0 media file(s), 0 artifact file(s) and 3 other file(s)"
      ],
      "text/plain": [
       "<IPython.core.display.HTML object>"
      ]
     },
     "metadata": {},
     "output_type": "display_data"
    },
    {
     "data": {
      "text/html": [
       "Find logs at: <code>./wandb/run-20250521_230641-p6sebaro/logs</code>"
      ],
      "text/plain": [
       "<IPython.core.display.HTML object>"
      ]
     },
     "metadata": {},
     "output_type": "display_data"
    },
    {
     "name": "stderr",
     "output_type": "stream",
     "text": [
      "\u001b[34m\u001b[1mwandb\u001b[0m: Agent Starting Run: cu2y0wpj with config:\n",
      "\u001b[34m\u001b[1mwandb\u001b[0m: \tlearning_rate: 2.9973920503521943e-05\n",
      "\u001b[34m\u001b[1mwandb\u001b[0m: \tnum_train_epochs: 3\n",
      "\u001b[34m\u001b[1mwandb\u001b[0m: \tper_device_train_batch_size: 16\n"
     ]
    },
    {
     "data": {
      "text/html": [
       "Tracking run with wandb version 0.19.9"
      ],
      "text/plain": [
       "<IPython.core.display.HTML object>"
      ]
     },
     "metadata": {},
     "output_type": "display_data"
    },
    {
     "data": {
      "text/html": [
       "Run data is saved locally in <code>/Lab_1/wandb/run-20250521_230852-cu2y0wpj</code>"
      ],
      "text/plain": [
       "<IPython.core.display.HTML object>"
      ]
     },
     "metadata": {},
     "output_type": "display_data"
    },
    {
     "data": {
      "text/html": [
       "Syncing run <strong><a href='https://wandb.ai/natalia-timokhova-v-lule-university-of-technology/roberta-sweep-lab1/runs/cu2y0wpj' target=\"_blank\">lemon-sweep-8</a></strong> to <a href='https://wandb.ai/natalia-timokhova-v-lule-university-of-technology/roberta-sweep-lab1' target=\"_blank\">Weights & Biases</a> (<a href='https://wandb.me/developer-guide' target=\"_blank\">docs</a>)<br>Sweep page: <a href='https://wandb.ai/natalia-timokhova-v-lule-university-of-technology/roberta-sweep-lab1/sweeps/wecneufa' target=\"_blank\">https://wandb.ai/natalia-timokhova-v-lule-university-of-technology/roberta-sweep-lab1/sweeps/wecneufa</a>"
      ],
      "text/plain": [
       "<IPython.core.display.HTML object>"
      ]
     },
     "metadata": {},
     "output_type": "display_data"
    },
    {
     "data": {
      "text/html": [
       " View project at <a href='https://wandb.ai/natalia-timokhova-v-lule-university-of-technology/roberta-sweep-lab1' target=\"_blank\">https://wandb.ai/natalia-timokhova-v-lule-university-of-technology/roberta-sweep-lab1</a>"
      ],
      "text/plain": [
       "<IPython.core.display.HTML object>"
      ]
     },
     "metadata": {},
     "output_type": "display_data"
    },
    {
     "data": {
      "text/html": [
       " View sweep at <a href='https://wandb.ai/natalia-timokhova-v-lule-university-of-technology/roberta-sweep-lab1/sweeps/wecneufa' target=\"_blank\">https://wandb.ai/natalia-timokhova-v-lule-university-of-technology/roberta-sweep-lab1/sweeps/wecneufa</a>"
      ],
      "text/plain": [
       "<IPython.core.display.HTML object>"
      ]
     },
     "metadata": {},
     "output_type": "display_data"
    },
    {
     "data": {
      "text/html": [
       " View run at <a href='https://wandb.ai/natalia-timokhova-v-lule-university-of-technology/roberta-sweep-lab1/runs/cu2y0wpj' target=\"_blank\">https://wandb.ai/natalia-timokhova-v-lule-university-of-technology/roberta-sweep-lab1/runs/cu2y0wpj</a>"
      ],
      "text/plain": [
       "<IPython.core.display.HTML object>"
      ]
     },
     "metadata": {},
     "output_type": "display_data"
    },
    {
     "name": "stderr",
     "output_type": "stream",
     "text": [
      "Some weights of RobertaForSequenceClassification were not initialized from the model checkpoint at roberta-base and are newly initialized: ['classifier.dense.bias', 'classifier.dense.weight', 'classifier.out_proj.bias', 'classifier.out_proj.weight']\n",
      "You should probably TRAIN this model on a down-stream task to be able to use it for predictions and inference.\n",
      "\u001b[34m\u001b[1mwandb\u001b[0m: \u001b[33mWARNING\u001b[0m Config item 'per_device_train_batch_size' was locked by 'sweep' (ignored update).\n",
      "\u001b[34m\u001b[1mwandb\u001b[0m: \u001b[33mWARNING\u001b[0m Config item 'learning_rate' was locked by 'sweep' (ignored update).\n",
      "\u001b[34m\u001b[1mwandb\u001b[0m: \u001b[33mWARNING\u001b[0m Config item 'num_train_epochs' was locked by 'sweep' (ignored update).\n"
     ]
    },
    {
     "data": {
      "text/html": [
       "\n",
       "    <div>\n",
       "      \n",
       "      <progress value='96' max='96' style='width:300px; height:20px; vertical-align: middle;'></progress>\n",
       "      [96/96 01:14, Epoch 3/3]\n",
       "    </div>\n",
       "    <table border=\"1\" class=\"dataframe\">\n",
       "  <thead>\n",
       " <tr style=\"text-align: left;\">\n",
       "      <th>Epoch</th>\n",
       "      <th>Training Loss</th>\n",
       "      <th>Validation Loss</th>\n",
       "      <th>Precision</th>\n",
       "      <th>Accuracy</th>\n",
       "      <th>F1</th>\n",
       "      <th>Recall</th>\n",
       "    </tr>\n",
       "  </thead>\n",
       "  <tbody>\n",
       "    <tr>\n",
       "      <td>1</td>\n",
       "      <td>0.447500</td>\n",
       "      <td>0.155788</td>\n",
       "      <td>0.967033</td>\n",
       "      <td>0.955000</td>\n",
       "      <td>0.951351</td>\n",
       "      <td>0.936170</td>\n",
       "    </tr>\n",
       "    <tr>\n",
       "      <td>2</td>\n",
       "      <td>0.101600</td>\n",
       "      <td>0.241730</td>\n",
       "      <td>0.909091</td>\n",
       "      <td>0.935000</td>\n",
       "      <td>0.932642</td>\n",
       "      <td>0.957447</td>\n",
       "    </tr>\n",
       "    <tr>\n",
       "      <td>3</td>\n",
       "      <td>0.007700</td>\n",
       "      <td>0.185561</td>\n",
       "      <td>0.967391</td>\n",
       "      <td>0.960000</td>\n",
       "      <td>0.956989</td>\n",
       "      <td>0.946809</td>\n",
       "    </tr>\n",
       "  </tbody>\n",
       "</table><p>"
      ],
      "text/plain": [
       "<IPython.core.display.HTML object>"
      ]
     },
     "metadata": {},
     "output_type": "display_data"
    },
    {
     "name": "stderr",
     "output_type": "stream",
     "text": [
      "\u001b[34m\u001b[1mwandb\u001b[0m: \u001b[33mWARNING\u001b[0m Symlinked 3 files into the W&B run directory, call wandb.save again to sync new files.\n"
     ]
    },
    {
     "data": {
      "text/html": [],
      "text/plain": [
       "<IPython.core.display.HTML object>"
      ]
     },
     "metadata": {},
     "output_type": "display_data"
    },
    {
     "data": {
      "text/html": [
       "<br>    <style><br>        .wandb-row {<br>            display: flex;<br>            flex-direction: row;<br>            flex-wrap: wrap;<br>            justify-content: flex-start;<br>            width: 100%;<br>        }<br>        .wandb-col {<br>            display: flex;<br>            flex-direction: column;<br>            flex-basis: 100%;<br>            flex: 1;<br>            padding: 10px;<br>        }<br>    </style><br><div class=\"wandb-row\"><div class=\"wandb-col\"><h3>Run history:</h3><br/><table class=\"wandb\"><tr><td>eval/accuracy</td><td>▇▁█</td></tr><tr><td>eval/f1</td><td>▆▁█</td></tr><tr><td>eval/loss</td><td>▁█▃</td></tr><tr><td>eval/precision</td><td>█▁█</td></tr><tr><td>eval/recall</td><td>▁█▅</td></tr><tr><td>eval/runtime</td><td>▁▃█</td></tr><tr><td>eval/samples_per_second</td><td>█▆▁</td></tr><tr><td>eval/steps_per_second</td><td>█▅▁</td></tr><tr><td>train/epoch</td><td>▁▂▃▃▃▄▅▅▆▇███</td></tr><tr><td>train/global_step</td><td>▁▂▃▃▃▄▅▅▆▇███</td></tr><tr><td>train/grad_norm</td><td>▁▁▁▁█▁▁▄▁</td></tr><tr><td>train/learning_rate</td><td>█▇▆▅▄▄▃▂▁</td></tr><tr><td>train/loss</td><td>██▅▃▃▂▃▂▁</td></tr></table><br/></div><div class=\"wandb-col\"><h3>Run summary:</h3><br/><table class=\"wandb\"><tr><td>eval/accuracy</td><td>0.96</td></tr><tr><td>eval/f1</td><td>0.95699</td></tr><tr><td>eval/loss</td><td>0.18556</td></tr><tr><td>eval/precision</td><td>0.96739</td></tr><tr><td>eval/recall</td><td>0.94681</td></tr><tr><td>eval/runtime</td><td>2.0575</td></tr><tr><td>eval/samples_per_second</td><td>97.204</td></tr><tr><td>eval/steps_per_second</td><td>12.151</td></tr><tr><td>total_flos</td><td>394666583040000.0</td></tr><tr><td>train/epoch</td><td>3</td></tr><tr><td>train/global_step</td><td>96</td></tr><tr><td>train/grad_norm</td><td>0.64561</td></tr><tr><td>train/learning_rate</td><td>0.0</td></tr><tr><td>train/loss</td><td>0.0077</td></tr><tr><td>train_loss</td><td>0.28977</td></tr><tr><td>train_runtime</td><td>74.5845</td></tr><tr><td>train_samples_per_second</td><td>20.111</td></tr><tr><td>train_steps_per_second</td><td>1.287</td></tr></table><br/></div></div>"
      ],
      "text/plain": [
       "<IPython.core.display.HTML object>"
      ]
     },
     "metadata": {},
     "output_type": "display_data"
    },
    {
     "data": {
      "text/html": [
       " View run <strong style=\"color:#cdcd00\">lemon-sweep-8</strong> at: <a href='https://wandb.ai/natalia-timokhova-v-lule-university-of-technology/roberta-sweep-lab1/runs/cu2y0wpj' target=\"_blank\">https://wandb.ai/natalia-timokhova-v-lule-university-of-technology/roberta-sweep-lab1/runs/cu2y0wpj</a><br> View project at: <a href='https://wandb.ai/natalia-timokhova-v-lule-university-of-technology/roberta-sweep-lab1' target=\"_blank\">https://wandb.ai/natalia-timokhova-v-lule-university-of-technology/roberta-sweep-lab1</a><br>Synced 5 W&B file(s), 0 media file(s), 0 artifact file(s) and 3 other file(s)"
      ],
      "text/plain": [
       "<IPython.core.display.HTML object>"
      ]
     },
     "metadata": {},
     "output_type": "display_data"
    },
    {
     "data": {
      "text/html": [
       "Find logs at: <code>./wandb/run-20250521_230852-cu2y0wpj/logs</code>"
      ],
      "text/plain": [
       "<IPython.core.display.HTML object>"
      ]
     },
     "metadata": {},
     "output_type": "display_data"
    },
    {
     "name": "stderr",
     "output_type": "stream",
     "text": [
      "\u001b[34m\u001b[1mwandb\u001b[0m: Agent Starting Run: 64smzt72 with config:\n",
      "\u001b[34m\u001b[1mwandb\u001b[0m: \tlearning_rate: 3.393093929925325e-05\n",
      "\u001b[34m\u001b[1mwandb\u001b[0m: \tnum_train_epochs: 3\n",
      "\u001b[34m\u001b[1mwandb\u001b[0m: \tper_device_train_batch_size: 16\n"
     ]
    },
    {
     "data": {
      "text/html": [
       "Tracking run with wandb version 0.19.9"
      ],
      "text/plain": [
       "<IPython.core.display.HTML object>"
      ]
     },
     "metadata": {},
     "output_type": "display_data"
    },
    {
     "data": {
      "text/html": [
       "Run data is saved locally in <code>/Lab_1/wandb/run-20250521_231044-64smzt72</code>"
      ],
      "text/plain": [
       "<IPython.core.display.HTML object>"
      ]
     },
     "metadata": {},
     "output_type": "display_data"
    },
    {
     "data": {
      "text/html": [
       "Syncing run <strong><a href='https://wandb.ai/natalia-timokhova-v-lule-university-of-technology/roberta-sweep-lab1/runs/64smzt72' target=\"_blank\">dandy-sweep-9</a></strong> to <a href='https://wandb.ai/natalia-timokhova-v-lule-university-of-technology/roberta-sweep-lab1' target=\"_blank\">Weights & Biases</a> (<a href='https://wandb.me/developer-guide' target=\"_blank\">docs</a>)<br>Sweep page: <a href='https://wandb.ai/natalia-timokhova-v-lule-university-of-technology/roberta-sweep-lab1/sweeps/wecneufa' target=\"_blank\">https://wandb.ai/natalia-timokhova-v-lule-university-of-technology/roberta-sweep-lab1/sweeps/wecneufa</a>"
      ],
      "text/plain": [
       "<IPython.core.display.HTML object>"
      ]
     },
     "metadata": {},
     "output_type": "display_data"
    },
    {
     "data": {
      "text/html": [
       " View project at <a href='https://wandb.ai/natalia-timokhova-v-lule-university-of-technology/roberta-sweep-lab1' target=\"_blank\">https://wandb.ai/natalia-timokhova-v-lule-university-of-technology/roberta-sweep-lab1</a>"
      ],
      "text/plain": [
       "<IPython.core.display.HTML object>"
      ]
     },
     "metadata": {},
     "output_type": "display_data"
    },
    {
     "data": {
      "text/html": [
       " View sweep at <a href='https://wandb.ai/natalia-timokhova-v-lule-university-of-technology/roberta-sweep-lab1/sweeps/wecneufa' target=\"_blank\">https://wandb.ai/natalia-timokhova-v-lule-university-of-technology/roberta-sweep-lab1/sweeps/wecneufa</a>"
      ],
      "text/plain": [
       "<IPython.core.display.HTML object>"
      ]
     },
     "metadata": {},
     "output_type": "display_data"
    },
    {
     "data": {
      "text/html": [
       " View run at <a href='https://wandb.ai/natalia-timokhova-v-lule-university-of-technology/roberta-sweep-lab1/runs/64smzt72' target=\"_blank\">https://wandb.ai/natalia-timokhova-v-lule-university-of-technology/roberta-sweep-lab1/runs/64smzt72</a>"
      ],
      "text/plain": [
       "<IPython.core.display.HTML object>"
      ]
     },
     "metadata": {},
     "output_type": "display_data"
    },
    {
     "name": "stderr",
     "output_type": "stream",
     "text": [
      "Some weights of RobertaForSequenceClassification were not initialized from the model checkpoint at roberta-base and are newly initialized: ['classifier.dense.bias', 'classifier.dense.weight', 'classifier.out_proj.bias', 'classifier.out_proj.weight']\n",
      "You should probably TRAIN this model on a down-stream task to be able to use it for predictions and inference.\n",
      "\u001b[34m\u001b[1mwandb\u001b[0m: \u001b[33mWARNING\u001b[0m Config item 'per_device_train_batch_size' was locked by 'sweep' (ignored update).\n",
      "\u001b[34m\u001b[1mwandb\u001b[0m: \u001b[33mWARNING\u001b[0m Config item 'learning_rate' was locked by 'sweep' (ignored update).\n",
      "\u001b[34m\u001b[1mwandb\u001b[0m: \u001b[33mWARNING\u001b[0m Config item 'num_train_epochs' was locked by 'sweep' (ignored update).\n"
     ]
    },
    {
     "data": {
      "text/html": [
       "\n",
       "    <div>\n",
       "      \n",
       "      <progress value='96' max='96' style='width:300px; height:20px; vertical-align: middle;'></progress>\n",
       "      [96/96 01:13, Epoch 3/3]\n",
       "    </div>\n",
       "    <table border=\"1\" class=\"dataframe\">\n",
       "  <thead>\n",
       " <tr style=\"text-align: left;\">\n",
       "      <th>Epoch</th>\n",
       "      <th>Training Loss</th>\n",
       "      <th>Validation Loss</th>\n",
       "      <th>Precision</th>\n",
       "      <th>Accuracy</th>\n",
       "      <th>F1</th>\n",
       "      <th>Recall</th>\n",
       "    </tr>\n",
       "  </thead>\n",
       "  <tbody>\n",
       "    <tr>\n",
       "      <td>1</td>\n",
       "      <td>0.350400</td>\n",
       "      <td>0.207008</td>\n",
       "      <td>0.916667</td>\n",
       "      <td>0.930000</td>\n",
       "      <td>0.926316</td>\n",
       "      <td>0.936170</td>\n",
       "    </tr>\n",
       "    <tr>\n",
       "      <td>2</td>\n",
       "      <td>0.188300</td>\n",
       "      <td>0.162124</td>\n",
       "      <td>0.967391</td>\n",
       "      <td>0.960000</td>\n",
       "      <td>0.956989</td>\n",
       "      <td>0.946809</td>\n",
       "    </tr>\n",
       "    <tr>\n",
       "      <td>3</td>\n",
       "      <td>0.053700</td>\n",
       "      <td>0.184019</td>\n",
       "      <td>0.988764</td>\n",
       "      <td>0.965000</td>\n",
       "      <td>0.961749</td>\n",
       "      <td>0.936170</td>\n",
       "    </tr>\n",
       "  </tbody>\n",
       "</table><p>"
      ],
      "text/plain": [
       "<IPython.core.display.HTML object>"
      ]
     },
     "metadata": {},
     "output_type": "display_data"
    },
    {
     "name": "stderr",
     "output_type": "stream",
     "text": [
      "\u001b[34m\u001b[1mwandb\u001b[0m: \u001b[33mWARNING\u001b[0m Symlinked 3 files into the W&B run directory, call wandb.save again to sync new files.\n"
     ]
    },
    {
     "data": {
      "text/html": [],
      "text/plain": [
       "<IPython.core.display.HTML object>"
      ]
     },
     "metadata": {},
     "output_type": "display_data"
    },
    {
     "data": {
      "text/html": [
       "<br>    <style><br>        .wandb-row {<br>            display: flex;<br>            flex-direction: row;<br>            flex-wrap: wrap;<br>            justify-content: flex-start;<br>            width: 100%;<br>        }<br>        .wandb-col {<br>            display: flex;<br>            flex-direction: column;<br>            flex-basis: 100%;<br>            flex: 1;<br>            padding: 10px;<br>        }<br>    </style><br><div class=\"wandb-row\"><div class=\"wandb-col\"><h3>Run history:</h3><br/><table class=\"wandb\"><tr><td>eval/accuracy</td><td>▁▇█</td></tr><tr><td>eval/f1</td><td>▁▇█</td></tr><tr><td>eval/loss</td><td>█▁▄</td></tr><tr><td>eval/precision</td><td>▁▆█</td></tr><tr><td>eval/recall</td><td>▁█▁</td></tr><tr><td>eval/runtime</td><td>▁▅█</td></tr><tr><td>eval/samples_per_second</td><td>█▄▁</td></tr><tr><td>eval/steps_per_second</td><td>█▄▁</td></tr><tr><td>train/epoch</td><td>▁▂▃▃▃▄▅▅▆▇███</td></tr><tr><td>train/global_step</td><td>▁▂▃▃▃▄▅▅▆▇███</td></tr><tr><td>train/grad_norm</td><td>▁▂▁▁▇█▁▃▂</td></tr><tr><td>train/learning_rate</td><td>█▇▆▅▅▄▃▂▁</td></tr><tr><td>train/loss</td><td>█▇▄▂▃▂▃▂▁</td></tr></table><br/></div><div class=\"wandb-col\"><h3>Run summary:</h3><br/><table class=\"wandb\"><tr><td>eval/accuracy</td><td>0.965</td></tr><tr><td>eval/f1</td><td>0.96175</td></tr><tr><td>eval/loss</td><td>0.18402</td></tr><tr><td>eval/precision</td><td>0.98876</td></tr><tr><td>eval/recall</td><td>0.93617</td></tr><tr><td>eval/runtime</td><td>2.0504</td></tr><tr><td>eval/samples_per_second</td><td>97.541</td></tr><tr><td>eval/steps_per_second</td><td>12.193</td></tr><tr><td>total_flos</td><td>394666583040000.0</td></tr><tr><td>train/epoch</td><td>3</td></tr><tr><td>train/global_step</td><td>96</td></tr><tr><td>train/grad_norm</td><td>5.05258</td></tr><tr><td>train/learning_rate</td><td>0.0</td></tr><tr><td>train/loss</td><td>0.0537</td></tr><tr><td>train_loss</td><td>0.28991</td></tr><tr><td>train_runtime</td><td>74.4134</td></tr><tr><td>train_samples_per_second</td><td>20.158</td></tr><tr><td>train_steps_per_second</td><td>1.29</td></tr></table><br/></div></div>"
      ],
      "text/plain": [
       "<IPython.core.display.HTML object>"
      ]
     },
     "metadata": {},
     "output_type": "display_data"
    },
    {
     "data": {
      "text/html": [
       " View run <strong style=\"color:#cdcd00\">dandy-sweep-9</strong> at: <a href='https://wandb.ai/natalia-timokhova-v-lule-university-of-technology/roberta-sweep-lab1/runs/64smzt72' target=\"_blank\">https://wandb.ai/natalia-timokhova-v-lule-university-of-technology/roberta-sweep-lab1/runs/64smzt72</a><br> View project at: <a href='https://wandb.ai/natalia-timokhova-v-lule-university-of-technology/roberta-sweep-lab1' target=\"_blank\">https://wandb.ai/natalia-timokhova-v-lule-university-of-technology/roberta-sweep-lab1</a><br>Synced 5 W&B file(s), 0 media file(s), 0 artifact file(s) and 3 other file(s)"
      ],
      "text/plain": [
       "<IPython.core.display.HTML object>"
      ]
     },
     "metadata": {},
     "output_type": "display_data"
    },
    {
     "data": {
      "text/html": [
       "Find logs at: <code>./wandb/run-20250521_231044-64smzt72/logs</code>"
      ],
      "text/plain": [
       "<IPython.core.display.HTML object>"
      ]
     },
     "metadata": {},
     "output_type": "display_data"
    },
    {
     "name": "stderr",
     "output_type": "stream",
     "text": [
      "\u001b[34m\u001b[1mwandb\u001b[0m: Sweep Agent: Waiting for job.\n",
      "\u001b[34m\u001b[1mwandb\u001b[0m: Job received.\n",
      "\u001b[34m\u001b[1mwandb\u001b[0m: Agent Starting Run: 7pv9zaoi with config:\n",
      "\u001b[34m\u001b[1mwandb\u001b[0m: \tlearning_rate: 3.624221878420868e-05\n",
      "\u001b[34m\u001b[1mwandb\u001b[0m: \tnum_train_epochs: 3\n",
      "\u001b[34m\u001b[1mwandb\u001b[0m: \tper_device_train_batch_size: 16\n"
     ]
    },
    {
     "data": {
      "text/html": [
       "Tracking run with wandb version 0.19.9"
      ],
      "text/plain": [
       "<IPython.core.display.HTML object>"
      ]
     },
     "metadata": {},
     "output_type": "display_data"
    },
    {
     "data": {
      "text/html": [
       "Run data is saved locally in <code>/Lab_1/wandb/run-20250521_231241-7pv9zaoi</code>"
      ],
      "text/plain": [
       "<IPython.core.display.HTML object>"
      ]
     },
     "metadata": {},
     "output_type": "display_data"
    },
    {
     "data": {
      "text/html": [
       "Syncing run <strong><a href='https://wandb.ai/natalia-timokhova-v-lule-university-of-technology/roberta-sweep-lab1/runs/7pv9zaoi' target=\"_blank\">sage-sweep-10</a></strong> to <a href='https://wandb.ai/natalia-timokhova-v-lule-university-of-technology/roberta-sweep-lab1' target=\"_blank\">Weights & Biases</a> (<a href='https://wandb.me/developer-guide' target=\"_blank\">docs</a>)<br>Sweep page: <a href='https://wandb.ai/natalia-timokhova-v-lule-university-of-technology/roberta-sweep-lab1/sweeps/wecneufa' target=\"_blank\">https://wandb.ai/natalia-timokhova-v-lule-university-of-technology/roberta-sweep-lab1/sweeps/wecneufa</a>"
      ],
      "text/plain": [
       "<IPython.core.display.HTML object>"
      ]
     },
     "metadata": {},
     "output_type": "display_data"
    },
    {
     "data": {
      "text/html": [
       " View project at <a href='https://wandb.ai/natalia-timokhova-v-lule-university-of-technology/roberta-sweep-lab1' target=\"_blank\">https://wandb.ai/natalia-timokhova-v-lule-university-of-technology/roberta-sweep-lab1</a>"
      ],
      "text/plain": [
       "<IPython.core.display.HTML object>"
      ]
     },
     "metadata": {},
     "output_type": "display_data"
    },
    {
     "data": {
      "text/html": [
       " View sweep at <a href='https://wandb.ai/natalia-timokhova-v-lule-university-of-technology/roberta-sweep-lab1/sweeps/wecneufa' target=\"_blank\">https://wandb.ai/natalia-timokhova-v-lule-university-of-technology/roberta-sweep-lab1/sweeps/wecneufa</a>"
      ],
      "text/plain": [
       "<IPython.core.display.HTML object>"
      ]
     },
     "metadata": {},
     "output_type": "display_data"
    },
    {
     "data": {
      "text/html": [
       " View run at <a href='https://wandb.ai/natalia-timokhova-v-lule-university-of-technology/roberta-sweep-lab1/runs/7pv9zaoi' target=\"_blank\">https://wandb.ai/natalia-timokhova-v-lule-university-of-technology/roberta-sweep-lab1/runs/7pv9zaoi</a>"
      ],
      "text/plain": [
       "<IPython.core.display.HTML object>"
      ]
     },
     "metadata": {},
     "output_type": "display_data"
    },
    {
     "name": "stderr",
     "output_type": "stream",
     "text": [
      "Some weights of RobertaForSequenceClassification were not initialized from the model checkpoint at roberta-base and are newly initialized: ['classifier.dense.bias', 'classifier.dense.weight', 'classifier.out_proj.bias', 'classifier.out_proj.weight']\n",
      "You should probably TRAIN this model on a down-stream task to be able to use it for predictions and inference.\n",
      "\u001b[34m\u001b[1mwandb\u001b[0m: \u001b[33mWARNING\u001b[0m Config item 'per_device_train_batch_size' was locked by 'sweep' (ignored update).\n",
      "\u001b[34m\u001b[1mwandb\u001b[0m: \u001b[33mWARNING\u001b[0m Config item 'learning_rate' was locked by 'sweep' (ignored update).\n",
      "\u001b[34m\u001b[1mwandb\u001b[0m: \u001b[33mWARNING\u001b[0m Config item 'num_train_epochs' was locked by 'sweep' (ignored update).\n"
     ]
    },
    {
     "data": {
      "text/html": [
       "\n",
       "    <div>\n",
       "      \n",
       "      <progress value='96' max='96' style='width:300px; height:20px; vertical-align: middle;'></progress>\n",
       "      [96/96 01:13, Epoch 3/3]\n",
       "    </div>\n",
       "    <table border=\"1\" class=\"dataframe\">\n",
       "  <thead>\n",
       " <tr style=\"text-align: left;\">\n",
       "      <th>Epoch</th>\n",
       "      <th>Training Loss</th>\n",
       "      <th>Validation Loss</th>\n",
       "      <th>Precision</th>\n",
       "      <th>Accuracy</th>\n",
       "      <th>F1</th>\n",
       "      <th>Recall</th>\n",
       "    </tr>\n",
       "  </thead>\n",
       "  <tbody>\n",
       "    <tr>\n",
       "      <td>1</td>\n",
       "      <td>0.371500</td>\n",
       "      <td>0.192829</td>\n",
       "      <td>0.946237</td>\n",
       "      <td>0.945000</td>\n",
       "      <td>0.941176</td>\n",
       "      <td>0.936170</td>\n",
       "    </tr>\n",
       "    <tr>\n",
       "      <td>2</td>\n",
       "      <td>0.135600</td>\n",
       "      <td>0.263675</td>\n",
       "      <td>0.909091</td>\n",
       "      <td>0.935000</td>\n",
       "      <td>0.932642</td>\n",
       "      <td>0.957447</td>\n",
       "    </tr>\n",
       "    <tr>\n",
       "      <td>3</td>\n",
       "      <td>0.076200</td>\n",
       "      <td>0.152944</td>\n",
       "      <td>0.988889</td>\n",
       "      <td>0.970000</td>\n",
       "      <td>0.967391</td>\n",
       "      <td>0.946809</td>\n",
       "    </tr>\n",
       "  </tbody>\n",
       "</table><p>"
      ],
      "text/plain": [
       "<IPython.core.display.HTML object>"
      ]
     },
     "metadata": {},
     "output_type": "display_data"
    },
    {
     "name": "stderr",
     "output_type": "stream",
     "text": [
      "\u001b[34m\u001b[1mwandb\u001b[0m: \u001b[33mWARNING\u001b[0m Symlinked 3 files into the W&B run directory, call wandb.save again to sync new files.\n"
     ]
    },
    {
     "data": {
      "text/html": [],
      "text/plain": [
       "<IPython.core.display.HTML object>"
      ]
     },
     "metadata": {},
     "output_type": "display_data"
    },
    {
     "data": {
      "text/html": [
       "<br>    <style><br>        .wandb-row {<br>            display: flex;<br>            flex-direction: row;<br>            flex-wrap: wrap;<br>            justify-content: flex-start;<br>            width: 100%;<br>        }<br>        .wandb-col {<br>            display: flex;<br>            flex-direction: column;<br>            flex-basis: 100%;<br>            flex: 1;<br>            padding: 10px;<br>        }<br>    </style><br><div class=\"wandb-row\"><div class=\"wandb-col\"><h3>Run history:</h3><br/><table class=\"wandb\"><tr><td>eval/accuracy</td><td>▃▁█</td></tr><tr><td>eval/f1</td><td>▃▁█</td></tr><tr><td>eval/loss</td><td>▄█▁</td></tr><tr><td>eval/precision</td><td>▄▁█</td></tr><tr><td>eval/recall</td><td>▁█▅</td></tr><tr><td>eval/runtime</td><td>▁▄█</td></tr><tr><td>eval/samples_per_second</td><td>█▅▁</td></tr><tr><td>eval/steps_per_second</td><td>█▅▁</td></tr><tr><td>train/epoch</td><td>▁▂▃▃▃▄▅▅▆▇███</td></tr><tr><td>train/global_step</td><td>▁▂▃▃▃▄▅▅▆▇███</td></tr><tr><td>train/grad_norm</td><td>▂▂▂▁▁▁▁▁█</td></tr><tr><td>train/learning_rate</td><td>█▇▆▅▅▄▃▂▁</td></tr><tr><td>train/loss</td><td>█▇▄▂▂▂▃▂▁</td></tr></table><br/></div><div class=\"wandb-col\"><h3>Run summary:</h3><br/><table class=\"wandb\"><tr><td>eval/accuracy</td><td>0.97</td></tr><tr><td>eval/f1</td><td>0.96739</td></tr><tr><td>eval/loss</td><td>0.15294</td></tr><tr><td>eval/precision</td><td>0.98889</td></tr><tr><td>eval/recall</td><td>0.94681</td></tr><tr><td>eval/runtime</td><td>2.0629</td></tr><tr><td>eval/samples_per_second</td><td>96.953</td></tr><tr><td>eval/steps_per_second</td><td>12.119</td></tr><tr><td>total_flos</td><td>394666583040000.0</td></tr><tr><td>train/epoch</td><td>3</td></tr><tr><td>train/global_step</td><td>96</td></tr><tr><td>train/grad_norm</td><td>17.7867</td></tr><tr><td>train/learning_rate</td><td>0.0</td></tr><tr><td>train/loss</td><td>0.0762</td></tr><tr><td>train_loss</td><td>0.30403</td></tr><tr><td>train_runtime</td><td>74.1018</td></tr><tr><td>train_samples_per_second</td><td>20.242</td></tr><tr><td>train_steps_per_second</td><td>1.296</td></tr></table><br/></div></div>"
      ],
      "text/plain": [
       "<IPython.core.display.HTML object>"
      ]
     },
     "metadata": {},
     "output_type": "display_data"
    },
    {
     "data": {
      "text/html": [
       " View run <strong style=\"color:#cdcd00\">sage-sweep-10</strong> at: <a href='https://wandb.ai/natalia-timokhova-v-lule-university-of-technology/roberta-sweep-lab1/runs/7pv9zaoi' target=\"_blank\">https://wandb.ai/natalia-timokhova-v-lule-university-of-technology/roberta-sweep-lab1/runs/7pv9zaoi</a><br> View project at: <a href='https://wandb.ai/natalia-timokhova-v-lule-university-of-technology/roberta-sweep-lab1' target=\"_blank\">https://wandb.ai/natalia-timokhova-v-lule-university-of-technology/roberta-sweep-lab1</a><br>Synced 5 W&B file(s), 0 media file(s), 0 artifact file(s) and 3 other file(s)"
      ],
      "text/plain": [
       "<IPython.core.display.HTML object>"
      ]
     },
     "metadata": {},
     "output_type": "display_data"
    },
    {
     "data": {
      "text/html": [
       "Find logs at: <code>./wandb/run-20250521_231241-7pv9zaoi/logs</code>"
      ],
      "text/plain": [
       "<IPython.core.display.HTML object>"
      ]
     },
     "metadata": {},
     "output_type": "display_data"
    },
    {
     "name": "stderr",
     "output_type": "stream",
     "text": [
      "\u001b[34m\u001b[1mwandb\u001b[0m: Agent Starting Run: ru7oykiz with config:\n",
      "\u001b[34m\u001b[1mwandb\u001b[0m: \tlearning_rate: 3.911411491292472e-05\n",
      "\u001b[34m\u001b[1mwandb\u001b[0m: \tnum_train_epochs: 3\n",
      "\u001b[34m\u001b[1mwandb\u001b[0m: \tper_device_train_batch_size: 16\n"
     ]
    },
    {
     "data": {
      "text/html": [
       "Tracking run with wandb version 0.19.9"
      ],
      "text/plain": [
       "<IPython.core.display.HTML object>"
      ]
     },
     "metadata": {},
     "output_type": "display_data"
    },
    {
     "data": {
      "text/html": [
       "Run data is saved locally in <code>/Lab_1/wandb/run-20250521_231432-ru7oykiz</code>"
      ],
      "text/plain": [
       "<IPython.core.display.HTML object>"
      ]
     },
     "metadata": {},
     "output_type": "display_data"
    },
    {
     "data": {
      "text/html": [
       "Syncing run <strong><a href='https://wandb.ai/natalia-timokhova-v-lule-university-of-technology/roberta-sweep-lab1/runs/ru7oykiz' target=\"_blank\">effortless-sweep-11</a></strong> to <a href='https://wandb.ai/natalia-timokhova-v-lule-university-of-technology/roberta-sweep-lab1' target=\"_blank\">Weights & Biases</a> (<a href='https://wandb.me/developer-guide' target=\"_blank\">docs</a>)<br>Sweep page: <a href='https://wandb.ai/natalia-timokhova-v-lule-university-of-technology/roberta-sweep-lab1/sweeps/wecneufa' target=\"_blank\">https://wandb.ai/natalia-timokhova-v-lule-university-of-technology/roberta-sweep-lab1/sweeps/wecneufa</a>"
      ],
      "text/plain": [
       "<IPython.core.display.HTML object>"
      ]
     },
     "metadata": {},
     "output_type": "display_data"
    },
    {
     "data": {
      "text/html": [
       " View project at <a href='https://wandb.ai/natalia-timokhova-v-lule-university-of-technology/roberta-sweep-lab1' target=\"_blank\">https://wandb.ai/natalia-timokhova-v-lule-university-of-technology/roberta-sweep-lab1</a>"
      ],
      "text/plain": [
       "<IPython.core.display.HTML object>"
      ]
     },
     "metadata": {},
     "output_type": "display_data"
    },
    {
     "data": {
      "text/html": [
       " View sweep at <a href='https://wandb.ai/natalia-timokhova-v-lule-university-of-technology/roberta-sweep-lab1/sweeps/wecneufa' target=\"_blank\">https://wandb.ai/natalia-timokhova-v-lule-university-of-technology/roberta-sweep-lab1/sweeps/wecneufa</a>"
      ],
      "text/plain": [
       "<IPython.core.display.HTML object>"
      ]
     },
     "metadata": {},
     "output_type": "display_data"
    },
    {
     "data": {
      "text/html": [
       " View run at <a href='https://wandb.ai/natalia-timokhova-v-lule-university-of-technology/roberta-sweep-lab1/runs/ru7oykiz' target=\"_blank\">https://wandb.ai/natalia-timokhova-v-lule-university-of-technology/roberta-sweep-lab1/runs/ru7oykiz</a>"
      ],
      "text/plain": [
       "<IPython.core.display.HTML object>"
      ]
     },
     "metadata": {},
     "output_type": "display_data"
    },
    {
     "name": "stderr",
     "output_type": "stream",
     "text": [
      "Some weights of RobertaForSequenceClassification were not initialized from the model checkpoint at roberta-base and are newly initialized: ['classifier.dense.bias', 'classifier.dense.weight', 'classifier.out_proj.bias', 'classifier.out_proj.weight']\n",
      "You should probably TRAIN this model on a down-stream task to be able to use it for predictions and inference.\n",
      "\u001b[34m\u001b[1mwandb\u001b[0m: \u001b[33mWARNING\u001b[0m Config item 'per_device_train_batch_size' was locked by 'sweep' (ignored update).\n",
      "\u001b[34m\u001b[1mwandb\u001b[0m: \u001b[33mWARNING\u001b[0m Config item 'learning_rate' was locked by 'sweep' (ignored update).\n",
      "\u001b[34m\u001b[1mwandb\u001b[0m: \u001b[33mWARNING\u001b[0m Config item 'num_train_epochs' was locked by 'sweep' (ignored update).\n"
     ]
    },
    {
     "data": {
      "text/html": [
       "\n",
       "    <div>\n",
       "      \n",
       "      <progress value='96' max='96' style='width:300px; height:20px; vertical-align: middle;'></progress>\n",
       "      [96/96 01:13, Epoch 3/3]\n",
       "    </div>\n",
       "    <table border=\"1\" class=\"dataframe\">\n",
       "  <thead>\n",
       " <tr style=\"text-align: left;\">\n",
       "      <th>Epoch</th>\n",
       "      <th>Training Loss</th>\n",
       "      <th>Validation Loss</th>\n",
       "      <th>Precision</th>\n",
       "      <th>Accuracy</th>\n",
       "      <th>F1</th>\n",
       "      <th>Recall</th>\n",
       "    </tr>\n",
       "  </thead>\n",
       "  <tbody>\n",
       "    <tr>\n",
       "      <td>1</td>\n",
       "      <td>0.287900</td>\n",
       "      <td>0.219897</td>\n",
       "      <td>0.945652</td>\n",
       "      <td>0.940000</td>\n",
       "      <td>0.935484</td>\n",
       "      <td>0.925532</td>\n",
       "    </tr>\n",
       "    <tr>\n",
       "      <td>2</td>\n",
       "      <td>0.222600</td>\n",
       "      <td>0.251675</td>\n",
       "      <td>0.917526</td>\n",
       "      <td>0.935000</td>\n",
       "      <td>0.931937</td>\n",
       "      <td>0.946809</td>\n",
       "    </tr>\n",
       "    <tr>\n",
       "      <td>3</td>\n",
       "      <td>0.080500</td>\n",
       "      <td>0.193748</td>\n",
       "      <td>0.946809</td>\n",
       "      <td>0.950000</td>\n",
       "      <td>0.946809</td>\n",
       "      <td>0.946809</td>\n",
       "    </tr>\n",
       "  </tbody>\n",
       "</table><p>"
      ],
      "text/plain": [
       "<IPython.core.display.HTML object>"
      ]
     },
     "metadata": {},
     "output_type": "display_data"
    },
    {
     "name": "stderr",
     "output_type": "stream",
     "text": [
      "\u001b[34m\u001b[1mwandb\u001b[0m: \u001b[33mWARNING\u001b[0m Symlinked 3 files into the W&B run directory, call wandb.save again to sync new files.\n"
     ]
    },
    {
     "data": {
      "text/html": [],
      "text/plain": [
       "<IPython.core.display.HTML object>"
      ]
     },
     "metadata": {},
     "output_type": "display_data"
    },
    {
     "data": {
      "text/html": [
       "<br>    <style><br>        .wandb-row {<br>            display: flex;<br>            flex-direction: row;<br>            flex-wrap: wrap;<br>            justify-content: flex-start;<br>            width: 100%;<br>        }<br>        .wandb-col {<br>            display: flex;<br>            flex-direction: column;<br>            flex-basis: 100%;<br>            flex: 1;<br>            padding: 10px;<br>        }<br>    </style><br><div class=\"wandb-row\"><div class=\"wandb-col\"><h3>Run history:</h3><br/><table class=\"wandb\"><tr><td>eval/accuracy</td><td>▃▁█</td></tr><tr><td>eval/f1</td><td>▃▁█</td></tr><tr><td>eval/loss</td><td>▄█▁</td></tr><tr><td>eval/precision</td><td>█▁█</td></tr><tr><td>eval/recall</td><td>▁██</td></tr><tr><td>eval/runtime</td><td>▁▅█</td></tr><tr><td>eval/samples_per_second</td><td>█▄▁</td></tr><tr><td>eval/steps_per_second</td><td>█▄▁</td></tr><tr><td>train/epoch</td><td>▁▂▃▃▃▄▅▅▆▇███</td></tr><tr><td>train/global_step</td><td>▁▂▃▃▃▄▅▅▆▇███</td></tr><tr><td>train/grad_norm</td><td>▁▁▁▁▁▅█▁▃</td></tr><tr><td>train/learning_rate</td><td>█▇▆▅▄▄▃▂▁</td></tr><tr><td>train/loss</td><td>█▇▃▃▂▃▃▃▁</td></tr></table><br/></div><div class=\"wandb-col\"><h3>Run summary:</h3><br/><table class=\"wandb\"><tr><td>eval/accuracy</td><td>0.95</td></tr><tr><td>eval/f1</td><td>0.94681</td></tr><tr><td>eval/loss</td><td>0.19375</td></tr><tr><td>eval/precision</td><td>0.94681</td></tr><tr><td>eval/recall</td><td>0.94681</td></tr><tr><td>eval/runtime</td><td>2.0535</td></tr><tr><td>eval/samples_per_second</td><td>97.393</td></tr><tr><td>eval/steps_per_second</td><td>12.174</td></tr><tr><td>total_flos</td><td>394666583040000.0</td></tr><tr><td>train/epoch</td><td>3</td></tr><tr><td>train/global_step</td><td>96</td></tr><tr><td>train/grad_norm</td><td>31.06029</td></tr><tr><td>train/learning_rate</td><td>0.0</td></tr><tr><td>train/loss</td><td>0.0805</td></tr><tr><td>train_loss</td><td>0.31042</td></tr><tr><td>train_runtime</td><td>74.1472</td></tr><tr><td>train_samples_per_second</td><td>20.23</td></tr><tr><td>train_steps_per_second</td><td>1.295</td></tr></table><br/></div></div>"
      ],
      "text/plain": [
       "<IPython.core.display.HTML object>"
      ]
     },
     "metadata": {},
     "output_type": "display_data"
    },
    {
     "data": {
      "text/html": [
       " View run <strong style=\"color:#cdcd00\">effortless-sweep-11</strong> at: <a href='https://wandb.ai/natalia-timokhova-v-lule-university-of-technology/roberta-sweep-lab1/runs/ru7oykiz' target=\"_blank\">https://wandb.ai/natalia-timokhova-v-lule-university-of-technology/roberta-sweep-lab1/runs/ru7oykiz</a><br> View project at: <a href='https://wandb.ai/natalia-timokhova-v-lule-university-of-technology/roberta-sweep-lab1' target=\"_blank\">https://wandb.ai/natalia-timokhova-v-lule-university-of-technology/roberta-sweep-lab1</a><br>Synced 5 W&B file(s), 0 media file(s), 0 artifact file(s) and 3 other file(s)"
      ],
      "text/plain": [
       "<IPython.core.display.HTML object>"
      ]
     },
     "metadata": {},
     "output_type": "display_data"
    },
    {
     "data": {
      "text/html": [
       "Find logs at: <code>./wandb/run-20250521_231432-ru7oykiz/logs</code>"
      ],
      "text/plain": [
       "<IPython.core.display.HTML object>"
      ]
     },
     "metadata": {},
     "output_type": "display_data"
    },
    {
     "name": "stderr",
     "output_type": "stream",
     "text": [
      "\u001b[34m\u001b[1mwandb\u001b[0m: Agent Starting Run: 7zeprpaz with config:\n",
      "\u001b[34m\u001b[1mwandb\u001b[0m: \tlearning_rate: 3.346198159898318e-05\n",
      "\u001b[34m\u001b[1mwandb\u001b[0m: \tnum_train_epochs: 4\n",
      "\u001b[34m\u001b[1mwandb\u001b[0m: \tper_device_train_batch_size: 16\n"
     ]
    },
    {
     "data": {
      "text/html": [
       "Tracking run with wandb version 0.19.9"
      ],
      "text/plain": [
       "<IPython.core.display.HTML object>"
      ]
     },
     "metadata": {},
     "output_type": "display_data"
    },
    {
     "data": {
      "text/html": [
       "Run data is saved locally in <code>/Lab_1/wandb/run-20250521_231619-7zeprpaz</code>"
      ],
      "text/plain": [
       "<IPython.core.display.HTML object>"
      ]
     },
     "metadata": {},
     "output_type": "display_data"
    },
    {
     "data": {
      "text/html": [
       "Syncing run <strong><a href='https://wandb.ai/natalia-timokhova-v-lule-university-of-technology/roberta-sweep-lab1/runs/7zeprpaz' target=\"_blank\">chocolate-sweep-12</a></strong> to <a href='https://wandb.ai/natalia-timokhova-v-lule-university-of-technology/roberta-sweep-lab1' target=\"_blank\">Weights & Biases</a> (<a href='https://wandb.me/developer-guide' target=\"_blank\">docs</a>)<br>Sweep page: <a href='https://wandb.ai/natalia-timokhova-v-lule-university-of-technology/roberta-sweep-lab1/sweeps/wecneufa' target=\"_blank\">https://wandb.ai/natalia-timokhova-v-lule-university-of-technology/roberta-sweep-lab1/sweeps/wecneufa</a>"
      ],
      "text/plain": [
       "<IPython.core.display.HTML object>"
      ]
     },
     "metadata": {},
     "output_type": "display_data"
    },
    {
     "data": {
      "text/html": [
       " View project at <a href='https://wandb.ai/natalia-timokhova-v-lule-university-of-technology/roberta-sweep-lab1' target=\"_blank\">https://wandb.ai/natalia-timokhova-v-lule-university-of-technology/roberta-sweep-lab1</a>"
      ],
      "text/plain": [
       "<IPython.core.display.HTML object>"
      ]
     },
     "metadata": {},
     "output_type": "display_data"
    },
    {
     "data": {
      "text/html": [
       " View sweep at <a href='https://wandb.ai/natalia-timokhova-v-lule-university-of-technology/roberta-sweep-lab1/sweeps/wecneufa' target=\"_blank\">https://wandb.ai/natalia-timokhova-v-lule-university-of-technology/roberta-sweep-lab1/sweeps/wecneufa</a>"
      ],
      "text/plain": [
       "<IPython.core.display.HTML object>"
      ]
     },
     "metadata": {},
     "output_type": "display_data"
    },
    {
     "data": {
      "text/html": [
       " View run at <a href='https://wandb.ai/natalia-timokhova-v-lule-university-of-technology/roberta-sweep-lab1/runs/7zeprpaz' target=\"_blank\">https://wandb.ai/natalia-timokhova-v-lule-university-of-technology/roberta-sweep-lab1/runs/7zeprpaz</a>"
      ],
      "text/plain": [
       "<IPython.core.display.HTML object>"
      ]
     },
     "metadata": {},
     "output_type": "display_data"
    },
    {
     "name": "stderr",
     "output_type": "stream",
     "text": [
      "Some weights of RobertaForSequenceClassification were not initialized from the model checkpoint at roberta-base and are newly initialized: ['classifier.dense.bias', 'classifier.dense.weight', 'classifier.out_proj.bias', 'classifier.out_proj.weight']\n",
      "You should probably TRAIN this model on a down-stream task to be able to use it for predictions and inference.\n",
      "\u001b[34m\u001b[1mwandb\u001b[0m: \u001b[33mWARNING\u001b[0m Config item 'per_device_train_batch_size' was locked by 'sweep' (ignored update).\n",
      "\u001b[34m\u001b[1mwandb\u001b[0m: \u001b[33mWARNING\u001b[0m Config item 'learning_rate' was locked by 'sweep' (ignored update).\n",
      "\u001b[34m\u001b[1mwandb\u001b[0m: \u001b[33mWARNING\u001b[0m Config item 'num_train_epochs' was locked by 'sweep' (ignored update).\n"
     ]
    },
    {
     "data": {
      "text/html": [
       "\n",
       "    <div>\n",
       "      \n",
       "      <progress value='128' max='128' style='width:300px; height:20px; vertical-align: middle;'></progress>\n",
       "      [128/128 01:38, Epoch 4/4]\n",
       "    </div>\n",
       "    <table border=\"1\" class=\"dataframe\">\n",
       "  <thead>\n",
       " <tr style=\"text-align: left;\">\n",
       "      <th>Epoch</th>\n",
       "      <th>Training Loss</th>\n",
       "      <th>Validation Loss</th>\n",
       "      <th>Precision</th>\n",
       "      <th>Accuracy</th>\n",
       "      <th>F1</th>\n",
       "      <th>Recall</th>\n",
       "    </tr>\n",
       "  </thead>\n",
       "  <tbody>\n",
       "    <tr>\n",
       "      <td>1</td>\n",
       "      <td>0.336700</td>\n",
       "      <td>0.196118</td>\n",
       "      <td>0.926316</td>\n",
       "      <td>0.935000</td>\n",
       "      <td>0.931217</td>\n",
       "      <td>0.936170</td>\n",
       "    </tr>\n",
       "    <tr>\n",
       "      <td>2</td>\n",
       "      <td>0.262600</td>\n",
       "      <td>0.511779</td>\n",
       "      <td>0.798246</td>\n",
       "      <td>0.870000</td>\n",
       "      <td>0.875000</td>\n",
       "      <td>0.968085</td>\n",
       "    </tr>\n",
       "    <tr>\n",
       "      <td>3</td>\n",
       "      <td>0.070400</td>\n",
       "      <td>0.257730</td>\n",
       "      <td>0.956044</td>\n",
       "      <td>0.945000</td>\n",
       "      <td>0.940541</td>\n",
       "      <td>0.925532</td>\n",
       "    </tr>\n",
       "    <tr>\n",
       "      <td>4</td>\n",
       "      <td>0.117500</td>\n",
       "      <td>0.241323</td>\n",
       "      <td>0.936842</td>\n",
       "      <td>0.945000</td>\n",
       "      <td>0.941799</td>\n",
       "      <td>0.946809</td>\n",
       "    </tr>\n",
       "  </tbody>\n",
       "</table><p>"
      ],
      "text/plain": [
       "<IPython.core.display.HTML object>"
      ]
     },
     "metadata": {},
     "output_type": "display_data"
    },
    {
     "name": "stderr",
     "output_type": "stream",
     "text": [
      "\u001b[34m\u001b[1mwandb\u001b[0m: \u001b[33mWARNING\u001b[0m Symlinked 3 files into the W&B run directory, call wandb.save again to sync new files.\n"
     ]
    },
    {
     "data": {
      "text/html": [],
      "text/plain": [
       "<IPython.core.display.HTML object>"
      ]
     },
     "metadata": {},
     "output_type": "display_data"
    },
    {
     "data": {
      "text/html": [
       "<br>    <style><br>        .wandb-row {<br>            display: flex;<br>            flex-direction: row;<br>            flex-wrap: wrap;<br>            justify-content: flex-start;<br>            width: 100%;<br>        }<br>        .wandb-col {<br>            display: flex;<br>            flex-direction: column;<br>            flex-basis: 100%;<br>            flex: 1;<br>            padding: 10px;<br>        }<br>    </style><br><div class=\"wandb-row\"><div class=\"wandb-col\"><h3>Run history:</h3><br/><table class=\"wandb\"><tr><td>eval/accuracy</td><td>▇▁██</td></tr><tr><td>eval/f1</td><td>▇▁██</td></tr><tr><td>eval/loss</td><td>▁█▂▂</td></tr><tr><td>eval/precision</td><td>▇▁█▇</td></tr><tr><td>eval/recall</td><td>▃█▁▅</td></tr><tr><td>eval/runtime</td><td>▁▆▇█</td></tr><tr><td>eval/samples_per_second</td><td>█▃▂▁</td></tr><tr><td>eval/steps_per_second</td><td>█▃▂▁</td></tr><tr><td>train/epoch</td><td>▁▂▂▂▃▃▄▄▅▅▆▆▆▇███</td></tr><tr><td>train/global_step</td><td>▁▂▂▂▃▃▄▄▅▅▆▆▆▇███</td></tr><tr><td>train/grad_norm</td><td>▁▂▁▁▅▂▆▁█▃▂▁</td></tr><tr><td>train/learning_rate</td><td>█▇▇▆▅▅▄▄▃▂▂▁</td></tr><tr><td>train/loss</td><td>█▇▄▂▃▃▅▃▁▃▁▂</td></tr></table><br/></div><div class=\"wandb-col\"><h3>Run summary:</h3><br/><table class=\"wandb\"><tr><td>eval/accuracy</td><td>0.945</td></tr><tr><td>eval/f1</td><td>0.9418</td></tr><tr><td>eval/loss</td><td>0.24132</td></tr><tr><td>eval/precision</td><td>0.93684</td></tr><tr><td>eval/recall</td><td>0.94681</td></tr><tr><td>eval/runtime</td><td>2.0576</td></tr><tr><td>eval/samples_per_second</td><td>97.199</td></tr><tr><td>eval/steps_per_second</td><td>12.15</td></tr><tr><td>total_flos</td><td>526222110720000.0</td></tr><tr><td>train/epoch</td><td>4</td></tr><tr><td>train/global_step</td><td>128</td></tr><tr><td>train/grad_norm</td><td>0.14846</td></tr><tr><td>train/learning_rate</td><td>0.0</td></tr><tr><td>train/loss</td><td>0.1175</td></tr><tr><td>train_loss</td><td>0.28346</td></tr><tr><td>train_runtime</td><td>99.3789</td></tr><tr><td>train_samples_per_second</td><td>20.125</td></tr><tr><td>train_steps_per_second</td><td>1.288</td></tr></table><br/></div></div>"
      ],
      "text/plain": [
       "<IPython.core.display.HTML object>"
      ]
     },
     "metadata": {},
     "output_type": "display_data"
    },
    {
     "data": {
      "text/html": [
       " View run <strong style=\"color:#cdcd00\">chocolate-sweep-12</strong> at: <a href='https://wandb.ai/natalia-timokhova-v-lule-university-of-technology/roberta-sweep-lab1/runs/7zeprpaz' target=\"_blank\">https://wandb.ai/natalia-timokhova-v-lule-university-of-technology/roberta-sweep-lab1/runs/7zeprpaz</a><br> View project at: <a href='https://wandb.ai/natalia-timokhova-v-lule-university-of-technology/roberta-sweep-lab1' target=\"_blank\">https://wandb.ai/natalia-timokhova-v-lule-university-of-technology/roberta-sweep-lab1</a><br>Synced 5 W&B file(s), 0 media file(s), 0 artifact file(s) and 3 other file(s)"
      ],
      "text/plain": [
       "<IPython.core.display.HTML object>"
      ]
     },
     "metadata": {},
     "output_type": "display_data"
    },
    {
     "data": {
      "text/html": [
       "Find logs at: <code>./wandb/run-20250521_231619-7zeprpaz/logs</code>"
      ],
      "text/plain": [
       "<IPython.core.display.HTML object>"
      ]
     },
     "metadata": {},
     "output_type": "display_data"
    },
    {
     "name": "stderr",
     "output_type": "stream",
     "text": [
      "\u001b[34m\u001b[1mwandb\u001b[0m: Agent Starting Run: hqem671y with config:\n",
      "\u001b[34m\u001b[1mwandb\u001b[0m: \tlearning_rate: 1.6688337174975593e-05\n",
      "\u001b[34m\u001b[1mwandb\u001b[0m: \tnum_train_epochs: 2\n",
      "\u001b[34m\u001b[1mwandb\u001b[0m: \tper_device_train_batch_size: 16\n"
     ]
    },
    {
     "data": {
      "text/html": [
       "Tracking run with wandb version 0.19.9"
      ],
      "text/plain": [
       "<IPython.core.display.HTML object>"
      ]
     },
     "metadata": {},
     "output_type": "display_data"
    },
    {
     "data": {
      "text/html": [
       "Run data is saved locally in <code>/Lab_1/wandb/run-20250521_231833-hqem671y</code>"
      ],
      "text/plain": [
       "<IPython.core.display.HTML object>"
      ]
     },
     "metadata": {},
     "output_type": "display_data"
    },
    {
     "data": {
      "text/html": [
       "Syncing run <strong><a href='https://wandb.ai/natalia-timokhova-v-lule-university-of-technology/roberta-sweep-lab1/runs/hqem671y' target=\"_blank\">restful-sweep-13</a></strong> to <a href='https://wandb.ai/natalia-timokhova-v-lule-university-of-technology/roberta-sweep-lab1' target=\"_blank\">Weights & Biases</a> (<a href='https://wandb.me/developer-guide' target=\"_blank\">docs</a>)<br>Sweep page: <a href='https://wandb.ai/natalia-timokhova-v-lule-university-of-technology/roberta-sweep-lab1/sweeps/wecneufa' target=\"_blank\">https://wandb.ai/natalia-timokhova-v-lule-university-of-technology/roberta-sweep-lab1/sweeps/wecneufa</a>"
      ],
      "text/plain": [
       "<IPython.core.display.HTML object>"
      ]
     },
     "metadata": {},
     "output_type": "display_data"
    },
    {
     "data": {
      "text/html": [
       " View project at <a href='https://wandb.ai/natalia-timokhova-v-lule-university-of-technology/roberta-sweep-lab1' target=\"_blank\">https://wandb.ai/natalia-timokhova-v-lule-university-of-technology/roberta-sweep-lab1</a>"
      ],
      "text/plain": [
       "<IPython.core.display.HTML object>"
      ]
     },
     "metadata": {},
     "output_type": "display_data"
    },
    {
     "data": {
      "text/html": [
       " View sweep at <a href='https://wandb.ai/natalia-timokhova-v-lule-university-of-technology/roberta-sweep-lab1/sweeps/wecneufa' target=\"_blank\">https://wandb.ai/natalia-timokhova-v-lule-university-of-technology/roberta-sweep-lab1/sweeps/wecneufa</a>"
      ],
      "text/plain": [
       "<IPython.core.display.HTML object>"
      ]
     },
     "metadata": {},
     "output_type": "display_data"
    },
    {
     "data": {
      "text/html": [
       " View run at <a href='https://wandb.ai/natalia-timokhova-v-lule-university-of-technology/roberta-sweep-lab1/runs/hqem671y' target=\"_blank\">https://wandb.ai/natalia-timokhova-v-lule-university-of-technology/roberta-sweep-lab1/runs/hqem671y</a>"
      ],
      "text/plain": [
       "<IPython.core.display.HTML object>"
      ]
     },
     "metadata": {},
     "output_type": "display_data"
    },
    {
     "name": "stderr",
     "output_type": "stream",
     "text": [
      "Some weights of RobertaForSequenceClassification were not initialized from the model checkpoint at roberta-base and are newly initialized: ['classifier.dense.bias', 'classifier.dense.weight', 'classifier.out_proj.bias', 'classifier.out_proj.weight']\n",
      "You should probably TRAIN this model on a down-stream task to be able to use it for predictions and inference.\n",
      "\u001b[34m\u001b[1mwandb\u001b[0m: \u001b[33mWARNING\u001b[0m Config item 'per_device_train_batch_size' was locked by 'sweep' (ignored update).\n",
      "\u001b[34m\u001b[1mwandb\u001b[0m: \u001b[33mWARNING\u001b[0m Config item 'learning_rate' was locked by 'sweep' (ignored update).\n",
      "\u001b[34m\u001b[1mwandb\u001b[0m: \u001b[33mWARNING\u001b[0m Config item 'num_train_epochs' was locked by 'sweep' (ignored update).\n"
     ]
    },
    {
     "data": {
      "text/html": [
       "\n",
       "    <div>\n",
       "      \n",
       "      <progress value='64' max='64' style='width:300px; height:20px; vertical-align: middle;'></progress>\n",
       "      [64/64 00:48, Epoch 2/2]\n",
       "    </div>\n",
       "    <table border=\"1\" class=\"dataframe\">\n",
       "  <thead>\n",
       " <tr style=\"text-align: left;\">\n",
       "      <th>Epoch</th>\n",
       "      <th>Training Loss</th>\n",
       "      <th>Validation Loss</th>\n",
       "      <th>Precision</th>\n",
       "      <th>Accuracy</th>\n",
       "      <th>F1</th>\n",
       "      <th>Recall</th>\n",
       "    </tr>\n",
       "  </thead>\n",
       "  <tbody>\n",
       "    <tr>\n",
       "      <td>1</td>\n",
       "      <td>0.680800</td>\n",
       "      <td>0.651525</td>\n",
       "      <td>0.965517</td>\n",
       "      <td>0.665000</td>\n",
       "      <td>0.455285</td>\n",
       "      <td>0.297872</td>\n",
       "    </tr>\n",
       "    <tr>\n",
       "      <td>2</td>\n",
       "      <td>0.346500</td>\n",
       "      <td>0.259068</td>\n",
       "      <td>0.946809</td>\n",
       "      <td>0.950000</td>\n",
       "      <td>0.946809</td>\n",
       "      <td>0.946809</td>\n",
       "    </tr>\n",
       "  </tbody>\n",
       "</table><p>"
      ],
      "text/plain": [
       "<IPython.core.display.HTML object>"
      ]
     },
     "metadata": {},
     "output_type": "display_data"
    },
    {
     "name": "stderr",
     "output_type": "stream",
     "text": [
      "\u001b[34m\u001b[1mwandb\u001b[0m: \u001b[33mWARNING\u001b[0m Symlinked 3 files into the W&B run directory, call wandb.save again to sync new files.\n"
     ]
    },
    {
     "data": {
      "text/html": [],
      "text/plain": [
       "<IPython.core.display.HTML object>"
      ]
     },
     "metadata": {},
     "output_type": "display_data"
    },
    {
     "data": {
      "text/html": [
       "<br>    <style><br>        .wandb-row {<br>            display: flex;<br>            flex-direction: row;<br>            flex-wrap: wrap;<br>            justify-content: flex-start;<br>            width: 100%;<br>        }<br>        .wandb-col {<br>            display: flex;<br>            flex-direction: column;<br>            flex-basis: 100%;<br>            flex: 1;<br>            padding: 10px;<br>        }<br>    </style><br><div class=\"wandb-row\"><div class=\"wandb-col\"><h3>Run history:</h3><br/><table class=\"wandb\"><tr><td>eval/accuracy</td><td>▁█</td></tr><tr><td>eval/f1</td><td>▁█</td></tr><tr><td>eval/loss</td><td>█▁</td></tr><tr><td>eval/precision</td><td>█▁</td></tr><tr><td>eval/recall</td><td>▁█</td></tr><tr><td>eval/runtime</td><td>▁█</td></tr><tr><td>eval/samples_per_second</td><td>█▁</td></tr><tr><td>eval/steps_per_second</td><td>█▁</td></tr><tr><td>train/epoch</td><td>▁▂▄▄▅▆▇██</td></tr><tr><td>train/global_step</td><td>▁▂▄▄▅▆▇██</td></tr><tr><td>train/grad_norm</td><td>▁▁▂█▆▇</td></tr><tr><td>train/learning_rate</td><td>█▇▅▄▂▁</td></tr><tr><td>train/loss</td><td>███▇▄▁</td></tr></table><br/></div><div class=\"wandb-col\"><h3>Run summary:</h3><br/><table class=\"wandb\"><tr><td>eval/accuracy</td><td>0.95</td></tr><tr><td>eval/f1</td><td>0.94681</td></tr><tr><td>eval/loss</td><td>0.25907</td></tr><tr><td>eval/precision</td><td>0.94681</td></tr><tr><td>eval/recall</td><td>0.94681</td></tr><tr><td>eval/runtime</td><td>2.0498</td></tr><tr><td>eval/samples_per_second</td><td>97.569</td></tr><tr><td>eval/steps_per_second</td><td>12.196</td></tr><tr><td>total_flos</td><td>263111055360000.0</td></tr><tr><td>train/epoch</td><td>2</td></tr><tr><td>train/global_step</td><td>64</td></tr><tr><td>train/grad_norm</td><td>7.89129</td></tr><tr><td>train/learning_rate</td><td>0.0</td></tr><tr><td>train/loss</td><td>0.3465</td></tr><tr><td>train_loss</td><td>0.57678</td></tr><tr><td>train_runtime</td><td>49.4097</td></tr><tr><td>train_samples_per_second</td><td>20.239</td></tr><tr><td>train_steps_per_second</td><td>1.295</td></tr></table><br/></div></div>"
      ],
      "text/plain": [
       "<IPython.core.display.HTML object>"
      ]
     },
     "metadata": {},
     "output_type": "display_data"
    },
    {
     "data": {
      "text/html": [
       " View run <strong style=\"color:#cdcd00\">restful-sweep-13</strong> at: <a href='https://wandb.ai/natalia-timokhova-v-lule-university-of-technology/roberta-sweep-lab1/runs/hqem671y' target=\"_blank\">https://wandb.ai/natalia-timokhova-v-lule-university-of-technology/roberta-sweep-lab1/runs/hqem671y</a><br> View project at: <a href='https://wandb.ai/natalia-timokhova-v-lule-university-of-technology/roberta-sweep-lab1' target=\"_blank\">https://wandb.ai/natalia-timokhova-v-lule-university-of-technology/roberta-sweep-lab1</a><br>Synced 5 W&B file(s), 0 media file(s), 0 artifact file(s) and 3 other file(s)"
      ],
      "text/plain": [
       "<IPython.core.display.HTML object>"
      ]
     },
     "metadata": {},
     "output_type": "display_data"
    },
    {
     "data": {
      "text/html": [
       "Find logs at: <code>./wandb/run-20250521_231833-hqem671y/logs</code>"
      ],
      "text/plain": [
       "<IPython.core.display.HTML object>"
      ]
     },
     "metadata": {},
     "output_type": "display_data"
    },
    {
     "name": "stderr",
     "output_type": "stream",
     "text": [
      "\u001b[34m\u001b[1mwandb\u001b[0m: Agent Starting Run: mkqxpq7l with config:\n",
      "\u001b[34m\u001b[1mwandb\u001b[0m: \tlearning_rate: 1.91995917801367e-05\n",
      "\u001b[34m\u001b[1mwandb\u001b[0m: \tnum_train_epochs: 3\n",
      "\u001b[34m\u001b[1mwandb\u001b[0m: \tper_device_train_batch_size: 16\n"
     ]
    },
    {
     "data": {
      "text/html": [
       "Tracking run with wandb version 0.19.9"
      ],
      "text/plain": [
       "<IPython.core.display.HTML object>"
      ]
     },
     "metadata": {},
     "output_type": "display_data"
    },
    {
     "data": {
      "text/html": [
       "Run data is saved locally in <code>/Lab_1/wandb/run-20250521_231957-mkqxpq7l</code>"
      ],
      "text/plain": [
       "<IPython.core.display.HTML object>"
      ]
     },
     "metadata": {},
     "output_type": "display_data"
    },
    {
     "data": {
      "text/html": [
       "Syncing run <strong><a href='https://wandb.ai/natalia-timokhova-v-lule-university-of-technology/roberta-sweep-lab1/runs/mkqxpq7l' target=\"_blank\">honest-sweep-14</a></strong> to <a href='https://wandb.ai/natalia-timokhova-v-lule-university-of-technology/roberta-sweep-lab1' target=\"_blank\">Weights & Biases</a> (<a href='https://wandb.me/developer-guide' target=\"_blank\">docs</a>)<br>Sweep page: <a href='https://wandb.ai/natalia-timokhova-v-lule-university-of-technology/roberta-sweep-lab1/sweeps/wecneufa' target=\"_blank\">https://wandb.ai/natalia-timokhova-v-lule-university-of-technology/roberta-sweep-lab1/sweeps/wecneufa</a>"
      ],
      "text/plain": [
       "<IPython.core.display.HTML object>"
      ]
     },
     "metadata": {},
     "output_type": "display_data"
    },
    {
     "data": {
      "text/html": [
       " View project at <a href='https://wandb.ai/natalia-timokhova-v-lule-university-of-technology/roberta-sweep-lab1' target=\"_blank\">https://wandb.ai/natalia-timokhova-v-lule-university-of-technology/roberta-sweep-lab1</a>"
      ],
      "text/plain": [
       "<IPython.core.display.HTML object>"
      ]
     },
     "metadata": {},
     "output_type": "display_data"
    },
    {
     "data": {
      "text/html": [
       " View sweep at <a href='https://wandb.ai/natalia-timokhova-v-lule-university-of-technology/roberta-sweep-lab1/sweeps/wecneufa' target=\"_blank\">https://wandb.ai/natalia-timokhova-v-lule-university-of-technology/roberta-sweep-lab1/sweeps/wecneufa</a>"
      ],
      "text/plain": [
       "<IPython.core.display.HTML object>"
      ]
     },
     "metadata": {},
     "output_type": "display_data"
    },
    {
     "data": {
      "text/html": [
       " View run at <a href='https://wandb.ai/natalia-timokhova-v-lule-university-of-technology/roberta-sweep-lab1/runs/mkqxpq7l' target=\"_blank\">https://wandb.ai/natalia-timokhova-v-lule-university-of-technology/roberta-sweep-lab1/runs/mkqxpq7l</a>"
      ],
      "text/plain": [
       "<IPython.core.display.HTML object>"
      ]
     },
     "metadata": {},
     "output_type": "display_data"
    },
    {
     "name": "stderr",
     "output_type": "stream",
     "text": [
      "Some weights of RobertaForSequenceClassification were not initialized from the model checkpoint at roberta-base and are newly initialized: ['classifier.dense.bias', 'classifier.dense.weight', 'classifier.out_proj.bias', 'classifier.out_proj.weight']\n",
      "You should probably TRAIN this model on a down-stream task to be able to use it for predictions and inference.\n",
      "\u001b[34m\u001b[1mwandb\u001b[0m: \u001b[33mWARNING\u001b[0m Config item 'per_device_train_batch_size' was locked by 'sweep' (ignored update).\n",
      "\u001b[34m\u001b[1mwandb\u001b[0m: \u001b[33mWARNING\u001b[0m Config item 'learning_rate' was locked by 'sweep' (ignored update).\n",
      "\u001b[34m\u001b[1mwandb\u001b[0m: \u001b[33mWARNING\u001b[0m Config item 'num_train_epochs' was locked by 'sweep' (ignored update).\n"
     ]
    },
    {
     "data": {
      "text/html": [
       "\n",
       "    <div>\n",
       "      \n",
       "      <progress value='96' max='96' style='width:300px; height:20px; vertical-align: middle;'></progress>\n",
       "      [96/96 01:13, Epoch 3/3]\n",
       "    </div>\n",
       "    <table border=\"1\" class=\"dataframe\">\n",
       "  <thead>\n",
       " <tr style=\"text-align: left;\">\n",
       "      <th>Epoch</th>\n",
       "      <th>Training Loss</th>\n",
       "      <th>Validation Loss</th>\n",
       "      <th>Precision</th>\n",
       "      <th>Accuracy</th>\n",
       "      <th>F1</th>\n",
       "      <th>Recall</th>\n",
       "    </tr>\n",
       "  </thead>\n",
       "  <tbody>\n",
       "    <tr>\n",
       "      <td>1</td>\n",
       "      <td>0.538100</td>\n",
       "      <td>0.261417</td>\n",
       "      <td>0.946809</td>\n",
       "      <td>0.950000</td>\n",
       "      <td>0.946809</td>\n",
       "      <td>0.946809</td>\n",
       "    </tr>\n",
       "    <tr>\n",
       "      <td>2</td>\n",
       "      <td>0.131500</td>\n",
       "      <td>0.179155</td>\n",
       "      <td>0.967391</td>\n",
       "      <td>0.960000</td>\n",
       "      <td>0.956989</td>\n",
       "      <td>0.946809</td>\n",
       "    </tr>\n",
       "    <tr>\n",
       "      <td>3</td>\n",
       "      <td>0.069100</td>\n",
       "      <td>0.202900</td>\n",
       "      <td>0.956989</td>\n",
       "      <td>0.955000</td>\n",
       "      <td>0.951872</td>\n",
       "      <td>0.946809</td>\n",
       "    </tr>\n",
       "  </tbody>\n",
       "</table><p>"
      ],
      "text/plain": [
       "<IPython.core.display.HTML object>"
      ]
     },
     "metadata": {},
     "output_type": "display_data"
    },
    {
     "name": "stderr",
     "output_type": "stream",
     "text": [
      "\u001b[34m\u001b[1mwandb\u001b[0m: \u001b[33mWARNING\u001b[0m Symlinked 3 files into the W&B run directory, call wandb.save again to sync new files.\n"
     ]
    },
    {
     "data": {
      "text/html": [],
      "text/plain": [
       "<IPython.core.display.HTML object>"
      ]
     },
     "metadata": {},
     "output_type": "display_data"
    },
    {
     "data": {
      "text/html": [
       "<br>    <style><br>        .wandb-row {<br>            display: flex;<br>            flex-direction: row;<br>            flex-wrap: wrap;<br>            justify-content: flex-start;<br>            width: 100%;<br>        }<br>        .wandb-col {<br>            display: flex;<br>            flex-direction: column;<br>            flex-basis: 100%;<br>            flex: 1;<br>            padding: 10px;<br>        }<br>    </style><br><div class=\"wandb-row\"><div class=\"wandb-col\"><h3>Run history:</h3><br/><table class=\"wandb\"><tr><td>eval/accuracy</td><td>▁█▅</td></tr><tr><td>eval/f1</td><td>▁█▄</td></tr><tr><td>eval/loss</td><td>█▁▃</td></tr><tr><td>eval/precision</td><td>▁█▄</td></tr><tr><td>eval/recall</td><td>▁▁▁</td></tr><tr><td>eval/runtime</td><td>▁▅█</td></tr><tr><td>eval/samples_per_second</td><td>█▄▁</td></tr><tr><td>eval/steps_per_second</td><td>█▄▁</td></tr><tr><td>train/epoch</td><td>▁▂▃▃▃▄▅▅▆▇███</td></tr><tr><td>train/global_step</td><td>▁▂▃▃▃▄▅▅▆▇███</td></tr><tr><td>train/grad_norm</td><td>▁▁▁▁▁▄▁█▂</td></tr><tr><td>train/learning_rate</td><td>█▇▆▅▅▄▃▂▁</td></tr><tr><td>train/loss</td><td>██▆▄▃▂▂▂▁</td></tr></table><br/></div><div class=\"wandb-col\"><h3>Run summary:</h3><br/><table class=\"wandb\"><tr><td>eval/accuracy</td><td>0.955</td></tr><tr><td>eval/f1</td><td>0.95187</td></tr><tr><td>eval/loss</td><td>0.2029</td></tr><tr><td>eval/precision</td><td>0.95699</td></tr><tr><td>eval/recall</td><td>0.94681</td></tr><tr><td>eval/runtime</td><td>2.0544</td></tr><tr><td>eval/samples_per_second</td><td>97.353</td></tr><tr><td>eval/steps_per_second</td><td>12.169</td></tr><tr><td>total_flos</td><td>394666583040000.0</td></tr><tr><td>train/epoch</td><td>3</td></tr><tr><td>train/global_step</td><td>96</td></tr><tr><td>train/grad_norm</td><td>13.83809</td></tr><tr><td>train/learning_rate</td><td>0.0</td></tr><tr><td>train/loss</td><td>0.0691</td></tr><tr><td>train_loss</td><td>0.33327</td></tr><tr><td>train_runtime</td><td>74.5784</td></tr><tr><td>train_samples_per_second</td><td>20.113</td></tr><tr><td>train_steps_per_second</td><td>1.287</td></tr></table><br/></div></div>"
      ],
      "text/plain": [
       "<IPython.core.display.HTML object>"
      ]
     },
     "metadata": {},
     "output_type": "display_data"
    },
    {
     "data": {
      "text/html": [
       " View run <strong style=\"color:#cdcd00\">honest-sweep-14</strong> at: <a href='https://wandb.ai/natalia-timokhova-v-lule-university-of-technology/roberta-sweep-lab1/runs/mkqxpq7l' target=\"_blank\">https://wandb.ai/natalia-timokhova-v-lule-university-of-technology/roberta-sweep-lab1/runs/mkqxpq7l</a><br> View project at: <a href='https://wandb.ai/natalia-timokhova-v-lule-university-of-technology/roberta-sweep-lab1' target=\"_blank\">https://wandb.ai/natalia-timokhova-v-lule-university-of-technology/roberta-sweep-lab1</a><br>Synced 5 W&B file(s), 0 media file(s), 0 artifact file(s) and 3 other file(s)"
      ],
      "text/plain": [
       "<IPython.core.display.HTML object>"
      ]
     },
     "metadata": {},
     "output_type": "display_data"
    },
    {
     "data": {
      "text/html": [
       "Find logs at: <code>./wandb/run-20250521_231957-mkqxpq7l/logs</code>"
      ],
      "text/plain": [
       "<IPython.core.display.HTML object>"
      ]
     },
     "metadata": {},
     "output_type": "display_data"
    },
    {
     "name": "stderr",
     "output_type": "stream",
     "text": [
      "\u001b[34m\u001b[1mwandb\u001b[0m: Agent Starting Run: okuatdvp with config:\n",
      "\u001b[34m\u001b[1mwandb\u001b[0m: \tlearning_rate: 1.2462787213180473e-05\n",
      "\u001b[34m\u001b[1mwandb\u001b[0m: \tnum_train_epochs: 2\n",
      "\u001b[34m\u001b[1mwandb\u001b[0m: \tper_device_train_batch_size: 32\n"
     ]
    },
    {
     "data": {
      "text/html": [
       "Tracking run with wandb version 0.19.9"
      ],
      "text/plain": [
       "<IPython.core.display.HTML object>"
      ]
     },
     "metadata": {},
     "output_type": "display_data"
    },
    {
     "data": {
      "text/html": [
       "Run data is saved locally in <code>/Lab_1/wandb/run-20250521_232149-okuatdvp</code>"
      ],
      "text/plain": [
       "<IPython.core.display.HTML object>"
      ]
     },
     "metadata": {},
     "output_type": "display_data"
    },
    {
     "data": {
      "text/html": [
       "Syncing run <strong><a href='https://wandb.ai/natalia-timokhova-v-lule-university-of-technology/roberta-sweep-lab1/runs/okuatdvp' target=\"_blank\">hopeful-sweep-15</a></strong> to <a href='https://wandb.ai/natalia-timokhova-v-lule-university-of-technology/roberta-sweep-lab1' target=\"_blank\">Weights & Biases</a> (<a href='https://wandb.me/developer-guide' target=\"_blank\">docs</a>)<br>Sweep page: <a href='https://wandb.ai/natalia-timokhova-v-lule-university-of-technology/roberta-sweep-lab1/sweeps/wecneufa' target=\"_blank\">https://wandb.ai/natalia-timokhova-v-lule-university-of-technology/roberta-sweep-lab1/sweeps/wecneufa</a>"
      ],
      "text/plain": [
       "<IPython.core.display.HTML object>"
      ]
     },
     "metadata": {},
     "output_type": "display_data"
    },
    {
     "data": {
      "text/html": [
       " View project at <a href='https://wandb.ai/natalia-timokhova-v-lule-university-of-technology/roberta-sweep-lab1' target=\"_blank\">https://wandb.ai/natalia-timokhova-v-lule-university-of-technology/roberta-sweep-lab1</a>"
      ],
      "text/plain": [
       "<IPython.core.display.HTML object>"
      ]
     },
     "metadata": {},
     "output_type": "display_data"
    },
    {
     "data": {
      "text/html": [
       " View sweep at <a href='https://wandb.ai/natalia-timokhova-v-lule-university-of-technology/roberta-sweep-lab1/sweeps/wecneufa' target=\"_blank\">https://wandb.ai/natalia-timokhova-v-lule-university-of-technology/roberta-sweep-lab1/sweeps/wecneufa</a>"
      ],
      "text/plain": [
       "<IPython.core.display.HTML object>"
      ]
     },
     "metadata": {},
     "output_type": "display_data"
    },
    {
     "data": {
      "text/html": [
       " View run at <a href='https://wandb.ai/natalia-timokhova-v-lule-university-of-technology/roberta-sweep-lab1/runs/okuatdvp' target=\"_blank\">https://wandb.ai/natalia-timokhova-v-lule-university-of-technology/roberta-sweep-lab1/runs/okuatdvp</a>"
      ],
      "text/plain": [
       "<IPython.core.display.HTML object>"
      ]
     },
     "metadata": {},
     "output_type": "display_data"
    },
    {
     "name": "stderr",
     "output_type": "stream",
     "text": [
      "Some weights of RobertaForSequenceClassification were not initialized from the model checkpoint at roberta-base and are newly initialized: ['classifier.dense.bias', 'classifier.dense.weight', 'classifier.out_proj.bias', 'classifier.out_proj.weight']\n",
      "You should probably TRAIN this model on a down-stream task to be able to use it for predictions and inference.\n",
      "\u001b[34m\u001b[1mwandb\u001b[0m: \u001b[33mWARNING\u001b[0m Config item 'per_device_train_batch_size' was locked by 'sweep' (ignored update).\n",
      "\u001b[34m\u001b[1mwandb\u001b[0m: \u001b[33mWARNING\u001b[0m Config item 'learning_rate' was locked by 'sweep' (ignored update).\n",
      "\u001b[34m\u001b[1mwandb\u001b[0m: \u001b[33mWARNING\u001b[0m Config item 'num_train_epochs' was locked by 'sweep' (ignored update).\n"
     ]
    },
    {
     "data": {
      "text/html": [
       "\n",
       "    <div>\n",
       "      \n",
       "      <progress value='2' max='32' style='width:300px; height:20px; vertical-align: middle;'></progress>\n",
       "      [ 2/32 : < :, Epoch 0.06/2]\n",
       "    </div>\n",
       "    <table border=\"1\" class=\"dataframe\">\n",
       "  <thead>\n",
       " <tr style=\"text-align: left;\">\n",
       "      <th>Epoch</th>\n",
       "      <th>Training Loss</th>\n",
       "      <th>Validation Loss</th>\n",
       "    </tr>\n",
       "  </thead>\n",
       "  <tbody>\n",
       "  </tbody>\n",
       "</table><p>"
      ],
      "text/plain": [
       "<IPython.core.display.HTML object>"
      ]
     },
     "metadata": {},
     "output_type": "display_data"
    },
    {
     "name": "stderr",
     "output_type": "stream",
     "text": [
      "Traceback (most recent call last):\n",
      "  File \"/tmp/ipykernel_142970/1539672656.py\", line 30, in train\n",
      "    trainer.train()\n",
      "  File \"/usr/local/lib/python3.11/dist-packages/transformers/trainer.py\", line 2240, in train\n",
      "    return inner_training_loop(\n",
      "           ^^^^^^^^^^^^^^^^^^^^\n",
      "  File \"/usr/local/lib/python3.11/dist-packages/transformers/trainer.py\", line 2555, in _inner_training_loop\n",
      "    tr_loss_step = self.training_step(model, inputs, num_items_in_batch)\n",
      "                   ^^^^^^^^^^^^^^^^^^^^^^^^^^^^^^^^^^^^^^^^^^^^^^^^^^^^^\n",
      "  File \"/usr/local/lib/python3.11/dist-packages/transformers/trainer.py\", line 3745, in training_step\n",
      "    loss = self.compute_loss(model, inputs, num_items_in_batch=num_items_in_batch)\n",
      "           ^^^^^^^^^^^^^^^^^^^^^^^^^^^^^^^^^^^^^^^^^^^^^^^^^^^^^^^^^^^^^^^^^^^^^^^\n",
      "  File \"/usr/local/lib/python3.11/dist-packages/transformers/trainer.py\", line 3810, in compute_loss\n",
      "    outputs = model(**inputs)\n",
      "              ^^^^^^^^^^^^^^^\n",
      "  File \"/usr/local/lib/python3.11/dist-packages/torch/nn/modules/module.py\", line 1736, in _wrapped_call_impl\n",
      "    return self._call_impl(*args, **kwargs)\n",
      "           ^^^^^^^^^^^^^^^^^^^^^^^^^^^^^^^^\n",
      "  File \"/usr/local/lib/python3.11/dist-packages/torch/nn/modules/module.py\", line 1747, in _call_impl\n",
      "    return forward_call(*args, **kwargs)\n",
      "           ^^^^^^^^^^^^^^^^^^^^^^^^^^^^^\n",
      "  File \"/usr/local/lib/python3.11/dist-packages/transformers/models/roberta/modeling_roberta.py\", line 1202, in forward\n",
      "    outputs = self.roberta(\n",
      "              ^^^^^^^^^^^^^\n",
      "  File \"/usr/local/lib/python3.11/dist-packages/torch/nn/modules/module.py\", line 1736, in _wrapped_call_impl\n",
      "    return self._call_impl(*args, **kwargs)\n",
      "           ^^^^^^^^^^^^^^^^^^^^^^^^^^^^^^^^\n",
      "  File \"/usr/local/lib/python3.11/dist-packages/torch/nn/modules/module.py\", line 1747, in _call_impl\n",
      "    return forward_call(*args, **kwargs)\n",
      "           ^^^^^^^^^^^^^^^^^^^^^^^^^^^^^\n",
      "  File \"/usr/local/lib/python3.11/dist-packages/transformers/models/roberta/modeling_roberta.py\", line 869, in forward\n",
      "    encoder_outputs = self.encoder(\n",
      "                      ^^^^^^^^^^^^^\n",
      "  File \"/usr/local/lib/python3.11/dist-packages/torch/nn/modules/module.py\", line 1736, in _wrapped_call_impl\n",
      "    return self._call_impl(*args, **kwargs)\n",
      "           ^^^^^^^^^^^^^^^^^^^^^^^^^^^^^^^^\n",
      "  File \"/usr/local/lib/python3.11/dist-packages/torch/nn/modules/module.py\", line 1747, in _call_impl\n",
      "    return forward_call(*args, **kwargs)\n",
      "           ^^^^^^^^^^^^^^^^^^^^^^^^^^^^^\n",
      "  File \"/usr/local/lib/python3.11/dist-packages/transformers/models/roberta/modeling_roberta.py\", line 618, in forward\n",
      "    layer_outputs = layer_module(\n",
      "                    ^^^^^^^^^^^^^\n",
      "  File \"/usr/local/lib/python3.11/dist-packages/torch/nn/modules/module.py\", line 1736, in _wrapped_call_impl\n",
      "    return self._call_impl(*args, **kwargs)\n",
      "           ^^^^^^^^^^^^^^^^^^^^^^^^^^^^^^^^\n",
      "  File \"/usr/local/lib/python3.11/dist-packages/torch/nn/modules/module.py\", line 1747, in _call_impl\n",
      "    return forward_call(*args, **kwargs)\n",
      "           ^^^^^^^^^^^^^^^^^^^^^^^^^^^^^\n",
      "  File \"/usr/local/lib/python3.11/dist-packages/transformers/models/roberta/modeling_roberta.py\", line 549, in forward\n",
      "    layer_output = apply_chunking_to_forward(\n",
      "                   ^^^^^^^^^^^^^^^^^^^^^^^^^^\n",
      "  File \"/usr/local/lib/python3.11/dist-packages/transformers/pytorch_utils.py\", line 253, in apply_chunking_to_forward\n",
      "    return forward_fn(*input_tensors)\n",
      "           ^^^^^^^^^^^^^^^^^^^^^^^^^^\n",
      "  File \"/usr/local/lib/python3.11/dist-packages/transformers/models/roberta/modeling_roberta.py\", line 561, in feed_forward_chunk\n",
      "    intermediate_output = self.intermediate(attention_output)\n",
      "                          ^^^^^^^^^^^^^^^^^^^^^^^^^^^^^^^^^^^\n",
      "  File \"/usr/local/lib/python3.11/dist-packages/torch/nn/modules/module.py\", line 1736, in _wrapped_call_impl\n",
      "    return self._call_impl(*args, **kwargs)\n",
      "           ^^^^^^^^^^^^^^^^^^^^^^^^^^^^^^^^\n",
      "  File \"/usr/local/lib/python3.11/dist-packages/torch/nn/modules/module.py\", line 1747, in _call_impl\n",
      "    return forward_call(*args, **kwargs)\n",
      "           ^^^^^^^^^^^^^^^^^^^^^^^^^^^^^\n",
      "  File \"/usr/local/lib/python3.11/dist-packages/transformers/models/roberta/modeling_roberta.py\", line 459, in forward\n",
      "    hidden_states = self.dense(hidden_states)\n",
      "                    ^^^^^^^^^^^^^^^^^^^^^^^^^\n",
      "  File \"/usr/local/lib/python3.11/dist-packages/torch/nn/modules/module.py\", line 1736, in _wrapped_call_impl\n",
      "    return self._call_impl(*args, **kwargs)\n",
      "           ^^^^^^^^^^^^^^^^^^^^^^^^^^^^^^^^\n",
      "  File \"/usr/local/lib/python3.11/dist-packages/torch/nn/modules/module.py\", line 1747, in _call_impl\n",
      "    return forward_call(*args, **kwargs)\n",
      "           ^^^^^^^^^^^^^^^^^^^^^^^^^^^^^\n",
      "  File \"/usr/local/lib/python3.11/dist-packages/torch/nn/modules/linear.py\", line 125, in forward\n",
      "    return F.linear(input, self.weight, self.bias)\n",
      "           ^^^^^^^^^^^^^^^^^^^^^^^^^^^^^^^^^^^^^^^\n",
      "torch.OutOfMemoryError: CUDA out of memory. Tried to allocate 192.00 MiB. GPU 0 has a total capacity of 10.75 GiB of which 83.81 MiB is free. Process 934104 has 10.66 GiB memory in use. Of the allocated memory 10.37 GiB is allocated by PyTorch, and 104.79 MiB is reserved by PyTorch but unallocated. If reserved but unallocated memory is large try setting PYTORCH_CUDA_ALLOC_CONF=expandable_segments:True to avoid fragmentation.  See documentation for Memory Management  (https://pytorch.org/docs/stable/notes/cuda.html#environment-variables)\n"
     ]
    },
    {
     "data": {
      "text/html": [],
      "text/plain": [
       "<IPython.core.display.HTML object>"
      ]
     },
     "metadata": {},
     "output_type": "display_data"
    },
    {
     "data": {
      "text/html": [
       " View run <strong style=\"color:#cdcd00\">hopeful-sweep-15</strong> at: <a href='https://wandb.ai/natalia-timokhova-v-lule-university-of-technology/roberta-sweep-lab1/runs/okuatdvp' target=\"_blank\">https://wandb.ai/natalia-timokhova-v-lule-university-of-technology/roberta-sweep-lab1/runs/okuatdvp</a><br> View project at: <a href='https://wandb.ai/natalia-timokhova-v-lule-university-of-technology/roberta-sweep-lab1' target=\"_blank\">https://wandb.ai/natalia-timokhova-v-lule-university-of-technology/roberta-sweep-lab1</a><br>Synced 5 W&B file(s), 0 media file(s), 0 artifact file(s) and 0 other file(s)"
      ],
      "text/plain": [
       "<IPython.core.display.HTML object>"
      ]
     },
     "metadata": {},
     "output_type": "display_data"
    },
    {
     "data": {
      "text/html": [
       "Find logs at: <code>./wandb/run-20250521_232149-okuatdvp/logs</code>"
      ],
      "text/plain": [
       "<IPython.core.display.HTML object>"
      ]
     },
     "metadata": {},
     "output_type": "display_data"
    },
    {
     "name": "stderr",
     "output_type": "stream",
     "text": [
      "\u001b[34m\u001b[1mwandb\u001b[0m: \u001b[32m\u001b[41mERROR\u001b[0m Run okuatdvp errored:\n",
      "\u001b[34m\u001b[1mwandb\u001b[0m: \u001b[32m\u001b[41mERROR\u001b[0m Traceback (most recent call last):\n",
      "\u001b[34m\u001b[1mwandb\u001b[0m: \u001b[32m\u001b[41mERROR\u001b[0m   File \"/usr/local/lib/python3.11/dist-packages/wandb/agents/pyagent.py\", line 306, in _run_job\n",
      "\u001b[34m\u001b[1mwandb\u001b[0m: \u001b[32m\u001b[41mERROR\u001b[0m     self._function()\n",
      "\u001b[34m\u001b[1mwandb\u001b[0m: \u001b[32m\u001b[41mERROR\u001b[0m   File \"/tmp/ipykernel_142970/1539672656.py\", line 30, in train\n",
      "\u001b[34m\u001b[1mwandb\u001b[0m: \u001b[32m\u001b[41mERROR\u001b[0m     trainer.train()\n",
      "\u001b[34m\u001b[1mwandb\u001b[0m: \u001b[32m\u001b[41mERROR\u001b[0m   File \"/usr/local/lib/python3.11/dist-packages/transformers/trainer.py\", line 2240, in train\n",
      "\u001b[34m\u001b[1mwandb\u001b[0m: \u001b[32m\u001b[41mERROR\u001b[0m     return inner_training_loop(\n",
      "\u001b[34m\u001b[1mwandb\u001b[0m: \u001b[32m\u001b[41mERROR\u001b[0m            ^^^^^^^^^^^^^^^^^^^^\n",
      "\u001b[34m\u001b[1mwandb\u001b[0m: \u001b[32m\u001b[41mERROR\u001b[0m   File \"/usr/local/lib/python3.11/dist-packages/transformers/trainer.py\", line 2555, in _inner_training_loop\n",
      "\u001b[34m\u001b[1mwandb\u001b[0m: \u001b[32m\u001b[41mERROR\u001b[0m     tr_loss_step = self.training_step(model, inputs, num_items_in_batch)\n",
      "\u001b[34m\u001b[1mwandb\u001b[0m: \u001b[32m\u001b[41mERROR\u001b[0m                    ^^^^^^^^^^^^^^^^^^^^^^^^^^^^^^^^^^^^^^^^^^^^^^^^^^^^^\n",
      "\u001b[34m\u001b[1mwandb\u001b[0m: \u001b[32m\u001b[41mERROR\u001b[0m   File \"/usr/local/lib/python3.11/dist-packages/transformers/trainer.py\", line 3745, in training_step\n",
      "\u001b[34m\u001b[1mwandb\u001b[0m: \u001b[32m\u001b[41mERROR\u001b[0m     loss = self.compute_loss(model, inputs, num_items_in_batch=num_items_in_batch)\n",
      "\u001b[34m\u001b[1mwandb\u001b[0m: \u001b[32m\u001b[41mERROR\u001b[0m            ^^^^^^^^^^^^^^^^^^^^^^^^^^^^^^^^^^^^^^^^^^^^^^^^^^^^^^^^^^^^^^^^^^^^^^^\n",
      "\u001b[34m\u001b[1mwandb\u001b[0m: \u001b[32m\u001b[41mERROR\u001b[0m   File \"/usr/local/lib/python3.11/dist-packages/transformers/trainer.py\", line 3810, in compute_loss\n",
      "\u001b[34m\u001b[1mwandb\u001b[0m: \u001b[32m\u001b[41mERROR\u001b[0m     outputs = model(**inputs)\n",
      "\u001b[34m\u001b[1mwandb\u001b[0m: \u001b[32m\u001b[41mERROR\u001b[0m               ^^^^^^^^^^^^^^^\n",
      "\u001b[34m\u001b[1mwandb\u001b[0m: \u001b[32m\u001b[41mERROR\u001b[0m   File \"/usr/local/lib/python3.11/dist-packages/torch/nn/modules/module.py\", line 1736, in _wrapped_call_impl\n",
      "\u001b[34m\u001b[1mwandb\u001b[0m: \u001b[32m\u001b[41mERROR\u001b[0m     return self._call_impl(*args, **kwargs)\n",
      "\u001b[34m\u001b[1mwandb\u001b[0m: \u001b[32m\u001b[41mERROR\u001b[0m            ^^^^^^^^^^^^^^^^^^^^^^^^^^^^^^^^\n",
      "\u001b[34m\u001b[1mwandb\u001b[0m: \u001b[32m\u001b[41mERROR\u001b[0m   File \"/usr/local/lib/python3.11/dist-packages/torch/nn/modules/module.py\", line 1747, in _call_impl\n",
      "\u001b[34m\u001b[1mwandb\u001b[0m: \u001b[32m\u001b[41mERROR\u001b[0m     return forward_call(*args, **kwargs)\n",
      "\u001b[34m\u001b[1mwandb\u001b[0m: \u001b[32m\u001b[41mERROR\u001b[0m            ^^^^^^^^^^^^^^^^^^^^^^^^^^^^^\n",
      "\u001b[34m\u001b[1mwandb\u001b[0m: \u001b[32m\u001b[41mERROR\u001b[0m   File \"/usr/local/lib/python3.11/dist-packages/transformers/models/roberta/modeling_roberta.py\", line 1202, in forward\n",
      "\u001b[34m\u001b[1mwandb\u001b[0m: \u001b[32m\u001b[41mERROR\u001b[0m     outputs = self.roberta(\n",
      "\u001b[34m\u001b[1mwandb\u001b[0m: \u001b[32m\u001b[41mERROR\u001b[0m               ^^^^^^^^^^^^^\n",
      "\u001b[34m\u001b[1mwandb\u001b[0m: \u001b[32m\u001b[41mERROR\u001b[0m   File \"/usr/local/lib/python3.11/dist-packages/torch/nn/modules/module.py\", line 1736, in _wrapped_call_impl\n",
      "\u001b[34m\u001b[1mwandb\u001b[0m: \u001b[32m\u001b[41mERROR\u001b[0m     return self._call_impl(*args, **kwargs)\n",
      "\u001b[34m\u001b[1mwandb\u001b[0m: \u001b[32m\u001b[41mERROR\u001b[0m            ^^^^^^^^^^^^^^^^^^^^^^^^^^^^^^^^\n",
      "\u001b[34m\u001b[1mwandb\u001b[0m: \u001b[32m\u001b[41mERROR\u001b[0m   File \"/usr/local/lib/python3.11/dist-packages/torch/nn/modules/module.py\", line 1747, in _call_impl\n",
      "\u001b[34m\u001b[1mwandb\u001b[0m: \u001b[32m\u001b[41mERROR\u001b[0m     return forward_call(*args, **kwargs)\n",
      "\u001b[34m\u001b[1mwandb\u001b[0m: \u001b[32m\u001b[41mERROR\u001b[0m            ^^^^^^^^^^^^^^^^^^^^^^^^^^^^^\n",
      "\u001b[34m\u001b[1mwandb\u001b[0m: \u001b[32m\u001b[41mERROR\u001b[0m   File \"/usr/local/lib/python3.11/dist-packages/transformers/models/roberta/modeling_roberta.py\", line 869, in forward\n",
      "\u001b[34m\u001b[1mwandb\u001b[0m: \u001b[32m\u001b[41mERROR\u001b[0m     encoder_outputs = self.encoder(\n",
      "\u001b[34m\u001b[1mwandb\u001b[0m: \u001b[32m\u001b[41mERROR\u001b[0m                       ^^^^^^^^^^^^^\n",
      "\u001b[34m\u001b[1mwandb\u001b[0m: \u001b[32m\u001b[41mERROR\u001b[0m   File \"/usr/local/lib/python3.11/dist-packages/torch/nn/modules/module.py\", line 1736, in _wrapped_call_impl\n",
      "\u001b[34m\u001b[1mwandb\u001b[0m: \u001b[32m\u001b[41mERROR\u001b[0m     return self._call_impl(*args, **kwargs)\n",
      "\u001b[34m\u001b[1mwandb\u001b[0m: \u001b[32m\u001b[41mERROR\u001b[0m            ^^^^^^^^^^^^^^^^^^^^^^^^^^^^^^^^\n",
      "\u001b[34m\u001b[1mwandb\u001b[0m: \u001b[32m\u001b[41mERROR\u001b[0m   File \"/usr/local/lib/python3.11/dist-packages/torch/nn/modules/module.py\", line 1747, in _call_impl\n",
      "\u001b[34m\u001b[1mwandb\u001b[0m: \u001b[32m\u001b[41mERROR\u001b[0m     return forward_call(*args, **kwargs)\n",
      "\u001b[34m\u001b[1mwandb\u001b[0m: \u001b[32m\u001b[41mERROR\u001b[0m            ^^^^^^^^^^^^^^^^^^^^^^^^^^^^^\n",
      "\u001b[34m\u001b[1mwandb\u001b[0m: \u001b[32m\u001b[41mERROR\u001b[0m   File \"/usr/local/lib/python3.11/dist-packages/transformers/models/roberta/modeling_roberta.py\", line 618, in forward\n",
      "\u001b[34m\u001b[1mwandb\u001b[0m: \u001b[32m\u001b[41mERROR\u001b[0m     layer_outputs = layer_module(\n",
      "\u001b[34m\u001b[1mwandb\u001b[0m: \u001b[32m\u001b[41mERROR\u001b[0m                     ^^^^^^^^^^^^^\n",
      "\u001b[34m\u001b[1mwandb\u001b[0m: \u001b[32m\u001b[41mERROR\u001b[0m   File \"/usr/local/lib/python3.11/dist-packages/torch/nn/modules/module.py\", line 1736, in _wrapped_call_impl\n",
      "\u001b[34m\u001b[1mwandb\u001b[0m: \u001b[32m\u001b[41mERROR\u001b[0m     return self._call_impl(*args, **kwargs)\n",
      "\u001b[34m\u001b[1mwandb\u001b[0m: \u001b[32m\u001b[41mERROR\u001b[0m            ^^^^^^^^^^^^^^^^^^^^^^^^^^^^^^^^\n",
      "\u001b[34m\u001b[1mwandb\u001b[0m: \u001b[32m\u001b[41mERROR\u001b[0m   File \"/usr/local/lib/python3.11/dist-packages/torch/nn/modules/module.py\", line 1747, in _call_impl\n",
      "\u001b[34m\u001b[1mwandb\u001b[0m: \u001b[32m\u001b[41mERROR\u001b[0m     return forward_call(*args, **kwargs)\n",
      "\u001b[34m\u001b[1mwandb\u001b[0m: \u001b[32m\u001b[41mERROR\u001b[0m            ^^^^^^^^^^^^^^^^^^^^^^^^^^^^^\n",
      "\u001b[34m\u001b[1mwandb\u001b[0m: \u001b[32m\u001b[41mERROR\u001b[0m   File \"/usr/local/lib/python3.11/dist-packages/transformers/models/roberta/modeling_roberta.py\", line 549, in forward\n",
      "\u001b[34m\u001b[1mwandb\u001b[0m: \u001b[32m\u001b[41mERROR\u001b[0m     layer_output = apply_chunking_to_forward(\n",
      "\u001b[34m\u001b[1mwandb\u001b[0m: \u001b[32m\u001b[41mERROR\u001b[0m                    ^^^^^^^^^^^^^^^^^^^^^^^^^^\n",
      "\u001b[34m\u001b[1mwandb\u001b[0m: \u001b[32m\u001b[41mERROR\u001b[0m   File \"/usr/local/lib/python3.11/dist-packages/transformers/pytorch_utils.py\", line 253, in apply_chunking_to_forward\n",
      "\u001b[34m\u001b[1mwandb\u001b[0m: \u001b[32m\u001b[41mERROR\u001b[0m     return forward_fn(*input_tensors)\n",
      "\u001b[34m\u001b[1mwandb\u001b[0m: \u001b[32m\u001b[41mERROR\u001b[0m            ^^^^^^^^^^^^^^^^^^^^^^^^^^\n",
      "\u001b[34m\u001b[1mwandb\u001b[0m: \u001b[32m\u001b[41mERROR\u001b[0m   File \"/usr/local/lib/python3.11/dist-packages/transformers/models/roberta/modeling_roberta.py\", line 561, in feed_forward_chunk\n",
      "\u001b[34m\u001b[1mwandb\u001b[0m: \u001b[32m\u001b[41mERROR\u001b[0m     intermediate_output = self.intermediate(attention_output)\n",
      "\u001b[34m\u001b[1mwandb\u001b[0m: \u001b[32m\u001b[41mERROR\u001b[0m                           ^^^^^^^^^^^^^^^^^^^^^^^^^^^^^^^^^^^\n",
      "\u001b[34m\u001b[1mwandb\u001b[0m: \u001b[32m\u001b[41mERROR\u001b[0m   File \"/usr/local/lib/python3.11/dist-packages/torch/nn/modules/module.py\", line 1736, in _wrapped_call_impl\n",
      "\u001b[34m\u001b[1mwandb\u001b[0m: \u001b[32m\u001b[41mERROR\u001b[0m     return self._call_impl(*args, **kwargs)\n",
      "\u001b[34m\u001b[1mwandb\u001b[0m: \u001b[32m\u001b[41mERROR\u001b[0m            ^^^^^^^^^^^^^^^^^^^^^^^^^^^^^^^^\n",
      "\u001b[34m\u001b[1mwandb\u001b[0m: \u001b[32m\u001b[41mERROR\u001b[0m   File \"/usr/local/lib/python3.11/dist-packages/torch/nn/modules/module.py\", line 1747, in _call_impl\n",
      "\u001b[34m\u001b[1mwandb\u001b[0m: \u001b[32m\u001b[41mERROR\u001b[0m     return forward_call(*args, **kwargs)\n",
      "\u001b[34m\u001b[1mwandb\u001b[0m: \u001b[32m\u001b[41mERROR\u001b[0m            ^^^^^^^^^^^^^^^^^^^^^^^^^^^^^\n",
      "\u001b[34m\u001b[1mwandb\u001b[0m: \u001b[32m\u001b[41mERROR\u001b[0m   File \"/usr/local/lib/python3.11/dist-packages/transformers/models/roberta/modeling_roberta.py\", line 459, in forward\n",
      "\u001b[34m\u001b[1mwandb\u001b[0m: \u001b[32m\u001b[41mERROR\u001b[0m     hidden_states = self.dense(hidden_states)\n",
      "\u001b[34m\u001b[1mwandb\u001b[0m: \u001b[32m\u001b[41mERROR\u001b[0m                     ^^^^^^^^^^^^^^^^^^^^^^^^^\n",
      "\u001b[34m\u001b[1mwandb\u001b[0m: \u001b[32m\u001b[41mERROR\u001b[0m   File \"/usr/local/lib/python3.11/dist-packages/torch/nn/modules/module.py\", line 1736, in _wrapped_call_impl\n",
      "\u001b[34m\u001b[1mwandb\u001b[0m: \u001b[32m\u001b[41mERROR\u001b[0m     return self._call_impl(*args, **kwargs)\n",
      "\u001b[34m\u001b[1mwandb\u001b[0m: \u001b[32m\u001b[41mERROR\u001b[0m            ^^^^^^^^^^^^^^^^^^^^^^^^^^^^^^^^\n",
      "\u001b[34m\u001b[1mwandb\u001b[0m: \u001b[32m\u001b[41mERROR\u001b[0m   File \"/usr/local/lib/python3.11/dist-packages/torch/nn/modules/module.py\", line 1747, in _call_impl\n",
      "\u001b[34m\u001b[1mwandb\u001b[0m: \u001b[32m\u001b[41mERROR\u001b[0m     return forward_call(*args, **kwargs)\n",
      "\u001b[34m\u001b[1mwandb\u001b[0m: \u001b[32m\u001b[41mERROR\u001b[0m            ^^^^^^^^^^^^^^^^^^^^^^^^^^^^^\n",
      "\u001b[34m\u001b[1mwandb\u001b[0m: \u001b[32m\u001b[41mERROR\u001b[0m   File \"/usr/local/lib/python3.11/dist-packages/torch/nn/modules/linear.py\", line 125, in forward\n",
      "\u001b[34m\u001b[1mwandb\u001b[0m: \u001b[32m\u001b[41mERROR\u001b[0m     return F.linear(input, self.weight, self.bias)\n",
      "\u001b[34m\u001b[1mwandb\u001b[0m: \u001b[32m\u001b[41mERROR\u001b[0m            ^^^^^^^^^^^^^^^^^^^^^^^^^^^^^^^^^^^^^^^\n",
      "\u001b[34m\u001b[1mwandb\u001b[0m: \u001b[32m\u001b[41mERROR\u001b[0m torch.OutOfMemoryError: CUDA out of memory. Tried to allocate 192.00 MiB. GPU 0 has a total capacity of 10.75 GiB of which 83.81 MiB is free. Process 934104 has 10.66 GiB memory in use. Of the allocated memory 10.37 GiB is allocated by PyTorch, and 104.79 MiB is reserved by PyTorch but unallocated. If reserved but unallocated memory is large try setting PYTORCH_CUDA_ALLOC_CONF=expandable_segments:True to avoid fragmentation.  See documentation for Memory Management  (https://pytorch.org/docs/stable/notes/cuda.html#environment-variables)\n",
      "\u001b[34m\u001b[1mwandb\u001b[0m: \u001b[32m\u001b[41mERROR\u001b[0m \n",
      "\u001b[34m\u001b[1mwandb\u001b[0m: Agent Starting Run: 9ddv8rev with config:\n",
      "\u001b[34m\u001b[1mwandb\u001b[0m: \tlearning_rate: 3.646760710654419e-06\n",
      "\u001b[34m\u001b[1mwandb\u001b[0m: \tnum_train_epochs: 2\n",
      "\u001b[34m\u001b[1mwandb\u001b[0m: \tper_device_train_batch_size: 8\n"
     ]
    },
    {
     "data": {
      "text/html": [
       "Tracking run with wandb version 0.19.9"
      ],
      "text/plain": [
       "<IPython.core.display.HTML object>"
      ]
     },
     "metadata": {},
     "output_type": "display_data"
    },
    {
     "data": {
      "text/html": [
       "Run data is saved locally in <code>/Lab_1/wandb/run-20250521_232159-9ddv8rev</code>"
      ],
      "text/plain": [
       "<IPython.core.display.HTML object>"
      ]
     },
     "metadata": {},
     "output_type": "display_data"
    },
    {
     "data": {
      "text/html": [
       "Syncing run <strong><a href='https://wandb.ai/natalia-timokhova-v-lule-university-of-technology/roberta-sweep-lab1/runs/9ddv8rev' target=\"_blank\">efficient-sweep-16</a></strong> to <a href='https://wandb.ai/natalia-timokhova-v-lule-university-of-technology/roberta-sweep-lab1' target=\"_blank\">Weights & Biases</a> (<a href='https://wandb.me/developer-guide' target=\"_blank\">docs</a>)<br>Sweep page: <a href='https://wandb.ai/natalia-timokhova-v-lule-university-of-technology/roberta-sweep-lab1/sweeps/wecneufa' target=\"_blank\">https://wandb.ai/natalia-timokhova-v-lule-university-of-technology/roberta-sweep-lab1/sweeps/wecneufa</a>"
      ],
      "text/plain": [
       "<IPython.core.display.HTML object>"
      ]
     },
     "metadata": {},
     "output_type": "display_data"
    },
    {
     "data": {
      "text/html": [
       " View project at <a href='https://wandb.ai/natalia-timokhova-v-lule-university-of-technology/roberta-sweep-lab1' target=\"_blank\">https://wandb.ai/natalia-timokhova-v-lule-university-of-technology/roberta-sweep-lab1</a>"
      ],
      "text/plain": [
       "<IPython.core.display.HTML object>"
      ]
     },
     "metadata": {},
     "output_type": "display_data"
    },
    {
     "data": {
      "text/html": [
       " View sweep at <a href='https://wandb.ai/natalia-timokhova-v-lule-university-of-technology/roberta-sweep-lab1/sweeps/wecneufa' target=\"_blank\">https://wandb.ai/natalia-timokhova-v-lule-university-of-technology/roberta-sweep-lab1/sweeps/wecneufa</a>"
      ],
      "text/plain": [
       "<IPython.core.display.HTML object>"
      ]
     },
     "metadata": {},
     "output_type": "display_data"
    },
    {
     "data": {
      "text/html": [
       " View run at <a href='https://wandb.ai/natalia-timokhova-v-lule-university-of-technology/roberta-sweep-lab1/runs/9ddv8rev' target=\"_blank\">https://wandb.ai/natalia-timokhova-v-lule-university-of-technology/roberta-sweep-lab1/runs/9ddv8rev</a>"
      ],
      "text/plain": [
       "<IPython.core.display.HTML object>"
      ]
     },
     "metadata": {},
     "output_type": "display_data"
    },
    {
     "name": "stderr",
     "output_type": "stream",
     "text": [
      "Some weights of RobertaForSequenceClassification were not initialized from the model checkpoint at roberta-base and are newly initialized: ['classifier.dense.bias', 'classifier.dense.weight', 'classifier.out_proj.bias', 'classifier.out_proj.weight']\n",
      "You should probably TRAIN this model on a down-stream task to be able to use it for predictions and inference.\n",
      "Traceback (most recent call last):\n",
      "  File \"/tmp/ipykernel_142970/1539672656.py\", line 22, in train\n",
      "    trainer = Trainer(\n",
      "              ^^^^^^^^\n",
      "  File \"/usr/local/lib/python3.11/dist-packages/transformers/utils/deprecation.py\", line 172, in wrapped_func\n",
      "    return func(*args, **kwargs)\n",
      "           ^^^^^^^^^^^^^^^^^^^^^\n",
      "  File \"/usr/local/lib/python3.11/dist-packages/transformers/trainer.py\", line 622, in __init__\n",
      "    self._move_model_to_device(model, args.device)\n",
      "  File \"/usr/local/lib/python3.11/dist-packages/transformers/trainer.py\", line 905, in _move_model_to_device\n",
      "    model = model.to(device)\n",
      "            ^^^^^^^^^^^^^^^^\n",
      "  File \"/usr/local/lib/python3.11/dist-packages/transformers/modeling_utils.py\", line 3850, in to\n",
      "    return super().to(*args, **kwargs)\n",
      "           ^^^^^^^^^^^^^^^^^^^^^^^^^^^\n",
      "  File \"/usr/local/lib/python3.11/dist-packages/torch/nn/modules/module.py\", line 1340, in to\n",
      "    return self._apply(convert)\n",
      "           ^^^^^^^^^^^^^^^^^^^^\n",
      "  File \"/usr/local/lib/python3.11/dist-packages/torch/nn/modules/module.py\", line 900, in _apply\n",
      "    module._apply(fn)\n",
      "  File \"/usr/local/lib/python3.11/dist-packages/torch/nn/modules/module.py\", line 900, in _apply\n",
      "    module._apply(fn)\n",
      "  File \"/usr/local/lib/python3.11/dist-packages/torch/nn/modules/module.py\", line 900, in _apply\n",
      "    module._apply(fn)\n",
      "  File \"/usr/local/lib/python3.11/dist-packages/torch/nn/modules/module.py\", line 927, in _apply\n",
      "    param_applied = fn(param)\n",
      "                    ^^^^^^^^^\n",
      "  File \"/usr/local/lib/python3.11/dist-packages/torch/nn/modules/module.py\", line 1326, in convert\n",
      "    return t.to(\n",
      "           ^^^^^\n",
      "torch.OutOfMemoryError: CUDA out of memory. Tried to allocate 148.00 MiB. GPU 0 has a total capacity of 10.75 GiB of which 83.81 MiB is free. Process 934104 has 10.66 GiB memory in use. Of the allocated memory 10.37 GiB is allocated by PyTorch, and 104.79 MiB is reserved by PyTorch but unallocated. If reserved but unallocated memory is large try setting PYTORCH_CUDA_ALLOC_CONF=expandable_segments:True to avoid fragmentation.  See documentation for Memory Management  (https://pytorch.org/docs/stable/notes/cuda.html#environment-variables)\n"
     ]
    },
    {
     "data": {
      "text/html": [],
      "text/plain": [
       "<IPython.core.display.HTML object>"
      ]
     },
     "metadata": {},
     "output_type": "display_data"
    },
    {
     "data": {
      "text/html": [
       " View run <strong style=\"color:#cdcd00\">efficient-sweep-16</strong> at: <a href='https://wandb.ai/natalia-timokhova-v-lule-university-of-technology/roberta-sweep-lab1/runs/9ddv8rev' target=\"_blank\">https://wandb.ai/natalia-timokhova-v-lule-university-of-technology/roberta-sweep-lab1/runs/9ddv8rev</a><br> View project at: <a href='https://wandb.ai/natalia-timokhova-v-lule-university-of-technology/roberta-sweep-lab1' target=\"_blank\">https://wandb.ai/natalia-timokhova-v-lule-university-of-technology/roberta-sweep-lab1</a><br>Synced 5 W&B file(s), 0 media file(s), 0 artifact file(s) and 0 other file(s)"
      ],
      "text/plain": [
       "<IPython.core.display.HTML object>"
      ]
     },
     "metadata": {},
     "output_type": "display_data"
    },
    {
     "data": {
      "text/html": [
       "Find logs at: <code>./wandb/run-20250521_232159-9ddv8rev/logs</code>"
      ],
      "text/plain": [
       "<IPython.core.display.HTML object>"
      ]
     },
     "metadata": {},
     "output_type": "display_data"
    },
    {
     "name": "stderr",
     "output_type": "stream",
     "text": [
      "\u001b[34m\u001b[1mwandb\u001b[0m: \u001b[32m\u001b[41mERROR\u001b[0m Run 9ddv8rev errored:\n",
      "\u001b[34m\u001b[1mwandb\u001b[0m: \u001b[32m\u001b[41mERROR\u001b[0m Traceback (most recent call last):\n",
      "\u001b[34m\u001b[1mwandb\u001b[0m: \u001b[32m\u001b[41mERROR\u001b[0m   File \"/usr/local/lib/python3.11/dist-packages/wandb/agents/pyagent.py\", line 306, in _run_job\n",
      "\u001b[34m\u001b[1mwandb\u001b[0m: \u001b[32m\u001b[41mERROR\u001b[0m     self._function()\n",
      "\u001b[34m\u001b[1mwandb\u001b[0m: \u001b[32m\u001b[41mERROR\u001b[0m   File \"/tmp/ipykernel_142970/1539672656.py\", line 22, in train\n",
      "\u001b[34m\u001b[1mwandb\u001b[0m: \u001b[32m\u001b[41mERROR\u001b[0m     trainer = Trainer(\n",
      "\u001b[34m\u001b[1mwandb\u001b[0m: \u001b[32m\u001b[41mERROR\u001b[0m               ^^^^^^^^\n",
      "\u001b[34m\u001b[1mwandb\u001b[0m: \u001b[32m\u001b[41mERROR\u001b[0m   File \"/usr/local/lib/python3.11/dist-packages/transformers/utils/deprecation.py\", line 172, in wrapped_func\n",
      "\u001b[34m\u001b[1mwandb\u001b[0m: \u001b[32m\u001b[41mERROR\u001b[0m     return func(*args, **kwargs)\n",
      "\u001b[34m\u001b[1mwandb\u001b[0m: \u001b[32m\u001b[41mERROR\u001b[0m            ^^^^^^^^^^^^^^^^^^^^^\n",
      "\u001b[34m\u001b[1mwandb\u001b[0m: \u001b[32m\u001b[41mERROR\u001b[0m   File \"/usr/local/lib/python3.11/dist-packages/transformers/trainer.py\", line 622, in __init__\n",
      "\u001b[34m\u001b[1mwandb\u001b[0m: \u001b[32m\u001b[41mERROR\u001b[0m     self._move_model_to_device(model, args.device)\n",
      "\u001b[34m\u001b[1mwandb\u001b[0m: \u001b[32m\u001b[41mERROR\u001b[0m   File \"/usr/local/lib/python3.11/dist-packages/transformers/trainer.py\", line 905, in _move_model_to_device\n",
      "\u001b[34m\u001b[1mwandb\u001b[0m: \u001b[32m\u001b[41mERROR\u001b[0m     model = model.to(device)\n",
      "\u001b[34m\u001b[1mwandb\u001b[0m: \u001b[32m\u001b[41mERROR\u001b[0m             ^^^^^^^^^^^^^^^^\n",
      "\u001b[34m\u001b[1mwandb\u001b[0m: \u001b[32m\u001b[41mERROR\u001b[0m   File \"/usr/local/lib/python3.11/dist-packages/transformers/modeling_utils.py\", line 3850, in to\n",
      "\u001b[34m\u001b[1mwandb\u001b[0m: \u001b[32m\u001b[41mERROR\u001b[0m     return super().to(*args, **kwargs)\n",
      "\u001b[34m\u001b[1mwandb\u001b[0m: \u001b[32m\u001b[41mERROR\u001b[0m            ^^^^^^^^^^^^^^^^^^^^^^^^^^^\n",
      "\u001b[34m\u001b[1mwandb\u001b[0m: \u001b[32m\u001b[41mERROR\u001b[0m   File \"/usr/local/lib/python3.11/dist-packages/torch/nn/modules/module.py\", line 1340, in to\n",
      "\u001b[34m\u001b[1mwandb\u001b[0m: \u001b[32m\u001b[41mERROR\u001b[0m     return self._apply(convert)\n",
      "\u001b[34m\u001b[1mwandb\u001b[0m: \u001b[32m\u001b[41mERROR\u001b[0m            ^^^^^^^^^^^^^^^^^^^^\n",
      "\u001b[34m\u001b[1mwandb\u001b[0m: \u001b[32m\u001b[41mERROR\u001b[0m   File \"/usr/local/lib/python3.11/dist-packages/torch/nn/modules/module.py\", line 900, in _apply\n",
      "\u001b[34m\u001b[1mwandb\u001b[0m: \u001b[32m\u001b[41mERROR\u001b[0m     module._apply(fn)\n",
      "\u001b[34m\u001b[1mwandb\u001b[0m: \u001b[32m\u001b[41mERROR\u001b[0m   File \"/usr/local/lib/python3.11/dist-packages/torch/nn/modules/module.py\", line 900, in _apply\n",
      "\u001b[34m\u001b[1mwandb\u001b[0m: \u001b[32m\u001b[41mERROR\u001b[0m     module._apply(fn)\n",
      "\u001b[34m\u001b[1mwandb\u001b[0m: \u001b[32m\u001b[41mERROR\u001b[0m   File \"/usr/local/lib/python3.11/dist-packages/torch/nn/modules/module.py\", line 900, in _apply\n",
      "\u001b[34m\u001b[1mwandb\u001b[0m: \u001b[32m\u001b[41mERROR\u001b[0m     module._apply(fn)\n",
      "\u001b[34m\u001b[1mwandb\u001b[0m: \u001b[32m\u001b[41mERROR\u001b[0m   File \"/usr/local/lib/python3.11/dist-packages/torch/nn/modules/module.py\", line 927, in _apply\n",
      "\u001b[34m\u001b[1mwandb\u001b[0m: \u001b[32m\u001b[41mERROR\u001b[0m     param_applied = fn(param)\n",
      "\u001b[34m\u001b[1mwandb\u001b[0m: \u001b[32m\u001b[41mERROR\u001b[0m                     ^^^^^^^^^\n",
      "\u001b[34m\u001b[1mwandb\u001b[0m: \u001b[32m\u001b[41mERROR\u001b[0m   File \"/usr/local/lib/python3.11/dist-packages/torch/nn/modules/module.py\", line 1326, in convert\n",
      "\u001b[34m\u001b[1mwandb\u001b[0m: \u001b[32m\u001b[41mERROR\u001b[0m     return t.to(\n",
      "\u001b[34m\u001b[1mwandb\u001b[0m: \u001b[32m\u001b[41mERROR\u001b[0m            ^^^^^\n",
      "\u001b[34m\u001b[1mwandb\u001b[0m: \u001b[32m\u001b[41mERROR\u001b[0m torch.OutOfMemoryError: CUDA out of memory. Tried to allocate 148.00 MiB. GPU 0 has a total capacity of 10.75 GiB of which 83.81 MiB is free. Process 934104 has 10.66 GiB memory in use. Of the allocated memory 10.37 GiB is allocated by PyTorch, and 104.79 MiB is reserved by PyTorch but unallocated. If reserved but unallocated memory is large try setting PYTORCH_CUDA_ALLOC_CONF=expandable_segments:True to avoid fragmentation.  See documentation for Memory Management  (https://pytorch.org/docs/stable/notes/cuda.html#environment-variables)\n",
      "\u001b[34m\u001b[1mwandb\u001b[0m: \u001b[32m\u001b[41mERROR\u001b[0m \n",
      "\u001b[34m\u001b[1mwandb\u001b[0m: Agent Starting Run: nhuv7ier with config:\n",
      "\u001b[34m\u001b[1mwandb\u001b[0m: \tlearning_rate: 1.3384765303368449e-05\n",
      "\u001b[34m\u001b[1mwandb\u001b[0m: \tnum_train_epochs: 2\n",
      "\u001b[34m\u001b[1mwandb\u001b[0m: \tper_device_train_batch_size: 16\n"
     ]
    },
    {
     "data": {
      "text/html": [
       "Tracking run with wandb version 0.19.9"
      ],
      "text/plain": [
       "<IPython.core.display.HTML object>"
      ]
     },
     "metadata": {},
     "output_type": "display_data"
    },
    {
     "data": {
      "text/html": [
       "Run data is saved locally in <code>/Lab_1/wandb/run-20250521_232204-nhuv7ier</code>"
      ],
      "text/plain": [
       "<IPython.core.display.HTML object>"
      ]
     },
     "metadata": {},
     "output_type": "display_data"
    },
    {
     "data": {
      "text/html": [
       "Syncing run <strong><a href='https://wandb.ai/natalia-timokhova-v-lule-university-of-technology/roberta-sweep-lab1/runs/nhuv7ier' target=\"_blank\">volcanic-sweep-17</a></strong> to <a href='https://wandb.ai/natalia-timokhova-v-lule-university-of-technology/roberta-sweep-lab1' target=\"_blank\">Weights & Biases</a> (<a href='https://wandb.me/developer-guide' target=\"_blank\">docs</a>)<br>Sweep page: <a href='https://wandb.ai/natalia-timokhova-v-lule-university-of-technology/roberta-sweep-lab1/sweeps/wecneufa' target=\"_blank\">https://wandb.ai/natalia-timokhova-v-lule-university-of-technology/roberta-sweep-lab1/sweeps/wecneufa</a>"
      ],
      "text/plain": [
       "<IPython.core.display.HTML object>"
      ]
     },
     "metadata": {},
     "output_type": "display_data"
    },
    {
     "data": {
      "text/html": [
       " View project at <a href='https://wandb.ai/natalia-timokhova-v-lule-university-of-technology/roberta-sweep-lab1' target=\"_blank\">https://wandb.ai/natalia-timokhova-v-lule-university-of-technology/roberta-sweep-lab1</a>"
      ],
      "text/plain": [
       "<IPython.core.display.HTML object>"
      ]
     },
     "metadata": {},
     "output_type": "display_data"
    },
    {
     "data": {
      "text/html": [
       " View sweep at <a href='https://wandb.ai/natalia-timokhova-v-lule-university-of-technology/roberta-sweep-lab1/sweeps/wecneufa' target=\"_blank\">https://wandb.ai/natalia-timokhova-v-lule-university-of-technology/roberta-sweep-lab1/sweeps/wecneufa</a>"
      ],
      "text/plain": [
       "<IPython.core.display.HTML object>"
      ]
     },
     "metadata": {},
     "output_type": "display_data"
    },
    {
     "data": {
      "text/html": [
       " View run at <a href='https://wandb.ai/natalia-timokhova-v-lule-university-of-technology/roberta-sweep-lab1/runs/nhuv7ier' target=\"_blank\">https://wandb.ai/natalia-timokhova-v-lule-university-of-technology/roberta-sweep-lab1/runs/nhuv7ier</a>"
      ],
      "text/plain": [
       "<IPython.core.display.HTML object>"
      ]
     },
     "metadata": {},
     "output_type": "display_data"
    },
    {
     "name": "stderr",
     "output_type": "stream",
     "text": [
      "Some weights of RobertaForSequenceClassification were not initialized from the model checkpoint at roberta-base and are newly initialized: ['classifier.dense.bias', 'classifier.dense.weight', 'classifier.out_proj.bias', 'classifier.out_proj.weight']\n",
      "You should probably TRAIN this model on a down-stream task to be able to use it for predictions and inference.\n",
      "Traceback (most recent call last):\n",
      "  File \"/tmp/ipykernel_142970/1539672656.py\", line 22, in train\n",
      "    trainer = Trainer(\n",
      "              ^^^^^^^^\n",
      "  File \"/usr/local/lib/python3.11/dist-packages/transformers/utils/deprecation.py\", line 172, in wrapped_func\n",
      "    return func(*args, **kwargs)\n",
      "           ^^^^^^^^^^^^^^^^^^^^^\n",
      "  File \"/usr/local/lib/python3.11/dist-packages/transformers/trainer.py\", line 622, in __init__\n",
      "    self._move_model_to_device(model, args.device)\n",
      "  File \"/usr/local/lib/python3.11/dist-packages/transformers/trainer.py\", line 905, in _move_model_to_device\n",
      "    model = model.to(device)\n",
      "            ^^^^^^^^^^^^^^^^\n",
      "  File \"/usr/local/lib/python3.11/dist-packages/transformers/modeling_utils.py\", line 3850, in to\n",
      "    return super().to(*args, **kwargs)\n",
      "           ^^^^^^^^^^^^^^^^^^^^^^^^^^^\n",
      "  File \"/usr/local/lib/python3.11/dist-packages/torch/nn/modules/module.py\", line 1340, in to\n",
      "    return self._apply(convert)\n",
      "           ^^^^^^^^^^^^^^^^^^^^\n",
      "  File \"/usr/local/lib/python3.11/dist-packages/torch/nn/modules/module.py\", line 900, in _apply\n",
      "    module._apply(fn)\n",
      "  File \"/usr/local/lib/python3.11/dist-packages/torch/nn/modules/module.py\", line 900, in _apply\n",
      "    module._apply(fn)\n",
      "  File \"/usr/local/lib/python3.11/dist-packages/torch/nn/modules/module.py\", line 900, in _apply\n",
      "    module._apply(fn)\n",
      "  File \"/usr/local/lib/python3.11/dist-packages/torch/nn/modules/module.py\", line 927, in _apply\n",
      "    param_applied = fn(param)\n",
      "                    ^^^^^^^^^\n",
      "  File \"/usr/local/lib/python3.11/dist-packages/torch/nn/modules/module.py\", line 1326, in convert\n",
      "    return t.to(\n",
      "           ^^^^^\n",
      "torch.OutOfMemoryError: CUDA out of memory. Tried to allocate 148.00 MiB. GPU 0 has a total capacity of 10.75 GiB of which 83.81 MiB is free. Process 934104 has 10.66 GiB memory in use. Of the allocated memory 10.37 GiB is allocated by PyTorch, and 104.79 MiB is reserved by PyTorch but unallocated. If reserved but unallocated memory is large try setting PYTORCH_CUDA_ALLOC_CONF=expandable_segments:True to avoid fragmentation.  See documentation for Memory Management  (https://pytorch.org/docs/stable/notes/cuda.html#environment-variables)\n"
     ]
    },
    {
     "data": {
      "text/html": [],
      "text/plain": [
       "<IPython.core.display.HTML object>"
      ]
     },
     "metadata": {},
     "output_type": "display_data"
    },
    {
     "data": {
      "text/html": [
       " View run <strong style=\"color:#cdcd00\">volcanic-sweep-17</strong> at: <a href='https://wandb.ai/natalia-timokhova-v-lule-university-of-technology/roberta-sweep-lab1/runs/nhuv7ier' target=\"_blank\">https://wandb.ai/natalia-timokhova-v-lule-university-of-technology/roberta-sweep-lab1/runs/nhuv7ier</a><br> View project at: <a href='https://wandb.ai/natalia-timokhova-v-lule-university-of-technology/roberta-sweep-lab1' target=\"_blank\">https://wandb.ai/natalia-timokhova-v-lule-university-of-technology/roberta-sweep-lab1</a><br>Synced 5 W&B file(s), 0 media file(s), 0 artifact file(s) and 0 other file(s)"
      ],
      "text/plain": [
       "<IPython.core.display.HTML object>"
      ]
     },
     "metadata": {},
     "output_type": "display_data"
    },
    {
     "data": {
      "text/html": [
       "Find logs at: <code>./wandb/run-20250521_232204-nhuv7ier/logs</code>"
      ],
      "text/plain": [
       "<IPython.core.display.HTML object>"
      ]
     },
     "metadata": {},
     "output_type": "display_data"
    },
    {
     "name": "stderr",
     "output_type": "stream",
     "text": [
      "\u001b[34m\u001b[1mwandb\u001b[0m: \u001b[32m\u001b[41mERROR\u001b[0m Run nhuv7ier errored:\n",
      "\u001b[34m\u001b[1mwandb\u001b[0m: \u001b[32m\u001b[41mERROR\u001b[0m Traceback (most recent call last):\n",
      "\u001b[34m\u001b[1mwandb\u001b[0m: \u001b[32m\u001b[41mERROR\u001b[0m   File \"/usr/local/lib/python3.11/dist-packages/wandb/agents/pyagent.py\", line 306, in _run_job\n",
      "\u001b[34m\u001b[1mwandb\u001b[0m: \u001b[32m\u001b[41mERROR\u001b[0m     self._function()\n",
      "\u001b[34m\u001b[1mwandb\u001b[0m: \u001b[32m\u001b[41mERROR\u001b[0m   File \"/tmp/ipykernel_142970/1539672656.py\", line 22, in train\n",
      "\u001b[34m\u001b[1mwandb\u001b[0m: \u001b[32m\u001b[41mERROR\u001b[0m     trainer = Trainer(\n",
      "\u001b[34m\u001b[1mwandb\u001b[0m: \u001b[32m\u001b[41mERROR\u001b[0m               ^^^^^^^^\n",
      "\u001b[34m\u001b[1mwandb\u001b[0m: \u001b[32m\u001b[41mERROR\u001b[0m   File \"/usr/local/lib/python3.11/dist-packages/transformers/utils/deprecation.py\", line 172, in wrapped_func\n",
      "\u001b[34m\u001b[1mwandb\u001b[0m: \u001b[32m\u001b[41mERROR\u001b[0m     return func(*args, **kwargs)\n",
      "\u001b[34m\u001b[1mwandb\u001b[0m: \u001b[32m\u001b[41mERROR\u001b[0m            ^^^^^^^^^^^^^^^^^^^^^\n",
      "\u001b[34m\u001b[1mwandb\u001b[0m: \u001b[32m\u001b[41mERROR\u001b[0m   File \"/usr/local/lib/python3.11/dist-packages/transformers/trainer.py\", line 622, in __init__\n",
      "\u001b[34m\u001b[1mwandb\u001b[0m: \u001b[32m\u001b[41mERROR\u001b[0m     self._move_model_to_device(model, args.device)\n",
      "\u001b[34m\u001b[1mwandb\u001b[0m: \u001b[32m\u001b[41mERROR\u001b[0m   File \"/usr/local/lib/python3.11/dist-packages/transformers/trainer.py\", line 905, in _move_model_to_device\n",
      "\u001b[34m\u001b[1mwandb\u001b[0m: \u001b[32m\u001b[41mERROR\u001b[0m     model = model.to(device)\n",
      "\u001b[34m\u001b[1mwandb\u001b[0m: \u001b[32m\u001b[41mERROR\u001b[0m             ^^^^^^^^^^^^^^^^\n",
      "\u001b[34m\u001b[1mwandb\u001b[0m: \u001b[32m\u001b[41mERROR\u001b[0m   File \"/usr/local/lib/python3.11/dist-packages/transformers/modeling_utils.py\", line 3850, in to\n",
      "\u001b[34m\u001b[1mwandb\u001b[0m: \u001b[32m\u001b[41mERROR\u001b[0m     return super().to(*args, **kwargs)\n",
      "\u001b[34m\u001b[1mwandb\u001b[0m: \u001b[32m\u001b[41mERROR\u001b[0m            ^^^^^^^^^^^^^^^^^^^^^^^^^^^\n",
      "\u001b[34m\u001b[1mwandb\u001b[0m: \u001b[32m\u001b[41mERROR\u001b[0m   File \"/usr/local/lib/python3.11/dist-packages/torch/nn/modules/module.py\", line 1340, in to\n",
      "\u001b[34m\u001b[1mwandb\u001b[0m: \u001b[32m\u001b[41mERROR\u001b[0m     return self._apply(convert)\n",
      "\u001b[34m\u001b[1mwandb\u001b[0m: \u001b[32m\u001b[41mERROR\u001b[0m            ^^^^^^^^^^^^^^^^^^^^\n",
      "\u001b[34m\u001b[1mwandb\u001b[0m: \u001b[32m\u001b[41mERROR\u001b[0m   File \"/usr/local/lib/python3.11/dist-packages/torch/nn/modules/module.py\", line 900, in _apply\n",
      "\u001b[34m\u001b[1mwandb\u001b[0m: \u001b[32m\u001b[41mERROR\u001b[0m     module._apply(fn)\n",
      "\u001b[34m\u001b[1mwandb\u001b[0m: \u001b[32m\u001b[41mERROR\u001b[0m   File \"/usr/local/lib/python3.11/dist-packages/torch/nn/modules/module.py\", line 900, in _apply\n",
      "\u001b[34m\u001b[1mwandb\u001b[0m: \u001b[32m\u001b[41mERROR\u001b[0m     module._apply(fn)\n",
      "\u001b[34m\u001b[1mwandb\u001b[0m: \u001b[32m\u001b[41mERROR\u001b[0m   File \"/usr/local/lib/python3.11/dist-packages/torch/nn/modules/module.py\", line 900, in _apply\n",
      "\u001b[34m\u001b[1mwandb\u001b[0m: \u001b[32m\u001b[41mERROR\u001b[0m     module._apply(fn)\n",
      "\u001b[34m\u001b[1mwandb\u001b[0m: \u001b[32m\u001b[41mERROR\u001b[0m   File \"/usr/local/lib/python3.11/dist-packages/torch/nn/modules/module.py\", line 927, in _apply\n",
      "\u001b[34m\u001b[1mwandb\u001b[0m: \u001b[32m\u001b[41mERROR\u001b[0m     param_applied = fn(param)\n",
      "\u001b[34m\u001b[1mwandb\u001b[0m: \u001b[32m\u001b[41mERROR\u001b[0m                     ^^^^^^^^^\n",
      "\u001b[34m\u001b[1mwandb\u001b[0m: \u001b[32m\u001b[41mERROR\u001b[0m   File \"/usr/local/lib/python3.11/dist-packages/torch/nn/modules/module.py\", line 1326, in convert\n",
      "\u001b[34m\u001b[1mwandb\u001b[0m: \u001b[32m\u001b[41mERROR\u001b[0m     return t.to(\n",
      "\u001b[34m\u001b[1mwandb\u001b[0m: \u001b[32m\u001b[41mERROR\u001b[0m            ^^^^^\n",
      "\u001b[34m\u001b[1mwandb\u001b[0m: \u001b[32m\u001b[41mERROR\u001b[0m torch.OutOfMemoryError: CUDA out of memory. Tried to allocate 148.00 MiB. GPU 0 has a total capacity of 10.75 GiB of which 83.81 MiB is free. Process 934104 has 10.66 GiB memory in use. Of the allocated memory 10.37 GiB is allocated by PyTorch, and 104.79 MiB is reserved by PyTorch but unallocated. If reserved but unallocated memory is large try setting PYTORCH_CUDA_ALLOC_CONF=expandable_segments:True to avoid fragmentation.  See documentation for Memory Management  (https://pytorch.org/docs/stable/notes/cuda.html#environment-variables)\n",
      "\u001b[34m\u001b[1mwandb\u001b[0m: \u001b[32m\u001b[41mERROR\u001b[0m \n",
      "\u001b[34m\u001b[1mwandb\u001b[0m: Agent Starting Run: u53kyqpc with config:\n",
      "\u001b[34m\u001b[1mwandb\u001b[0m: \tlearning_rate: 8.266380743550708e-06\n",
      "\u001b[34m\u001b[1mwandb\u001b[0m: \tnum_train_epochs: 4\n",
      "\u001b[34m\u001b[1mwandb\u001b[0m: \tper_device_train_batch_size: 8\n"
     ]
    },
    {
     "data": {
      "text/html": [
       "Tracking run with wandb version 0.19.9"
      ],
      "text/plain": [
       "<IPython.core.display.HTML object>"
      ]
     },
     "metadata": {},
     "output_type": "display_data"
    },
    {
     "data": {
      "text/html": [
       "Run data is saved locally in <code>/Lab_1/wandb/run-20250521_232210-u53kyqpc</code>"
      ],
      "text/plain": [
       "<IPython.core.display.HTML object>"
      ]
     },
     "metadata": {},
     "output_type": "display_data"
    },
    {
     "data": {
      "text/html": [
       "Syncing run <strong><a href='https://wandb.ai/natalia-timokhova-v-lule-university-of-technology/roberta-sweep-lab1/runs/u53kyqpc' target=\"_blank\">fancy-sweep-18</a></strong> to <a href='https://wandb.ai/natalia-timokhova-v-lule-university-of-technology/roberta-sweep-lab1' target=\"_blank\">Weights & Biases</a> (<a href='https://wandb.me/developer-guide' target=\"_blank\">docs</a>)<br>Sweep page: <a href='https://wandb.ai/natalia-timokhova-v-lule-university-of-technology/roberta-sweep-lab1/sweeps/wecneufa' target=\"_blank\">https://wandb.ai/natalia-timokhova-v-lule-university-of-technology/roberta-sweep-lab1/sweeps/wecneufa</a>"
      ],
      "text/plain": [
       "<IPython.core.display.HTML object>"
      ]
     },
     "metadata": {},
     "output_type": "display_data"
    },
    {
     "data": {
      "text/html": [
       " View project at <a href='https://wandb.ai/natalia-timokhova-v-lule-university-of-technology/roberta-sweep-lab1' target=\"_blank\">https://wandb.ai/natalia-timokhova-v-lule-university-of-technology/roberta-sweep-lab1</a>"
      ],
      "text/plain": [
       "<IPython.core.display.HTML object>"
      ]
     },
     "metadata": {},
     "output_type": "display_data"
    },
    {
     "data": {
      "text/html": [
       " View sweep at <a href='https://wandb.ai/natalia-timokhova-v-lule-university-of-technology/roberta-sweep-lab1/sweeps/wecneufa' target=\"_blank\">https://wandb.ai/natalia-timokhova-v-lule-university-of-technology/roberta-sweep-lab1/sweeps/wecneufa</a>"
      ],
      "text/plain": [
       "<IPython.core.display.HTML object>"
      ]
     },
     "metadata": {},
     "output_type": "display_data"
    },
    {
     "data": {
      "text/html": [
       " View run at <a href='https://wandb.ai/natalia-timokhova-v-lule-university-of-technology/roberta-sweep-lab1/runs/u53kyqpc' target=\"_blank\">https://wandb.ai/natalia-timokhova-v-lule-university-of-technology/roberta-sweep-lab1/runs/u53kyqpc</a>"
      ],
      "text/plain": [
       "<IPython.core.display.HTML object>"
      ]
     },
     "metadata": {},
     "output_type": "display_data"
    },
    {
     "name": "stderr",
     "output_type": "stream",
     "text": [
      "Some weights of RobertaForSequenceClassification were not initialized from the model checkpoint at roberta-base and are newly initialized: ['classifier.dense.bias', 'classifier.dense.weight', 'classifier.out_proj.bias', 'classifier.out_proj.weight']\n",
      "You should probably TRAIN this model on a down-stream task to be able to use it for predictions and inference.\n",
      "Traceback (most recent call last):\n",
      "  File \"/tmp/ipykernel_142970/1539672656.py\", line 22, in train\n",
      "    trainer = Trainer(\n",
      "              ^^^^^^^^\n",
      "  File \"/usr/local/lib/python3.11/dist-packages/transformers/utils/deprecation.py\", line 172, in wrapped_func\n",
      "    return func(*args, **kwargs)\n",
      "           ^^^^^^^^^^^^^^^^^^^^^\n",
      "  File \"/usr/local/lib/python3.11/dist-packages/transformers/trainer.py\", line 622, in __init__\n",
      "    self._move_model_to_device(model, args.device)\n",
      "  File \"/usr/local/lib/python3.11/dist-packages/transformers/trainer.py\", line 905, in _move_model_to_device\n",
      "    model = model.to(device)\n",
      "            ^^^^^^^^^^^^^^^^\n",
      "  File \"/usr/local/lib/python3.11/dist-packages/transformers/modeling_utils.py\", line 3850, in to\n",
      "    return super().to(*args, **kwargs)\n",
      "           ^^^^^^^^^^^^^^^^^^^^^^^^^^^\n",
      "  File \"/usr/local/lib/python3.11/dist-packages/torch/nn/modules/module.py\", line 1340, in to\n",
      "    return self._apply(convert)\n",
      "           ^^^^^^^^^^^^^^^^^^^^\n",
      "  File \"/usr/local/lib/python3.11/dist-packages/torch/nn/modules/module.py\", line 900, in _apply\n",
      "    module._apply(fn)\n",
      "  File \"/usr/local/lib/python3.11/dist-packages/torch/nn/modules/module.py\", line 900, in _apply\n",
      "    module._apply(fn)\n",
      "  File \"/usr/local/lib/python3.11/dist-packages/torch/nn/modules/module.py\", line 900, in _apply\n",
      "    module._apply(fn)\n",
      "  File \"/usr/local/lib/python3.11/dist-packages/torch/nn/modules/module.py\", line 927, in _apply\n",
      "    param_applied = fn(param)\n",
      "                    ^^^^^^^^^\n",
      "  File \"/usr/local/lib/python3.11/dist-packages/torch/nn/modules/module.py\", line 1326, in convert\n",
      "    return t.to(\n",
      "           ^^^^^\n",
      "torch.OutOfMemoryError: CUDA out of memory. Tried to allocate 148.00 MiB. GPU 0 has a total capacity of 10.75 GiB of which 83.81 MiB is free. Process 934104 has 10.66 GiB memory in use. Of the allocated memory 10.37 GiB is allocated by PyTorch, and 104.79 MiB is reserved by PyTorch but unallocated. If reserved but unallocated memory is large try setting PYTORCH_CUDA_ALLOC_CONF=expandable_segments:True to avoid fragmentation.  See documentation for Memory Management  (https://pytorch.org/docs/stable/notes/cuda.html#environment-variables)\n"
     ]
    },
    {
     "data": {
      "text/html": [],
      "text/plain": [
       "<IPython.core.display.HTML object>"
      ]
     },
     "metadata": {},
     "output_type": "display_data"
    },
    {
     "data": {
      "text/html": [
       " View run <strong style=\"color:#cdcd00\">fancy-sweep-18</strong> at: <a href='https://wandb.ai/natalia-timokhova-v-lule-university-of-technology/roberta-sweep-lab1/runs/u53kyqpc' target=\"_blank\">https://wandb.ai/natalia-timokhova-v-lule-university-of-technology/roberta-sweep-lab1/runs/u53kyqpc</a><br> View project at: <a href='https://wandb.ai/natalia-timokhova-v-lule-university-of-technology/roberta-sweep-lab1' target=\"_blank\">https://wandb.ai/natalia-timokhova-v-lule-university-of-technology/roberta-sweep-lab1</a><br>Synced 5 W&B file(s), 0 media file(s), 0 artifact file(s) and 0 other file(s)"
      ],
      "text/plain": [
       "<IPython.core.display.HTML object>"
      ]
     },
     "metadata": {},
     "output_type": "display_data"
    },
    {
     "data": {
      "text/html": [
       "Find logs at: <code>./wandb/run-20250521_232210-u53kyqpc/logs</code>"
      ],
      "text/plain": [
       "<IPython.core.display.HTML object>"
      ]
     },
     "metadata": {},
     "output_type": "display_data"
    },
    {
     "name": "stderr",
     "output_type": "stream",
     "text": [
      "\u001b[34m\u001b[1mwandb\u001b[0m: \u001b[32m\u001b[41mERROR\u001b[0m Run u53kyqpc errored:\n",
      "\u001b[34m\u001b[1mwandb\u001b[0m: \u001b[32m\u001b[41mERROR\u001b[0m Traceback (most recent call last):\n",
      "\u001b[34m\u001b[1mwandb\u001b[0m: \u001b[32m\u001b[41mERROR\u001b[0m   File \"/usr/local/lib/python3.11/dist-packages/wandb/agents/pyagent.py\", line 306, in _run_job\n",
      "\u001b[34m\u001b[1mwandb\u001b[0m: \u001b[32m\u001b[41mERROR\u001b[0m     self._function()\n",
      "\u001b[34m\u001b[1mwandb\u001b[0m: \u001b[32m\u001b[41mERROR\u001b[0m   File \"/tmp/ipykernel_142970/1539672656.py\", line 22, in train\n",
      "\u001b[34m\u001b[1mwandb\u001b[0m: \u001b[32m\u001b[41mERROR\u001b[0m     trainer = Trainer(\n",
      "\u001b[34m\u001b[1mwandb\u001b[0m: \u001b[32m\u001b[41mERROR\u001b[0m               ^^^^^^^^\n",
      "\u001b[34m\u001b[1mwandb\u001b[0m: \u001b[32m\u001b[41mERROR\u001b[0m   File \"/usr/local/lib/python3.11/dist-packages/transformers/utils/deprecation.py\", line 172, in wrapped_func\n",
      "\u001b[34m\u001b[1mwandb\u001b[0m: \u001b[32m\u001b[41mERROR\u001b[0m     return func(*args, **kwargs)\n",
      "\u001b[34m\u001b[1mwandb\u001b[0m: \u001b[32m\u001b[41mERROR\u001b[0m            ^^^^^^^^^^^^^^^^^^^^^\n",
      "\u001b[34m\u001b[1mwandb\u001b[0m: \u001b[32m\u001b[41mERROR\u001b[0m   File \"/usr/local/lib/python3.11/dist-packages/transformers/trainer.py\", line 622, in __init__\n",
      "\u001b[34m\u001b[1mwandb\u001b[0m: \u001b[32m\u001b[41mERROR\u001b[0m     self._move_model_to_device(model, args.device)\n",
      "\u001b[34m\u001b[1mwandb\u001b[0m: \u001b[32m\u001b[41mERROR\u001b[0m   File \"/usr/local/lib/python3.11/dist-packages/transformers/trainer.py\", line 905, in _move_model_to_device\n",
      "\u001b[34m\u001b[1mwandb\u001b[0m: \u001b[32m\u001b[41mERROR\u001b[0m     model = model.to(device)\n",
      "\u001b[34m\u001b[1mwandb\u001b[0m: \u001b[32m\u001b[41mERROR\u001b[0m             ^^^^^^^^^^^^^^^^\n",
      "\u001b[34m\u001b[1mwandb\u001b[0m: \u001b[32m\u001b[41mERROR\u001b[0m   File \"/usr/local/lib/python3.11/dist-packages/transformers/modeling_utils.py\", line 3850, in to\n",
      "\u001b[34m\u001b[1mwandb\u001b[0m: \u001b[32m\u001b[41mERROR\u001b[0m     return super().to(*args, **kwargs)\n",
      "\u001b[34m\u001b[1mwandb\u001b[0m: \u001b[32m\u001b[41mERROR\u001b[0m            ^^^^^^^^^^^^^^^^^^^^^^^^^^^\n",
      "\u001b[34m\u001b[1mwandb\u001b[0m: \u001b[32m\u001b[41mERROR\u001b[0m   File \"/usr/local/lib/python3.11/dist-packages/torch/nn/modules/module.py\", line 1340, in to\n",
      "\u001b[34m\u001b[1mwandb\u001b[0m: \u001b[32m\u001b[41mERROR\u001b[0m     return self._apply(convert)\n",
      "\u001b[34m\u001b[1mwandb\u001b[0m: \u001b[32m\u001b[41mERROR\u001b[0m            ^^^^^^^^^^^^^^^^^^^^\n",
      "\u001b[34m\u001b[1mwandb\u001b[0m: \u001b[32m\u001b[41mERROR\u001b[0m   File \"/usr/local/lib/python3.11/dist-packages/torch/nn/modules/module.py\", line 900, in _apply\n",
      "\u001b[34m\u001b[1mwandb\u001b[0m: \u001b[32m\u001b[41mERROR\u001b[0m     module._apply(fn)\n",
      "\u001b[34m\u001b[1mwandb\u001b[0m: \u001b[32m\u001b[41mERROR\u001b[0m   File \"/usr/local/lib/python3.11/dist-packages/torch/nn/modules/module.py\", line 900, in _apply\n",
      "\u001b[34m\u001b[1mwandb\u001b[0m: \u001b[32m\u001b[41mERROR\u001b[0m     module._apply(fn)\n",
      "\u001b[34m\u001b[1mwandb\u001b[0m: \u001b[32m\u001b[41mERROR\u001b[0m   File \"/usr/local/lib/python3.11/dist-packages/torch/nn/modules/module.py\", line 900, in _apply\n",
      "\u001b[34m\u001b[1mwandb\u001b[0m: \u001b[32m\u001b[41mERROR\u001b[0m     module._apply(fn)\n",
      "\u001b[34m\u001b[1mwandb\u001b[0m: \u001b[32m\u001b[41mERROR\u001b[0m   File \"/usr/local/lib/python3.11/dist-packages/torch/nn/modules/module.py\", line 927, in _apply\n",
      "\u001b[34m\u001b[1mwandb\u001b[0m: \u001b[32m\u001b[41mERROR\u001b[0m     param_applied = fn(param)\n",
      "\u001b[34m\u001b[1mwandb\u001b[0m: \u001b[32m\u001b[41mERROR\u001b[0m                     ^^^^^^^^^\n",
      "\u001b[34m\u001b[1mwandb\u001b[0m: \u001b[32m\u001b[41mERROR\u001b[0m   File \"/usr/local/lib/python3.11/dist-packages/torch/nn/modules/module.py\", line 1326, in convert\n",
      "\u001b[34m\u001b[1mwandb\u001b[0m: \u001b[32m\u001b[41mERROR\u001b[0m     return t.to(\n",
      "\u001b[34m\u001b[1mwandb\u001b[0m: \u001b[32m\u001b[41mERROR\u001b[0m            ^^^^^\n",
      "\u001b[34m\u001b[1mwandb\u001b[0m: \u001b[32m\u001b[41mERROR\u001b[0m torch.OutOfMemoryError: CUDA out of memory. Tried to allocate 148.00 MiB. GPU 0 has a total capacity of 10.75 GiB of which 83.81 MiB is free. Process 934104 has 10.66 GiB memory in use. Of the allocated memory 10.37 GiB is allocated by PyTorch, and 104.79 MiB is reserved by PyTorch but unallocated. If reserved but unallocated memory is large try setting PYTORCH_CUDA_ALLOC_CONF=expandable_segments:True to avoid fragmentation.  See documentation for Memory Management  (https://pytorch.org/docs/stable/notes/cuda.html#environment-variables)\n",
      "\u001b[34m\u001b[1mwandb\u001b[0m: \u001b[32m\u001b[41mERROR\u001b[0m \n",
      "\u001b[34m\u001b[1mwandb\u001b[0m: Agent Starting Run: 1eu83yc8 with config:\n",
      "\u001b[34m\u001b[1mwandb\u001b[0m: \tlearning_rate: 6.741494597431253e-06\n",
      "\u001b[34m\u001b[1mwandb\u001b[0m: \tnum_train_epochs: 3\n",
      "\u001b[34m\u001b[1mwandb\u001b[0m: \tper_device_train_batch_size: 32\n"
     ]
    },
    {
     "data": {
      "text/html": [
       "Tracking run with wandb version 0.19.9"
      ],
      "text/plain": [
       "<IPython.core.display.HTML object>"
      ]
     },
     "metadata": {},
     "output_type": "display_data"
    },
    {
     "data": {
      "text/html": [
       "Run data is saved locally in <code>/Lab_1/wandb/run-20250521_232215-1eu83yc8</code>"
      ],
      "text/plain": [
       "<IPython.core.display.HTML object>"
      ]
     },
     "metadata": {},
     "output_type": "display_data"
    },
    {
     "data": {
      "text/html": [
       "Syncing run <strong><a href='https://wandb.ai/natalia-timokhova-v-lule-university-of-technology/roberta-sweep-lab1/runs/1eu83yc8' target=\"_blank\">earthy-sweep-19</a></strong> to <a href='https://wandb.ai/natalia-timokhova-v-lule-university-of-technology/roberta-sweep-lab1' target=\"_blank\">Weights & Biases</a> (<a href='https://wandb.me/developer-guide' target=\"_blank\">docs</a>)<br>Sweep page: <a href='https://wandb.ai/natalia-timokhova-v-lule-university-of-technology/roberta-sweep-lab1/sweeps/wecneufa' target=\"_blank\">https://wandb.ai/natalia-timokhova-v-lule-university-of-technology/roberta-sweep-lab1/sweeps/wecneufa</a>"
      ],
      "text/plain": [
       "<IPython.core.display.HTML object>"
      ]
     },
     "metadata": {},
     "output_type": "display_data"
    },
    {
     "data": {
      "text/html": [
       " View project at <a href='https://wandb.ai/natalia-timokhova-v-lule-university-of-technology/roberta-sweep-lab1' target=\"_blank\">https://wandb.ai/natalia-timokhova-v-lule-university-of-technology/roberta-sweep-lab1</a>"
      ],
      "text/plain": [
       "<IPython.core.display.HTML object>"
      ]
     },
     "metadata": {},
     "output_type": "display_data"
    },
    {
     "data": {
      "text/html": [
       " View sweep at <a href='https://wandb.ai/natalia-timokhova-v-lule-university-of-technology/roberta-sweep-lab1/sweeps/wecneufa' target=\"_blank\">https://wandb.ai/natalia-timokhova-v-lule-university-of-technology/roberta-sweep-lab1/sweeps/wecneufa</a>"
      ],
      "text/plain": [
       "<IPython.core.display.HTML object>"
      ]
     },
     "metadata": {},
     "output_type": "display_data"
    },
    {
     "data": {
      "text/html": [
       " View run at <a href='https://wandb.ai/natalia-timokhova-v-lule-university-of-technology/roberta-sweep-lab1/runs/1eu83yc8' target=\"_blank\">https://wandb.ai/natalia-timokhova-v-lule-university-of-technology/roberta-sweep-lab1/runs/1eu83yc8</a>"
      ],
      "text/plain": [
       "<IPython.core.display.HTML object>"
      ]
     },
     "metadata": {},
     "output_type": "display_data"
    },
    {
     "name": "stderr",
     "output_type": "stream",
     "text": [
      "Some weights of RobertaForSequenceClassification were not initialized from the model checkpoint at roberta-base and are newly initialized: ['classifier.dense.bias', 'classifier.dense.weight', 'classifier.out_proj.bias', 'classifier.out_proj.weight']\n",
      "You should probably TRAIN this model on a down-stream task to be able to use it for predictions and inference.\n",
      "Traceback (most recent call last):\n",
      "  File \"/tmp/ipykernel_142970/1539672656.py\", line 22, in train\n",
      "    trainer = Trainer(\n",
      "              ^^^^^^^^\n",
      "  File \"/usr/local/lib/python3.11/dist-packages/transformers/utils/deprecation.py\", line 172, in wrapped_func\n",
      "    return func(*args, **kwargs)\n",
      "           ^^^^^^^^^^^^^^^^^^^^^\n",
      "  File \"/usr/local/lib/python3.11/dist-packages/transformers/trainer.py\", line 622, in __init__\n",
      "    self._move_model_to_device(model, args.device)\n",
      "  File \"/usr/local/lib/python3.11/dist-packages/transformers/trainer.py\", line 905, in _move_model_to_device\n",
      "    model = model.to(device)\n",
      "            ^^^^^^^^^^^^^^^^\n",
      "  File \"/usr/local/lib/python3.11/dist-packages/transformers/modeling_utils.py\", line 3850, in to\n",
      "    return super().to(*args, **kwargs)\n",
      "           ^^^^^^^^^^^^^^^^^^^^^^^^^^^\n",
      "  File \"/usr/local/lib/python3.11/dist-packages/torch/nn/modules/module.py\", line 1340, in to\n",
      "    return self._apply(convert)\n",
      "           ^^^^^^^^^^^^^^^^^^^^\n",
      "  File \"/usr/local/lib/python3.11/dist-packages/torch/nn/modules/module.py\", line 900, in _apply\n",
      "    module._apply(fn)\n",
      "  File \"/usr/local/lib/python3.11/dist-packages/torch/nn/modules/module.py\", line 900, in _apply\n",
      "    module._apply(fn)\n",
      "  File \"/usr/local/lib/python3.11/dist-packages/torch/nn/modules/module.py\", line 900, in _apply\n",
      "    module._apply(fn)\n",
      "  File \"/usr/local/lib/python3.11/dist-packages/torch/nn/modules/module.py\", line 927, in _apply\n",
      "    param_applied = fn(param)\n",
      "                    ^^^^^^^^^\n",
      "  File \"/usr/local/lib/python3.11/dist-packages/torch/nn/modules/module.py\", line 1326, in convert\n",
      "    return t.to(\n",
      "           ^^^^^\n",
      "torch.OutOfMemoryError: CUDA out of memory. Tried to allocate 148.00 MiB. GPU 0 has a total capacity of 10.75 GiB of which 83.81 MiB is free. Process 934104 has 10.66 GiB memory in use. Of the allocated memory 10.37 GiB is allocated by PyTorch, and 104.79 MiB is reserved by PyTorch but unallocated. If reserved but unallocated memory is large try setting PYTORCH_CUDA_ALLOC_CONF=expandable_segments:True to avoid fragmentation.  See documentation for Memory Management  (https://pytorch.org/docs/stable/notes/cuda.html#environment-variables)\n"
     ]
    },
    {
     "data": {
      "text/html": [],
      "text/plain": [
       "<IPython.core.display.HTML object>"
      ]
     },
     "metadata": {},
     "output_type": "display_data"
    },
    {
     "data": {
      "text/html": [
       " View run <strong style=\"color:#cdcd00\">earthy-sweep-19</strong> at: <a href='https://wandb.ai/natalia-timokhova-v-lule-university-of-technology/roberta-sweep-lab1/runs/1eu83yc8' target=\"_blank\">https://wandb.ai/natalia-timokhova-v-lule-university-of-technology/roberta-sweep-lab1/runs/1eu83yc8</a><br> View project at: <a href='https://wandb.ai/natalia-timokhova-v-lule-university-of-technology/roberta-sweep-lab1' target=\"_blank\">https://wandb.ai/natalia-timokhova-v-lule-university-of-technology/roberta-sweep-lab1</a><br>Synced 5 W&B file(s), 0 media file(s), 0 artifact file(s) and 0 other file(s)"
      ],
      "text/plain": [
       "<IPython.core.display.HTML object>"
      ]
     },
     "metadata": {},
     "output_type": "display_data"
    },
    {
     "data": {
      "text/html": [
       "Find logs at: <code>./wandb/run-20250521_232215-1eu83yc8/logs</code>"
      ],
      "text/plain": [
       "<IPython.core.display.HTML object>"
      ]
     },
     "metadata": {},
     "output_type": "display_data"
    },
    {
     "name": "stderr",
     "output_type": "stream",
     "text": [
      "\u001b[34m\u001b[1mwandb\u001b[0m: \u001b[32m\u001b[41mERROR\u001b[0m Run 1eu83yc8 errored:\n",
      "\u001b[34m\u001b[1mwandb\u001b[0m: \u001b[32m\u001b[41mERROR\u001b[0m Traceback (most recent call last):\n",
      "\u001b[34m\u001b[1mwandb\u001b[0m: \u001b[32m\u001b[41mERROR\u001b[0m   File \"/usr/local/lib/python3.11/dist-packages/wandb/agents/pyagent.py\", line 306, in _run_job\n",
      "\u001b[34m\u001b[1mwandb\u001b[0m: \u001b[32m\u001b[41mERROR\u001b[0m     self._function()\n",
      "\u001b[34m\u001b[1mwandb\u001b[0m: \u001b[32m\u001b[41mERROR\u001b[0m   File \"/tmp/ipykernel_142970/1539672656.py\", line 22, in train\n",
      "\u001b[34m\u001b[1mwandb\u001b[0m: \u001b[32m\u001b[41mERROR\u001b[0m     trainer = Trainer(\n",
      "\u001b[34m\u001b[1mwandb\u001b[0m: \u001b[32m\u001b[41mERROR\u001b[0m               ^^^^^^^^\n",
      "\u001b[34m\u001b[1mwandb\u001b[0m: \u001b[32m\u001b[41mERROR\u001b[0m   File \"/usr/local/lib/python3.11/dist-packages/transformers/utils/deprecation.py\", line 172, in wrapped_func\n",
      "\u001b[34m\u001b[1mwandb\u001b[0m: \u001b[32m\u001b[41mERROR\u001b[0m     return func(*args, **kwargs)\n",
      "\u001b[34m\u001b[1mwandb\u001b[0m: \u001b[32m\u001b[41mERROR\u001b[0m            ^^^^^^^^^^^^^^^^^^^^^\n",
      "\u001b[34m\u001b[1mwandb\u001b[0m: \u001b[32m\u001b[41mERROR\u001b[0m   File \"/usr/local/lib/python3.11/dist-packages/transformers/trainer.py\", line 622, in __init__\n",
      "\u001b[34m\u001b[1mwandb\u001b[0m: \u001b[32m\u001b[41mERROR\u001b[0m     self._move_model_to_device(model, args.device)\n",
      "\u001b[34m\u001b[1mwandb\u001b[0m: \u001b[32m\u001b[41mERROR\u001b[0m   File \"/usr/local/lib/python3.11/dist-packages/transformers/trainer.py\", line 905, in _move_model_to_device\n",
      "\u001b[34m\u001b[1mwandb\u001b[0m: \u001b[32m\u001b[41mERROR\u001b[0m     model = model.to(device)\n",
      "\u001b[34m\u001b[1mwandb\u001b[0m: \u001b[32m\u001b[41mERROR\u001b[0m             ^^^^^^^^^^^^^^^^\n",
      "\u001b[34m\u001b[1mwandb\u001b[0m: \u001b[32m\u001b[41mERROR\u001b[0m   File \"/usr/local/lib/python3.11/dist-packages/transformers/modeling_utils.py\", line 3850, in to\n",
      "\u001b[34m\u001b[1mwandb\u001b[0m: \u001b[32m\u001b[41mERROR\u001b[0m     return super().to(*args, **kwargs)\n",
      "\u001b[34m\u001b[1mwandb\u001b[0m: \u001b[32m\u001b[41mERROR\u001b[0m            ^^^^^^^^^^^^^^^^^^^^^^^^^^^\n",
      "\u001b[34m\u001b[1mwandb\u001b[0m: \u001b[32m\u001b[41mERROR\u001b[0m   File \"/usr/local/lib/python3.11/dist-packages/torch/nn/modules/module.py\", line 1340, in to\n",
      "\u001b[34m\u001b[1mwandb\u001b[0m: \u001b[32m\u001b[41mERROR\u001b[0m     return self._apply(convert)\n",
      "\u001b[34m\u001b[1mwandb\u001b[0m: \u001b[32m\u001b[41mERROR\u001b[0m            ^^^^^^^^^^^^^^^^^^^^\n",
      "\u001b[34m\u001b[1mwandb\u001b[0m: \u001b[32m\u001b[41mERROR\u001b[0m   File \"/usr/local/lib/python3.11/dist-packages/torch/nn/modules/module.py\", line 900, in _apply\n",
      "\u001b[34m\u001b[1mwandb\u001b[0m: \u001b[32m\u001b[41mERROR\u001b[0m     module._apply(fn)\n",
      "\u001b[34m\u001b[1mwandb\u001b[0m: \u001b[32m\u001b[41mERROR\u001b[0m   File \"/usr/local/lib/python3.11/dist-packages/torch/nn/modules/module.py\", line 900, in _apply\n",
      "\u001b[34m\u001b[1mwandb\u001b[0m: \u001b[32m\u001b[41mERROR\u001b[0m     module._apply(fn)\n",
      "\u001b[34m\u001b[1mwandb\u001b[0m: \u001b[32m\u001b[41mERROR\u001b[0m   File \"/usr/local/lib/python3.11/dist-packages/torch/nn/modules/module.py\", line 900, in _apply\n",
      "\u001b[34m\u001b[1mwandb\u001b[0m: \u001b[32m\u001b[41mERROR\u001b[0m     module._apply(fn)\n",
      "\u001b[34m\u001b[1mwandb\u001b[0m: \u001b[32m\u001b[41mERROR\u001b[0m   File \"/usr/local/lib/python3.11/dist-packages/torch/nn/modules/module.py\", line 927, in _apply\n",
      "\u001b[34m\u001b[1mwandb\u001b[0m: \u001b[32m\u001b[41mERROR\u001b[0m     param_applied = fn(param)\n",
      "\u001b[34m\u001b[1mwandb\u001b[0m: \u001b[32m\u001b[41mERROR\u001b[0m                     ^^^^^^^^^\n",
      "\u001b[34m\u001b[1mwandb\u001b[0m: \u001b[32m\u001b[41mERROR\u001b[0m   File \"/usr/local/lib/python3.11/dist-packages/torch/nn/modules/module.py\", line 1326, in convert\n",
      "\u001b[34m\u001b[1mwandb\u001b[0m: \u001b[32m\u001b[41mERROR\u001b[0m     return t.to(\n",
      "\u001b[34m\u001b[1mwandb\u001b[0m: \u001b[32m\u001b[41mERROR\u001b[0m            ^^^^^\n",
      "\u001b[34m\u001b[1mwandb\u001b[0m: \u001b[32m\u001b[41mERROR\u001b[0m torch.OutOfMemoryError: CUDA out of memory. Tried to allocate 148.00 MiB. GPU 0 has a total capacity of 10.75 GiB of which 83.81 MiB is free. Process 934104 has 10.66 GiB memory in use. Of the allocated memory 10.37 GiB is allocated by PyTorch, and 104.79 MiB is reserved by PyTorch but unallocated. If reserved but unallocated memory is large try setting PYTORCH_CUDA_ALLOC_CONF=expandable_segments:True to avoid fragmentation.  See documentation for Memory Management  (https://pytorch.org/docs/stable/notes/cuda.html#environment-variables)\n",
      "\u001b[34m\u001b[1mwandb\u001b[0m: \u001b[32m\u001b[41mERROR\u001b[0m \n",
      "\u001b[34m\u001b[1mwandb\u001b[0m: Sweep Agent: Waiting for job.\n",
      "\u001b[34m\u001b[1mwandb\u001b[0m: Job received.\n",
      "\u001b[34m\u001b[1mwandb\u001b[0m: Agent Starting Run: rbgrsh82 with config:\n",
      "\u001b[34m\u001b[1mwandb\u001b[0m: \tlearning_rate: 4.373593217679872e-05\n",
      "\u001b[34m\u001b[1mwandb\u001b[0m: \tnum_train_epochs: 4\n",
      "\u001b[34m\u001b[1mwandb\u001b[0m: \tper_device_train_batch_size: 16\n"
     ]
    },
    {
     "data": {
      "text/html": [
       "Tracking run with wandb version 0.19.9"
      ],
      "text/plain": [
       "<IPython.core.display.HTML object>"
      ]
     },
     "metadata": {},
     "output_type": "display_data"
    },
    {
     "data": {
      "text/html": [
       "Run data is saved locally in <code>/Lab_1/wandb/run-20250521_232238-rbgrsh82</code>"
      ],
      "text/plain": [
       "<IPython.core.display.HTML object>"
      ]
     },
     "metadata": {},
     "output_type": "display_data"
    },
    {
     "data": {
      "text/html": [
       "Syncing run <strong><a href='https://wandb.ai/natalia-timokhova-v-lule-university-of-technology/roberta-sweep-lab1/runs/rbgrsh82' target=\"_blank\">valiant-sweep-20</a></strong> to <a href='https://wandb.ai/natalia-timokhova-v-lule-university-of-technology/roberta-sweep-lab1' target=\"_blank\">Weights & Biases</a> (<a href='https://wandb.me/developer-guide' target=\"_blank\">docs</a>)<br>Sweep page: <a href='https://wandb.ai/natalia-timokhova-v-lule-university-of-technology/roberta-sweep-lab1/sweeps/wecneufa' target=\"_blank\">https://wandb.ai/natalia-timokhova-v-lule-university-of-technology/roberta-sweep-lab1/sweeps/wecneufa</a>"
      ],
      "text/plain": [
       "<IPython.core.display.HTML object>"
      ]
     },
     "metadata": {},
     "output_type": "display_data"
    },
    {
     "data": {
      "text/html": [
       " View project at <a href='https://wandb.ai/natalia-timokhova-v-lule-university-of-technology/roberta-sweep-lab1' target=\"_blank\">https://wandb.ai/natalia-timokhova-v-lule-university-of-technology/roberta-sweep-lab1</a>"
      ],
      "text/plain": [
       "<IPython.core.display.HTML object>"
      ]
     },
     "metadata": {},
     "output_type": "display_data"
    },
    {
     "data": {
      "text/html": [
       " View sweep at <a href='https://wandb.ai/natalia-timokhova-v-lule-university-of-technology/roberta-sweep-lab1/sweeps/wecneufa' target=\"_blank\">https://wandb.ai/natalia-timokhova-v-lule-university-of-technology/roberta-sweep-lab1/sweeps/wecneufa</a>"
      ],
      "text/plain": [
       "<IPython.core.display.HTML object>"
      ]
     },
     "metadata": {},
     "output_type": "display_data"
    },
    {
     "data": {
      "text/html": [
       " View run at <a href='https://wandb.ai/natalia-timokhova-v-lule-university-of-technology/roberta-sweep-lab1/runs/rbgrsh82' target=\"_blank\">https://wandb.ai/natalia-timokhova-v-lule-university-of-technology/roberta-sweep-lab1/runs/rbgrsh82</a>"
      ],
      "text/plain": [
       "<IPython.core.display.HTML object>"
      ]
     },
     "metadata": {},
     "output_type": "display_data"
    },
    {
     "name": "stderr",
     "output_type": "stream",
     "text": [
      "Some weights of RobertaForSequenceClassification were not initialized from the model checkpoint at roberta-base and are newly initialized: ['classifier.dense.bias', 'classifier.dense.weight', 'classifier.out_proj.bias', 'classifier.out_proj.weight']\n",
      "You should probably TRAIN this model on a down-stream task to be able to use it for predictions and inference.\n",
      "Traceback (most recent call last):\n",
      "  File \"/tmp/ipykernel_142970/1539672656.py\", line 22, in train\n",
      "    trainer = Trainer(\n",
      "              ^^^^^^^^\n",
      "  File \"/usr/local/lib/python3.11/dist-packages/transformers/utils/deprecation.py\", line 172, in wrapped_func\n",
      "    return func(*args, **kwargs)\n",
      "           ^^^^^^^^^^^^^^^^^^^^^\n",
      "  File \"/usr/local/lib/python3.11/dist-packages/transformers/trainer.py\", line 622, in __init__\n",
      "    self._move_model_to_device(model, args.device)\n",
      "  File \"/usr/local/lib/python3.11/dist-packages/transformers/trainer.py\", line 905, in _move_model_to_device\n",
      "    model = model.to(device)\n",
      "            ^^^^^^^^^^^^^^^^\n",
      "  File \"/usr/local/lib/python3.11/dist-packages/transformers/modeling_utils.py\", line 3850, in to\n",
      "    return super().to(*args, **kwargs)\n",
      "           ^^^^^^^^^^^^^^^^^^^^^^^^^^^\n",
      "  File \"/usr/local/lib/python3.11/dist-packages/torch/nn/modules/module.py\", line 1340, in to\n",
      "    return self._apply(convert)\n",
      "           ^^^^^^^^^^^^^^^^^^^^\n",
      "  File \"/usr/local/lib/python3.11/dist-packages/torch/nn/modules/module.py\", line 900, in _apply\n",
      "    module._apply(fn)\n",
      "  File \"/usr/local/lib/python3.11/dist-packages/torch/nn/modules/module.py\", line 900, in _apply\n",
      "    module._apply(fn)\n",
      "  File \"/usr/local/lib/python3.11/dist-packages/torch/nn/modules/module.py\", line 900, in _apply\n",
      "    module._apply(fn)\n",
      "  File \"/usr/local/lib/python3.11/dist-packages/torch/nn/modules/module.py\", line 927, in _apply\n",
      "    param_applied = fn(param)\n",
      "                    ^^^^^^^^^\n",
      "  File \"/usr/local/lib/python3.11/dist-packages/torch/nn/modules/module.py\", line 1326, in convert\n",
      "    return t.to(\n",
      "           ^^^^^\n",
      "torch.OutOfMemoryError: CUDA out of memory. Tried to allocate 148.00 MiB. GPU 0 has a total capacity of 10.75 GiB of which 83.81 MiB is free. Process 934104 has 10.66 GiB memory in use. Of the allocated memory 10.37 GiB is allocated by PyTorch, and 104.79 MiB is reserved by PyTorch but unallocated. If reserved but unallocated memory is large try setting PYTORCH_CUDA_ALLOC_CONF=expandable_segments:True to avoid fragmentation.  See documentation for Memory Management  (https://pytorch.org/docs/stable/notes/cuda.html#environment-variables)\n"
     ]
    },
    {
     "data": {
      "text/html": [],
      "text/plain": [
       "<IPython.core.display.HTML object>"
      ]
     },
     "metadata": {},
     "output_type": "display_data"
    },
    {
     "data": {
      "text/html": [
       " View run <strong style=\"color:#cdcd00\">valiant-sweep-20</strong> at: <a href='https://wandb.ai/natalia-timokhova-v-lule-university-of-technology/roberta-sweep-lab1/runs/rbgrsh82' target=\"_blank\">https://wandb.ai/natalia-timokhova-v-lule-university-of-technology/roberta-sweep-lab1/runs/rbgrsh82</a><br> View project at: <a href='https://wandb.ai/natalia-timokhova-v-lule-university-of-technology/roberta-sweep-lab1' target=\"_blank\">https://wandb.ai/natalia-timokhova-v-lule-university-of-technology/roberta-sweep-lab1</a><br>Synced 5 W&B file(s), 0 media file(s), 0 artifact file(s) and 0 other file(s)"
      ],
      "text/plain": [
       "<IPython.core.display.HTML object>"
      ]
     },
     "metadata": {},
     "output_type": "display_data"
    },
    {
     "data": {
      "text/html": [
       "Find logs at: <code>./wandb/run-20250521_232238-rbgrsh82/logs</code>"
      ],
      "text/plain": [
       "<IPython.core.display.HTML object>"
      ]
     },
     "metadata": {},
     "output_type": "display_data"
    },
    {
     "name": "stderr",
     "output_type": "stream",
     "text": [
      "\u001b[34m\u001b[1mwandb\u001b[0m: \u001b[32m\u001b[41mERROR\u001b[0m Run rbgrsh82 errored:\n",
      "\u001b[34m\u001b[1mwandb\u001b[0m: \u001b[32m\u001b[41mERROR\u001b[0m Traceback (most recent call last):\n",
      "\u001b[34m\u001b[1mwandb\u001b[0m: \u001b[32m\u001b[41mERROR\u001b[0m   File \"/usr/local/lib/python3.11/dist-packages/wandb/agents/pyagent.py\", line 306, in _run_job\n",
      "\u001b[34m\u001b[1mwandb\u001b[0m: \u001b[32m\u001b[41mERROR\u001b[0m     self._function()\n",
      "\u001b[34m\u001b[1mwandb\u001b[0m: \u001b[32m\u001b[41mERROR\u001b[0m   File \"/tmp/ipykernel_142970/1539672656.py\", line 22, in train\n",
      "\u001b[34m\u001b[1mwandb\u001b[0m: \u001b[32m\u001b[41mERROR\u001b[0m     trainer = Trainer(\n",
      "\u001b[34m\u001b[1mwandb\u001b[0m: \u001b[32m\u001b[41mERROR\u001b[0m               ^^^^^^^^\n",
      "\u001b[34m\u001b[1mwandb\u001b[0m: \u001b[32m\u001b[41mERROR\u001b[0m   File \"/usr/local/lib/python3.11/dist-packages/transformers/utils/deprecation.py\", line 172, in wrapped_func\n",
      "\u001b[34m\u001b[1mwandb\u001b[0m: \u001b[32m\u001b[41mERROR\u001b[0m     return func(*args, **kwargs)\n",
      "\u001b[34m\u001b[1mwandb\u001b[0m: \u001b[32m\u001b[41mERROR\u001b[0m            ^^^^^^^^^^^^^^^^^^^^^\n",
      "\u001b[34m\u001b[1mwandb\u001b[0m: \u001b[32m\u001b[41mERROR\u001b[0m   File \"/usr/local/lib/python3.11/dist-packages/transformers/trainer.py\", line 622, in __init__\n",
      "\u001b[34m\u001b[1mwandb\u001b[0m: \u001b[32m\u001b[41mERROR\u001b[0m     self._move_model_to_device(model, args.device)\n",
      "\u001b[34m\u001b[1mwandb\u001b[0m: \u001b[32m\u001b[41mERROR\u001b[0m   File \"/usr/local/lib/python3.11/dist-packages/transformers/trainer.py\", line 905, in _move_model_to_device\n",
      "\u001b[34m\u001b[1mwandb\u001b[0m: \u001b[32m\u001b[41mERROR\u001b[0m     model = model.to(device)\n",
      "\u001b[34m\u001b[1mwandb\u001b[0m: \u001b[32m\u001b[41mERROR\u001b[0m             ^^^^^^^^^^^^^^^^\n",
      "\u001b[34m\u001b[1mwandb\u001b[0m: \u001b[32m\u001b[41mERROR\u001b[0m   File \"/usr/local/lib/python3.11/dist-packages/transformers/modeling_utils.py\", line 3850, in to\n",
      "\u001b[34m\u001b[1mwandb\u001b[0m: \u001b[32m\u001b[41mERROR\u001b[0m     return super().to(*args, **kwargs)\n",
      "\u001b[34m\u001b[1mwandb\u001b[0m: \u001b[32m\u001b[41mERROR\u001b[0m            ^^^^^^^^^^^^^^^^^^^^^^^^^^^\n",
      "\u001b[34m\u001b[1mwandb\u001b[0m: \u001b[32m\u001b[41mERROR\u001b[0m   File \"/usr/local/lib/python3.11/dist-packages/torch/nn/modules/module.py\", line 1340, in to\n",
      "\u001b[34m\u001b[1mwandb\u001b[0m: \u001b[32m\u001b[41mERROR\u001b[0m     return self._apply(convert)\n",
      "\u001b[34m\u001b[1mwandb\u001b[0m: \u001b[32m\u001b[41mERROR\u001b[0m            ^^^^^^^^^^^^^^^^^^^^\n",
      "\u001b[34m\u001b[1mwandb\u001b[0m: \u001b[32m\u001b[41mERROR\u001b[0m   File \"/usr/local/lib/python3.11/dist-packages/torch/nn/modules/module.py\", line 900, in _apply\n",
      "\u001b[34m\u001b[1mwandb\u001b[0m: \u001b[32m\u001b[41mERROR\u001b[0m     module._apply(fn)\n",
      "\u001b[34m\u001b[1mwandb\u001b[0m: \u001b[32m\u001b[41mERROR\u001b[0m   File \"/usr/local/lib/python3.11/dist-packages/torch/nn/modules/module.py\", line 900, in _apply\n",
      "\u001b[34m\u001b[1mwandb\u001b[0m: \u001b[32m\u001b[41mERROR\u001b[0m     module._apply(fn)\n",
      "\u001b[34m\u001b[1mwandb\u001b[0m: \u001b[32m\u001b[41mERROR\u001b[0m   File \"/usr/local/lib/python3.11/dist-packages/torch/nn/modules/module.py\", line 900, in _apply\n",
      "\u001b[34m\u001b[1mwandb\u001b[0m: \u001b[32m\u001b[41mERROR\u001b[0m     module._apply(fn)\n",
      "\u001b[34m\u001b[1mwandb\u001b[0m: \u001b[32m\u001b[41mERROR\u001b[0m   File \"/usr/local/lib/python3.11/dist-packages/torch/nn/modules/module.py\", line 927, in _apply\n",
      "\u001b[34m\u001b[1mwandb\u001b[0m: \u001b[32m\u001b[41mERROR\u001b[0m     param_applied = fn(param)\n",
      "\u001b[34m\u001b[1mwandb\u001b[0m: \u001b[32m\u001b[41mERROR\u001b[0m                     ^^^^^^^^^\n",
      "\u001b[34m\u001b[1mwandb\u001b[0m: \u001b[32m\u001b[41mERROR\u001b[0m   File \"/usr/local/lib/python3.11/dist-packages/torch/nn/modules/module.py\", line 1326, in convert\n",
      "\u001b[34m\u001b[1mwandb\u001b[0m: \u001b[32m\u001b[41mERROR\u001b[0m     return t.to(\n",
      "\u001b[34m\u001b[1mwandb\u001b[0m: \u001b[32m\u001b[41mERROR\u001b[0m            ^^^^^\n",
      "\u001b[34m\u001b[1mwandb\u001b[0m: \u001b[32m\u001b[41mERROR\u001b[0m torch.OutOfMemoryError: CUDA out of memory. Tried to allocate 148.00 MiB. GPU 0 has a total capacity of 10.75 GiB of which 83.81 MiB is free. Process 934104 has 10.66 GiB memory in use. Of the allocated memory 10.37 GiB is allocated by PyTorch, and 104.79 MiB is reserved by PyTorch but unallocated. If reserved but unallocated memory is large try setting PYTORCH_CUDA_ALLOC_CONF=expandable_segments:True to avoid fragmentation.  See documentation for Memory Management  (https://pytorch.org/docs/stable/notes/cuda.html#environment-variables)\n",
      "\u001b[34m\u001b[1mwandb\u001b[0m: \u001b[32m\u001b[41mERROR\u001b[0m \n"
     ]
    }
   ],
   "source": [
    "wandb.agent(sweep_id, function=train, count=20)"
   ]
  },
  {
   "cell_type": "markdown",
   "id": "3edbcb5d-dd11-4967-913e-9d78e161445b",
   "metadata": {},
   "source": [
    "Test best model"
   ]
  },
  {
   "cell_type": "code",
   "execution_count": 8,
   "id": "d7651797-ec90-4ab0-aa18-c686b7086ee1",
   "metadata": {},
   "outputs": [
    {
     "name": "stdout",
     "output_type": "stream",
     "text": [
      "Best Run: sage-sweep-10\n",
      "eval/f1: 0.967391304347826\n"
     ]
    }
   ],
   "source": [
    "api = wandb.Api()\n",
    "project = \"roberta-sweep-lab1\"\n",
    "\n",
    "# Get all runs of sweep\n",
    "runs = api.runs(path=f\"natalia-timokhova-v-lule-university-of-technology/{project}\")\n",
    "\n",
    "# Sort after best f1 score\n",
    "best_run = sorted(runs, key=lambda r: r.summary.get(\"eval/f1\", 0), reverse=True)[0]\n",
    "\n",
    "print(\"Best Run:\", best_run.name)\n",
    "print(\"eval/f1:\", best_run.summary[\"eval/f1\"])\n",
    "\n",
    "best_model_path = f\"./models/{best_run.name}\"\n",
    "model = RobertaForSequenceClassification.from_pretrained(best_model_path)"
   ]
  },
  {
   "cell_type": "code",
   "execution_count": 9,
   "id": "5648f5d8-27dc-49aa-80b0-a0fc4792a9df",
   "metadata": {},
   "outputs": [],
   "source": [
    "trainer = Trainer(\n",
    "    model=model,\n",
    "    args=TrainingArguments(\n",
    "        output_dir=\"./results\",\n",
    "        eval_strategy=\"epoch\",\n",
    "        logging_dir=\"./logs\",\n",
    "        num_train_epochs=3,\n",
    "        per_device_train_batch_size=8\n",
    "    ),\n",
    "    train_dataset=train_dataset,\n",
    "    eval_dataset=val_dataset,\n",
    "    compute_metrics=compute_metrics\n",
    ")"
   ]
  },
  {
   "cell_type": "code",
   "execution_count": 10,
   "id": "0aef969f-2eac-4025-9e35-8b0dfe563543",
   "metadata": {
    "scrolled": true
   },
   "outputs": [
    {
     "data": {
      "text/html": [
       "\n",
       "    <div>\n",
       "      \n",
       "      <progress value='38' max='38' style='width:300px; height:20px; vertical-align: middle;'></progress>\n",
       "      [38/38 00:02]\n",
       "    </div>\n",
       "    "
      ],
      "text/plain": [
       "<IPython.core.display.HTML object>"
      ]
     },
     "metadata": {},
     "output_type": "display_data"
    },
    {
     "name": "stderr",
     "output_type": "stream",
     "text": [
      "\u001b[34m\u001b[1mwandb\u001b[0m: \u001b[33mWARNING\u001b[0m The `run_name` is currently set to the same value as `TrainingArguments.output_dir`. If this was not intended, please specify a different run name by setting the `TrainingArguments.run_name` parameter.\n",
      "\u001b[34m\u001b[1mwandb\u001b[0m: Using wandb-core as the SDK backend.  Please refer to https://wandb.me/wandb-core for more information.\n",
      "\u001b[34m\u001b[1mwandb\u001b[0m: Currently logged in as: \u001b[33mnatalia-timokhova-v\u001b[0m (\u001b[33mnatalia-timokhova-v-lule-university-of-technology\u001b[0m) to \u001b[32mhttps://api.wandb.ai\u001b[0m. Use \u001b[1m`wandb login --relogin`\u001b[0m to force relogin\n"
     ]
    },
    {
     "data": {
      "text/html": [
       "Tracking run with wandb version 0.19.9"
      ],
      "text/plain": [
       "<IPython.core.display.HTML object>"
      ]
     },
     "metadata": {},
     "output_type": "display_data"
    },
    {
     "data": {
      "text/html": [
       "Run data is saved locally in <code>/Lab_1/wandb/run-20250522_000003-db514rmy</code>"
      ],
      "text/plain": [
       "<IPython.core.display.HTML object>"
      ]
     },
     "metadata": {},
     "output_type": "display_data"
    },
    {
     "data": {
      "text/html": [
       "Syncing run <strong><a href='https://wandb.ai/natalia-timokhova-v-lule-university-of-technology/huggingface/runs/db514rmy' target=\"_blank\">./results</a></strong> to <a href='https://wandb.ai/natalia-timokhova-v-lule-university-of-technology/huggingface' target=\"_blank\">Weights & Biases</a> (<a href='https://wandb.me/developer-guide' target=\"_blank\">docs</a>)<br>"
      ],
      "text/plain": [
       "<IPython.core.display.HTML object>"
      ]
     },
     "metadata": {},
     "output_type": "display_data"
    },
    {
     "data": {
      "text/html": [
       " View project at <a href='https://wandb.ai/natalia-timokhova-v-lule-university-of-technology/huggingface' target=\"_blank\">https://wandb.ai/natalia-timokhova-v-lule-university-of-technology/huggingface</a>"
      ],
      "text/plain": [
       "<IPython.core.display.HTML object>"
      ]
     },
     "metadata": {},
     "output_type": "display_data"
    },
    {
     "data": {
      "text/html": [
       " View run at <a href='https://wandb.ai/natalia-timokhova-v-lule-university-of-technology/huggingface/runs/db514rmy' target=\"_blank\">https://wandb.ai/natalia-timokhova-v-lule-university-of-technology/huggingface/runs/db514rmy</a>"
      ],
      "text/plain": [
       "<IPython.core.display.HTML object>"
      ]
     },
     "metadata": {},
     "output_type": "display_data"
    },
    {
     "name": "stdout",
     "output_type": "stream",
     "text": [
      "{'eval_loss': 0.2408459484577179, 'eval_model_preparation_time': 0.0036, 'eval_precision': 0.9493670886075949, 'eval_accuracy': 0.9466666666666667, 'eval_f1': 0.9493670886075949, 'eval_recall': 0.9493670886075949, 'eval_runtime': 3.1396, 'eval_samples_per_second': 95.554, 'eval_steps_per_second': 12.104}\n"
     ]
    }
   ],
   "source": [
    "test_metrics = trainer.evaluate(eval_dataset=test_dataset)\n",
    "print(test_metrics)"
   ]
  },
  {
   "cell_type": "code",
   "execution_count": 11,
   "id": "54ddc265-3703-4bbc-a0e8-13e3f5cda48f",
   "metadata": {
    "scrolled": true
   },
   "outputs": [
    {
     "data": {
      "text/html": [],
      "text/plain": [
       "<IPython.core.display.HTML object>"
      ]
     },
     "metadata": {},
     "output_type": "display_data"
    },
    {
     "data": {
      "text/html": [
       "<br>    <style><br>        .wandb-row {<br>            display: flex;<br>            flex-direction: row;<br>            flex-wrap: wrap;<br>            justify-content: flex-start;<br>            width: 100%;<br>        }<br>        .wandb-col {<br>            display: flex;<br>            flex-direction: column;<br>            flex-basis: 100%;<br>            flex: 1;<br>            padding: 10px;<br>        }<br>    </style><br><div class=\"wandb-row\"><div class=\"wandb-col\"><h3>Run history:</h3><br/><table class=\"wandb\"><tr><td>eval/accuracy</td><td>▁</td></tr><tr><td>eval/f1</td><td>▁</td></tr><tr><td>eval/loss</td><td>▁</td></tr><tr><td>eval/model_preparation_time</td><td>▁</td></tr><tr><td>eval/precision</td><td>▁</td></tr><tr><td>eval/recall</td><td>▁</td></tr><tr><td>eval/runtime</td><td>▁</td></tr><tr><td>eval/samples_per_second</td><td>▁</td></tr><tr><td>eval/steps_per_second</td><td>▁</td></tr><tr><td>train/global_step</td><td>▁</td></tr></table><br/></div><div class=\"wandb-col\"><h3>Run summary:</h3><br/><table class=\"wandb\"><tr><td>eval/accuracy</td><td>0.94667</td></tr><tr><td>eval/f1</td><td>0.94937</td></tr><tr><td>eval/loss</td><td>0.24085</td></tr><tr><td>eval/model_preparation_time</td><td>0.0036</td></tr><tr><td>eval/precision</td><td>0.94937</td></tr><tr><td>eval/recall</td><td>0.94937</td></tr><tr><td>eval/runtime</td><td>3.1396</td></tr><tr><td>eval/samples_per_second</td><td>95.554</td></tr><tr><td>eval/steps_per_second</td><td>12.104</td></tr><tr><td>train/global_step</td><td>0</td></tr></table><br/></div></div>"
      ],
      "text/plain": [
       "<IPython.core.display.HTML object>"
      ]
     },
     "metadata": {},
     "output_type": "display_data"
    },
    {
     "data": {
      "text/html": [
       " View run <strong style=\"color:#cdcd00\">./results</strong> at: <a href='https://wandb.ai/natalia-timokhova-v-lule-university-of-technology/huggingface/runs/db514rmy' target=\"_blank\">https://wandb.ai/natalia-timokhova-v-lule-university-of-technology/huggingface/runs/db514rmy</a><br> View project at: <a href='https://wandb.ai/natalia-timokhova-v-lule-university-of-technology/huggingface' target=\"_blank\">https://wandb.ai/natalia-timokhova-v-lule-university-of-technology/huggingface</a><br>Synced 5 W&B file(s), 0 media file(s), 0 artifact file(s) and 0 other file(s)"
      ],
      "text/plain": [
       "<IPython.core.display.HTML object>"
      ]
     },
     "metadata": {},
     "output_type": "display_data"
    },
    {
     "data": {
      "text/html": [
       "Find logs at: <code>./wandb/run-20250522_000003-db514rmy/logs</code>"
      ],
      "text/plain": [
       "<IPython.core.display.HTML object>"
      ]
     },
     "metadata": {},
     "output_type": "display_data"
    }
   ],
   "source": [
    "wandb.finish()"
   ]
  },
  {
   "cell_type": "markdown",
   "id": "c5f400c3",
   "metadata": {},
   "source": [
    "# Evaluation"
   ]
  },
  {
   "cell_type": "markdown",
   "id": "12c8e46d",
   "metadata": {},
   "source": [
    "> Compare the performance of the two models and explain in which scenarios you would\n",
    "prefer one over the other.\n",
    "\n",
    "The F1-Score for ANN and the Transformers are very similar, so both models perform quite well.\n",
    "If you want to consistently train the network, I'd recommend using the ANN network, as the training is faster there. Especially the 25K dataset took very long to train on the transformer (15 mins with 4070, 7hrs with CPU). But that might be due to the fact that we used a pretrained model with a big architecture.\n",
    "If you plan to only evaluate, I'd use the Transformer, as it utilizes the GPU much better.\n",
    "\n",
    "> How did the two models’ complexity, accuracy, and efficiency differ? Did one model\n",
    "outperform the other in specific scenarios or tasks? If so, why?\n",
    "\n",
    "Both models perform quite good, but the ANN performs under certain aspects worse. In the transformers we use a pre-trained model, so that might explain why it performs better.\n",
    "\n",
    "> What insights did you obtain concerning data amount to train? Embedding utilized?\n",
    "Architectural choices made?\n",
    "\n",
    "For the ANN training with huge datasets, like the 1.2GB one, we cannot use a lot of features for TF-IDF, as\n",
    "we easily hit the RAM limit. e.g. 3 million samples with 100 features account to around 2.4GB of RAM alone\n",
    "for the training data."
   ]
  }
 ],
 "metadata": {
  "kernelspec": {
   "display_name": "Python 3 (ipykernel)",
   "language": "python",
   "name": "python3"
  },
  "language_info": {
   "codemirror_mode": {
    "name": "ipython",
    "version": 3
   },
   "file_extension": ".py",
   "mimetype": "text/x-python",
   "name": "python",
   "nbconvert_exporter": "python",
   "pygments_lexer": "ipython3",
   "version": "3.11.11"
  }
 },
 "nbformat": 4,
 "nbformat_minor": 5
}
