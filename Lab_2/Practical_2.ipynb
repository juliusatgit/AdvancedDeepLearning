{
 "cells": [
  {
   "cell_type": "markdown",
   "id": "57522a96",
   "metadata": {},
   "source": [
    "**This is the notebook for the practical part of lab 1.** "
   ]
  }
 ],
 "metadata": {
  "language_info": {
   "name": "python"
  }
 },
 "nbformat": 4,
 "nbformat_minor": 5
}
