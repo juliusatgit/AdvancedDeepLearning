{
 "cells": [
  {
   "cell_type": "markdown",
   "id": "57522a96",
   "metadata": {},
   "source": [
    "# Practical 2: GAN & Diffusion"
   ]
  },
  {
   "cell_type": "markdown",
   "id": "29b0fa4b-3ad8-40c1-9b73-c61d0ae4d3c7",
   "metadata": {},
   "source": [
    "## Task 1"
   ]
  },
  {
   "cell_type": "code",
   "execution_count": 315,
   "id": "931e99d2-6e72-4d61-bca4-3d502071990d",
   "metadata": {},
   "outputs": [],
   "source": [
    "!source lab2_env/bin/activate"
   ]
  },
  {
   "cell_type": "code",
   "execution_count": 316,
   "id": "558e9047-c7ab-4008-8fe7-a94d80bc0929",
   "metadata": {},
   "outputs": [],
   "source": [
    "import torch\n",
    "import torch.nn as nn\n",
    "import torch.nn.functional as F\n",
    "import torch.optim as optim\n",
    "from torchvision import datasets, transforms\n",
    "from torch.utils.data import DataLoader\n",
    "import matplotlib.pyplot as plt\n",
    "import pandas as pd\n",
    "import matplotlib.gridspec as gridspec\n",
    "import numpy as np\n",
    "import tqdm\n",
    "import os\n",
    "import wandb\n",
    "from IPython.display import Image, display\n",
    "import glob"
   ]
  },
  {
   "cell_type": "code",
   "execution_count": 317,
   "id": "edecd9a8-b6c7-4df8-b55f-00c317057453",
   "metadata": {},
   "outputs": [],
   "source": [
    "# Hyperparameters\n",
    "mb_size = 64    # mini‑batch size, num of real/fake samples feedeng through the NN before doing one gradient update\n",
    "Z_dim = 1000    # dimensionality of the latent noise vector \n",
    "h_dim = 128     # size of the hidden layers in both generator and discriminator\n",
    "lr = 1e-3       # learning rate for the optimizer"
   ]
  },
  {
   "cell_type": "markdown",
   "id": "5885f691-c464-4d00-bcfe-6fe9714ceef8",
   "metadata": {},
   "source": [
    "We need to normalize out data set to get pixels values from [0, 255] to [0,1] :\n",
    "\n",
    "PIL:       255  →   Tensor: 1.0\n",
    "\n",
    "PIL:       128  →   Tensor: 0.50196\n",
    "\n",
    "PIL:         0  →   Tensor: 0.0"
   ]
  },
  {
   "cell_type": "code",
   "execution_count": 318,
   "id": "573d16a6-63c3-4e32-9ad8-9913171e36fb",
   "metadata": {},
   "outputs": [],
   "source": [
    "# Load MNIST data\n",
    "transform = transforms.Compose([\n",
    "    transforms.ToTensor(),\n",
    "    transforms.Lambda(lambda x: x.view(-1))  # Flatten the 28x28 image to 784\n",
    "])\n",
    "\n",
    "train_dataset = datasets.MNIST(root='../MNIST', train=True, transform=transform, download=True)\n",
    "train_loader = DataLoader(train_dataset, batch_size=mb_size, shuffle=True)\n",
    "\n",
    "X_dim = 784  # 28 x 28"
   ]
  },
  {
   "cell_type": "markdown",
   "id": "eb36a571-94c2-4e69-bdd6-f3023a2a6a2d",
   "metadata": {},
   "source": [
    "Xavier initialization balances weights through layers \n",
    "by drawing a random number from a Gaussian (Normal) distribution,\n",
    "whose mean is 0 and whose standard deviation is chosen according to the layer size."
   ]
  },
  {
   "cell_type": "code",
   "execution_count": 319,
   "id": "4e163027-5ff1-4aee-93db-344851d67d22",
   "metadata": {},
   "outputs": [],
   "source": [
    "# Xavier Initialization\n",
    "def xavier_init(m):\n",
    "    if isinstance(m, nn.Linear):\n",
    "        nn.init.xavier_normal_(m.weight)\n",
    "        if m.bias is not None:\n",
    "            nn.init.zeros_(m.bias)"
   ]
  },
  {
   "cell_type": "code",
   "execution_count": 332,
   "id": "ddd6519f-7855-4987-91b9-0d4ccd34cc67",
   "metadata": {},
   "outputs": [],
   "source": [
    "# Generator\n",
    "class Generator(nn.Module):\n",
    "    def __init__(self, z_dim, h_dim, x_dim):\n",
    "        super(Generator, self).__init__()\n",
    "        self.fc1 = nn.Linear(z_dim, h_dim)\n",
    "        self.fc2 = nn.Linear(h_dim, x_dim)\n",
    "        self.apply(xavier_init)\n",
    "\n",
    "    def forward(self, z):\n",
    "        h = F.relu(self.fc1(z))\n",
    "        out = torch.sigmoid(self.fc2(h))   # Sigmoid is possible because data was normalized in [0,1]\n",
    "        return out\n",
    "\n",
    "# Discriminator\n",
    "class Discriminator(nn.Module):\n",
    "    def __init__(self, x_dim, h_dim):\n",
    "        super(Discriminator, self).__init__()\n",
    "        self.fc1 = nn.Linear(x_dim, h_dim)\n",
    "        self.fc2 = nn.Linear(h_dim, 1)\n",
    "        self.apply(xavier_init)\n",
    "\n",
    "    def forward(self, x):\n",
    "        h = F.relu(self.fc1(x))\n",
    "        out = torch.sigmoid(self.fc2(h))\n",
    "        return out"
   ]
  },
  {
   "cell_type": "code",
   "execution_count": 333,
   "id": "51eb2824-1e42-40dc-b7b1-5b5f039058be",
   "metadata": {},
   "outputs": [],
   "source": [
    "# Training\n",
    "def cGANTraining(G, D, loss_fn, train_loader):\n",
    "    G.train()\n",
    "    D.train()\n",
    "\n",
    "    D_loss_real_total = 0\n",
    "    D_loss_fake_total = 0\n",
    "    G_loss_total = 0\n",
    "    t = tqdm.tqdm(train_loader)\n",
    "    \n",
    "    for it, (X_real, labels) in enumerate(t):\n",
    "        # Prepare real data\n",
    "        X_real = X_real.float().to(device)\n",
    "\n",
    "        # Sample noise and labels\n",
    "        z = torch.randn(X_real.size(0), Z_dim).to(device)\n",
    "        ones_label = torch.ones(X_real.size(0), 1).to(device)\n",
    "        zeros_label = torch.zeros(X_real.size(0), 1).to(device)\n",
    "\n",
    "        # ================= Train Discriminator =================\n",
    "        G_sample = G(z)\n",
    "        D_real = D(X_real)\n",
    "        D_fake = D(G_sample.detach())  # fake discrimination \n",
    "\n",
    "        D_loss_real = loss_fn(D_real, ones_label)\n",
    "        D_loss_fake = loss_fn(D_fake, zeros_label)\n",
    "        D_loss = D_loss_real + D_loss_fake\n",
    "        D_loss_real_total += D_loss_real.item()\n",
    "        D_loss_fake_total += D_loss_fake.item()\n",
    "\n",
    "        D_solver.zero_grad()\n",
    "        D_loss.backward()\n",
    "        D_solver.step()\n",
    "\n",
    "        # ================= Train Generator ====================\n",
    "        z = torch.randn(X_real.size(0), Z_dim).to(device)\n",
    "        G_sample = G(z)\n",
    "        D_fake = D(G_sample)\n",
    "\n",
    "        G_loss = loss_fn(D_fake, ones_label)  # more 1 for fakes from D, better for G\n",
    "        G_loss_total += G_loss.item()\n",
    "\n",
    "        G_solver.zero_grad()\n",
    "        G_loss.backward()\n",
    "        G_solver.step()\n",
    "\n",
    "    # ================= Logging =================\n",
    "    D_loss_real_avg = D_loss_real_total / len(train_loader)\n",
    "    D_loss_fake_avg = D_loss_fake_total / len(train_loader)\n",
    "    D_loss_avg = D_loss_real_avg + D_loss_fake_avg\n",
    "    G_loss_avg = G_loss_total / len(train_loader)\n",
    "\n",
    "    \"\"\"wandb.log({\n",
    "        \"D_loss_real\": D_loss_real_avg,\n",
    "        \"D_loss_fake\": D_loss_fake_avg,\n",
    "        \"D_loss\": D_loss_avg,\n",
    "        \"G_loss\": G_loss_avg\n",
    "    })\"\"\"\n",
    "\n",
    "    return G, D, G_loss_avg, D_loss_avg"
   ]
  },
  {
   "cell_type": "code",
   "execution_count": 334,
   "id": "77fd953e-89ea-4229-b7de-ce3939e84066",
   "metadata": {},
   "outputs": [],
   "source": [
    "# Generator stopps to learn and only generates pictures\n",
    "def save_sample(G, epoch, mb_size, Z_dim):\n",
    "    out_dir = \"out_vanila_GAN2\"\n",
    "    G.eval()\n",
    "    with torch.no_grad():\n",
    "        z = torch.randn(mb_size, Z_dim).to(device)\n",
    "        samples = G(z).detach().cpu().numpy()[:16]    # We don't need to see all 64, 16 is enough to see progress\n",
    "\n",
    "    fig = plt.figure(figsize=(4, 4))\n",
    "    gs = gridspec.GridSpec(4, 4)\n",
    "    gs.update(wspace=0.05, hspace=0.05)\n",
    "\n",
    "    for i, sample in enumerate(samples):\n",
    "        ax = plt.subplot(gs[i])\n",
    "        plt.axis('off')\n",
    "        ax.set_xticklabels([])\n",
    "        ax.set_yticklabels([])\n",
    "        ax.set_aspect('equal')\n",
    "        plt.imshow(sample.reshape(28, 28), cmap='Greys_r')\n",
    "\n",
    "    if not os.path.exists(f'{out_dir}'):\n",
    "        os.makedirs(f'{out_dir}')\n",
    "\n",
    "    plt.savefig(f'{out_dir}/{str(epoch).zfill(3)}.png', bbox_inches='tight')\n",
    "    plt.close(fig)\n"
   ]
  },
  {
   "cell_type": "code",
   "execution_count": 323,
   "id": "4d6d7513-28e5-4f77-ac1a-e37ed03f92e2",
   "metadata": {},
   "outputs": [
    {
     "data": {
      "text/html": [
       "Tracking run with wandb version 0.19.9"
      ],
      "text/plain": [
       "<IPython.core.display.HTML object>"
      ]
     },
     "metadata": {},
     "output_type": "display_data"
    },
    {
     "data": {
      "text/html": [
       "Run data is saved locally in <code>/Lab_2/wandb/run-20250429_004551-zflz2jt7</code>"
      ],
      "text/plain": [
       "<IPython.core.display.HTML object>"
      ]
     },
     "metadata": {},
     "output_type": "display_data"
    },
    {
     "data": {
      "text/html": [
       "Syncing run <strong><a href='https://wandb.ai/natalia-timokhova-v-lule-university-of-technology/conditional-gan-mnist/runs/zflz2jt7' target=\"_blank\">run_5_epochs</a></strong> to <a href='https://wandb.ai/natalia-timokhova-v-lule-university-of-technology/conditional-gan-mnist' target=\"_blank\">Weights & Biases</a> (<a href='https://wandb.me/developer-guide' target=\"_blank\">docs</a>)<br>"
      ],
      "text/plain": [
       "<IPython.core.display.HTML object>"
      ]
     },
     "metadata": {},
     "output_type": "display_data"
    },
    {
     "data": {
      "text/html": [
       " View project at <a href='https://wandb.ai/natalia-timokhova-v-lule-university-of-technology/conditional-gan-mnist' target=\"_blank\">https://wandb.ai/natalia-timokhova-v-lule-university-of-technology/conditional-gan-mnist</a>"
      ],
      "text/plain": [
       "<IPython.core.display.HTML object>"
      ]
     },
     "metadata": {},
     "output_type": "display_data"
    },
    {
     "data": {
      "text/html": [
       " View run at <a href='https://wandb.ai/natalia-timokhova-v-lule-university-of-technology/conditional-gan-mnist/runs/zflz2jt7' target=\"_blank\">https://wandb.ai/natalia-timokhova-v-lule-university-of-technology/conditional-gan-mnist/runs/zflz2jt7</a>"
      ],
      "text/plain": [
       "<IPython.core.display.HTML object>"
      ]
     },
     "metadata": {},
     "output_type": "display_data"
    },
    {
     "name": "stderr",
     "output_type": "stream",
     "text": [
      "100%|██████████| 938/938 [00:13<00:00, 68.17it/s]\n"
     ]
    },
    {
     "name": "stdout",
     "output_type": "stream",
     "text": [
      "epoch 0; D_loss: 0.0802; G_loss: 5.9523\n",
      "Saved Best Models at epoch 0 | G_loss: 5.9523\n"
     ]
    },
    {
     "name": "stderr",
     "output_type": "stream",
     "text": [
      "100%|██████████| 938/938 [00:13<00:00, 68.75it/s]\n"
     ]
    },
    {
     "name": "stdout",
     "output_type": "stream",
     "text": [
      "epoch 1; D_loss: 0.0295; G_loss: 6.7544\n"
     ]
    },
    {
     "name": "stderr",
     "output_type": "stream",
     "text": [
      "100%|██████████| 938/938 [00:13<00:00, 68.72it/s]\n"
     ]
    },
    {
     "name": "stdout",
     "output_type": "stream",
     "text": [
      "epoch 2; D_loss: 0.0244; G_loss: 6.1841\n"
     ]
    },
    {
     "name": "stderr",
     "output_type": "stream",
     "text": [
      "100%|██████████| 938/938 [00:13<00:00, 69.43it/s]\n"
     ]
    },
    {
     "name": "stdout",
     "output_type": "stream",
     "text": [
      "epoch 3; D_loss: 0.0446; G_loss: 6.1652\n"
     ]
    },
    {
     "name": "stderr",
     "output_type": "stream",
     "text": [
      "100%|██████████| 938/938 [00:13<00:00, 69.96it/s]\n"
     ]
    },
    {
     "name": "stdout",
     "output_type": "stream",
     "text": [
      "epoch 4; D_loss: 0.1042; G_loss: 5.6365\n",
      "Saved Best Models at epoch 4 | G_loss: 5.6365\n"
     ]
    },
    {
     "data": {
      "text/html": [],
      "text/plain": [
       "<IPython.core.display.HTML object>"
      ]
     },
     "metadata": {},
     "output_type": "display_data"
    },
    {
     "data": {
      "text/html": [
       "<br>    <style><br>        .wandb-row {<br>            display: flex;<br>            flex-direction: row;<br>            flex-wrap: wrap;<br>            justify-content: flex-start;<br>            width: 100%;<br>        }<br>        .wandb-col {<br>            display: flex;<br>            flex-direction: column;<br>            flex-basis: 100%;<br>            flex: 1;<br>            padding: 10px;<br>        }<br>    </style><br><div class=\"wandb-row\"><div class=\"wandb-col\"><h3>Run history:</h3><br/><table class=\"wandb\"><tr><td>D_loss</td><td>▆▁▁▃█</td></tr><tr><td>G_loss</td><td>▃█▄▄▁</td></tr><tr><td>epoch</td><td>▁▃▅▆█</td></tr></table><br/></div><div class=\"wandb-col\"><h3>Run summary:</h3><br/><table class=\"wandb\"><tr><td>D_loss</td><td>0.10418</td></tr><tr><td>G_loss</td><td>5.63655</td></tr><tr><td>epoch</td><td>4</td></tr></table><br/></div></div>"
      ],
      "text/plain": [
       "<IPython.core.display.HTML object>"
      ]
     },
     "metadata": {},
     "output_type": "display_data"
    },
    {
     "data": {
      "text/html": [
       " View run <strong style=\"color:#cdcd00\">run_5_epochs</strong> at: <a href='https://wandb.ai/natalia-timokhova-v-lule-university-of-technology/conditional-gan-mnist/runs/zflz2jt7' target=\"_blank\">https://wandb.ai/natalia-timokhova-v-lule-university-of-technology/conditional-gan-mnist/runs/zflz2jt7</a><br> View project at: <a href='https://wandb.ai/natalia-timokhova-v-lule-university-of-technology/conditional-gan-mnist' target=\"_blank\">https://wandb.ai/natalia-timokhova-v-lule-university-of-technology/conditional-gan-mnist</a><br>Synced 5 W&B file(s), 0 media file(s), 0 artifact file(s) and 0 other file(s)"
      ],
      "text/plain": [
       "<IPython.core.display.HTML object>"
      ]
     },
     "metadata": {},
     "output_type": "display_data"
    },
    {
     "data": {
      "text/html": [
       "Find logs at: <code>./wandb/run-20250429_004551-zflz2jt7/logs</code>"
      ],
      "text/plain": [
       "<IPython.core.display.HTML object>"
      ]
     },
     "metadata": {},
     "output_type": "display_data"
    }
   ],
   "source": [
    "# ########################### Training 5 epochs #######################################\n",
    "wandb_log = True\n",
    "device = torch.device(\"cuda:0\" if torch.cuda.is_available() else \"cpu\")\n",
    "\n",
    "# Number of epochs (change only here)\n",
    "epochs = 5\n",
    "\n",
    "# Instantiate models\n",
    "G = Generator(Z_dim, h_dim, X_dim).to(device)\n",
    "D = Discriminator(X_dim, h_dim).to(device)\n",
    "\n",
    "# Optimizers\n",
    "G_solver = optim.Adam(G.parameters(), lr=lr)\n",
    "D_solver = optim.Adam(D.parameters(), lr=lr)\n",
    "\n",
    "# Loss function\n",
    "def my_bce_loss(preds, targets):\n",
    "    return F.binary_cross_entropy(preds, targets)\n",
    "\n",
    "loss_fn = my_bce_loss\n",
    "\n",
    "best_g_loss = float('inf')  # Initialize best generator loss\n",
    "save_dir = 'checkpoints'\n",
    "os.makedirs(save_dir, exist_ok=True)\n",
    "\n",
    "# Initialize W&B immediately before training\n",
    "if wandb_log: \n",
    "    wandb.init(\n",
    "        project=\"conditional-gan-mnist\",\n",
    "        name=f\"run_{epochs}_epochs\",\n",
    "        settings=wandb.Settings(start_method=\"thread\"),\n",
    "        config={\n",
    "            \"batch_size\": mb_size,\n",
    "            \"Z_dim\": Z_dim,\n",
    "            \"X_dim\": X_dim,\n",
    "            \"h_dim\": h_dim,\n",
    "            \"lr\": lr,\n",
    "            \"epochs\": epochs,\n",
    "            \"start_epoch\": 0,\n",
    "            \"end_epoch\": epochs - 1\n",
    "        }\n",
    "    )\n",
    "\n",
    "# Train loop\n",
    "for epoch in range(epochs):\n",
    "    G, D, G_loss_avg, D_loss_avg = cGANTraining(G, D, loss_fn, train_loader)\n",
    "\n",
    "    print(f'epoch {epoch}; D_loss: {D_loss_avg:.4f}; G_loss: {G_loss_avg:.4f}')\n",
    "\n",
    "    if wandb_log:\n",
    "        wandb.log({\n",
    "            \"epoch\": epoch,\n",
    "            \"D_loss\": D_loss_avg,\n",
    "            \"G_loss\": G_loss_avg\n",
    "        })\n",
    "\n",
    "    if G_loss_avg < best_g_loss:\n",
    "        best_g_loss = G_loss_avg\n",
    "        torch.save(G.state_dict(), os.path.join(save_dir, 'G_best.pth'))\n",
    "        torch.save(D.state_dict(), os.path.join(save_dir, 'D_best.pth'))\n",
    "        print(f\"Saved Best Models at epoch {epoch} | G_loss: {best_g_loss:.4f}\")\n",
    "\n",
    "    save_sample(G, epoch, mb_size, Z_dim)\n",
    "\n",
    "# Final log and run closure\n",
    "if wandb_log:\n",
    "    wandb.config.update({\"final_epoch\": epoch})  # saved in config metadata\n",
    "    wandb.finish()\n"
   ]
  },
  {
   "cell_type": "code",
   "execution_count": 324,
   "id": "fc7b6ab1-a7e1-4f87-bbc0-8a806b6a3148",
   "metadata": {},
   "outputs": [],
   "source": [
    "# Inference / sampling from the best‐saved G\n",
    "\n",
    "# 1) Re‐create the Generator and move to the same device\n",
    "G_infer = Generator(Z_dim, h_dim, X_dim).to(device)\n",
    "\n",
    "# 2) Load the weights from the best checkpoint\n",
    "checkpoint = torch.load('checkpoints/G_best.pth', map_location=device, weights_only=True)\n",
    "G_infer.load_state_dict(checkpoint)\n",
    "\n",
    "# 3) Set to evaluation mode\n",
    "G_infer.eval()\n",
    "\n",
    "# 4) Generate and save a sample grid (this will create out_vanila_GAN2/best.png)\n",
    "save_sample(G_infer, \"best\", mb_size, Z_dim)\n",
    "\n",
    "# 5) Clean previous best models\n",
    "for f in glob.glob(os.path.join(save_dir, \"G_best_epoch*.pth\")):\n",
    "    os.remove(f)"
   ]
  },
  {
   "cell_type": "code",
   "execution_count": 325,
   "id": "55e329a4-6983-4ad5-858c-1e2eada0ef90",
   "metadata": {},
   "outputs": [
    {
     "data": {
      "image/png": "[encoded data removed]",
      "text/plain": [
       "<IPython.core.display.Image object>"
      ]
     },
     "metadata": {},
     "output_type": "display_data"
    }
   ],
   "source": [
    "display(Image(\"best.png\"))"
   ]
  },
  {
   "cell_type": "code",
   "execution_count": 329,
   "id": "4f46faf0-5f99-4c3e-91f4-2c172a2f0eba",
   "metadata": {},
   "outputs": [
    {
     "data": {
      "text/html": [
       "Tracking run with wandb version 0.19.9"
      ],
      "text/plain": [
       "<IPython.core.display.HTML object>"
      ]
     },
     "metadata": {},
     "output_type": "display_data"
    },
    {
     "data": {
      "text/html": [
       "Run data is saved locally in <code>/Lab_2/wandb/run-20250429_005019-9wmmo3ij</code>"
      ],
      "text/plain": [
       "<IPython.core.display.HTML object>"
      ]
     },
     "metadata": {},
     "output_type": "display_data"
    },
    {
     "data": {
      "text/html": [
       "Syncing run <strong><a href='https://wandb.ai/natalia-timokhova-v-lule-university-of-technology/conditional-gan-mnist/runs/9wmmo3ij' target=\"_blank\">run_10_epochs</a></strong> to <a href='https://wandb.ai/natalia-timokhova-v-lule-university-of-technology/conditional-gan-mnist' target=\"_blank\">Weights & Biases</a> (<a href='https://wandb.me/developer-guide' target=\"_blank\">docs</a>)<br>"
      ],
      "text/plain": [
       "<IPython.core.display.HTML object>"
      ]
     },
     "metadata": {},
     "output_type": "display_data"
    },
    {
     "data": {
      "text/html": [
       " View project at <a href='https://wandb.ai/natalia-timokhova-v-lule-university-of-technology/conditional-gan-mnist' target=\"_blank\">https://wandb.ai/natalia-timokhova-v-lule-university-of-technology/conditional-gan-mnist</a>"
      ],
      "text/plain": [
       "<IPython.core.display.HTML object>"
      ]
     },
     "metadata": {},
     "output_type": "display_data"
    },
    {
     "data": {
      "text/html": [
       " View run at <a href='https://wandb.ai/natalia-timokhova-v-lule-university-of-technology/conditional-gan-mnist/runs/9wmmo3ij' target=\"_blank\">https://wandb.ai/natalia-timokhova-v-lule-university-of-technology/conditional-gan-mnist/runs/9wmmo3ij</a>"
      ],
      "text/plain": [
       "<IPython.core.display.HTML object>"
      ]
     },
     "metadata": {},
     "output_type": "display_data"
    },
    {
     "name": "stderr",
     "output_type": "stream",
     "text": [
      "100%|██████████| 938/938 [00:13<00:00, 69.45it/s]\n"
     ]
    },
    {
     "name": "stdout",
     "output_type": "stream",
     "text": [
      "epoch 0; D_loss: 0.0717; G_loss: 6.2024\n",
      "Saved Best Models at epoch 0 | G_loss: 6.2024\n"
     ]
    },
    {
     "name": "stderr",
     "output_type": "stream",
     "text": [
      "100%|██████████| 938/938 [00:13<00:00, 71.38it/s]\n"
     ]
    },
    {
     "name": "stdout",
     "output_type": "stream",
     "text": [
      "epoch 1; D_loss: 0.0251; G_loss: 6.6020\n"
     ]
    },
    {
     "name": "stderr",
     "output_type": "stream",
     "text": [
      "100%|██████████| 938/938 [00:13<00:00, 69.81it/s]\n"
     ]
    },
    {
     "name": "stdout",
     "output_type": "stream",
     "text": [
      "epoch 2; D_loss: 0.0531; G_loss: 5.5099\n",
      "Saved Best Models at epoch 2 | G_loss: 5.5099\n"
     ]
    },
    {
     "name": "stderr",
     "output_type": "stream",
     "text": [
      "100%|██████████| 938/938 [00:13<00:00, 70.35it/s]\n"
     ]
    },
    {
     "name": "stdout",
     "output_type": "stream",
     "text": [
      "epoch 3; D_loss: 0.1181; G_loss: 5.3680\n",
      "Saved Best Models at epoch 3 | G_loss: 5.3680\n"
     ]
    },
    {
     "name": "stderr",
     "output_type": "stream",
     "text": [
      "100%|██████████| 938/938 [00:13<00:00, 69.05it/s]\n"
     ]
    },
    {
     "name": "stdout",
     "output_type": "stream",
     "text": [
      "epoch 4; D_loss: 0.1978; G_loss: 5.1907\n",
      "Saved Best Models at epoch 4 | G_loss: 5.1907\n"
     ]
    },
    {
     "name": "stderr",
     "output_type": "stream",
     "text": [
      "100%|██████████| 938/938 [00:12<00:00, 73.45it/s] \n"
     ]
    },
    {
     "name": "stdout",
     "output_type": "stream",
     "text": [
      "epoch 5; D_loss: 0.3601; G_loss: 4.3227\n",
      "Saved Best Models at epoch 5 | G_loss: 4.3227\n"
     ]
    },
    {
     "name": "stderr",
     "output_type": "stream",
     "text": [
      "100%|██████████| 938/938 [00:13<00:00, 68.76it/s]\n"
     ]
    },
    {
     "name": "stdout",
     "output_type": "stream",
     "text": [
      "epoch 6; D_loss: 0.4435; G_loss: 3.5738\n",
      "Saved Best Models at epoch 6 | G_loss: 3.5738\n"
     ]
    },
    {
     "name": "stderr",
     "output_type": "stream",
     "text": [
      "100%|██████████| 938/938 [00:13<00:00, 68.88it/s]\n"
     ]
    },
    {
     "name": "stdout",
     "output_type": "stream",
     "text": [
      "epoch 7; D_loss: 0.5211; G_loss: 3.1740\n",
      "Saved Best Models at epoch 7 | G_loss: 3.1740\n"
     ]
    },
    {
     "name": "stderr",
     "output_type": "stream",
     "text": [
      "100%|██████████| 938/938 [00:13<00:00, 70.68it/s]\n"
     ]
    },
    {
     "name": "stdout",
     "output_type": "stream",
     "text": [
      "epoch 8; D_loss: 0.6140; G_loss: 2.9517\n",
      "Saved Best Models at epoch 8 | G_loss: 2.9517\n"
     ]
    },
    {
     "name": "stderr",
     "output_type": "stream",
     "text": [
      "100%|██████████| 938/938 [00:11<00:00, 84.46it/s] \n"
     ]
    },
    {
     "name": "stdout",
     "output_type": "stream",
     "text": [
      "epoch 9; D_loss: 0.6213; G_loss: 2.7525\n",
      "Saved Best Models at epoch 9 | G_loss: 2.7525\n"
     ]
    },
    {
     "data": {
      "text/html": [],
      "text/plain": [
       "<IPython.core.display.HTML object>"
      ]
     },
     "metadata": {},
     "output_type": "display_data"
    },
    {
     "data": {
      "text/html": [
       "<br>    <style><br>        .wandb-row {<br>            display: flex;<br>            flex-direction: row;<br>            flex-wrap: wrap;<br>            justify-content: flex-start;<br>            width: 100%;<br>        }<br>        .wandb-col {<br>            display: flex;<br>            flex-direction: column;<br>            flex-basis: 100%;<br>            flex: 1;<br>            padding: 10px;<br>        }<br>    </style><br><div class=\"wandb-row\"><div class=\"wandb-col\"><h3>Run history:</h3><br/><table class=\"wandb\"><tr><td>D_loss</td><td>▂▁▁▂▃▅▆▇██</td></tr><tr><td>G_loss</td><td>▇█▆▆▅▄▂▂▁▁</td></tr><tr><td>epoch</td><td>▁▂▃▃▄▅▆▆▇█</td></tr></table><br/></div><div class=\"wandb-col\"><h3>Run summary:</h3><br/><table class=\"wandb\"><tr><td>D_loss</td><td>0.62129</td></tr><tr><td>G_loss</td><td>2.75248</td></tr><tr><td>epoch</td><td>9</td></tr></table><br/></div></div>"
      ],
      "text/plain": [
       "<IPython.core.display.HTML object>"
      ]
     },
     "metadata": {},
     "output_type": "display_data"
    },
    {
     "data": {
      "text/html": [
       " View run <strong style=\"color:#cdcd00\">run_10_epochs</strong> at: <a href='https://wandb.ai/natalia-timokhova-v-lule-university-of-technology/conditional-gan-mnist/runs/9wmmo3ij' target=\"_blank\">https://wandb.ai/natalia-timokhova-v-lule-university-of-technology/conditional-gan-mnist/runs/9wmmo3ij</a><br> View project at: <a href='https://wandb.ai/natalia-timokhova-v-lule-university-of-technology/conditional-gan-mnist' target=\"_blank\">https://wandb.ai/natalia-timokhova-v-lule-university-of-technology/conditional-gan-mnist</a><br>Synced 5 W&B file(s), 0 media file(s), 0 artifact file(s) and 0 other file(s)"
      ],
      "text/plain": [
       "<IPython.core.display.HTML object>"
      ]
     },
     "metadata": {},
     "output_type": "display_data"
    },
    {
     "data": {
      "text/html": [
       "Find logs at: <code>./wandb/run-20250429_005019-9wmmo3ij/logs</code>"
      ],
      "text/plain": [
       "<IPython.core.display.HTML object>"
      ]
     },
     "metadata": {},
     "output_type": "display_data"
    }
   ],
   "source": [
    "# ########################### Training 10 epochs #######################################\n",
    "wandb_log = True\n",
    "device = torch.device(\"cuda:0\" if torch.cuda.is_available() else \"cpu\")\n",
    "\n",
    "# Number of epochs (change only here)\n",
    "epochs = 10\n",
    "\n",
    "# Instantiate models\n",
    "G = Generator(Z_dim, h_dim, X_dim).to(device)\n",
    "D = Discriminator(X_dim, h_dim).to(device)\n",
    "\n",
    "# Optimizers\n",
    "G_solver = optim.Adam(G.parameters(), lr=lr)\n",
    "D_solver = optim.Adam(D.parameters(), lr=lr)\n",
    "\n",
    "# Loss function\n",
    "def my_bce_loss(preds, targets):\n",
    "    return F.binary_cross_entropy(preds, targets)\n",
    "\n",
    "loss_fn = my_bce_loss\n",
    "\n",
    "best_g_loss = float('inf')  # Initialize best generator loss\n",
    "save_dir = 'checkpoints'\n",
    "os.makedirs(save_dir, exist_ok=True)\n",
    "\n",
    "# Initialize W&B immediately before training\n",
    "if wandb_log: \n",
    "    wandb.init(\n",
    "        project=\"conditional-gan-mnist\",\n",
    "        name=f\"run_{epochs}_epochs\",\n",
    "        settings=wandb.Settings(start_method=\"thread\"),\n",
    "        config={\n",
    "            \"batch_size\": mb_size,\n",
    "            \"Z_dim\": Z_dim,\n",
    "            \"X_dim\": X_dim,\n",
    "            \"h_dim\": h_dim,\n",
    "            \"lr\": lr,\n",
    "            \"epochs\": epochs,\n",
    "            \"start_epoch\": 0,\n",
    "            \"end_epoch\": epochs - 1\n",
    "        }\n",
    "    )\n",
    "\n",
    "# Train loop\n",
    "for epoch in range(epochs):\n",
    "    G, D, G_loss_avg, D_loss_avg = cGANTraining(G, D, loss_fn, train_loader)\n",
    "\n",
    "    print(f'epoch {epoch}; D_loss: {D_loss_avg:.4f}; G_loss: {G_loss_avg:.4f}')\n",
    "\n",
    "    if wandb_log:\n",
    "        wandb.log({\n",
    "            \"epoch\": epoch,\n",
    "            \"D_loss\": D_loss_avg,\n",
    "            \"G_loss\": G_loss_avg\n",
    "        })\n",
    "\n",
    "    if G_loss_avg < best_g_loss:\n",
    "        best_g_loss = G_loss_avg\n",
    "        torch.save(G.state_dict(), os.path.join(save_dir, 'G_best.pth'))\n",
    "        torch.save(D.state_dict(), os.path.join(save_dir, 'D_best.pth'))\n",
    "        print(f\"Saved Best Models at epoch {epoch} | G_loss: {best_g_loss:.4f}\")\n",
    "\n",
    "    save_sample(G, epoch, mb_size, Z_dim)\n",
    "\n",
    "# Final log and run closure\n",
    "if wandb_log:\n",
    "    wandb.config.update({\"final_epoch\": epoch})  # saved in config metadata\n",
    "    wandb.finish()\n"
   ]
  },
  {
   "cell_type": "code",
   "execution_count": 330,
   "id": "5d0bf17f-e92c-4c12-94df-8289a5bd2c73",
   "metadata": {},
   "outputs": [],
   "source": [
    "# Inference / sampling from the best‐saved G\n",
    "\n",
    "# 1) Re‐create the Generator and move to the same device\n",
    "G_infer = Generator(Z_dim, h_dim, X_dim).to(device)\n",
    "\n",
    "# 2) Load the weights from the best checkpoint\n",
    "checkpoint = torch.load('checkpoints/G_best.pth', map_location=device, weights_only=True)\n",
    "G_infer.load_state_dict(checkpoint)\n",
    "\n",
    "# 3) Set to evaluation mode\n",
    "G_infer.eval()\n",
    "\n",
    "# 4) Generate and save a sample grid (this will create out_vanila_GAN2/best.png)\n",
    "save_sample(G_infer, \"best\", mb_size, Z_dim)\n",
    "\n",
    "# 5) Clean previous best models\n",
    "for f in glob.glob(os.path.join(save_dir, \"G_best_epoch*.pth\")):\n",
    "    os.remove(f)"
   ]
  },
  {
   "cell_type": "code",
   "execution_count": 331,
   "id": "831f486e-fc89-49d8-b8a6-204a5efc7a27",
   "metadata": {},
   "outputs": [
    {
     "data": {
      "image/png": "[encoded data removed]",
      "text/plain": [
       "<IPython.core.display.Image object>"
      ]
     },
     "metadata": {},
     "output_type": "display_data"
    }
   ],
   "source": [
    "display(Image(\"best.png\"))"
   ]
  },
  {
   "cell_type": "code",
   "execution_count": 335,
   "id": "1d413fdb-22d9-4c0a-a10e-6c088463ce73",
   "metadata": {},
   "outputs": [
    {
     "data": {
      "text/html": [
       "Tracking run with wandb version 0.19.9"
      ],
      "text/plain": [
       "<IPython.core.display.HTML object>"
      ]
     },
     "metadata": {},
     "output_type": "display_data"
    },
    {
     "data": {
      "text/html": [
       "Run data is saved locally in <code>/Lab_2/wandb/run-20250429_005706-8swkzykb</code>"
      ],
      "text/plain": [
       "<IPython.core.display.HTML object>"
      ]
     },
     "metadata": {},
     "output_type": "display_data"
    },
    {
     "data": {
      "text/html": [
       "Syncing run <strong><a href='https://wandb.ai/natalia-timokhova-v-lule-university-of-technology/conditional-gan-mnist/runs/8swkzykb' target=\"_blank\">run_50_epochs</a></strong> to <a href='https://wandb.ai/natalia-timokhova-v-lule-university-of-technology/conditional-gan-mnist' target=\"_blank\">Weights & Biases</a> (<a href='https://wandb.me/developer-guide' target=\"_blank\">docs</a>)<br>"
      ],
      "text/plain": [
       "<IPython.core.display.HTML object>"
      ]
     },
     "metadata": {},
     "output_type": "display_data"
    },
    {
     "data": {
      "text/html": [
       " View project at <a href='https://wandb.ai/natalia-timokhova-v-lule-university-of-technology/conditional-gan-mnist' target=\"_blank\">https://wandb.ai/natalia-timokhova-v-lule-university-of-technology/conditional-gan-mnist</a>"
      ],
      "text/plain": [
       "<IPython.core.display.HTML object>"
      ]
     },
     "metadata": {},
     "output_type": "display_data"
    },
    {
     "data": {
      "text/html": [
       " View run at <a href='https://wandb.ai/natalia-timokhova-v-lule-university-of-technology/conditional-gan-mnist/runs/8swkzykb' target=\"_blank\">https://wandb.ai/natalia-timokhova-v-lule-university-of-technology/conditional-gan-mnist/runs/8swkzykb</a>"
      ],
      "text/plain": [
       "<IPython.core.display.HTML object>"
      ]
     },
     "metadata": {},
     "output_type": "display_data"
    },
    {
     "name": "stderr",
     "output_type": "stream",
     "text": [
      "100%|██████████| 938/938 [00:14<00:00, 65.89it/s]\n"
     ]
    },
    {
     "name": "stdout",
     "output_type": "stream",
     "text": [
      "epoch 0; D_loss: 0.0768; G_loss: 6.7336\n",
      "Saved Best Models at epoch 0 | G_loss: 6.7336\n"
     ]
    },
    {
     "name": "stderr",
     "output_type": "stream",
     "text": [
      "100%|██████████| 938/938 [00:12<00:00, 74.82it/s] \n"
     ]
    },
    {
     "name": "stdout",
     "output_type": "stream",
     "text": [
      "epoch 1; D_loss: 0.0214; G_loss: 6.3371\n",
      "Saved Best Models at epoch 1 | G_loss: 6.3371\n"
     ]
    },
    {
     "name": "stderr",
     "output_type": "stream",
     "text": [
      "100%|██████████| 938/938 [00:13<00:00, 68.65it/s]\n"
     ]
    },
    {
     "name": "stdout",
     "output_type": "stream",
     "text": [
      "epoch 2; D_loss: 0.0485; G_loss: 5.6012\n",
      "Saved Best Models at epoch 2 | G_loss: 5.6012\n"
     ]
    },
    {
     "name": "stderr",
     "output_type": "stream",
     "text": [
      "100%|██████████| 938/938 [00:13<00:00, 68.09it/s]\n"
     ]
    },
    {
     "name": "stdout",
     "output_type": "stream",
     "text": [
      "epoch 3; D_loss: 0.0963; G_loss: 5.3302\n",
      "Saved Best Models at epoch 3 | G_loss: 5.3302\n"
     ]
    },
    {
     "name": "stderr",
     "output_type": "stream",
     "text": [
      "100%|██████████| 938/938 [00:13<00:00, 68.26it/s]\n"
     ]
    },
    {
     "name": "stdout",
     "output_type": "stream",
     "text": [
      "epoch 4; D_loss: 0.1819; G_loss: 4.5048\n",
      "Saved Best Models at epoch 4 | G_loss: 4.5048\n"
     ]
    },
    {
     "name": "stderr",
     "output_type": "stream",
     "text": [
      "100%|██████████| 938/938 [00:13<00:00, 68.46it/s]\n"
     ]
    },
    {
     "name": "stdout",
     "output_type": "stream",
     "text": [
      "epoch 5; D_loss: 0.3223; G_loss: 3.8692\n",
      "Saved Best Models at epoch 5 | G_loss: 3.8692\n"
     ]
    },
    {
     "name": "stderr",
     "output_type": "stream",
     "text": [
      "100%|██████████| 938/938 [00:13<00:00, 70.30it/s]\n"
     ]
    },
    {
     "name": "stdout",
     "output_type": "stream",
     "text": [
      "epoch 6; D_loss: 0.3650; G_loss: 3.5727\n",
      "Saved Best Models at epoch 6 | G_loss: 3.5727\n"
     ]
    },
    {
     "name": "stderr",
     "output_type": "stream",
     "text": [
      "100%|██████████| 938/938 [00:13<00:00, 68.20it/s]\n"
     ]
    },
    {
     "name": "stdout",
     "output_type": "stream",
     "text": [
      "epoch 7; D_loss: 0.4125; G_loss: 3.5586\n",
      "Saved Best Models at epoch 7 | G_loss: 3.5586\n"
     ]
    },
    {
     "name": "stderr",
     "output_type": "stream",
     "text": [
      "100%|██████████| 938/938 [00:11<00:00, 83.97it/s] \n"
     ]
    },
    {
     "name": "stdout",
     "output_type": "stream",
     "text": [
      "epoch 8; D_loss: 0.4934; G_loss: 3.1779\n",
      "Saved Best Models at epoch 8 | G_loss: 3.1779\n"
     ]
    },
    {
     "name": "stderr",
     "output_type": "stream",
     "text": [
      "100%|██████████| 938/938 [00:11<00:00, 81.95it/s] \n"
     ]
    },
    {
     "name": "stdout",
     "output_type": "stream",
     "text": [
      "epoch 9; D_loss: 0.5304; G_loss: 2.9716\n",
      "Saved Best Models at epoch 9 | G_loss: 2.9716\n"
     ]
    },
    {
     "name": "stderr",
     "output_type": "stream",
     "text": [
      "100%|██████████| 938/938 [00:10<00:00, 88.70it/s] \n"
     ]
    },
    {
     "name": "stdout",
     "output_type": "stream",
     "text": [
      "epoch 10; D_loss: 0.5664; G_loss: 2.7627\n",
      "Saved Best Models at epoch 10 | G_loss: 2.7627\n"
     ]
    },
    {
     "name": "stderr",
     "output_type": "stream",
     "text": [
      "100%|██████████| 938/938 [00:13<00:00, 67.85it/s]\n"
     ]
    },
    {
     "name": "stdout",
     "output_type": "stream",
     "text": [
      "epoch 11; D_loss: 0.5952; G_loss: 2.6481\n",
      "Saved Best Models at epoch 11 | G_loss: 2.6481\n"
     ]
    },
    {
     "name": "stderr",
     "output_type": "stream",
     "text": [
      "100%|██████████| 938/938 [00:12<00:00, 77.38it/s]\n"
     ]
    },
    {
     "name": "stdout",
     "output_type": "stream",
     "text": [
      "epoch 12; D_loss: 0.6056; G_loss: 2.5893\n",
      "Saved Best Models at epoch 12 | G_loss: 2.5893\n"
     ]
    },
    {
     "name": "stderr",
     "output_type": "stream",
     "text": [
      "100%|██████████| 938/938 [00:13<00:00, 67.97it/s]\n"
     ]
    },
    {
     "name": "stdout",
     "output_type": "stream",
     "text": [
      "epoch 13; D_loss: 0.6190; G_loss: 2.5304\n",
      "Saved Best Models at epoch 13 | G_loss: 2.5304\n"
     ]
    },
    {
     "name": "stderr",
     "output_type": "stream",
     "text": [
      "100%|██████████| 938/938 [00:13<00:00, 68.98it/s]\n"
     ]
    },
    {
     "name": "stdout",
     "output_type": "stream",
     "text": [
      "epoch 14; D_loss: 0.6308; G_loss: 2.4492\n",
      "Saved Best Models at epoch 14 | G_loss: 2.4492\n"
     ]
    },
    {
     "name": "stderr",
     "output_type": "stream",
     "text": [
      "100%|██████████| 938/938 [00:13<00:00, 68.42it/s]\n"
     ]
    },
    {
     "name": "stdout",
     "output_type": "stream",
     "text": [
      "epoch 15; D_loss: 0.6422; G_loss: 2.3807\n",
      "Saved Best Models at epoch 15 | G_loss: 2.3807\n"
     ]
    },
    {
     "name": "stderr",
     "output_type": "stream",
     "text": [
      "100%|██████████| 938/938 [00:13<00:00, 68.63it/s]\n"
     ]
    },
    {
     "name": "stdout",
     "output_type": "stream",
     "text": [
      "epoch 16; D_loss: 0.6581; G_loss: 2.3361\n",
      "Saved Best Models at epoch 16 | G_loss: 2.3361\n"
     ]
    },
    {
     "name": "stderr",
     "output_type": "stream",
     "text": [
      "100%|██████████| 938/938 [00:13<00:00, 69.30it/s]\n"
     ]
    },
    {
     "name": "stdout",
     "output_type": "stream",
     "text": [
      "epoch 17; D_loss: 0.6653; G_loss: 2.3148\n",
      "Saved Best Models at epoch 17 | G_loss: 2.3148\n"
     ]
    },
    {
     "name": "stderr",
     "output_type": "stream",
     "text": [
      "100%|██████████| 938/938 [00:13<00:00, 69.09it/s]\n"
     ]
    },
    {
     "name": "stdout",
     "output_type": "stream",
     "text": [
      "epoch 18; D_loss: 0.6845; G_loss: 2.2648\n",
      "Saved Best Models at epoch 18 | G_loss: 2.2648\n"
     ]
    },
    {
     "name": "stderr",
     "output_type": "stream",
     "text": [
      "100%|██████████| 938/938 [00:13<00:00, 67.91it/s]\n"
     ]
    },
    {
     "name": "stdout",
     "output_type": "stream",
     "text": [
      "epoch 19; D_loss: 0.7087; G_loss: 2.2180\n",
      "Saved Best Models at epoch 19 | G_loss: 2.2180\n"
     ]
    },
    {
     "name": "stderr",
     "output_type": "stream",
     "text": [
      "100%|██████████| 938/938 [00:13<00:00, 68.45it/s]\n"
     ]
    },
    {
     "name": "stdout",
     "output_type": "stream",
     "text": [
      "epoch 20; D_loss: 0.7125; G_loss: 2.2232\n"
     ]
    },
    {
     "name": "stderr",
     "output_type": "stream",
     "text": [
      "100%|██████████| 938/938 [00:13<00:00, 68.64it/s]\n"
     ]
    },
    {
     "name": "stdout",
     "output_type": "stream",
     "text": [
      "epoch 21; D_loss: 0.7188; G_loss: 2.1956\n",
      "Saved Best Models at epoch 21 | G_loss: 2.1956\n"
     ]
    },
    {
     "name": "stderr",
     "output_type": "stream",
     "text": [
      "100%|██████████| 938/938 [00:13<00:00, 68.74it/s]\n"
     ]
    },
    {
     "name": "stdout",
     "output_type": "stream",
     "text": [
      "epoch 22; D_loss: 0.7134; G_loss: 2.1824\n",
      "Saved Best Models at epoch 22 | G_loss: 2.1824\n"
     ]
    },
    {
     "name": "stderr",
     "output_type": "stream",
     "text": [
      "100%|██████████| 938/938 [00:09<00:00, 96.02it/s] \n"
     ]
    },
    {
     "name": "stdout",
     "output_type": "stream",
     "text": [
      "epoch 23; D_loss: 0.7170; G_loss: 2.1533\n",
      "Saved Best Models at epoch 23 | G_loss: 2.1533\n"
     ]
    },
    {
     "name": "stderr",
     "output_type": "stream",
     "text": [
      "100%|██████████| 938/938 [00:10<00:00, 88.75it/s] \n"
     ]
    },
    {
     "name": "stdout",
     "output_type": "stream",
     "text": [
      "epoch 24; D_loss: 0.7197; G_loss: 2.1512\n",
      "Saved Best Models at epoch 24 | G_loss: 2.1512\n"
     ]
    },
    {
     "name": "stderr",
     "output_type": "stream",
     "text": [
      "100%|██████████| 938/938 [00:10<00:00, 88.68it/s] \n"
     ]
    },
    {
     "name": "stdout",
     "output_type": "stream",
     "text": [
      "epoch 25; D_loss: 0.7148; G_loss: 2.1411\n",
      "Saved Best Models at epoch 25 | G_loss: 2.1411\n"
     ]
    },
    {
     "name": "stderr",
     "output_type": "stream",
     "text": [
      "100%|██████████| 938/938 [00:11<00:00, 78.23it/s] \n"
     ]
    },
    {
     "name": "stdout",
     "output_type": "stream",
     "text": [
      "epoch 26; D_loss: 0.7180; G_loss: 2.1658\n"
     ]
    },
    {
     "name": "stderr",
     "output_type": "stream",
     "text": [
      "100%|██████████| 938/938 [00:12<00:00, 73.82it/s] \n"
     ]
    },
    {
     "name": "stdout",
     "output_type": "stream",
     "text": [
      "epoch 27; D_loss: 0.7299; G_loss: 2.1487\n"
     ]
    },
    {
     "name": "stderr",
     "output_type": "stream",
     "text": [
      "100%|██████████| 938/938 [00:13<00:00, 69.05it/s]\n"
     ]
    },
    {
     "name": "stdout",
     "output_type": "stream",
     "text": [
      "epoch 28; D_loss: 0.7223; G_loss: 2.1637\n"
     ]
    },
    {
     "name": "stderr",
     "output_type": "stream",
     "text": [
      "100%|██████████| 938/938 [00:13<00:00, 69.30it/s]\n"
     ]
    },
    {
     "name": "stdout",
     "output_type": "stream",
     "text": [
      "epoch 29; D_loss: 0.7124; G_loss: 2.1838\n"
     ]
    },
    {
     "name": "stderr",
     "output_type": "stream",
     "text": [
      "100%|██████████| 938/938 [00:13<00:00, 68.99it/s]\n"
     ]
    },
    {
     "name": "stdout",
     "output_type": "stream",
     "text": [
      "epoch 30; D_loss: 0.7169; G_loss: 2.2029\n"
     ]
    },
    {
     "name": "stderr",
     "output_type": "stream",
     "text": [
      "100%|██████████| 938/938 [00:13<00:00, 69.05it/s]\n"
     ]
    },
    {
     "name": "stdout",
     "output_type": "stream",
     "text": [
      "epoch 31; D_loss: 0.7114; G_loss: 2.2022\n"
     ]
    },
    {
     "name": "stderr",
     "output_type": "stream",
     "text": [
      "100%|██████████| 938/938 [00:13<00:00, 68.60it/s]\n"
     ]
    },
    {
     "name": "stdout",
     "output_type": "stream",
     "text": [
      "epoch 32; D_loss: 0.7029; G_loss: 2.2163\n"
     ]
    },
    {
     "name": "stderr",
     "output_type": "stream",
     "text": [
      "100%|██████████| 938/938 [00:13<00:00, 68.82it/s]\n"
     ]
    },
    {
     "name": "stdout",
     "output_type": "stream",
     "text": [
      "epoch 33; D_loss: 0.7016; G_loss: 2.2550\n"
     ]
    },
    {
     "name": "stderr",
     "output_type": "stream",
     "text": [
      "100%|██████████| 938/938 [00:13<00:00, 69.75it/s]\n"
     ]
    },
    {
     "name": "stdout",
     "output_type": "stream",
     "text": [
      "epoch 34; D_loss: 0.7004; G_loss: 2.2668\n"
     ]
    },
    {
     "name": "stderr",
     "output_type": "stream",
     "text": [
      "100%|██████████| 938/938 [00:13<00:00, 67.30it/s]\n"
     ]
    },
    {
     "name": "stdout",
     "output_type": "stream",
     "text": [
      "epoch 35; D_loss: 0.6899; G_loss: 2.2914\n"
     ]
    },
    {
     "name": "stderr",
     "output_type": "stream",
     "text": [
      "100%|██████████| 938/938 [00:13<00:00, 69.11it/s]\n"
     ]
    },
    {
     "name": "stdout",
     "output_type": "stream",
     "text": [
      "epoch 36; D_loss: 0.6864; G_loss: 2.3535\n"
     ]
    },
    {
     "name": "stderr",
     "output_type": "stream",
     "text": [
      "100%|██████████| 938/938 [00:13<00:00, 68.27it/s]\n"
     ]
    },
    {
     "name": "stdout",
     "output_type": "stream",
     "text": [
      "epoch 37; D_loss: 0.6747; G_loss: 2.3723\n"
     ]
    },
    {
     "name": "stderr",
     "output_type": "stream",
     "text": [
      "100%|██████████| 938/938 [00:13<00:00, 68.90it/s]\n"
     ]
    },
    {
     "name": "stdout",
     "output_type": "stream",
     "text": [
      "epoch 38; D_loss: 0.6719; G_loss: 2.4034\n"
     ]
    },
    {
     "name": "stderr",
     "output_type": "stream",
     "text": [
      "100%|██████████| 938/938 [00:13<00:00, 68.58it/s]\n"
     ]
    },
    {
     "name": "stdout",
     "output_type": "stream",
     "text": [
      "epoch 39; D_loss: 0.6640; G_loss: 2.4589\n"
     ]
    },
    {
     "name": "stderr",
     "output_type": "stream",
     "text": [
      "100%|██████████| 938/938 [00:13<00:00, 68.29it/s]\n"
     ]
    },
    {
     "name": "stdout",
     "output_type": "stream",
     "text": [
      "epoch 40; D_loss: 0.6570; G_loss: 2.4775\n"
     ]
    },
    {
     "name": "stderr",
     "output_type": "stream",
     "text": [
      "100%|██████████| 938/938 [00:13<00:00, 68.69it/s]\n"
     ]
    },
    {
     "name": "stdout",
     "output_type": "stream",
     "text": [
      "epoch 41; D_loss: 0.6472; G_loss: 2.4996\n"
     ]
    },
    {
     "name": "stderr",
     "output_type": "stream",
     "text": [
      "100%|██████████| 938/938 [00:13<00:00, 67.87it/s]\n"
     ]
    },
    {
     "name": "stdout",
     "output_type": "stream",
     "text": [
      "epoch 42; D_loss: 0.6440; G_loss: 2.5378\n"
     ]
    },
    {
     "name": "stderr",
     "output_type": "stream",
     "text": [
      "100%|██████████| 938/938 [00:13<00:00, 68.44it/s]\n"
     ]
    },
    {
     "name": "stdout",
     "output_type": "stream",
     "text": [
      "epoch 43; D_loss: 0.6431; G_loss: 2.5488\n"
     ]
    },
    {
     "name": "stderr",
     "output_type": "stream",
     "text": [
      "100%|██████████| 938/938 [00:13<00:00, 68.66it/s]\n"
     ]
    },
    {
     "name": "stdout",
     "output_type": "stream",
     "text": [
      "epoch 44; D_loss: 0.6350; G_loss: 2.5955\n"
     ]
    },
    {
     "name": "stderr",
     "output_type": "stream",
     "text": [
      "100%|██████████| 938/938 [00:13<00:00, 68.46it/s]\n"
     ]
    },
    {
     "name": "stdout",
     "output_type": "stream",
     "text": [
      "epoch 45; D_loss: 0.6285; G_loss: 2.5937\n"
     ]
    },
    {
     "name": "stderr",
     "output_type": "stream",
     "text": [
      "100%|██████████| 938/938 [00:13<00:00, 69.26it/s]\n"
     ]
    },
    {
     "name": "stdout",
     "output_type": "stream",
     "text": [
      "epoch 46; D_loss: 0.6204; G_loss: 2.6197\n"
     ]
    },
    {
     "name": "stderr",
     "output_type": "stream",
     "text": [
      "100%|██████████| 938/938 [00:13<00:00, 70.54it/s]\n"
     ]
    },
    {
     "name": "stdout",
     "output_type": "stream",
     "text": [
      "epoch 47; D_loss: 0.6210; G_loss: 2.6545\n"
     ]
    },
    {
     "name": "stderr",
     "output_type": "stream",
     "text": [
      "100%|██████████| 938/938 [00:13<00:00, 68.72it/s]\n"
     ]
    },
    {
     "name": "stdout",
     "output_type": "stream",
     "text": [
      "epoch 48; D_loss: 0.6178; G_loss: 2.6659\n"
     ]
    },
    {
     "name": "stderr",
     "output_type": "stream",
     "text": [
      "100%|██████████| 938/938 [00:13<00:00, 69.35it/s]\n"
     ]
    },
    {
     "name": "stdout",
     "output_type": "stream",
     "text": [
      "epoch 49; D_loss: 0.6130; G_loss: 2.6778\n"
     ]
    },
    {
     "data": {
      "text/html": [],
      "text/plain": [
       "<IPython.core.display.HTML object>"
      ]
     },
     "metadata": {},
     "output_type": "display_data"
    },
    {
     "data": {
      "text/html": [
       "<br>    <style><br>        .wandb-row {<br>            display: flex;<br>            flex-direction: row;<br>            flex-wrap: wrap;<br>            justify-content: flex-start;<br>            width: 100%;<br>        }<br>        .wandb-col {<br>            display: flex;<br>            flex-direction: column;<br>            flex-basis: 100%;<br>            flex: 1;<br>            padding: 10px;<br>        }<br>    </style><br><div class=\"wandb-row\"><div class=\"wandb-col\"><h3>Run history:</h3><br/><table class=\"wandb\"><tr><td>D_loss</td><td>▂▁▁▂▃▄▅▆▆▆▇▇▇▇▇███████████████▇▇▇▇▇▇▇▇▇▇</td></tr><tr><td>G_loss</td><td>█▇▆▆▅▃▃▃▂▂▂▂▁▁▁▁▁▁▁▁▁▁▁▁▁▁▁▁▁▁▁▁▂▂▂▂▂▂▂▂</td></tr><tr><td>epoch</td><td>▁▁▁▁▂▂▂▂▂▂▃▃▃▃▃▄▄▄▄▄▅▅▅▅▅▅▆▆▆▆▆▇▇▇▇▇▇███</td></tr></table><br/></div><div class=\"wandb-col\"><h3>Run summary:</h3><br/><table class=\"wandb\"><tr><td>D_loss</td><td>0.61299</td></tr><tr><td>G_loss</td><td>2.67781</td></tr><tr><td>epoch</td><td>49</td></tr></table><br/></div></div>"
      ],
      "text/plain": [
       "<IPython.core.display.HTML object>"
      ]
     },
     "metadata": {},
     "output_type": "display_data"
    },
    {
     "data": {
      "text/html": [
       " View run <strong style=\"color:#cdcd00\">run_50_epochs</strong> at: <a href='https://wandb.ai/natalia-timokhova-v-lule-university-of-technology/conditional-gan-mnist/runs/8swkzykb' target=\"_blank\">https://wandb.ai/natalia-timokhova-v-lule-university-of-technology/conditional-gan-mnist/runs/8swkzykb</a><br> View project at: <a href='https://wandb.ai/natalia-timokhova-v-lule-university-of-technology/conditional-gan-mnist' target=\"_blank\">https://wandb.ai/natalia-timokhova-v-lule-university-of-technology/conditional-gan-mnist</a><br>Synced 5 W&B file(s), 0 media file(s), 0 artifact file(s) and 0 other file(s)"
      ],
      "text/plain": [
       "<IPython.core.display.HTML object>"
      ]
     },
     "metadata": {},
     "output_type": "display_data"
    },
    {
     "data": {
      "text/html": [
       "Find logs at: <code>./wandb/run-20250429_005706-8swkzykb/logs</code>"
      ],
      "text/plain": [
       "<IPython.core.display.HTML object>"
      ]
     },
     "metadata": {},
     "output_type": "display_data"
    }
   ],
   "source": [
    "# ########################### Training 50 epochs #######################################\n",
    "wandb_log = True\n",
    "device = torch.device(\"cuda:0\" if torch.cuda.is_available() else \"cpu\")\n",
    "\n",
    "# Number of epochs (change only here)\n",
    "epochs = 50\n",
    "\n",
    "# Instantiate models\n",
    "G = Generator(Z_dim, h_dim, X_dim).to(device)\n",
    "D = Discriminator(X_dim, h_dim).to(device)\n",
    "\n",
    "# Optimizers\n",
    "G_solver = optim.Adam(G.parameters(), lr=lr)\n",
    "D_solver = optim.Adam(D.parameters(), lr=lr)\n",
    "\n",
    "# Loss function\n",
    "def my_bce_loss(preds, targets):\n",
    "    return F.binary_cross_entropy(preds, targets)\n",
    "\n",
    "loss_fn = my_bce_loss\n",
    "\n",
    "best_g_loss = float('inf')  # Initialize best generator loss\n",
    "save_dir = 'checkpoints'\n",
    "os.makedirs(save_dir, exist_ok=True)\n",
    "\n",
    "# Initialize W&B immediately before training\n",
    "if wandb_log: \n",
    "    wandb.init(\n",
    "        project=\"conditional-gan-mnist\",\n",
    "        name=f\"run_{epochs}_epochs\",\n",
    "        settings=wandb.Settings(start_method=\"thread\"),\n",
    "        config={\n",
    "            \"batch_size\": mb_size,\n",
    "            \"Z_dim\": Z_dim,\n",
    "            \"X_dim\": X_dim,\n",
    "            \"h_dim\": h_dim,\n",
    "            \"lr\": lr,\n",
    "            \"epochs\": epochs,\n",
    "            \"start_epoch\": 0,\n",
    "            \"end_epoch\": epochs - 1\n",
    "        }\n",
    "    )\n",
    "\n",
    "# Train loop\n",
    "for epoch in range(epochs):\n",
    "    G, D, G_loss_avg, D_loss_avg = cGANTraining(G, D, loss_fn, train_loader)\n",
    "\n",
    "    print(f'epoch {epoch}; D_loss: {D_loss_avg:.4f}; G_loss: {G_loss_avg:.4f}')\n",
    "\n",
    "    if wandb_log:\n",
    "        wandb.log({\n",
    "            \"epoch\": epoch,\n",
    "            \"D_loss\": D_loss_avg,\n",
    "            \"G_loss\": G_loss_avg\n",
    "        })\n",
    "\n",
    "    if G_loss_avg < best_g_loss:\n",
    "        best_g_loss = G_loss_avg\n",
    "        torch.save(G.state_dict(), os.path.join(save_dir, 'G_best.pth'))\n",
    "        torch.save(D.state_dict(), os.path.join(save_dir, 'D_best.pth'))\n",
    "        print(f\"Saved Best Models at epoch {epoch} | G_loss: {best_g_loss:.4f}\")\n",
    "\n",
    "    save_sample(G, epoch, mb_size, Z_dim)\n",
    "\n",
    "# Final log and run closure\n",
    "if wandb_log:\n",
    "    wandb.config.update({\"final_epoch\": epoch})  # saved in config metadata\n",
    "    wandb.finish()\n"
   ]
  },
  {
   "cell_type": "code",
   "execution_count": 336,
   "id": "1ad400d4-7a3e-49c4-af19-06f766c329d9",
   "metadata": {},
   "outputs": [],
   "source": [
    "# Inference / sampling from the best‐saved G\n",
    "\n",
    "# 1) Re‐create the Generator and move to the same device\n",
    "G_infer = Generator(Z_dim, h_dim, X_dim).to(device)\n",
    "\n",
    "# 2) Load the weights from the best checkpoint\n",
    "checkpoint = torch.load('checkpoints/G_best.pth', map_location=device, weights_only=True)\n",
    "G_infer.load_state_dict(checkpoint)\n",
    "\n",
    "# 3) Set to evaluation mode\n",
    "G_infer.eval()\n",
    "\n",
    "# 4) Generate and save a sample grid (this will create out_vanila_GAN2/best.png)\n",
    "save_sample(G_infer, \"best\", mb_size, Z_dim)\n",
    "\n",
    "# 5) Clean previous best models\n",
    "for f in glob.glob(os.path.join(save_dir, \"G_best_epoch*.pth\")):\n",
    "    os.remove(f)"
   ]
  },
  {
   "cell_type": "code",
   "execution_count": 337,
   "id": "1f556a50-4d32-4933-ab2c-ccfb3fcdc50f",
   "metadata": {},
   "outputs": [
    {
     "data": {
      "image/png": "[encoded data removed]",
      "text/plain": [
       "<IPython.core.display.Image object>"
      ]
     },
     "metadata": {},
     "output_type": "display_data"
    }
   ],
   "source": [
    "display(Image(\"best.png\"))"
   ]
  },
  {
   "cell_type": "markdown",
   "id": "712873c5-37ab-49b9-b6f7-5f1ac450d0c3",
   "metadata": {},
   "source": [
    "## Task 2"
   ]
  },
  {
   "cell_type": "markdown",
   "id": "dee4582f-f10f-494c-a14f-5a5073ccf1c8",
   "metadata": {},
   "source": [
    "Run the same code with a different loss function: Logistic loss as described in Brandon\n",
    "Amos blog and compare the results with above Task 1."
   ]
  },
  {
   "cell_type": "code",
   "execution_count": 351,
   "id": "2cd6808c-4b30-40af-9e81-e91cb201e4f8",
   "metadata": {},
   "outputs": [],
   "source": [
    "########################################################################\n",
    "    # Logistic loss. Change \"out\" in Discriminator and Loss Function\n",
    "########################################################################\n",
    "# Generator\n",
    "class Generator(nn.Module):\n",
    "    def __init__(self, z_dim, h_dim, x_dim):\n",
    "        super(Generator, self).__init__()\n",
    "        self.fc1 = nn.Linear(z_dim, h_dim)\n",
    "        self.fc2 = nn.Linear(h_dim, x_dim)\n",
    "        self.apply(xavier_init)\n",
    "\n",
    "    def forward(self, z):\n",
    "        h = F.relu(self.fc1(z))\n",
    "        out = torch.sigmoid(self.fc2(h))   # in Generator we spare Sigmoid because the data is in [0,1]\n",
    "        return out\n",
    "\n",
    "# Discriminator\n",
    "class Discriminator(nn.Module):\n",
    "    def __init__(self, x_dim, h_dim):\n",
    "        super(Discriminator, self).__init__()\n",
    "        self.fc1 = nn.Linear(x_dim, h_dim)\n",
    "        self.fc2 = nn.Linear(h_dim, 1)\n",
    "        self.apply(xavier_init)\n",
    "\n",
    "    def forward(self, x):\n",
    "        h = F.relu(self.fc1(x))\n",
    "        # out = torch.sigmoid(self.fc2(h))    # before change \n",
    "        out = self.fc2(h)                     # after change to logistic loss\n",
    "        return out"
   ]
  },
  {
   "cell_type": "code",
   "execution_count": 352,
   "id": "5f968d4f-d97e-46b8-8ccc-3a76c6743298",
   "metadata": {},
   "outputs": [],
   "source": [
    "# Training\n",
    "def cGANTraining(G, D, loss_fn, train_loader):\n",
    "    G.train()\n",
    "    D.train()\n",
    "\n",
    "    D_loss_real_total = 0\n",
    "    D_loss_fake_total = 0\n",
    "    G_loss_total = 0\n",
    "    t = tqdm.tqdm(train_loader)\n",
    "    \n",
    "    for it, (X_real, labels) in enumerate(t):\n",
    "        # Prepare real data\n",
    "        X_real = X_real.float().to(device)\n",
    "\n",
    "        # Sample noise and labels\n",
    "        z = torch.randn(X_real.size(0), Z_dim).to(device)\n",
    "        ones_label = torch.ones(X_real.size(0), 1).to(device)\n",
    "        zeros_label = torch.zeros(X_real.size(0), 1).to(device)\n",
    "\n",
    "        # ================= Train Discriminator =================\n",
    "        G_sample = G(z)\n",
    "        D_real = D(X_real)\n",
    "        D_fake = D(G_sample.detach())  # fake discrimination \n",
    "\n",
    "        D_loss_real = loss_fn(D_real, ones_label)\n",
    "        D_loss_fake = loss_fn(D_fake, zeros_label)\n",
    "        D_loss = D_loss_real + D_loss_fake\n",
    "        D_loss_real_total += D_loss_real.item()\n",
    "        D_loss_fake_total += D_loss_fake.item()\n",
    "\n",
    "        D_solver.zero_grad()\n",
    "        D_loss.backward()\n",
    "        D_solver.step()\n",
    "\n",
    "        # ================= Train Generator ====================\n",
    "        z = torch.randn(X_real.size(0), Z_dim).to(device)\n",
    "        G_sample = G(z)\n",
    "        D_fake = D(G_sample)\n",
    "\n",
    "        G_loss = loss_fn(D_fake, ones_label)  # more 1 for fakes from D, better for G\n",
    "        G_loss_total += G_loss.item()\n",
    "\n",
    "        G_solver.zero_grad()\n",
    "        G_loss.backward()\n",
    "        G_solver.step()\n",
    "\n",
    "    # ================= Logging =================\n",
    "    D_loss_real_avg = D_loss_real_total / len(train_loader)\n",
    "    D_loss_fake_avg = D_loss_fake_total / len(train_loader)\n",
    "    D_loss_avg = D_loss_real_avg + D_loss_fake_avg\n",
    "    G_loss_avg = G_loss_total / len(train_loader)\n",
    "\n",
    "    \"\"\"wandb.log({\n",
    "        \"D_loss_real\": D_loss_real_avg,\n",
    "        \"D_loss_fake\": D_loss_fake_avg,\n",
    "        \"D_loss\": D_loss_avg,\n",
    "        \"G_loss\": G_loss_avg\n",
    "    })\"\"\"\n",
    "\n",
    "    return G, D, G_loss_avg, D_loss_avg"
   ]
  },
  {
   "cell_type": "code",
   "execution_count": 353,
   "id": "05535741-c769-45d6-8d3f-4877cd0c6632",
   "metadata": {},
   "outputs": [],
   "source": [
    "# Generator stopps to learn and only generates pictures\n",
    "def save_sample(G, epoch, mb_size, Z_dim):\n",
    "    out_dir = \"out_vanila_GAN2\"\n",
    "    G.eval()\n",
    "    with torch.no_grad():\n",
    "        z = torch.randn(mb_size, Z_dim).to(device)\n",
    "        samples = G(z).detach().cpu().numpy()[:16]    # We don't need to see all 64, 16 is enough to see progress\n",
    "\n",
    "    fig = plt.figure(figsize=(4, 4))\n",
    "    gs = gridspec.GridSpec(4, 4)\n",
    "    gs.update(wspace=0.05, hspace=0.05)\n",
    "\n",
    "    for i, sample in enumerate(samples):\n",
    "        ax = plt.subplot(gs[i])\n",
    "        plt.axis('off')\n",
    "        ax.set_xticklabels([])\n",
    "        ax.set_yticklabels([])\n",
    "        ax.set_aspect('equal')\n",
    "        plt.imshow(sample.reshape(28, 28), cmap='Greys_r')\n",
    "\n",
    "    if not os.path.exists(f'{out_dir}'):\n",
    "        os.makedirs(f'{out_dir}')\n",
    "\n",
    "    plt.savefig(f'{out_dir}/{str(epoch).zfill(3)}.png', bbox_inches='tight')\n",
    "    plt.close(fig)\n"
   ]
  },
  {
   "cell_type": "code",
   "execution_count": 342,
   "id": "0fc4d94d-db68-4e6f-9ea7-56f56aaa8016",
   "metadata": {},
   "outputs": [
    {
     "data": {
      "text/html": [
       "Tracking run with wandb version 0.19.9"
      ],
      "text/plain": [
       "<IPython.core.display.HTML object>"
      ]
     },
     "metadata": {},
     "output_type": "display_data"
    },
    {
     "data": {
      "text/html": [
       "Run data is saved locally in <code>/Lab_2/wandb/run-20250429_012317-2zperp1r</code>"
      ],
      "text/plain": [
       "<IPython.core.display.HTML object>"
      ]
     },
     "metadata": {},
     "output_type": "display_data"
    },
    {
     "data": {
      "text/html": [
       "Syncing run <strong><a href='https://wandb.ai/natalia-timokhova-v-lule-university-of-technology/conditional-gan-mnist/runs/2zperp1r' target=\"_blank\">run_5_epochs</a></strong> to <a href='https://wandb.ai/natalia-timokhova-v-lule-university-of-technology/conditional-gan-mnist' target=\"_blank\">Weights & Biases</a> (<a href='https://wandb.me/developer-guide' target=\"_blank\">docs</a>)<br>"
      ],
      "text/plain": [
       "<IPython.core.display.HTML object>"
      ]
     },
     "metadata": {},
     "output_type": "display_data"
    },
    {
     "data": {
      "text/html": [
       " View project at <a href='https://wandb.ai/natalia-timokhova-v-lule-university-of-technology/conditional-gan-mnist' target=\"_blank\">https://wandb.ai/natalia-timokhova-v-lule-university-of-technology/conditional-gan-mnist</a>"
      ],
      "text/plain": [
       "<IPython.core.display.HTML object>"
      ]
     },
     "metadata": {},
     "output_type": "display_data"
    },
    {
     "data": {
      "text/html": [
       " View run at <a href='https://wandb.ai/natalia-timokhova-v-lule-university-of-technology/conditional-gan-mnist/runs/2zperp1r' target=\"_blank\">https://wandb.ai/natalia-timokhova-v-lule-university-of-technology/conditional-gan-mnist/runs/2zperp1r</a>"
      ],
      "text/plain": [
       "<IPython.core.display.HTML object>"
      ]
     },
     "metadata": {},
     "output_type": "display_data"
    },
    {
     "name": "stderr",
     "output_type": "stream",
     "text": [
      "100%|██████████| 938/938 [00:13<00:00, 70.13it/s]\n"
     ]
    },
    {
     "name": "stdout",
     "output_type": "stream",
     "text": [
      "epoch 0; D_loss: 0.0740; G_loss: 5.6233\n",
      "Saved Best Models at epoch 0 | G_loss: 5.6233\n"
     ]
    },
    {
     "name": "stderr",
     "output_type": "stream",
     "text": [
      "100%|██████████| 938/938 [00:13<00:00, 69.22it/s]\n"
     ]
    },
    {
     "name": "stdout",
     "output_type": "stream",
     "text": [
      "epoch 1; D_loss: 0.0390; G_loss: 5.6985\n"
     ]
    },
    {
     "name": "stderr",
     "output_type": "stream",
     "text": [
      "100%|██████████| 938/938 [00:13<00:00, 68.91it/s]\n"
     ]
    },
    {
     "name": "stdout",
     "output_type": "stream",
     "text": [
      "epoch 2; D_loss: 0.0708; G_loss: 5.2928\n",
      "Saved Best Models at epoch 2 | G_loss: 5.2928\n"
     ]
    },
    {
     "name": "stderr",
     "output_type": "stream",
     "text": [
      "100%|██████████| 938/938 [00:13<00:00, 69.73it/s]\n"
     ]
    },
    {
     "name": "stdout",
     "output_type": "stream",
     "text": [
      "epoch 3; D_loss: 0.0932; G_loss: 5.5476\n"
     ]
    },
    {
     "name": "stderr",
     "output_type": "stream",
     "text": [
      "100%|██████████| 938/938 [00:11<00:00, 80.15it/s] \n"
     ]
    },
    {
     "name": "stdout",
     "output_type": "stream",
     "text": [
      "epoch 4; D_loss: 0.1756; G_loss: 5.1592\n",
      "Saved Best Models at epoch 4 | G_loss: 5.1592\n"
     ]
    },
    {
     "data": {
      "text/html": [],
      "text/plain": [
       "<IPython.core.display.HTML object>"
      ]
     },
     "metadata": {},
     "output_type": "display_data"
    },
    {
     "data": {
      "text/html": [
       "<br>    <style><br>        .wandb-row {<br>            display: flex;<br>            flex-direction: row;<br>            flex-wrap: wrap;<br>            justify-content: flex-start;<br>            width: 100%;<br>        }<br>        .wandb-col {<br>            display: flex;<br>            flex-direction: column;<br>            flex-basis: 100%;<br>            flex: 1;<br>            padding: 10px;<br>        }<br>    </style><br><div class=\"wandb-row\"><div class=\"wandb-col\"><h3>Run history:</h3><br/><table class=\"wandb\"><tr><td>D_loss</td><td>▃▁▃▄█</td></tr><tr><td>G_loss</td><td>▇█▃▆▁</td></tr><tr><td>epoch</td><td>▁▃▅▆█</td></tr></table><br/></div><div class=\"wandb-col\"><h3>Run summary:</h3><br/><table class=\"wandb\"><tr><td>D_loss</td><td>0.17563</td></tr><tr><td>G_loss</td><td>5.15918</td></tr><tr><td>epoch</td><td>4</td></tr></table><br/></div></div>"
      ],
      "text/plain": [
       "<IPython.core.display.HTML object>"
      ]
     },
     "metadata": {},
     "output_type": "display_data"
    },
    {
     "data": {
      "text/html": [
       " View run <strong style=\"color:#cdcd00\">run_5_epochs</strong> at: <a href='https://wandb.ai/natalia-timokhova-v-lule-university-of-technology/conditional-gan-mnist/runs/2zperp1r' target=\"_blank\">https://wandb.ai/natalia-timokhova-v-lule-university-of-technology/conditional-gan-mnist/runs/2zperp1r</a><br> View project at: <a href='https://wandb.ai/natalia-timokhova-v-lule-university-of-technology/conditional-gan-mnist' target=\"_blank\">https://wandb.ai/natalia-timokhova-v-lule-university-of-technology/conditional-gan-mnist</a><br>Synced 5 W&B file(s), 0 media file(s), 0 artifact file(s) and 0 other file(s)"
      ],
      "text/plain": [
       "<IPython.core.display.HTML object>"
      ]
     },
     "metadata": {},
     "output_type": "display_data"
    },
    {
     "data": {
      "text/html": [
       "Find logs at: <code>./wandb/run-20250429_012317-2zperp1r/logs</code>"
      ],
      "text/plain": [
       "<IPython.core.display.HTML object>"
      ]
     },
     "metadata": {},
     "output_type": "display_data"
    }
   ],
   "source": [
    "########################### 5 epochs #######################################\n",
    "wandb_log = True\n",
    "device = torch.device(\"cuda:0\" if torch.cuda.is_available() else \"cpu\")\n",
    "\n",
    "# Number of epochs (change only here)\n",
    "epochs = 5\n",
    "\n",
    "# Instantiate models\n",
    "G = Generator(Z_dim, h_dim, X_dim).to(device)\n",
    "D = Discriminator(X_dim, h_dim).to(device)\n",
    "\n",
    "# Optimizers\n",
    "G_solver = optim.Adam(G.parameters(), lr=lr)\n",
    "D_solver = optim.Adam(D.parameters(), lr=lr)\n",
    "\n",
    "# Loss function\n",
    "\n",
    "#def my_bce_loss(preds, targets):\n",
    "#    return F.binary_cross_entropy(preds, targets)\n",
    "# loss_fn = my_bce_loss                               # Before change\n",
    "\n",
    "# Binary Cross Entropy loss function \n",
    "loss_fn = nn.BCEWithLogitsLoss()                      # After change. Includes Sigmoid by itself\n",
    "\n",
    "\n",
    "best_g_loss = float('inf')  # Initialize best generator loss\n",
    "save_dir = 'checkpoints'\n",
    "os.makedirs(save_dir, exist_ok=True)\n",
    "\n",
    "# Initialize W&B immediately before training\n",
    "if wandb_log: \n",
    "    wandb.init(\n",
    "        project=\"conditional-gan-mnist\",\n",
    "        name=f\"run_{epochs}_epochs\",\n",
    "        settings=wandb.Settings(start_method=\"thread\"),\n",
    "        config={\n",
    "            \"batch_size\": mb_size,\n",
    "            \"Z_dim\": Z_dim,\n",
    "            \"X_dim\": X_dim,\n",
    "            \"h_dim\": h_dim,\n",
    "            \"lr\": lr,\n",
    "            \"epochs\": epochs,\n",
    "            \"start_epoch\": 0,\n",
    "            \"end_epoch\": epochs - 1\n",
    "        }\n",
    "    )\n",
    "\n",
    "# Train loop\n",
    "for epoch in range(epochs):\n",
    "    G, D, G_loss_avg, D_loss_avg = cGANTraining(G, D, loss_fn, train_loader)\n",
    "\n",
    "    print(f'epoch {epoch}; D_loss: {D_loss_avg:.4f}; G_loss: {G_loss_avg:.4f}')\n",
    "\n",
    "    if wandb_log:\n",
    "        wandb.log({\n",
    "            \"epoch\": epoch,\n",
    "            \"D_loss\": D_loss_avg,\n",
    "            \"G_loss\": G_loss_avg\n",
    "        })\n",
    "\n",
    "    if G_loss_avg < best_g_loss:\n",
    "        best_g_loss = G_loss_avg\n",
    "        torch.save(G.state_dict(), os.path.join(save_dir, 'G_best.pth'))\n",
    "        torch.save(D.state_dict(), os.path.join(save_dir, 'D_best.pth'))\n",
    "        print(f\"Saved Best Models at epoch {epoch} | G_loss: {best_g_loss:.4f}\")\n",
    "\n",
    "    save_sample(G, epoch, mb_size, Z_dim)\n",
    "\n",
    "# Final log and run closure\n",
    "if wandb_log:\n",
    "    wandb.config.update({\"final_epoch\": epoch})  # saved in config metadata\n",
    "    wandb.finish()"
   ]
  },
  {
   "cell_type": "code",
   "execution_count": 343,
   "id": "ef31d822-5db0-4d6f-a3ff-3ffe323d008d",
   "metadata": {},
   "outputs": [],
   "source": [
    "# Inference / sampling from the best‐saved G\n",
    "\n",
    "# 1) Re‐create the Generator and move to the same device\n",
    "G_infer = Generator(Z_dim, h_dim, X_dim).to(device)\n",
    "\n",
    "# 2) Load the weights from the best checkpoint\n",
    "checkpoint = torch.load('checkpoints/G_best.pth', map_location=device, weights_only=True)\n",
    "G_infer.load_state_dict(checkpoint)\n",
    "\n",
    "# 3) Set to evaluation mode\n",
    "G_infer.eval()\n",
    "\n",
    "# 4) Generate and save a sample grid (this will create out_vanila_GAN2/best.png)\n",
    "save_sample(G_infer, \"best\", mb_size, Z_dim)\n",
    "\n",
    "# 5) Clean previous best models\n",
    "for f in glob.glob(os.path.join(save_dir, \"G_best_epoch*.pth\")):\n",
    "    os.remove(f)\n"
   ]
  },
  {
   "cell_type": "code",
   "execution_count": 344,
   "id": "e92aa777-9193-47b4-b9bd-52dc8833ad72",
   "metadata": {},
   "outputs": [
    {
     "data": {
      "image/png": "[encoded data removed]",
      "text/plain": [
       "<IPython.core.display.Image object>"
      ]
     },
     "metadata": {},
     "output_type": "display_data"
    }
   ],
   "source": [
    "display(Image(\"best.png\"))"
   ]
  },
  {
   "cell_type": "code",
   "execution_count": 348,
   "id": "ff2c2aeb-35a9-43ce-b953-9283245ec89e",
   "metadata": {},
   "outputs": [
    {
     "data": {
      "text/html": [
       "Tracking run with wandb version 0.19.9"
      ],
      "text/plain": [
       "<IPython.core.display.HTML object>"
      ]
     },
     "metadata": {},
     "output_type": "display_data"
    },
    {
     "data": {
      "text/html": [
       "Run data is saved locally in <code>/Lab_2/wandb/run-20250429_013105-hurf4r3k</code>"
      ],
      "text/plain": [
       "<IPython.core.display.HTML object>"
      ]
     },
     "metadata": {},
     "output_type": "display_data"
    },
    {
     "data": {
      "text/html": [
       "Syncing run <strong><a href='https://wandb.ai/natalia-timokhova-v-lule-university-of-technology/conditional-gan-mnist/runs/hurf4r3k' target=\"_blank\">run_10_epochs</a></strong> to <a href='https://wandb.ai/natalia-timokhova-v-lule-university-of-technology/conditional-gan-mnist' target=\"_blank\">Weights & Biases</a> (<a href='https://wandb.me/developer-guide' target=\"_blank\">docs</a>)<br>"
      ],
      "text/plain": [
       "<IPython.core.display.HTML object>"
      ]
     },
     "metadata": {},
     "output_type": "display_data"
    },
    {
     "data": {
      "text/html": [
       " View project at <a href='https://wandb.ai/natalia-timokhova-v-lule-university-of-technology/conditional-gan-mnist' target=\"_blank\">https://wandb.ai/natalia-timokhova-v-lule-university-of-technology/conditional-gan-mnist</a>"
      ],
      "text/plain": [
       "<IPython.core.display.HTML object>"
      ]
     },
     "metadata": {},
     "output_type": "display_data"
    },
    {
     "data": {
      "text/html": [
       " View run at <a href='https://wandb.ai/natalia-timokhova-v-lule-university-of-technology/conditional-gan-mnist/runs/hurf4r3k' target=\"_blank\">https://wandb.ai/natalia-timokhova-v-lule-university-of-technology/conditional-gan-mnist/runs/hurf4r3k</a>"
      ],
      "text/plain": [
       "<IPython.core.display.HTML object>"
      ]
     },
     "metadata": {},
     "output_type": "display_data"
    },
    {
     "name": "stderr",
     "output_type": "stream",
     "text": [
      "100%|██████████| 938/938 [00:11<00:00, 80.79it/s] \n"
     ]
    },
    {
     "name": "stdout",
     "output_type": "stream",
     "text": [
      "epoch 0; D_loss: 0.0888; G_loss: 5.6969\n",
      "Saved Best Models at epoch 0 | G_loss: 5.6969\n"
     ]
    },
    {
     "name": "stderr",
     "output_type": "stream",
     "text": [
      "100%|██████████| 938/938 [00:13<00:00, 69.92it/s]\n"
     ]
    },
    {
     "name": "stdout",
     "output_type": "stream",
     "text": [
      "epoch 1; D_loss: 0.0522; G_loss: 5.2435\n",
      "Saved Best Models at epoch 1 | G_loss: 5.2435\n"
     ]
    },
    {
     "name": "stderr",
     "output_type": "stream",
     "text": [
      "100%|██████████| 938/938 [00:13<00:00, 70.07it/s]\n"
     ]
    },
    {
     "name": "stdout",
     "output_type": "stream",
     "text": [
      "epoch 2; D_loss: 0.0949; G_loss: 5.1644\n",
      "Saved Best Models at epoch 2 | G_loss: 5.1644\n"
     ]
    },
    {
     "name": "stderr",
     "output_type": "stream",
     "text": [
      "100%|██████████| 938/938 [00:13<00:00, 69.71it/s]\n"
     ]
    },
    {
     "name": "stdout",
     "output_type": "stream",
     "text": [
      "epoch 3; D_loss: 0.1730; G_loss: 4.9711\n",
      "Saved Best Models at epoch 3 | G_loss: 4.9711\n"
     ]
    },
    {
     "name": "stderr",
     "output_type": "stream",
     "text": [
      "100%|██████████| 938/938 [00:13<00:00, 68.89it/s]\n"
     ]
    },
    {
     "name": "stdout",
     "output_type": "stream",
     "text": [
      "epoch 4; D_loss: 0.2821; G_loss: 4.2548\n",
      "Saved Best Models at epoch 4 | G_loss: 4.2548\n"
     ]
    },
    {
     "name": "stderr",
     "output_type": "stream",
     "text": [
      "100%|██████████| 938/938 [00:13<00:00, 69.13it/s]\n"
     ]
    },
    {
     "name": "stdout",
     "output_type": "stream",
     "text": [
      "epoch 5; D_loss: 0.3571; G_loss: 4.1867\n",
      "Saved Best Models at epoch 5 | G_loss: 4.1867\n"
     ]
    },
    {
     "name": "stderr",
     "output_type": "stream",
     "text": [
      "100%|██████████| 938/938 [00:13<00:00, 70.63it/s]\n"
     ]
    },
    {
     "name": "stdout",
     "output_type": "stream",
     "text": [
      "epoch 6; D_loss: 0.4503; G_loss: 3.3656\n",
      "Saved Best Models at epoch 6 | G_loss: 3.3656\n"
     ]
    },
    {
     "name": "stderr",
     "output_type": "stream",
     "text": [
      "100%|██████████| 938/938 [00:13<00:00, 69.46it/s]\n"
     ]
    },
    {
     "name": "stdout",
     "output_type": "stream",
     "text": [
      "epoch 7; D_loss: 0.5352; G_loss: 3.0023\n",
      "Saved Best Models at epoch 7 | G_loss: 3.0023\n"
     ]
    },
    {
     "name": "stderr",
     "output_type": "stream",
     "text": [
      "100%|██████████| 938/938 [00:13<00:00, 69.84it/s]\n"
     ]
    },
    {
     "name": "stdout",
     "output_type": "stream",
     "text": [
      "epoch 8; D_loss: 0.5776; G_loss: 2.8231\n",
      "Saved Best Models at epoch 8 | G_loss: 2.8231\n"
     ]
    },
    {
     "name": "stderr",
     "output_type": "stream",
     "text": [
      "100%|██████████| 938/938 [00:13<00:00, 69.18it/s]\n"
     ]
    },
    {
     "name": "stdout",
     "output_type": "stream",
     "text": [
      "epoch 9; D_loss: 0.6024; G_loss: 2.7423\n",
      "Saved Best Models at epoch 9 | G_loss: 2.7423\n"
     ]
    },
    {
     "data": {
      "text/html": [],
      "text/plain": [
       "<IPython.core.display.HTML object>"
      ]
     },
     "metadata": {},
     "output_type": "display_data"
    },
    {
     "data": {
      "text/html": [
       "<br>    <style><br>        .wandb-row {<br>            display: flex;<br>            flex-direction: row;<br>            flex-wrap: wrap;<br>            justify-content: flex-start;<br>            width: 100%;<br>        }<br>        .wandb-col {<br>            display: flex;<br>            flex-direction: column;<br>            flex-basis: 100%;<br>            flex: 1;<br>            padding: 10px;<br>        }<br>    </style><br><div class=\"wandb-row\"><div class=\"wandb-col\"><h3>Run history:</h3><br/><table class=\"wandb\"><tr><td>D_loss</td><td>▁▁▂▃▄▅▆▇██</td></tr><tr><td>G_loss</td><td>█▇▇▆▅▄▂▂▁▁</td></tr><tr><td>epoch</td><td>▁▂▃▃▄▅▆▆▇█</td></tr></table><br/></div><div class=\"wandb-col\"><h3>Run summary:</h3><br/><table class=\"wandb\"><tr><td>D_loss</td><td>0.60236</td></tr><tr><td>G_loss</td><td>2.74228</td></tr><tr><td>epoch</td><td>9</td></tr></table><br/></div></div>"
      ],
      "text/plain": [
       "<IPython.core.display.HTML object>"
      ]
     },
     "metadata": {},
     "output_type": "display_data"
    },
    {
     "data": {
      "text/html": [
       " View run <strong style=\"color:#cdcd00\">run_10_epochs</strong> at: <a href='https://wandb.ai/natalia-timokhova-v-lule-university-of-technology/conditional-gan-mnist/runs/hurf4r3k' target=\"_blank\">https://wandb.ai/natalia-timokhova-v-lule-university-of-technology/conditional-gan-mnist/runs/hurf4r3k</a><br> View project at: <a href='https://wandb.ai/natalia-timokhova-v-lule-university-of-technology/conditional-gan-mnist' target=\"_blank\">https://wandb.ai/natalia-timokhova-v-lule-university-of-technology/conditional-gan-mnist</a><br>Synced 5 W&B file(s), 0 media file(s), 0 artifact file(s) and 0 other file(s)"
      ],
      "text/plain": [
       "<IPython.core.display.HTML object>"
      ]
     },
     "metadata": {},
     "output_type": "display_data"
    },
    {
     "data": {
      "text/html": [
       "Find logs at: <code>./wandb/run-20250429_013105-hurf4r3k/logs</code>"
      ],
      "text/plain": [
       "<IPython.core.display.HTML object>"
      ]
     },
     "metadata": {},
     "output_type": "display_data"
    }
   ],
   "source": [
    "########################### 10 epochs #######################################\n",
    "wandb_log = True\n",
    "device = torch.device(\"cuda:0\" if torch.cuda.is_available() else \"cpu\")\n",
    "\n",
    "# Number of epochs (change only here)\n",
    "epochs = 10\n",
    "\n",
    "# Instantiate models\n",
    "G = Generator(Z_dim, h_dim, X_dim).to(device)\n",
    "D = Discriminator(X_dim, h_dim).to(device)\n",
    "\n",
    "# Optimizers\n",
    "G_solver = optim.Adam(G.parameters(), lr=lr)\n",
    "D_solver = optim.Adam(D.parameters(), lr=lr)\n",
    "\n",
    "# Loss function\n",
    "\n",
    "#def my_bce_loss(preds, targets):\n",
    "#    return F.binary_cross_entropy(preds, targets)\n",
    "# loss_fn = my_bce_loss                               # Before change\n",
    "\n",
    "# Binary Cross Entropy loss function \n",
    "loss_fn = nn.BCEWithLogitsLoss()                      # After change. Includes Sigmoid by itself\n",
    "\n",
    "\n",
    "best_g_loss = float('inf')  # Initialize best generator loss\n",
    "save_dir = 'checkpoints'\n",
    "os.makedirs(save_dir, exist_ok=True)\n",
    "\n",
    "# Initialize W&B immediately before training\n",
    "if wandb_log: \n",
    "    wandb.init(\n",
    "        project=\"conditional-gan-mnist\",\n",
    "        name=f\"run_{epochs}_epochs\",\n",
    "        settings=wandb.Settings(start_method=\"thread\"),\n",
    "        config={\n",
    "            \"batch_size\": mb_size,\n",
    "            \"Z_dim\": Z_dim,\n",
    "            \"X_dim\": X_dim,\n",
    "            \"h_dim\": h_dim,\n",
    "            \"lr\": lr,\n",
    "            \"epochs\": epochs,\n",
    "            \"start_epoch\": 0,\n",
    "            \"end_epoch\": epochs - 1\n",
    "        }\n",
    "    )\n",
    "\n",
    "# Train loop\n",
    "for epoch in range(epochs):\n",
    "    G, D, G_loss_avg, D_loss_avg = cGANTraining(G, D, loss_fn, train_loader)\n",
    "\n",
    "    print(f'epoch {epoch}; D_loss: {D_loss_avg:.4f}; G_loss: {G_loss_avg:.4f}')\n",
    "\n",
    "    if wandb_log:\n",
    "        wandb.log({\n",
    "            \"epoch\": epoch,\n",
    "            \"D_loss\": D_loss_avg,\n",
    "            \"G_loss\": G_loss_avg\n",
    "        })\n",
    "\n",
    "    if G_loss_avg < best_g_loss:\n",
    "        best_g_loss = G_loss_avg\n",
    "        torch.save(G.state_dict(), os.path.join(save_dir, 'G_best.pth'))\n",
    "        torch.save(D.state_dict(), os.path.join(save_dir, 'D_best.pth'))\n",
    "        print(f\"Saved Best Models at epoch {epoch} | G_loss: {best_g_loss:.4f}\")\n",
    "\n",
    "    save_sample(G, epoch, mb_size, Z_dim)\n",
    "\n",
    "# Final log and run closure\n",
    "if wandb_log:\n",
    "    wandb.config.update({\"final_epoch\": epoch})  # saved in config metadata\n",
    "    wandb.finish()"
   ]
  },
  {
   "cell_type": "code",
   "execution_count": 349,
   "id": "d30e8f2f-bc0a-4655-80c4-36678b8b8350",
   "metadata": {},
   "outputs": [],
   "source": [
    "# Inference / sampling from the best‐saved G\n",
    "\n",
    "# 1) Re‐create the Generator and move to the same device\n",
    "G_infer = Generator(Z_dim, h_dim, X_dim).to(device)\n",
    "\n",
    "# 2) Load the weights from the best checkpoint\n",
    "checkpoint = torch.load('checkpoints/G_best.pth', map_location=device, weights_only=True)\n",
    "G_infer.load_state_dict(checkpoint)\n",
    "\n",
    "# 3) Set to evaluation mode\n",
    "G_infer.eval()\n",
    "\n",
    "# 4) Generate and save a sample grid (this will create out_vanila_GAN2/best.png)\n",
    "save_sample(G_infer, \"best\", mb_size, Z_dim)\n",
    "\n",
    "# 5) Clean previous best models\n",
    "for f in glob.glob(os.path.join(save_dir, \"G_best_epoch*.pth\")):\n",
    "    os.remove(f)\n"
   ]
  },
  {
   "cell_type": "code",
   "execution_count": 350,
   "id": "0c6f9d01-6d68-4a08-991f-6cab58b7f6aa",
   "metadata": {},
   "outputs": [
    {
     "data": {
      "image/png": "[encoded data removed]",
      "text/plain": [
       "<IPython.core.display.Image object>"
      ]
     },
     "metadata": {},
     "output_type": "display_data"
    }
   ],
   "source": [
    "display(Image(\"best.png\"))"
   ]
  },
  {
   "cell_type": "code",
   "execution_count": 354,
   "id": "824d1f47-9d44-4b66-be1c-95861a7edb90",
   "metadata": {},
   "outputs": [
    {
     "data": {
      "text/html": [
       "Tracking run with wandb version 0.19.9"
      ],
      "text/plain": [
       "<IPython.core.display.HTML object>"
      ]
     },
     "metadata": {},
     "output_type": "display_data"
    },
    {
     "data": {
      "text/html": [
       "Run data is saved locally in <code>/Lab_2/wandb/run-20250429_014023-r5qq5fg1</code>"
      ],
      "text/plain": [
       "<IPython.core.display.HTML object>"
      ]
     },
     "metadata": {},
     "output_type": "display_data"
    },
    {
     "data": {
      "text/html": [
       "Syncing run <strong><a href='https://wandb.ai/natalia-timokhova-v-lule-university-of-technology/conditional-gan-mnist/runs/r5qq5fg1' target=\"_blank\">run_50_epochs</a></strong> to <a href='https://wandb.ai/natalia-timokhova-v-lule-university-of-technology/conditional-gan-mnist' target=\"_blank\">Weights & Biases</a> (<a href='https://wandb.me/developer-guide' target=\"_blank\">docs</a>)<br>"
      ],
      "text/plain": [
       "<IPython.core.display.HTML object>"
      ]
     },
     "metadata": {},
     "output_type": "display_data"
    },
    {
     "data": {
      "text/html": [
       " View project at <a href='https://wandb.ai/natalia-timokhova-v-lule-university-of-technology/conditional-gan-mnist' target=\"_blank\">https://wandb.ai/natalia-timokhova-v-lule-university-of-technology/conditional-gan-mnist</a>"
      ],
      "text/plain": [
       "<IPython.core.display.HTML object>"
      ]
     },
     "metadata": {},
     "output_type": "display_data"
    },
    {
     "data": {
      "text/html": [
       " View run at <a href='https://wandb.ai/natalia-timokhova-v-lule-university-of-technology/conditional-gan-mnist/runs/r5qq5fg1' target=\"_blank\">https://wandb.ai/natalia-timokhova-v-lule-university-of-technology/conditional-gan-mnist/runs/r5qq5fg1</a>"
      ],
      "text/plain": [
       "<IPython.core.display.HTML object>"
      ]
     },
     "metadata": {},
     "output_type": "display_data"
    },
    {
     "name": "stderr",
     "output_type": "stream",
     "text": [
      "100%|██████████| 938/938 [00:10<00:00, 93.26it/s] \n"
     ]
    },
    {
     "name": "stdout",
     "output_type": "stream",
     "text": [
      "epoch 0; D_loss: 0.0835; G_loss: 8.8103\n",
      "Saved Best Models at epoch 0 | G_loss: 8.8103\n"
     ]
    },
    {
     "name": "stderr",
     "output_type": "stream",
     "text": [
      "100%|██████████| 938/938 [00:13<00:00, 68.93it/s]\n"
     ]
    },
    {
     "name": "stdout",
     "output_type": "stream",
     "text": [
      "epoch 1; D_loss: 0.0198; G_loss: 9.1491\n"
     ]
    },
    {
     "name": "stderr",
     "output_type": "stream",
     "text": [
      "100%|██████████| 938/938 [00:13<00:00, 69.31it/s]\n"
     ]
    },
    {
     "name": "stdout",
     "output_type": "stream",
     "text": [
      "epoch 2; D_loss: 0.0126; G_loss: 8.7180\n",
      "Saved Best Models at epoch 2 | G_loss: 8.7180\n"
     ]
    },
    {
     "name": "stderr",
     "output_type": "stream",
     "text": [
      "100%|██████████| 938/938 [00:13<00:00, 69.13it/s]\n"
     ]
    },
    {
     "name": "stdout",
     "output_type": "stream",
     "text": [
      "epoch 3; D_loss: 0.0181; G_loss: 6.8026\n",
      "Saved Best Models at epoch 3 | G_loss: 6.8026\n"
     ]
    },
    {
     "name": "stderr",
     "output_type": "stream",
     "text": [
      "100%|██████████| 938/938 [00:13<00:00, 71.81it/s]\n"
     ]
    },
    {
     "name": "stdout",
     "output_type": "stream",
     "text": [
      "epoch 4; D_loss: 0.0274; G_loss: 7.2899\n"
     ]
    },
    {
     "name": "stderr",
     "output_type": "stream",
     "text": [
      "100%|██████████| 938/938 [00:13<00:00, 70.28it/s]\n"
     ]
    },
    {
     "name": "stdout",
     "output_type": "stream",
     "text": [
      "epoch 5; D_loss: 0.0815; G_loss: 5.7900\n",
      "Saved Best Models at epoch 5 | G_loss: 5.7900\n"
     ]
    },
    {
     "name": "stderr",
     "output_type": "stream",
     "text": [
      "100%|██████████| 938/938 [00:13<00:00, 70.46it/s]\n"
     ]
    },
    {
     "name": "stdout",
     "output_type": "stream",
     "text": [
      "epoch 6; D_loss: 0.1615; G_loss: 5.0367\n",
      "Saved Best Models at epoch 6 | G_loss: 5.0367\n"
     ]
    },
    {
     "name": "stderr",
     "output_type": "stream",
     "text": [
      "100%|██████████| 938/938 [00:13<00:00, 70.65it/s]\n"
     ]
    },
    {
     "name": "stdout",
     "output_type": "stream",
     "text": [
      "epoch 7; D_loss: 0.2987; G_loss: 4.1275\n",
      "Saved Best Models at epoch 7 | G_loss: 4.1275\n"
     ]
    },
    {
     "name": "stderr",
     "output_type": "stream",
     "text": [
      "100%|██████████| 938/938 [00:13<00:00, 69.34it/s]\n"
     ]
    },
    {
     "name": "stdout",
     "output_type": "stream",
     "text": [
      "epoch 8; D_loss: 0.3913; G_loss: 3.6707\n",
      "Saved Best Models at epoch 8 | G_loss: 3.6707\n"
     ]
    },
    {
     "name": "stderr",
     "output_type": "stream",
     "text": [
      "100%|██████████| 938/938 [00:13<00:00, 69.82it/s]\n"
     ]
    },
    {
     "name": "stdout",
     "output_type": "stream",
     "text": [
      "epoch 9; D_loss: 0.4235; G_loss: 3.3346\n",
      "Saved Best Models at epoch 9 | G_loss: 3.3346\n"
     ]
    },
    {
     "name": "stderr",
     "output_type": "stream",
     "text": [
      "100%|██████████| 938/938 [00:13<00:00, 70.45it/s]\n"
     ]
    },
    {
     "name": "stdout",
     "output_type": "stream",
     "text": [
      "epoch 10; D_loss: 0.4578; G_loss: 3.0570\n",
      "Saved Best Models at epoch 10 | G_loss: 3.0570\n"
     ]
    },
    {
     "name": "stderr",
     "output_type": "stream",
     "text": [
      "100%|██████████| 938/938 [00:13<00:00, 69.54it/s]\n"
     ]
    },
    {
     "name": "stdout",
     "output_type": "stream",
     "text": [
      "epoch 11; D_loss: 0.4946; G_loss: 2.9179\n",
      "Saved Best Models at epoch 11 | G_loss: 2.9179\n"
     ]
    },
    {
     "name": "stderr",
     "output_type": "stream",
     "text": [
      "100%|██████████| 938/938 [00:13<00:00, 70.66it/s]\n"
     ]
    },
    {
     "name": "stdout",
     "output_type": "stream",
     "text": [
      "epoch 12; D_loss: 0.5214; G_loss: 2.7056\n",
      "Saved Best Models at epoch 12 | G_loss: 2.7056\n"
     ]
    },
    {
     "name": "stderr",
     "output_type": "stream",
     "text": [
      "100%|██████████| 938/938 [00:13<00:00, 69.75it/s]\n"
     ]
    },
    {
     "name": "stdout",
     "output_type": "stream",
     "text": [
      "epoch 13; D_loss: 0.5338; G_loss: 2.6232\n",
      "Saved Best Models at epoch 13 | G_loss: 2.6232\n"
     ]
    },
    {
     "name": "stderr",
     "output_type": "stream",
     "text": [
      "100%|██████████| 938/938 [00:13<00:00, 69.38it/s]\n"
     ]
    },
    {
     "name": "stdout",
     "output_type": "stream",
     "text": [
      "epoch 14; D_loss: 0.5738; G_loss: 2.6669\n"
     ]
    },
    {
     "name": "stderr",
     "output_type": "stream",
     "text": [
      "100%|██████████| 938/938 [00:13<00:00, 69.10it/s]\n"
     ]
    },
    {
     "name": "stdout",
     "output_type": "stream",
     "text": [
      "epoch 15; D_loss: 0.6171; G_loss: 2.5272\n",
      "Saved Best Models at epoch 15 | G_loss: 2.5272\n"
     ]
    },
    {
     "name": "stderr",
     "output_type": "stream",
     "text": [
      "100%|██████████| 938/938 [00:13<00:00, 69.70it/s]\n"
     ]
    },
    {
     "name": "stdout",
     "output_type": "stream",
     "text": [
      "epoch 16; D_loss: 0.6255; G_loss: 2.4808\n",
      "Saved Best Models at epoch 16 | G_loss: 2.4808\n"
     ]
    },
    {
     "name": "stderr",
     "output_type": "stream",
     "text": [
      "100%|██████████| 938/938 [00:13<00:00, 69.90it/s]\n"
     ]
    },
    {
     "name": "stdout",
     "output_type": "stream",
     "text": [
      "epoch 17; D_loss: 0.6208; G_loss: 2.4499\n",
      "Saved Best Models at epoch 17 | G_loss: 2.4499\n"
     ]
    },
    {
     "name": "stderr",
     "output_type": "stream",
     "text": [
      "100%|██████████| 938/938 [00:13<00:00, 69.80it/s]\n"
     ]
    },
    {
     "name": "stdout",
     "output_type": "stream",
     "text": [
      "epoch 18; D_loss: 0.6155; G_loss: 2.4329\n",
      "Saved Best Models at epoch 18 | G_loss: 2.4329\n"
     ]
    },
    {
     "name": "stderr",
     "output_type": "stream",
     "text": [
      "100%|██████████| 938/938 [00:12<00:00, 73.23it/s]\n"
     ]
    },
    {
     "name": "stdout",
     "output_type": "stream",
     "text": [
      "epoch 19; D_loss: 0.6024; G_loss: 2.4720\n"
     ]
    },
    {
     "name": "stderr",
     "output_type": "stream",
     "text": [
      "100%|██████████| 938/938 [00:13<00:00, 69.25it/s]\n"
     ]
    },
    {
     "name": "stdout",
     "output_type": "stream",
     "text": [
      "epoch 20; D_loss: 0.5953; G_loss: 2.5239\n"
     ]
    },
    {
     "name": "stderr",
     "output_type": "stream",
     "text": [
      "100%|██████████| 938/938 [00:13<00:00, 70.63it/s]\n"
     ]
    },
    {
     "name": "stdout",
     "output_type": "stream",
     "text": [
      "epoch 21; D_loss: 0.5968; G_loss: 2.5443\n"
     ]
    },
    {
     "name": "stderr",
     "output_type": "stream",
     "text": [
      "100%|██████████| 938/938 [00:13<00:00, 70.26it/s]\n"
     ]
    },
    {
     "name": "stdout",
     "output_type": "stream",
     "text": [
      "epoch 22; D_loss: 0.5945; G_loss: 2.5829\n"
     ]
    },
    {
     "name": "stderr",
     "output_type": "stream",
     "text": [
      "100%|██████████| 938/938 [00:12<00:00, 74.82it/s] \n"
     ]
    },
    {
     "name": "stdout",
     "output_type": "stream",
     "text": [
      "epoch 23; D_loss: 0.5915; G_loss: 2.5961\n"
     ]
    },
    {
     "name": "stderr",
     "output_type": "stream",
     "text": [
      "100%|██████████| 938/938 [00:13<00:00, 69.50it/s]\n"
     ]
    },
    {
     "name": "stdout",
     "output_type": "stream",
     "text": [
      "epoch 24; D_loss: 0.5824; G_loss: 2.6527\n"
     ]
    },
    {
     "name": "stderr",
     "output_type": "stream",
     "text": [
      "100%|██████████| 938/938 [00:13<00:00, 69.79it/s]\n"
     ]
    },
    {
     "name": "stdout",
     "output_type": "stream",
     "text": [
      "epoch 25; D_loss: 0.5757; G_loss: 2.6931\n"
     ]
    },
    {
     "name": "stderr",
     "output_type": "stream",
     "text": [
      "100%|██████████| 938/938 [00:13<00:00, 69.51it/s]\n"
     ]
    },
    {
     "name": "stdout",
     "output_type": "stream",
     "text": [
      "epoch 26; D_loss: 0.5637; G_loss: 2.7397\n"
     ]
    },
    {
     "name": "stderr",
     "output_type": "stream",
     "text": [
      "100%|██████████| 938/938 [00:13<00:00, 69.07it/s]\n"
     ]
    },
    {
     "name": "stdout",
     "output_type": "stream",
     "text": [
      "epoch 27; D_loss: 0.5652; G_loss: 2.7316\n"
     ]
    },
    {
     "name": "stderr",
     "output_type": "stream",
     "text": [
      "100%|██████████| 938/938 [00:13<00:00, 68.77it/s]\n"
     ]
    },
    {
     "name": "stdout",
     "output_type": "stream",
     "text": [
      "epoch 28; D_loss: 0.5567; G_loss: 2.7804\n"
     ]
    },
    {
     "name": "stderr",
     "output_type": "stream",
     "text": [
      "100%|██████████| 938/938 [00:13<00:00, 70.91it/s]\n"
     ]
    },
    {
     "name": "stdout",
     "output_type": "stream",
     "text": [
      "epoch 29; D_loss: 0.5467; G_loss: 2.8096\n"
     ]
    },
    {
     "name": "stderr",
     "output_type": "stream",
     "text": [
      "100%|██████████| 938/938 [00:11<00:00, 78.22it/s] \n"
     ]
    },
    {
     "name": "stdout",
     "output_type": "stream",
     "text": [
      "epoch 30; D_loss: 0.5437; G_loss: 2.8319\n"
     ]
    },
    {
     "name": "stderr",
     "output_type": "stream",
     "text": [
      "100%|██████████| 938/938 [00:13<00:00, 69.51it/s]\n"
     ]
    },
    {
     "name": "stdout",
     "output_type": "stream",
     "text": [
      "epoch 31; D_loss: 0.5380; G_loss: 2.8523\n"
     ]
    },
    {
     "name": "stderr",
     "output_type": "stream",
     "text": [
      "100%|██████████| 938/938 [00:13<00:00, 69.78it/s]\n"
     ]
    },
    {
     "name": "stdout",
     "output_type": "stream",
     "text": [
      "epoch 32; D_loss: 0.5293; G_loss: 2.8562\n"
     ]
    },
    {
     "name": "stderr",
     "output_type": "stream",
     "text": [
      "100%|██████████| 938/938 [00:13<00:00, 69.21it/s]\n"
     ]
    },
    {
     "name": "stdout",
     "output_type": "stream",
     "text": [
      "epoch 33; D_loss: 0.5292; G_loss: 2.9065\n"
     ]
    },
    {
     "name": "stderr",
     "output_type": "stream",
     "text": [
      "100%|██████████| 938/938 [00:13<00:00, 70.23it/s]\n"
     ]
    },
    {
     "name": "stdout",
     "output_type": "stream",
     "text": [
      "epoch 34; D_loss: 0.5277; G_loss: 2.9144\n"
     ]
    },
    {
     "name": "stderr",
     "output_type": "stream",
     "text": [
      "100%|██████████| 938/938 [00:13<00:00, 69.08it/s]\n"
     ]
    },
    {
     "name": "stdout",
     "output_type": "stream",
     "text": [
      "epoch 35; D_loss: 0.5256; G_loss: 2.9386\n"
     ]
    },
    {
     "name": "stderr",
     "output_type": "stream",
     "text": [
      "100%|██████████| 938/938 [00:13<00:00, 69.94it/s]\n"
     ]
    },
    {
     "name": "stdout",
     "output_type": "stream",
     "text": [
      "epoch 36; D_loss: 0.5223; G_loss: 2.9751\n"
     ]
    },
    {
     "name": "stderr",
     "output_type": "stream",
     "text": [
      "100%|██████████| 938/938 [00:13<00:00, 69.35it/s]\n"
     ]
    },
    {
     "name": "stdout",
     "output_type": "stream",
     "text": [
      "epoch 37; D_loss: 0.5210; G_loss: 2.9779\n"
     ]
    },
    {
     "name": "stderr",
     "output_type": "stream",
     "text": [
      "100%|██████████| 938/938 [00:11<00:00, 80.23it/s] \n"
     ]
    },
    {
     "name": "stdout",
     "output_type": "stream",
     "text": [
      "epoch 38; D_loss: 0.5166; G_loss: 2.9912\n"
     ]
    },
    {
     "name": "stderr",
     "output_type": "stream",
     "text": [
      "100%|██████████| 938/938 [00:09<00:00, 93.81it/s] \n"
     ]
    },
    {
     "name": "stdout",
     "output_type": "stream",
     "text": [
      "epoch 39; D_loss: 0.5147; G_loss: 2.9991\n"
     ]
    },
    {
     "name": "stderr",
     "output_type": "stream",
     "text": [
      "100%|██████████| 938/938 [00:10<00:00, 86.46it/s] \n"
     ]
    },
    {
     "name": "stdout",
     "output_type": "stream",
     "text": [
      "epoch 40; D_loss: 0.5145; G_loss: 3.0115\n"
     ]
    },
    {
     "name": "stderr",
     "output_type": "stream",
     "text": [
      "100%|██████████| 938/938 [00:12<00:00, 76.34it/s] \n"
     ]
    },
    {
     "name": "stdout",
     "output_type": "stream",
     "text": [
      "epoch 41; D_loss: 0.5133; G_loss: 3.0532\n"
     ]
    },
    {
     "name": "stderr",
     "output_type": "stream",
     "text": [
      "100%|██████████| 938/938 [00:12<00:00, 72.71it/s] \n"
     ]
    },
    {
     "name": "stdout",
     "output_type": "stream",
     "text": [
      "epoch 42; D_loss: 0.5157; G_loss: 3.0293\n"
     ]
    },
    {
     "name": "stderr",
     "output_type": "stream",
     "text": [
      "100%|██████████| 938/938 [00:12<00:00, 75.68it/s] \n"
     ]
    },
    {
     "name": "stdout",
     "output_type": "stream",
     "text": [
      "epoch 43; D_loss: 0.5148; G_loss: 3.0510\n"
     ]
    },
    {
     "name": "stderr",
     "output_type": "stream",
     "text": [
      "100%|██████████| 938/938 [00:13<00:00, 69.81it/s]\n"
     ]
    },
    {
     "name": "stdout",
     "output_type": "stream",
     "text": [
      "epoch 44; D_loss: 0.5121; G_loss: 3.0230\n"
     ]
    },
    {
     "name": "stderr",
     "output_type": "stream",
     "text": [
      "100%|██████████| 938/938 [00:11<00:00, 81.00it/s] \n"
     ]
    },
    {
     "name": "stdout",
     "output_type": "stream",
     "text": [
      "epoch 45; D_loss: 0.5142; G_loss: 3.0310\n"
     ]
    },
    {
     "name": "stderr",
     "output_type": "stream",
     "text": [
      "100%|██████████| 938/938 [00:13<00:00, 70.75it/s]\n"
     ]
    },
    {
     "name": "stdout",
     "output_type": "stream",
     "text": [
      "epoch 46; D_loss: 0.5071; G_loss: 3.0338\n"
     ]
    },
    {
     "name": "stderr",
     "output_type": "stream",
     "text": [
      "100%|██████████| 938/938 [00:11<00:00, 78.33it/s] \n"
     ]
    },
    {
     "name": "stdout",
     "output_type": "stream",
     "text": [
      "epoch 47; D_loss: 0.5099; G_loss: 3.0549\n"
     ]
    },
    {
     "name": "stderr",
     "output_type": "stream",
     "text": [
      "100%|██████████| 938/938 [00:13<00:00, 69.81it/s]\n"
     ]
    },
    {
     "name": "stdout",
     "output_type": "stream",
     "text": [
      "epoch 48; D_loss: 0.5078; G_loss: 3.0810\n"
     ]
    },
    {
     "name": "stderr",
     "output_type": "stream",
     "text": [
      "100%|██████████| 938/938 [00:13<00:00, 70.20it/s]\n"
     ]
    },
    {
     "name": "stdout",
     "output_type": "stream",
     "text": [
      "epoch 49; D_loss: 0.5034; G_loss: 3.0606\n"
     ]
    },
    {
     "data": {
      "text/html": [],
      "text/plain": [
       "<IPython.core.display.HTML object>"
      ]
     },
     "metadata": {},
     "output_type": "display_data"
    },
    {
     "data": {
      "text/html": [
       "<br>    <style><br>        .wandb-row {<br>            display: flex;<br>            flex-direction: row;<br>            flex-wrap: wrap;<br>            justify-content: flex-start;<br>            width: 100%;<br>        }<br>        .wandb-col {<br>            display: flex;<br>            flex-direction: column;<br>            flex-basis: 100%;<br>            flex: 1;<br>            padding: 10px;<br>        }<br>    </style><br><div class=\"wandb-row\"><div class=\"wandb-col\"><h3>Run history:</h3><br/><table class=\"wandb\"><tr><td>D_loss</td><td>▂▁▁▁▁▃▄▅▆▆▇▇▇███████▇▇▇▇▇▇▇▇▇▇▇▇▇▇▇▇▇▇▇▇</td></tr><tr><td>G_loss</td><td>███▆▆▄▃▂▂▂▁▁▁▁▁▁▁▁▁▁▁▁▁▁▁▁▁▁▁▂▂▂▂▂▂▂▂▂▂▂</td></tr><tr><td>epoch</td><td>▁▁▁▂▂▂▂▂▂▃▃▃▃▃▃▄▄▄▄▄▅▅▅▅▅▅▆▆▆▆▆▇▇▇▇▇▇███</td></tr></table><br/></div><div class=\"wandb-col\"><h3>Run summary:</h3><br/><table class=\"wandb\"><tr><td>D_loss</td><td>0.50336</td></tr><tr><td>G_loss</td><td>3.0606</td></tr><tr><td>epoch</td><td>49</td></tr></table><br/></div></div>"
      ],
      "text/plain": [
       "<IPython.core.display.HTML object>"
      ]
     },
     "metadata": {},
     "output_type": "display_data"
    },
    {
     "data": {
      "text/html": [
       " View run <strong style=\"color:#cdcd00\">run_50_epochs</strong> at: <a href='https://wandb.ai/natalia-timokhova-v-lule-university-of-technology/conditional-gan-mnist/runs/r5qq5fg1' target=\"_blank\">https://wandb.ai/natalia-timokhova-v-lule-university-of-technology/conditional-gan-mnist/runs/r5qq5fg1</a><br> View project at: <a href='https://wandb.ai/natalia-timokhova-v-lule-university-of-technology/conditional-gan-mnist' target=\"_blank\">https://wandb.ai/natalia-timokhova-v-lule-university-of-technology/conditional-gan-mnist</a><br>Synced 5 W&B file(s), 0 media file(s), 0 artifact file(s) and 0 other file(s)"
      ],
      "text/plain": [
       "<IPython.core.display.HTML object>"
      ]
     },
     "metadata": {},
     "output_type": "display_data"
    },
    {
     "data": {
      "text/html": [
       "Find logs at: <code>./wandb/run-20250429_014023-r5qq5fg1/logs</code>"
      ],
      "text/plain": [
       "<IPython.core.display.HTML object>"
      ]
     },
     "metadata": {},
     "output_type": "display_data"
    }
   ],
   "source": [
    "########################### 50 epochs #######################################\n",
    "wandb_log = True\n",
    "device = torch.device(\"cuda:0\" if torch.cuda.is_available() else \"cpu\")\n",
    "\n",
    "# Number of epochs (change only here)\n",
    "epochs = 50\n",
    "\n",
    "# Instantiate models\n",
    "G = Generator(Z_dim, h_dim, X_dim).to(device)\n",
    "D = Discriminator(X_dim, h_dim).to(device)\n",
    "\n",
    "# Optimizers\n",
    "G_solver = optim.Adam(G.parameters(), lr=lr)\n",
    "D_solver = optim.Adam(D.parameters(), lr=lr)\n",
    "\n",
    "# Loss function\n",
    "\n",
    "#def my_bce_loss(preds, targets):\n",
    "#    return F.binary_cross_entropy(preds, targets)\n",
    "# loss_fn = my_bce_loss                               # Before change\n",
    "\n",
    "# Binary Cross Entropy loss function \n",
    "loss_fn = nn.BCEWithLogitsLoss()                      # After change. Includes Sigmoid by itself\n",
    "\n",
    "\n",
    "best_g_loss = float('inf')  # Initialize best generator loss\n",
    "save_dir = 'checkpoints'\n",
    "os.makedirs(save_dir, exist_ok=True)\n",
    "\n",
    "# Initialize W&B immediately before training\n",
    "if wandb_log: \n",
    "    wandb.init(\n",
    "        project=\"conditional-gan-mnist\",\n",
    "        name=f\"run_{epochs}_epochs\",\n",
    "        settings=wandb.Settings(start_method=\"thread\"),\n",
    "        config={\n",
    "            \"batch_size\": mb_size,\n",
    "            \"Z_dim\": Z_dim,\n",
    "            \"X_dim\": X_dim,\n",
    "            \"h_dim\": h_dim,\n",
    "            \"lr\": lr,\n",
    "            \"epochs\": epochs,\n",
    "            \"start_epoch\": 0,\n",
    "            \"end_epoch\": epochs - 1\n",
    "        }\n",
    "    )\n",
    "\n",
    "# Train loop\n",
    "for epoch in range(epochs):\n",
    "    G, D, G_loss_avg, D_loss_avg = cGANTraining(G, D, loss_fn, train_loader)\n",
    "\n",
    "    print(f'epoch {epoch}; D_loss: {D_loss_avg:.4f}; G_loss: {G_loss_avg:.4f}')\n",
    "\n",
    "    if wandb_log:\n",
    "        wandb.log({\n",
    "            \"epoch\": epoch,\n",
    "            \"D_loss\": D_loss_avg,\n",
    "            \"G_loss\": G_loss_avg\n",
    "        })\n",
    "\n",
    "    if G_loss_avg < best_g_loss:\n",
    "        best_g_loss = G_loss_avg\n",
    "        torch.save(G.state_dict(), os.path.join(save_dir, 'G_best.pth'))\n",
    "        torch.save(D.state_dict(), os.path.join(save_dir, 'D_best.pth'))\n",
    "        print(f\"Saved Best Models at epoch {epoch} | G_loss: {best_g_loss:.4f}\")\n",
    "\n",
    "    save_sample(G, epoch, mb_size, Z_dim)\n",
    "\n",
    "# Final log and run closure\n",
    "if wandb_log:\n",
    "    wandb.config.update({\"final_epoch\": epoch})  # saved in config metadata\n",
    "    wandb.finish()"
   ]
  },
  {
   "cell_type": "code",
   "execution_count": 355,
   "id": "d12a37f5-a7ec-403c-be66-6ef28d7ec6f9",
   "metadata": {},
   "outputs": [],
   "source": [
    "# Inference / sampling from the best‐saved G\n",
    "\n",
    "# 1) Re‐create the Generator and move to the same device\n",
    "G_infer = Generator(Z_dim, h_dim, X_dim).to(device)\n",
    "\n",
    "# 2) Load the weights from the best checkpoint\n",
    "checkpoint = torch.load('checkpoints/G_best.pth', map_location=device, weights_only=True)\n",
    "G_infer.load_state_dict(checkpoint)\n",
    "\n",
    "# 3) Set to evaluation mode\n",
    "G_infer.eval()\n",
    "\n",
    "# 4) Generate and save a sample grid (this will create out_vanila_GAN2/best.png)\n",
    "save_sample(G_infer, \"best\", mb_size, Z_dim)\n",
    "\n",
    "# 5) Clean previous best models\n",
    "for f in glob.glob(os.path.join(save_dir, \"G_best_epoch*.pth\")):\n",
    "    os.remove(f)\n"
   ]
  },
  {
   "cell_type": "code",
   "execution_count": 356,
   "id": "26764701-4093-407e-a2fd-759fae3457cf",
   "metadata": {},
   "outputs": [
    {
     "data": {
      "image/png": "[encoded data removed]",
      "text/plain": [
       "<IPython.core.display.Image object>"
      ]
     },
     "metadata": {},
     "output_type": "display_data"
    }
   ],
   "source": [
    "display(Image(\"best.png\"))"
   ]
  },
  {
   "cell_type": "markdown",
   "id": "56627151-de7a-4f80-a0a1-0fe5e97a178c",
   "metadata": {},
   "source": [
    "\n",
    "# Results Comparison (5, 10, 50 epochs)\n",
    "\n",
    "Two Loss Functions:\n",
    "\n",
    "\n",
    "**Manual BCE**\n",
    "→ F.binary_cross_entropy(torch.sigmoid(logits), targets)\n",
    "\n",
    "\n",
    "**Logistic**\n",
    "→ nn.BCEWithLogitsLoss()\n",
    "\n",
    "| Epochs | Loss Function   | D_loss   | G_loss   | Observations                                                             |\n",
    "|--------|-----------------|----------|----------|---------------------------------------------------------------------------|\n",
    "| 5      | Manual BCE      | 0.10418  | 5.63655  | Discriminator very strong out of the gate (low D_loss), generator still producing random-ish noise. |\n",
    "|        | BCEWithLogits   | 0.17563  | 5.15918  | Both in early unstable phase; D slightly weaker, G a bit better than Manual BCE. |\n",
    "| 10      | Manual BCE      | 0.62129  | 2.75248  | D and G moving toward balance; generator loss has dropped sharply.        |\n",
    "|        | BCEWithLogits   | 0.60236  | 2.74228  | Similar behavior; D_loss progression is smoother and slightly closer to the ideal 0.693. |\n",
    "| 50     | Manual BCE      | 0.61299  | 2.67781  | Near equilibrium region—D just a bit strong, G continuing gradual improvement. |\n",
    "|        | BCEWithLogits   | 0.50336  | 3.06060  | D has become too dominant (D_loss ≪ 0.69), stalling G’s progress (higher G_loss). |\n",
    "\n",
    "\n"
   ]
  },
  {
   "cell_type": "markdown",
   "id": "2ec902c6-d669-4ae2-9939-bcb9d5ada0e1",
   "metadata": {},
   "source": [
    "### Goodfellow’s original GAN (sigmoid + binary cross-entropy)\n",
    "\n",
    "Uses a sigmoid at the discriminator’s output to produce values in [0,1], which are interpreted as “probabilities.”\n",
    "\n",
    "*Side effect*: when logits become large in magnitude, the sigmoid saturates, causing the loss to “flatten out” and produce a very smooth training curve.\n",
    "\n",
    "### Brandon Amos approache (Logits + BCEWithLogitsLoss)\n",
    "\n",
    "Drops the explicit sigmoid and feeds raw logits into a fused sigmoid-plus-cross-entropy operation for better numerical stability.\n",
    "\n",
    "*Side effect*: we see every fluctuation in the logits reflected in the loss, so the curve often appears jumpier or more “noisy.”\n",
    "\n",
    "### Which should be smoother?\n",
    "\n",
    "If our goal is a visually smooth, flattened loss curve, the Goodfellow variant with an explicit sigmoid will look smoother.\n",
    "\n",
    "If we want the most robust gradients and true reflection of the discriminator’s confidence (even if the curve is noisier), the logits + BCEWithLogitsLoss approach is preferred."
   ]
  }
 ],
 "metadata": {
  "kernelspec": {
   "display_name": "Python 3 (ipykernel)",
   "language": "python",
   "name": "python3"
  },
  "language_info": {
   "codemirror_mode": {
    "name": "ipython",
    "version": 3
   },
   "file_extension": ".py",
   "mimetype": "text/x-python",
   "name": "python",
   "nbconvert_exporter": "python",
   "pygments_lexer": "ipython3",
   "version": "3.11.11"
  }
 },
 "nbformat": 4,
 "nbformat_minor": 5
}
