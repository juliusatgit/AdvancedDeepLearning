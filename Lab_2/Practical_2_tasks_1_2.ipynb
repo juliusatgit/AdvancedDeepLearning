{
 "cells": [
  {
   "cell_type": "markdown",
   "id": "57522a96",
   "metadata": {},
   "source": [
    "# Practical 2: GAN & Diffusion"
   ]
  },
  {
   "cell_type": "markdown",
   "id": "29b0fa4b-3ad8-40c1-9b73-c61d0ae4d3c7",
   "metadata": {},
   "source": [
    "## Task 1"
   ]
  },
  {
   "cell_type": "code",
   "execution_count": 220,
   "id": "931e99d2-6e72-4d61-bca4-3d502071990d",
   "metadata": {},
   "outputs": [],
   "source": [
    "!source lab2_env/bin/activate"
   ]
  },
  {
   "cell_type": "code",
   "execution_count": 251,
   "id": "558e9047-c7ab-4008-8fe7-a94d80bc0929",
   "metadata": {},
   "outputs": [],
   "source": [
    "import torch\n",
    "import torch.nn as nn\n",
    "import torch.nn.functional as F\n",
    "import torch.optim as optim\n",
    "from torchvision import datasets, transforms\n",
    "from torch.utils.data import DataLoader\n",
    "import matplotlib.pyplot as plt\n",
    "import pandas as pd\n",
    "import matplotlib.gridspec as gridspec\n",
    "import numpy as np\n",
    "import tqdm\n",
    "import os\n",
    "import wandb\n",
    "from IPython.display import Image, display\n",
    "import glob"
   ]
  },
  {
   "cell_type": "code",
   "execution_count": 252,
   "id": "edecd9a8-b6c7-4df8-b55f-00c317057453",
   "metadata": {},
   "outputs": [],
   "source": [
    "# Hyperparameters\n",
    "mb_size = 64    # mini‑batch size, num of real/fake samples feedeng through the NN before doing one gradient update\n",
    "Z_dim = 1000    # dimensionality of the latent noise vector \n",
    "h_dim = 128     # size of the hidden layers in both generator and discriminator\n",
    "lr = 1e-3       # learning rate for the optimizer"
   ]
  },
  {
   "cell_type": "markdown",
   "id": "5885f691-c464-4d00-bcfe-6fe9714ceef8",
   "metadata": {},
   "source": [
    "We need to normilize out data set to get pixels values from [0, 255] to [0,1] :\n",
    "\n",
    "PIL:       255  →   Tensor: 1.0\n",
    "\n",
    "PIL:       128  →   Tensor: 0.50196\n",
    "\n",
    "PIL:         0  →   Tensor: 0.0"
   ]
  },
  {
   "cell_type": "code",
   "execution_count": 253,
   "id": "573d16a6-63c3-4e32-9ad8-9913171e36fb",
   "metadata": {},
   "outputs": [],
   "source": [
    "# Load MNIST data\n",
    "transform = transforms.Compose([\n",
    "    transforms.ToTensor(),\n",
    "    transforms.Lambda(lambda x: x.view(-1))  # Flatten the 28x28 image to 784\n",
    "])\n",
    "\n",
    "train_dataset = datasets.MNIST(root='../MNIST', train=True, transform=transform, download=True)\n",
    "train_loader = DataLoader(train_dataset, batch_size=mb_size, shuffle=True)\n",
    "\n",
    "X_dim = 784  # 28 x 28"
   ]
  },
  {
   "cell_type": "markdown",
   "id": "eb36a571-94c2-4e69-bdd6-f3023a2a6a2d",
   "metadata": {},
   "source": [
    "Xavier initialization balances weights through layers \n",
    "by drawing a random number from a Gaussian (Normal) distribution,\n",
    "whose mean is 0 and whose standard deviation is chosen according to the layer size."
   ]
  },
  {
   "cell_type": "code",
   "execution_count": 254,
   "id": "4e163027-5ff1-4aee-93db-344851d67d22",
   "metadata": {},
   "outputs": [],
   "source": [
    "# Xavier Initialization\n",
    "def xavier_init(m):\n",
    "    if isinstance(m, nn.Linear):\n",
    "        nn.init.xavier_normal_(m.weight)\n",
    "        if m.bias is not None:\n",
    "            nn.init.zeros_(m.bias)"
   ]
  },
  {
   "cell_type": "code",
   "execution_count": 255,
   "id": "ddd6519f-7855-4987-91b9-0d4ccd34cc67",
   "metadata": {},
   "outputs": [],
   "source": [
    "# Generator\n",
    "class Generator(nn.Module):\n",
    "    def __init__(self, z_dim, h_dim, x_dim):\n",
    "        super(Generator, self).__init__()\n",
    "        self.fc1 = nn.Linear(z_dim, h_dim)\n",
    "        self.fc2 = nn.Linear(h_dim, x_dim)\n",
    "        self.apply(xavier_init)\n",
    "\n",
    "    def forward(self, z):\n",
    "        h = F.relu(self.fc1(z))\n",
    "        out = torch.sigmoid(self.fc2(h))   # Sigmoid is possible because data was normalized in [0,1]\n",
    "        return out\n",
    "\n",
    "# Discriminator\n",
    "class Discriminator(nn.Module):\n",
    "    def __init__(self, x_dim, h_dim):\n",
    "        super(Discriminator, self).__init__()\n",
    "        self.fc1 = nn.Linear(x_dim, h_dim)\n",
    "        self.fc2 = nn.Linear(h_dim, 1)\n",
    "        self.apply(xavier_init)\n",
    "\n",
    "    def forward(self, x):\n",
    "        h = F.relu(self.fc1(x))\n",
    "        out = torch.sigmoid(self.fc2(h))\n",
    "        return out"
   ]
  },
  {
   "cell_type": "code",
   "execution_count": 256,
   "id": "51eb2824-1e42-40dc-b7b1-5b5f039058be",
   "metadata": {},
   "outputs": [],
   "source": [
    "# Training\n",
    "def cGANTraining(G, D, loss_fn, train_loader):\n",
    "    G.train()\n",
    "    D.train()\n",
    "\n",
    "    D_loss_real_total = 0\n",
    "    D_loss_fake_total = 0\n",
    "    G_loss_total = 0\n",
    "    t = tqdm.tqdm(train_loader)\n",
    "    \n",
    "    for it, (X_real, labels) in enumerate(t):\n",
    "        # Prepare real data\n",
    "        X_real = X_real.float().to(device)\n",
    "\n",
    "        # Sample noise and labels\n",
    "        z = torch.randn(X_real.size(0), Z_dim).to(device)\n",
    "        ones_label = torch.ones(X_real.size(0), 1).to(device)\n",
    "        zeros_label = torch.zeros(X_real.size(0), 1).to(device)\n",
    "\n",
    "        # ================= Train Discriminator =================\n",
    "        G_sample = G(z)\n",
    "        D_real = D(X_real)\n",
    "        D_fake = D(G_sample.detach())  # fake discrimination \n",
    "\n",
    "        D_loss_real = loss_fn(D_real, ones_label)\n",
    "        D_loss_fake = loss_fn(D_fake, zeros_label)\n",
    "        D_loss = D_loss_real + D_loss_fake\n",
    "        D_loss_real_total += D_loss_real.item()\n",
    "        D_loss_fake_total += D_loss_fake.item()\n",
    "\n",
    "        D_solver.zero_grad()\n",
    "        D_loss.backward()\n",
    "        D_solver.step()\n",
    "\n",
    "        # ================= Train Generator ====================\n",
    "        z = torch.randn(X_real.size(0), Z_dim).to(device)\n",
    "        G_sample = G(z)\n",
    "        D_fake = D(G_sample)\n",
    "\n",
    "        G_loss = loss_fn(D_fake, ones_label)  # more 1 for fakes from D, better for G\n",
    "        G_loss_total += G_loss.item()\n",
    "\n",
    "        G_solver.zero_grad()\n",
    "        G_loss.backward()\n",
    "        G_solver.step()\n",
    "\n",
    "    # ================= Logging =================\n",
    "    D_loss_real_avg = D_loss_real_total / len(train_loader)\n",
    "    D_loss_fake_avg = D_loss_fake_total / len(train_loader)\n",
    "    D_loss_avg = D_loss_real_avg + D_loss_fake_avg\n",
    "    G_loss_avg = G_loss_total / len(train_loader)\n",
    "\n",
    "    \"\"\"wandb.log({\n",
    "        \"D_loss_real\": D_loss_real_avg,\n",
    "        \"D_loss_fake\": D_loss_fake_avg,\n",
    "        \"D_loss\": D_loss_avg,\n",
    "        \"G_loss\": G_loss_avg\n",
    "    })\"\"\"\n",
    "\n",
    "    return G, D, G_loss_avg, D_loss_avg"
   ]
  },
  {
   "cell_type": "code",
   "execution_count": 257,
   "id": "77fd953e-89ea-4229-b7de-ce3939e84066",
   "metadata": {},
   "outputs": [],
   "source": [
    "# Generator stopps to learn and only generates pictures\n",
    "def save_sample(G, epoch, mb_size, Z_dim):\n",
    "    out_dir = \"out_vanila_GAN2\"\n",
    "    G.eval()\n",
    "    with torch.no_grad():\n",
    "        z = torch.randn(mb_size, Z_dim).to(device)\n",
    "        samples = G(z).detach().cpu().numpy()[:16]    # We don't need to see all 64, 16 is enough to see progress\n",
    "\n",
    "    fig = plt.figure(figsize=(4, 4))\n",
    "    gs = gridspec.GridSpec(4, 4)\n",
    "    gs.update(wspace=0.05, hspace=0.05)\n",
    "\n",
    "    for i, sample in enumerate(samples):\n",
    "        ax = plt.subplot(gs[i])\n",
    "        plt.axis('off')\n",
    "        ax.set_xticklabels([])\n",
    "        ax.set_yticklabels([])\n",
    "        ax.set_aspect('equal')\n",
    "        plt.imshow(sample.reshape(28, 28), cmap='Greys_r')\n",
    "\n",
    "    if not os.path.exists(f'{out_dir}'):\n",
    "        os.makedirs(f'{out_dir}')\n",
    "\n",
    "    plt.savefig(f'{out_dir}/{str(epoch).zfill(3)}.png', bbox_inches='tight')\n",
    "    plt.close(fig)\n"
   ]
  },
  {
   "cell_type": "code",
   "execution_count": 229,
   "id": "4d6d7513-28e5-4f77-ac1a-e37ed03f92e2",
   "metadata": {},
   "outputs": [
    {
     "data": {
      "text/html": [
       "Tracking run with wandb version 0.19.9"
      ],
      "text/plain": [
       "<IPython.core.display.HTML object>"
      ]
     },
     "metadata": {},
     "output_type": "display_data"
    },
    {
     "data": {
      "text/html": [
       "Run data is saved locally in <code>/Lab_2/wandb/run-20250421_151827-fstz5htc</code>"
      ],
      "text/plain": [
       "<IPython.core.display.HTML object>"
      ]
     },
     "metadata": {},
     "output_type": "display_data"
    },
    {
     "data": {
      "text/html": [
       "Syncing run <strong><a href='https://wandb.ai/natalia-timokhova-v-lule-university-of-technology/conditional-gan-mnist/runs/fstz5htc' target=\"_blank\">run_5_epochs</a></strong> to <a href='https://wandb.ai/natalia-timokhova-v-lule-university-of-technology/conditional-gan-mnist' target=\"_blank\">Weights & Biases</a> (<a href='https://wandb.me/developer-guide' target=\"_blank\">docs</a>)<br>"
      ],
      "text/plain": [
       "<IPython.core.display.HTML object>"
      ]
     },
     "metadata": {},
     "output_type": "display_data"
    },
    {
     "data": {
      "text/html": [
       " View project at <a href='https://wandb.ai/natalia-timokhova-v-lule-university-of-technology/conditional-gan-mnist' target=\"_blank\">https://wandb.ai/natalia-timokhova-v-lule-university-of-technology/conditional-gan-mnist</a>"
      ],
      "text/plain": [
       "<IPython.core.display.HTML object>"
      ]
     },
     "metadata": {},
     "output_type": "display_data"
    },
    {
     "data": {
      "text/html": [
       " View run at <a href='https://wandb.ai/natalia-timokhova-v-lule-university-of-technology/conditional-gan-mnist/runs/fstz5htc' target=\"_blank\">https://wandb.ai/natalia-timokhova-v-lule-university-of-technology/conditional-gan-mnist/runs/fstz5htc</a>"
      ],
      "text/plain": [
       "<IPython.core.display.HTML object>"
      ]
     },
     "metadata": {},
     "output_type": "display_data"
    },
    {
     "name": "stderr",
     "output_type": "stream",
     "text": [
      "100%|██████████| 938/938 [00:13<00:00, 67.65it/s]\n"
     ]
    },
    {
     "name": "stdout",
     "output_type": "stream",
     "text": [
      "epoch 0; D_loss: 0.0728; G_loss: 5.8095\n",
      "Saved Best Models at epoch 0 | G_loss: 5.8095\n"
     ]
    },
    {
     "name": "stderr",
     "output_type": "stream",
     "text": [
      "100%|██████████| 938/938 [00:13<00:00, 67.90it/s]\n"
     ]
    },
    {
     "name": "stdout",
     "output_type": "stream",
     "text": [
      "epoch 1; D_loss: 0.0265; G_loss: 6.1771\n"
     ]
    },
    {
     "name": "stderr",
     "output_type": "stream",
     "text": [
      "100%|██████████| 938/938 [00:13<00:00, 67.63it/s]\n"
     ]
    },
    {
     "name": "stdout",
     "output_type": "stream",
     "text": [
      "epoch 2; D_loss: 0.0414; G_loss: 5.7264\n",
      "Saved Best Models at epoch 2 | G_loss: 5.7264\n"
     ]
    },
    {
     "name": "stderr",
     "output_type": "stream",
     "text": [
      "100%|██████████| 938/938 [00:13<00:00, 68.44it/s]\n"
     ]
    },
    {
     "name": "stdout",
     "output_type": "stream",
     "text": [
      "epoch 3; D_loss: 0.1024; G_loss: 6.1142\n"
     ]
    },
    {
     "name": "stderr",
     "output_type": "stream",
     "text": [
      "100%|██████████| 938/938 [00:13<00:00, 68.45it/s]\n"
     ]
    },
    {
     "name": "stdout",
     "output_type": "stream",
     "text": [
      "epoch 4; D_loss: 0.1626; G_loss: 5.2521\n",
      "Saved Best Models at epoch 4 | G_loss: 5.2521\n"
     ]
    },
    {
     "data": {
      "text/html": [],
      "text/plain": [
       "<IPython.core.display.HTML object>"
      ]
     },
     "metadata": {},
     "output_type": "display_data"
    },
    {
     "data": {
      "text/html": [
       "<br>    <style><br>        .wandb-row {<br>            display: flex;<br>            flex-direction: row;<br>            flex-wrap: wrap;<br>            justify-content: flex-start;<br>            width: 100%;<br>        }<br>        .wandb-col {<br>            display: flex;<br>            flex-direction: column;<br>            flex-basis: 100%;<br>            flex: 1;<br>            padding: 10px;<br>        }<br>    </style><br><div class=\"wandb-row\"><div class=\"wandb-col\"><h3>Run history:</h3><br/><table class=\"wandb\"><tr><td>D_loss</td><td>▃▁▂▅█</td></tr><tr><td>G_loss</td><td>▅█▅█▁</td></tr><tr><td>epoch</td><td>▁▃▅▆█</td></tr></table><br/></div><div class=\"wandb-col\"><h3>Run summary:</h3><br/><table class=\"wandb\"><tr><td>D_loss</td><td>0.16262</td></tr><tr><td>G_loss</td><td>5.25215</td></tr><tr><td>epoch</td><td>4</td></tr></table><br/></div></div>"
      ],
      "text/plain": [
       "<IPython.core.display.HTML object>"
      ]
     },
     "metadata": {},
     "output_type": "display_data"
    },
    {
     "data": {
      "text/html": [
       " View run <strong style=\"color:#cdcd00\">run_5_epochs</strong> at: <a href='https://wandb.ai/natalia-timokhova-v-lule-university-of-technology/conditional-gan-mnist/runs/fstz5htc' target=\"_blank\">https://wandb.ai/natalia-timokhova-v-lule-university-of-technology/conditional-gan-mnist/runs/fstz5htc</a><br> View project at: <a href='https://wandb.ai/natalia-timokhova-v-lule-university-of-technology/conditional-gan-mnist' target=\"_blank\">https://wandb.ai/natalia-timokhova-v-lule-university-of-technology/conditional-gan-mnist</a><br>Synced 5 W&B file(s), 0 media file(s), 0 artifact file(s) and 0 other file(s)"
      ],
      "text/plain": [
       "<IPython.core.display.HTML object>"
      ]
     },
     "metadata": {},
     "output_type": "display_data"
    },
    {
     "data": {
      "text/html": [
       "Find logs at: <code>./wandb/run-20250421_151827-fstz5htc/logs</code>"
      ],
      "text/plain": [
       "<IPython.core.display.HTML object>"
      ]
     },
     "metadata": {},
     "output_type": "display_data"
    }
   ],
   "source": [
    "# ########################### Training 5 epochs #######################################\n",
    "wandb_log = True\n",
    "device = torch.device(\"cuda:0\" if torch.cuda.is_available() else \"cpu\")\n",
    "\n",
    "# Number of epochs (change only here)\n",
    "epochs = 5\n",
    "\n",
    "# Instantiate models\n",
    "G = Generator(Z_dim, h_dim, X_dim).to(device)\n",
    "D = Discriminator(X_dim, h_dim).to(device)\n",
    "\n",
    "# Optimizers\n",
    "G_solver = optim.Adam(G.parameters(), lr=lr)\n",
    "D_solver = optim.Adam(D.parameters(), lr=lr)\n",
    "\n",
    "# Loss function\n",
    "def my_bce_loss(preds, targets):\n",
    "    return F.binary_cross_entropy(preds, targets)\n",
    "\n",
    "loss_fn = my_bce_loss\n",
    "\n",
    "best_g_loss = float('inf')  # Initialize best generator loss\n",
    "save_dir = 'checkpoints'\n",
    "os.makedirs(save_dir, exist_ok=True)\n",
    "\n",
    "# Initialize W&B immediately before training\n",
    "if wandb_log: \n",
    "    wandb.init(\n",
    "        project=\"conditional-gan-mnist\",\n",
    "        name=f\"run_{epochs}_epochs\",\n",
    "        settings=wandb.Settings(start_method=\"thread\"),\n",
    "        config={\n",
    "            \"batch_size\": mb_size,\n",
    "            \"Z_dim\": Z_dim,\n",
    "            \"X_dim\": X_dim,\n",
    "            \"h_dim\": h_dim,\n",
    "            \"lr\": lr,\n",
    "            \"epochs\": epochs,\n",
    "            \"start_epoch\": 0,\n",
    "            \"end_epoch\": epochs - 1\n",
    "        }\n",
    "    )\n",
    "\n",
    "# Train loop\n",
    "for epoch in range(epochs):\n",
    "    G, D, G_loss_avg, D_loss_avg = cGANTraining(G, D, loss_fn, train_loader)\n",
    "\n",
    "    print(f'epoch {epoch}; D_loss: {D_loss_avg:.4f}; G_loss: {G_loss_avg:.4f}')\n",
    "\n",
    "    if wandb_log:\n",
    "        wandb.log({\n",
    "            \"epoch\": epoch,\n",
    "            \"D_loss\": D_loss_avg,\n",
    "            \"G_loss\": G_loss_avg\n",
    "        })\n",
    "\n",
    "    if G_loss_avg < best_g_loss:\n",
    "        best_g_loss = G_loss_avg\n",
    "        torch.save(G.state_dict(), os.path.join(save_dir, 'G_best.pth'))\n",
    "        torch.save(D.state_dict(), os.path.join(save_dir, 'D_best.pth'))\n",
    "        print(f\"Saved Best Models at epoch {epoch} | G_loss: {best_g_loss:.4f}\")\n",
    "\n",
    "    save_sample(G, epoch, mb_size, Z_dim)\n",
    "\n",
    "# Final log and run closure\n",
    "if wandb_log:\n",
    "    wandb.config.update({\"final_epoch\": epoch})  # saved in config metadata\n",
    "    wandb.finish()\n"
   ]
  },
  {
   "cell_type": "code",
   "execution_count": 230,
   "id": "fc7b6ab1-a7e1-4f87-bbc0-8a806b6a3148",
   "metadata": {},
   "outputs": [],
   "source": [
    "# Inference / sampling from the best‐saved G\n",
    "\n",
    "# 1) Re‐create the Generator and move to the same device\n",
    "G_infer = Generator(Z_dim, h_dim, X_dim).to(device)\n",
    "\n",
    "# 2) Load the weights from the best checkpoint\n",
    "checkpoint = torch.load('checkpoints/G_best.pth', map_location=device, weights_only=True)\n",
    "G_infer.load_state_dict(checkpoint)\n",
    "\n",
    "# 3) Set to evaluation mode\n",
    "G_infer.eval()\n",
    "\n",
    "# 4) Generate and save a sample grid (this will create out_vanila_GAN2/best.png)\n",
    "save_sample(G_infer, \"best_5_epochs\", mb_size, Z_dim)\n",
    "\n",
    "# 5) Clean previous best models\n",
    "for f in glob.glob(os.path.join(save_dir, \"G_best_epoch*.pth\")):\n",
    "    os.remove(f)"
   ]
  },
  {
   "cell_type": "code",
   "execution_count": 231,
   "id": "55e329a4-6983-4ad5-858c-1e2eada0ef90",
   "metadata": {},
   "outputs": [
    {
     "data": {
      "image/png": "[encoded data removed]",
      "text/plain": [
       "<IPython.core.display.Image object>"
      ]
     },
     "metadata": {},
     "output_type": "display_data"
    }
   ],
   "source": [
    "display(Image(\"best_5_epochs.png\"))"
   ]
  },
  {
   "cell_type": "code",
   "execution_count": 248,
   "id": "4f46faf0-5f99-4c3e-91f4-2c172a2f0eba",
   "metadata": {},
   "outputs": [
    {
     "data": {
      "text/html": [
       "Tracking run with wandb version 0.19.9"
      ],
      "text/plain": [
       "<IPython.core.display.HTML object>"
      ]
     },
     "metadata": {},
     "output_type": "display_data"
    },
    {
     "data": {
      "text/html": [
       "Run data is saved locally in <code>/Lab_2/wandb/run-20250421_152853-dfxvaw6u</code>"
      ],
      "text/plain": [
       "<IPython.core.display.HTML object>"
      ]
     },
     "metadata": {},
     "output_type": "display_data"
    },
    {
     "data": {
      "text/html": [
       "Syncing run <strong><a href='https://wandb.ai/natalia-timokhova-v-lule-university-of-technology/conditional-gan-mnist/runs/dfxvaw6u' target=\"_blank\">run_10_epochs</a></strong> to <a href='https://wandb.ai/natalia-timokhova-v-lule-university-of-technology/conditional-gan-mnist' target=\"_blank\">Weights & Biases</a> (<a href='https://wandb.me/developer-guide' target=\"_blank\">docs</a>)<br>"
      ],
      "text/plain": [
       "<IPython.core.display.HTML object>"
      ]
     },
     "metadata": {},
     "output_type": "display_data"
    },
    {
     "data": {
      "text/html": [
       " View project at <a href='https://wandb.ai/natalia-timokhova-v-lule-university-of-technology/conditional-gan-mnist' target=\"_blank\">https://wandb.ai/natalia-timokhova-v-lule-university-of-technology/conditional-gan-mnist</a>"
      ],
      "text/plain": [
       "<IPython.core.display.HTML object>"
      ]
     },
     "metadata": {},
     "output_type": "display_data"
    },
    {
     "data": {
      "text/html": [
       " View run at <a href='https://wandb.ai/natalia-timokhova-v-lule-university-of-technology/conditional-gan-mnist/runs/dfxvaw6u' target=\"_blank\">https://wandb.ai/natalia-timokhova-v-lule-university-of-technology/conditional-gan-mnist/runs/dfxvaw6u</a>"
      ],
      "text/plain": [
       "<IPython.core.display.HTML object>"
      ]
     },
     "metadata": {},
     "output_type": "display_data"
    },
    {
     "name": "stderr",
     "output_type": "stream",
     "text": [
      "100%|██████████| 938/938 [00:13<00:00, 67.27it/s]\n"
     ]
    },
    {
     "name": "stdout",
     "output_type": "stream",
     "text": [
      "epoch 0; D_loss: 0.0763; G_loss: 6.3144\n",
      "Saved Best Models at epoch 0 | G_loss: 6.3144\n"
     ]
    },
    {
     "name": "stderr",
     "output_type": "stream",
     "text": [
      "100%|██████████| 938/938 [00:12<00:00, 77.25it/s] \n"
     ]
    },
    {
     "name": "stdout",
     "output_type": "stream",
     "text": [
      "epoch 1; D_loss: 0.0332; G_loss: 5.9419\n",
      "Saved Best Models at epoch 1 | G_loss: 5.9419\n"
     ]
    },
    {
     "name": "stderr",
     "output_type": "stream",
     "text": [
      "100%|██████████| 938/938 [00:11<00:00, 82.50it/s] \n"
     ]
    },
    {
     "name": "stdout",
     "output_type": "stream",
     "text": [
      "epoch 2; D_loss: 0.0587; G_loss: 5.2664\n",
      "Saved Best Models at epoch 2 | G_loss: 5.2664\n"
     ]
    },
    {
     "name": "stderr",
     "output_type": "stream",
     "text": [
      "100%|██████████| 938/938 [00:08<00:00, 105.02it/s]\n"
     ]
    },
    {
     "name": "stdout",
     "output_type": "stream",
     "text": [
      "epoch 3; D_loss: 0.1295; G_loss: 5.0989\n",
      "Saved Best Models at epoch 3 | G_loss: 5.0989\n"
     ]
    },
    {
     "name": "stderr",
     "output_type": "stream",
     "text": [
      "100%|██████████| 938/938 [00:13<00:00, 69.60it/s]\n"
     ]
    },
    {
     "name": "stdout",
     "output_type": "stream",
     "text": [
      "epoch 4; D_loss: 0.2347; G_loss: 4.5078\n",
      "Saved Best Models at epoch 4 | G_loss: 4.5078\n"
     ]
    },
    {
     "name": "stderr",
     "output_type": "stream",
     "text": [
      "100%|██████████| 938/938 [00:13<00:00, 69.10it/s]\n"
     ]
    },
    {
     "name": "stdout",
     "output_type": "stream",
     "text": [
      "epoch 5; D_loss: 0.3462; G_loss: 4.2113\n",
      "Saved Best Models at epoch 5 | G_loss: 4.2113\n"
     ]
    },
    {
     "name": "stderr",
     "output_type": "stream",
     "text": [
      "100%|██████████| 938/938 [00:13<00:00, 68.95it/s]\n"
     ]
    },
    {
     "name": "stdout",
     "output_type": "stream",
     "text": [
      "epoch 6; D_loss: 0.4212; G_loss: 3.7142\n",
      "Saved Best Models at epoch 6 | G_loss: 3.7142\n"
     ]
    },
    {
     "name": "stderr",
     "output_type": "stream",
     "text": [
      "100%|██████████| 938/938 [00:13<00:00, 68.35it/s]\n"
     ]
    },
    {
     "name": "stdout",
     "output_type": "stream",
     "text": [
      "epoch 7; D_loss: 0.5064; G_loss: 3.9919\n"
     ]
    },
    {
     "name": "stderr",
     "output_type": "stream",
     "text": [
      "100%|██████████| 938/938 [00:13<00:00, 68.58it/s]\n"
     ]
    },
    {
     "name": "stdout",
     "output_type": "stream",
     "text": [
      "epoch 8; D_loss: 0.5489; G_loss: 3.2312\n",
      "Saved Best Models at epoch 8 | G_loss: 3.2312\n"
     ]
    },
    {
     "name": "stderr",
     "output_type": "stream",
     "text": [
      "100%|██████████| 938/938 [00:13<00:00, 71.25it/s] \n"
     ]
    },
    {
     "name": "stdout",
     "output_type": "stream",
     "text": [
      "epoch 9; D_loss: 0.6059; G_loss: 2.9515\n",
      "Saved Best Models at epoch 9 | G_loss: 2.9515\n"
     ]
    },
    {
     "data": {
      "text/html": [],
      "text/plain": [
       "<IPython.core.display.HTML object>"
      ]
     },
     "metadata": {},
     "output_type": "display_data"
    },
    {
     "data": {
      "text/html": [
       "<br>    <style><br>        .wandb-row {<br>            display: flex;<br>            flex-direction: row;<br>            flex-wrap: wrap;<br>            justify-content: flex-start;<br>            width: 100%;<br>        }<br>        .wandb-col {<br>            display: flex;<br>            flex-direction: column;<br>            flex-basis: 100%;<br>            flex: 1;<br>            padding: 10px;<br>        }<br>    </style><br><div class=\"wandb-row\"><div class=\"wandb-col\"><h3>Run history:</h3><br/><table class=\"wandb\"><tr><td>D_loss</td><td>▂▁▁▂▃▅▆▇▇█</td></tr><tr><td>G_loss</td><td>█▇▆▅▄▄▃▃▂▁</td></tr><tr><td>epoch</td><td>▁▂▃▃▄▅▆▆▇█</td></tr></table><br/></div><div class=\"wandb-col\"><h3>Run summary:</h3><br/><table class=\"wandb\"><tr><td>D_loss</td><td>0.6059</td></tr><tr><td>G_loss</td><td>2.95153</td></tr><tr><td>epoch</td><td>9</td></tr></table><br/></div></div>"
      ],
      "text/plain": [
       "<IPython.core.display.HTML object>"
      ]
     },
     "metadata": {},
     "output_type": "display_data"
    },
    {
     "data": {
      "text/html": [
       " View run <strong style=\"color:#cdcd00\">run_10_epochs</strong> at: <a href='https://wandb.ai/natalia-timokhova-v-lule-university-of-technology/conditional-gan-mnist/runs/dfxvaw6u' target=\"_blank\">https://wandb.ai/natalia-timokhova-v-lule-university-of-technology/conditional-gan-mnist/runs/dfxvaw6u</a><br> View project at: <a href='https://wandb.ai/natalia-timokhova-v-lule-university-of-technology/conditional-gan-mnist' target=\"_blank\">https://wandb.ai/natalia-timokhova-v-lule-university-of-technology/conditional-gan-mnist</a><br>Synced 5 W&B file(s), 0 media file(s), 0 artifact file(s) and 0 other file(s)"
      ],
      "text/plain": [
       "<IPython.core.display.HTML object>"
      ]
     },
     "metadata": {},
     "output_type": "display_data"
    },
    {
     "data": {
      "text/html": [
       "Find logs at: <code>./wandb/run-20250421_152853-dfxvaw6u/logs</code>"
      ],
      "text/plain": [
       "<IPython.core.display.HTML object>"
      ]
     },
     "metadata": {},
     "output_type": "display_data"
    }
   ],
   "source": [
    "# ########################### Training 10 epochs #######################################\n",
    "wandb_log = True\n",
    "device = torch.device(\"cuda:0\" if torch.cuda.is_available() else \"cpu\")\n",
    "\n",
    "# Number of epochs (change only here)\n",
    "epochs = 10\n",
    "\n",
    "# Instantiate models\n",
    "G = Generator(Z_dim, h_dim, X_dim).to(device)\n",
    "D = Discriminator(X_dim, h_dim).to(device)\n",
    "\n",
    "# Optimizers\n",
    "G_solver = optim.Adam(G.parameters(), lr=lr)\n",
    "D_solver = optim.Adam(D.parameters(), lr=lr)\n",
    "\n",
    "# Loss function\n",
    "def my_bce_loss(preds, targets):\n",
    "    return F.binary_cross_entropy(preds, targets)\n",
    "\n",
    "loss_fn = my_bce_loss\n",
    "\n",
    "best_g_loss = float('inf')  # Initialize best generator loss\n",
    "save_dir = 'checkpoints'\n",
    "os.makedirs(save_dir, exist_ok=True)\n",
    "\n",
    "# Initialize W&B immediately before training\n",
    "if wandb_log: \n",
    "    wandb.init(\n",
    "        project=\"conditional-gan-mnist\",\n",
    "        name=f\"run_{epochs}_epochs\",\n",
    "        settings=wandb.Settings(start_method=\"thread\"),\n",
    "        config={\n",
    "            \"batch_size\": mb_size,\n",
    "            \"Z_dim\": Z_dim,\n",
    "            \"X_dim\": X_dim,\n",
    "            \"h_dim\": h_dim,\n",
    "            \"lr\": lr,\n",
    "            \"epochs\": epochs,\n",
    "            \"start_epoch\": 0,\n",
    "            \"end_epoch\": epochs - 1\n",
    "        }\n",
    "    )\n",
    "\n",
    "# Train loop\n",
    "for epoch in range(epochs):\n",
    "    G, D, G_loss_avg, D_loss_avg = cGANTraining(G, D, loss_fn, train_loader)\n",
    "\n",
    "    print(f'epoch {epoch}; D_loss: {D_loss_avg:.4f}; G_loss: {G_loss_avg:.4f}')\n",
    "\n",
    "    if wandb_log:\n",
    "        wandb.log({\n",
    "            \"epoch\": epoch,\n",
    "            \"D_loss\": D_loss_avg,\n",
    "            \"G_loss\": G_loss_avg\n",
    "        })\n",
    "\n",
    "    if G_loss_avg < best_g_loss:\n",
    "        best_g_loss = G_loss_avg\n",
    "        torch.save(G.state_dict(), os.path.join(save_dir, 'G_best.pth'))\n",
    "        torch.save(D.state_dict(), os.path.join(save_dir, 'D_best.pth'))\n",
    "        print(f\"Saved Best Models at epoch {epoch} | G_loss: {best_g_loss:.4f}\")\n",
    "\n",
    "    save_sample(G, epoch, mb_size, Z_dim)\n",
    "\n",
    "# Final log and run closure\n",
    "if wandb_log:\n",
    "    wandb.config.update({\"final_epoch\": epoch})  # saved in config metadata\n",
    "    wandb.finish()\n"
   ]
  },
  {
   "cell_type": "code",
   "execution_count": 249,
   "id": "5d0bf17f-e92c-4c12-94df-8289a5bd2c73",
   "metadata": {},
   "outputs": [],
   "source": [
    "# Inference / sampling from the best‐saved G\n",
    "\n",
    "# 1) Re‐create the Generator and move to the same device\n",
    "G_infer = Generator(Z_dim, h_dim, X_dim).to(device)\n",
    "\n",
    "# 2) Load the weights from the best checkpoint\n",
    "checkpoint = torch.load('checkpoints/G_best.pth', map_location=device, weights_only=True)\n",
    "G_infer.load_state_dict(checkpoint)\n",
    "\n",
    "# 3) Set to evaluation mode\n",
    "G_infer.eval()\n",
    "\n",
    "# 4) Generate and save a sample grid (this will create out_vanila_GAN2/best.png)\n",
    "save_sample(G_infer, \"best_10_epochs\", mb_size, Z_dim)\n",
    "\n",
    "# 5) Clean previous best models\n",
    "for f in glob.glob(os.path.join(save_dir, \"G_best_epoch*.pth\")):\n",
    "    os.remove(f)"
   ]
  },
  {
   "cell_type": "code",
   "execution_count": 250,
   "id": "831f486e-fc89-49d8-b8a6-204a5efc7a27",
   "metadata": {},
   "outputs": [
    {
     "data": {
      "image/png": "[encoded data removed]",
      "text/plain": [
       "<IPython.core.display.Image object>"
      ]
     },
     "metadata": {},
     "output_type": "display_data"
    }
   ],
   "source": [
    "display(Image(\"best_10_epochs.png\"))"
   ]
  },
  {
   "cell_type": "code",
   "execution_count": 258,
   "id": "1d413fdb-22d9-4c0a-a10e-6c088463ce73",
   "metadata": {},
   "outputs": [
    {
     "data": {
      "text/html": [
       "Tracking run with wandb version 0.19.9"
      ],
      "text/plain": [
       "<IPython.core.display.HTML object>"
      ]
     },
     "metadata": {},
     "output_type": "display_data"
    },
    {
     "data": {
      "text/html": [
       "Run data is saved locally in <code>/Lab_2/wandb/run-20250421_153259-pp3gtizg</code>"
      ],
      "text/plain": [
       "<IPython.core.display.HTML object>"
      ]
     },
     "metadata": {},
     "output_type": "display_data"
    },
    {
     "data": {
      "text/html": [
       "Syncing run <strong><a href='https://wandb.ai/natalia-timokhova-v-lule-university-of-technology/conditional-gan-mnist/runs/pp3gtizg' target=\"_blank\">run_50_epochs</a></strong> to <a href='https://wandb.ai/natalia-timokhova-v-lule-university-of-technology/conditional-gan-mnist' target=\"_blank\">Weights & Biases</a> (<a href='https://wandb.me/developer-guide' target=\"_blank\">docs</a>)<br>"
      ],
      "text/plain": [
       "<IPython.core.display.HTML object>"
      ]
     },
     "metadata": {},
     "output_type": "display_data"
    },
    {
     "data": {
      "text/html": [
       " View project at <a href='https://wandb.ai/natalia-timokhova-v-lule-university-of-technology/conditional-gan-mnist' target=\"_blank\">https://wandb.ai/natalia-timokhova-v-lule-university-of-technology/conditional-gan-mnist</a>"
      ],
      "text/plain": [
       "<IPython.core.display.HTML object>"
      ]
     },
     "metadata": {},
     "output_type": "display_data"
    },
    {
     "data": {
      "text/html": [
       " View run at <a href='https://wandb.ai/natalia-timokhova-v-lule-university-of-technology/conditional-gan-mnist/runs/pp3gtizg' target=\"_blank\">https://wandb.ai/natalia-timokhova-v-lule-university-of-technology/conditional-gan-mnist/runs/pp3gtizg</a>"
      ],
      "text/plain": [
       "<IPython.core.display.HTML object>"
      ]
     },
     "metadata": {},
     "output_type": "display_data"
    },
    {
     "name": "stderr",
     "output_type": "stream",
     "text": [
      "100%|██████████| 938/938 [00:09<00:00, 103.60it/s]\n"
     ]
    },
    {
     "name": "stdout",
     "output_type": "stream",
     "text": [
      "epoch 0; D_loss: 0.0603; G_loss: 6.3181\n",
      "Saved Best Models at epoch 0 | G_loss: 6.3181\n"
     ]
    },
    {
     "name": "stderr",
     "output_type": "stream",
     "text": [
      "100%|██████████| 938/938 [00:13<00:00, 69.84it/s]\n"
     ]
    },
    {
     "name": "stdout",
     "output_type": "stream",
     "text": [
      "epoch 1; D_loss: 0.0229; G_loss: 6.8692\n"
     ]
    },
    {
     "name": "stderr",
     "output_type": "stream",
     "text": [
      "100%|██████████| 938/938 [00:13<00:00, 68.01it/s]\n"
     ]
    },
    {
     "name": "stdout",
     "output_type": "stream",
     "text": [
      "epoch 2; D_loss: 0.0516; G_loss: 5.6509\n",
      "Saved Best Models at epoch 2 | G_loss: 5.6509\n"
     ]
    },
    {
     "name": "stderr",
     "output_type": "stream",
     "text": [
      "100%|██████████| 938/938 [00:13<00:00, 68.57it/s]\n"
     ]
    },
    {
     "name": "stdout",
     "output_type": "stream",
     "text": [
      "epoch 3; D_loss: 0.1201; G_loss: 5.5195\n",
      "Saved Best Models at epoch 3 | G_loss: 5.5195\n"
     ]
    },
    {
     "name": "stderr",
     "output_type": "stream",
     "text": [
      "100%|██████████| 938/938 [00:13<00:00, 68.71it/s]\n"
     ]
    },
    {
     "name": "stdout",
     "output_type": "stream",
     "text": [
      "epoch 4; D_loss: 0.2669; G_loss: 4.7261\n",
      "Saved Best Models at epoch 4 | G_loss: 4.7261\n"
     ]
    },
    {
     "name": "stderr",
     "output_type": "stream",
     "text": [
      "100%|██████████| 938/938 [00:13<00:00, 68.37it/s]\n"
     ]
    },
    {
     "name": "stdout",
     "output_type": "stream",
     "text": [
      "epoch 5; D_loss: 0.3641; G_loss: 4.2153\n",
      "Saved Best Models at epoch 5 | G_loss: 4.2153\n"
     ]
    },
    {
     "name": "stderr",
     "output_type": "stream",
     "text": [
      "100%|██████████| 938/938 [00:13<00:00, 68.47it/s]\n"
     ]
    },
    {
     "name": "stdout",
     "output_type": "stream",
     "text": [
      "epoch 6; D_loss: 0.4373; G_loss: 3.5026\n",
      "Saved Best Models at epoch 6 | G_loss: 3.5026\n"
     ]
    },
    {
     "name": "stderr",
     "output_type": "stream",
     "text": [
      "100%|██████████| 938/938 [00:13<00:00, 68.61it/s]\n"
     ]
    },
    {
     "name": "stdout",
     "output_type": "stream",
     "text": [
      "epoch 7; D_loss: 0.5208; G_loss: 3.2170\n",
      "Saved Best Models at epoch 7 | G_loss: 3.2170\n"
     ]
    },
    {
     "name": "stderr",
     "output_type": "stream",
     "text": [
      "100%|██████████| 938/938 [00:13<00:00, 68.39it/s]\n"
     ]
    },
    {
     "name": "stdout",
     "output_type": "stream",
     "text": [
      "epoch 8; D_loss: 0.5915; G_loss: 3.1314\n",
      "Saved Best Models at epoch 8 | G_loss: 3.1314\n"
     ]
    },
    {
     "name": "stderr",
     "output_type": "stream",
     "text": [
      "100%|██████████| 938/938 [00:13<00:00, 68.13it/s]\n"
     ]
    },
    {
     "name": "stdout",
     "output_type": "stream",
     "text": [
      "epoch 9; D_loss: 0.6437; G_loss: 2.9862\n",
      "Saved Best Models at epoch 9 | G_loss: 2.9862\n"
     ]
    },
    {
     "name": "stderr",
     "output_type": "stream",
     "text": [
      "100%|██████████| 938/938 [00:13<00:00, 68.87it/s]\n"
     ]
    },
    {
     "name": "stdout",
     "output_type": "stream",
     "text": [
      "epoch 10; D_loss: 0.6754; G_loss: 2.8433\n",
      "Saved Best Models at epoch 10 | G_loss: 2.8433\n"
     ]
    },
    {
     "name": "stderr",
     "output_type": "stream",
     "text": [
      "100%|██████████| 938/938 [00:13<00:00, 68.70it/s]\n"
     ]
    },
    {
     "name": "stdout",
     "output_type": "stream",
     "text": [
      "epoch 11; D_loss: 0.7469; G_loss: 2.5995\n",
      "Saved Best Models at epoch 11 | G_loss: 2.5995\n"
     ]
    },
    {
     "name": "stderr",
     "output_type": "stream",
     "text": [
      "100%|██████████| 938/938 [00:13<00:00, 70.67it/s] \n"
     ]
    },
    {
     "name": "stdout",
     "output_type": "stream",
     "text": [
      "epoch 12; D_loss: 0.7237; G_loss: 2.5353\n",
      "Saved Best Models at epoch 12 | G_loss: 2.5353\n"
     ]
    },
    {
     "name": "stderr",
     "output_type": "stream",
     "text": [
      "100%|██████████| 938/938 [00:13<00:00, 68.59it/s]\n"
     ]
    },
    {
     "name": "stdout",
     "output_type": "stream",
     "text": [
      "epoch 13; D_loss: 0.7351; G_loss: 2.3914\n",
      "Saved Best Models at epoch 13 | G_loss: 2.3914\n"
     ]
    },
    {
     "name": "stderr",
     "output_type": "stream",
     "text": [
      "100%|██████████| 938/938 [00:13<00:00, 68.34it/s]\n"
     ]
    },
    {
     "name": "stdout",
     "output_type": "stream",
     "text": [
      "epoch 14; D_loss: 0.7364; G_loss: 2.2754\n",
      "Saved Best Models at epoch 14 | G_loss: 2.2754\n"
     ]
    },
    {
     "name": "stderr",
     "output_type": "stream",
     "text": [
      "100%|██████████| 938/938 [00:13<00:00, 68.44it/s]\n"
     ]
    },
    {
     "name": "stdout",
     "output_type": "stream",
     "text": [
      "epoch 15; D_loss: 0.7691; G_loss: 2.1396\n",
      "Saved Best Models at epoch 15 | G_loss: 2.1396\n"
     ]
    },
    {
     "name": "stderr",
     "output_type": "stream",
     "text": [
      "100%|██████████| 938/938 [00:13<00:00, 69.54it/s]\n"
     ]
    },
    {
     "name": "stdout",
     "output_type": "stream",
     "text": [
      "epoch 16; D_loss: 0.7858; G_loss: 1.9920\n",
      "Saved Best Models at epoch 16 | G_loss: 1.9920\n"
     ]
    },
    {
     "name": "stderr",
     "output_type": "stream",
     "text": [
      "100%|██████████| 938/938 [00:13<00:00, 69.13it/s]\n"
     ]
    },
    {
     "name": "stdout",
     "output_type": "stream",
     "text": [
      "epoch 17; D_loss: 0.7705; G_loss: 1.9950\n"
     ]
    },
    {
     "name": "stderr",
     "output_type": "stream",
     "text": [
      "100%|██████████| 938/938 [00:12<00:00, 77.65it/s] \n"
     ]
    },
    {
     "name": "stdout",
     "output_type": "stream",
     "text": [
      "epoch 18; D_loss: 0.7729; G_loss: 2.0170\n"
     ]
    },
    {
     "name": "stderr",
     "output_type": "stream",
     "text": [
      "100%|██████████| 938/938 [00:11<00:00, 79.24it/s] \n"
     ]
    },
    {
     "name": "stdout",
     "output_type": "stream",
     "text": [
      "epoch 19; D_loss: 0.7680; G_loss: 2.0665\n"
     ]
    },
    {
     "name": "stderr",
     "output_type": "stream",
     "text": [
      "100%|██████████| 938/938 [00:13<00:00, 69.14it/s]\n"
     ]
    },
    {
     "name": "stdout",
     "output_type": "stream",
     "text": [
      "epoch 20; D_loss: 0.7795; G_loss: 2.0578\n"
     ]
    },
    {
     "name": "stderr",
     "output_type": "stream",
     "text": [
      "100%|██████████| 938/938 [00:13<00:00, 68.69it/s]\n"
     ]
    },
    {
     "name": "stdout",
     "output_type": "stream",
     "text": [
      "epoch 21; D_loss: 0.7881; G_loss: 1.9644\n",
      "Saved Best Models at epoch 21 | G_loss: 1.9644\n"
     ]
    },
    {
     "name": "stderr",
     "output_type": "stream",
     "text": [
      "100%|██████████| 938/938 [00:13<00:00, 68.71it/s]\n"
     ]
    },
    {
     "name": "stdout",
     "output_type": "stream",
     "text": [
      "epoch 22; D_loss: 0.7899; G_loss: 1.9836\n"
     ]
    },
    {
     "name": "stderr",
     "output_type": "stream",
     "text": [
      "100%|██████████| 938/938 [00:13<00:00, 68.92it/s]\n"
     ]
    },
    {
     "name": "stdout",
     "output_type": "stream",
     "text": [
      "epoch 23; D_loss: 0.7770; G_loss: 1.9711\n"
     ]
    },
    {
     "name": "stderr",
     "output_type": "stream",
     "text": [
      "100%|██████████| 938/938 [00:13<00:00, 69.06it/s]\n"
     ]
    },
    {
     "name": "stdout",
     "output_type": "stream",
     "text": [
      "epoch 24; D_loss: 0.7702; G_loss: 2.0064\n"
     ]
    },
    {
     "name": "stderr",
     "output_type": "stream",
     "text": [
      "100%|██████████| 938/938 [00:13<00:00, 68.19it/s]\n"
     ]
    },
    {
     "name": "stdout",
     "output_type": "stream",
     "text": [
      "epoch 25; D_loss: 0.7707; G_loss: 2.0489\n"
     ]
    },
    {
     "name": "stderr",
     "output_type": "stream",
     "text": [
      "100%|██████████| 938/938 [00:13<00:00, 68.43it/s]\n"
     ]
    },
    {
     "name": "stdout",
     "output_type": "stream",
     "text": [
      "epoch 26; D_loss: 0.7716; G_loss: 2.0157\n"
     ]
    },
    {
     "name": "stderr",
     "output_type": "stream",
     "text": [
      "100%|██████████| 938/938 [00:13<00:00, 68.39it/s]\n"
     ]
    },
    {
     "name": "stdout",
     "output_type": "stream",
     "text": [
      "epoch 27; D_loss: 0.7667; G_loss: 2.0546\n"
     ]
    },
    {
     "name": "stderr",
     "output_type": "stream",
     "text": [
      "100%|██████████| 938/938 [00:13<00:00, 69.98it/s]\n"
     ]
    },
    {
     "name": "stdout",
     "output_type": "stream",
     "text": [
      "epoch 28; D_loss: 0.7668; G_loss: 2.0120\n"
     ]
    },
    {
     "name": "stderr",
     "output_type": "stream",
     "text": [
      "100%|██████████| 938/938 [00:13<00:00, 68.42it/s]\n"
     ]
    },
    {
     "name": "stdout",
     "output_type": "stream",
     "text": [
      "epoch 29; D_loss: 0.7607; G_loss: 2.0504\n"
     ]
    },
    {
     "name": "stderr",
     "output_type": "stream",
     "text": [
      "100%|██████████| 938/938 [00:13<00:00, 68.56it/s]\n"
     ]
    },
    {
     "name": "stdout",
     "output_type": "stream",
     "text": [
      "epoch 30; D_loss: 0.7506; G_loss: 2.0979\n"
     ]
    },
    {
     "name": "stderr",
     "output_type": "stream",
     "text": [
      "100%|██████████| 938/938 [00:13<00:00, 67.87it/s]\n"
     ]
    },
    {
     "name": "stdout",
     "output_type": "stream",
     "text": [
      "epoch 31; D_loss: 0.7538; G_loss: 2.1101\n"
     ]
    },
    {
     "name": "stderr",
     "output_type": "stream",
     "text": [
      "100%|██████████| 938/938 [00:11<00:00, 80.07it/s] \n"
     ]
    },
    {
     "name": "stdout",
     "output_type": "stream",
     "text": [
      "epoch 32; D_loss: 0.7394; G_loss: 2.1292\n"
     ]
    },
    {
     "name": "stderr",
     "output_type": "stream",
     "text": [
      "100%|██████████| 938/938 [00:13<00:00, 68.51it/s]\n"
     ]
    },
    {
     "name": "stdout",
     "output_type": "stream",
     "text": [
      "epoch 33; D_loss: 0.7291; G_loss: 2.1526\n"
     ]
    },
    {
     "name": "stderr",
     "output_type": "stream",
     "text": [
      "100%|██████████| 938/938 [00:13<00:00, 68.80it/s]\n"
     ]
    },
    {
     "name": "stdout",
     "output_type": "stream",
     "text": [
      "epoch 34; D_loss: 0.7209; G_loss: 2.1871\n"
     ]
    },
    {
     "name": "stderr",
     "output_type": "stream",
     "text": [
      "100%|██████████| 938/938 [00:13<00:00, 68.32it/s]\n"
     ]
    },
    {
     "name": "stdout",
     "output_type": "stream",
     "text": [
      "epoch 35; D_loss: 0.7159; G_loss: 2.2168\n"
     ]
    },
    {
     "name": "stderr",
     "output_type": "stream",
     "text": [
      "100%|██████████| 938/938 [00:13<00:00, 68.15it/s]\n"
     ]
    },
    {
     "name": "stdout",
     "output_type": "stream",
     "text": [
      "epoch 36; D_loss: 0.7085; G_loss: 2.2616\n"
     ]
    },
    {
     "name": "stderr",
     "output_type": "stream",
     "text": [
      "100%|██████████| 938/938 [00:13<00:00, 68.01it/s]\n"
     ]
    },
    {
     "name": "stdout",
     "output_type": "stream",
     "text": [
      "epoch 37; D_loss: 0.7034; G_loss: 2.2918\n"
     ]
    },
    {
     "name": "stderr",
     "output_type": "stream",
     "text": [
      "100%|██████████| 938/938 [00:13<00:00, 68.17it/s]\n"
     ]
    },
    {
     "name": "stdout",
     "output_type": "stream",
     "text": [
      "epoch 38; D_loss: 0.6946; G_loss: 2.2883\n"
     ]
    },
    {
     "name": "stderr",
     "output_type": "stream",
     "text": [
      "100%|██████████| 938/938 [00:13<00:00, 68.95it/s]\n"
     ]
    },
    {
     "name": "stdout",
     "output_type": "stream",
     "text": [
      "epoch 39; D_loss: 0.6873; G_loss: 2.3585\n"
     ]
    },
    {
     "name": "stderr",
     "output_type": "stream",
     "text": [
      "100%|██████████| 938/938 [00:13<00:00, 68.83it/s]\n"
     ]
    },
    {
     "name": "stdout",
     "output_type": "stream",
     "text": [
      "epoch 40; D_loss: 0.6926; G_loss: 2.3655\n"
     ]
    },
    {
     "name": "stderr",
     "output_type": "stream",
     "text": [
      "100%|██████████| 938/938 [00:12<00:00, 77.45it/s] \n"
     ]
    },
    {
     "name": "stdout",
     "output_type": "stream",
     "text": [
      "epoch 41; D_loss: 0.6789; G_loss: 2.3457\n"
     ]
    },
    {
     "name": "stderr",
     "output_type": "stream",
     "text": [
      "100%|██████████| 938/938 [00:11<00:00, 84.98it/s] \n"
     ]
    },
    {
     "name": "stdout",
     "output_type": "stream",
     "text": [
      "epoch 42; D_loss: 0.6805; G_loss: 2.3965\n"
     ]
    },
    {
     "name": "stderr",
     "output_type": "stream",
     "text": [
      "100%|██████████| 938/938 [00:13<00:00, 68.38it/s]\n"
     ]
    },
    {
     "name": "stdout",
     "output_type": "stream",
     "text": [
      "epoch 43; D_loss: 0.6828; G_loss: 2.3778\n"
     ]
    },
    {
     "name": "stderr",
     "output_type": "stream",
     "text": [
      "100%|██████████| 938/938 [00:13<00:00, 68.35it/s]\n"
     ]
    },
    {
     "name": "stdout",
     "output_type": "stream",
     "text": [
      "epoch 44; D_loss: 0.6771; G_loss: 2.3994\n"
     ]
    },
    {
     "name": "stderr",
     "output_type": "stream",
     "text": [
      "100%|██████████| 938/938 [00:13<00:00, 68.03it/s]\n"
     ]
    },
    {
     "name": "stdout",
     "output_type": "stream",
     "text": [
      "epoch 45; D_loss: 0.6785; G_loss: 2.4030\n"
     ]
    },
    {
     "name": "stderr",
     "output_type": "stream",
     "text": [
      "100%|██████████| 938/938 [00:13<00:00, 69.30it/s]\n"
     ]
    },
    {
     "name": "stdout",
     "output_type": "stream",
     "text": [
      "epoch 46; D_loss: 0.6756; G_loss: 2.4321\n"
     ]
    },
    {
     "name": "stderr",
     "output_type": "stream",
     "text": [
      "100%|██████████| 938/938 [00:13<00:00, 68.56it/s]\n"
     ]
    },
    {
     "name": "stdout",
     "output_type": "stream",
     "text": [
      "epoch 47; D_loss: 0.6673; G_loss: 2.4159\n"
     ]
    },
    {
     "name": "stderr",
     "output_type": "stream",
     "text": [
      "100%|██████████| 938/938 [00:13<00:00, 69.06it/s]\n"
     ]
    },
    {
     "name": "stdout",
     "output_type": "stream",
     "text": [
      "epoch 48; D_loss: 0.6703; G_loss: 2.4225\n"
     ]
    },
    {
     "name": "stderr",
     "output_type": "stream",
     "text": [
      "100%|██████████| 938/938 [00:13<00:00, 68.83it/s]\n"
     ]
    },
    {
     "name": "stdout",
     "output_type": "stream",
     "text": [
      "epoch 49; D_loss: 0.6645; G_loss: 2.4467\n"
     ]
    },
    {
     "data": {
      "text/html": [],
      "text/plain": [
       "<IPython.core.display.HTML object>"
      ]
     },
     "metadata": {},
     "output_type": "display_data"
    },
    {
     "data": {
      "text/html": [
       "<br>    <style><br>        .wandb-row {<br>            display: flex;<br>            flex-direction: row;<br>            flex-wrap: wrap;<br>            justify-content: flex-start;<br>            width: 100%;<br>        }<br>        .wandb-col {<br>            display: flex;<br>            flex-direction: column;<br>            flex-basis: 100%;<br>            flex: 1;<br>            padding: 10px;<br>        }<br>    </style><br><div class=\"wandb-row\"><div class=\"wandb-col\"><h3>Run history:</h3><br/><table class=\"wandb\"><tr><td>D_loss</td><td>▁▁▂▃▄▅▆▇▇█▇▇██████████████▇▇▇▇▇▇▇▇▇▇▇▇▇▇</td></tr><tr><td>G_loss</td><td>▇█▆▆▅▃▃▂▂▂▂▁▁▁▁▁▁▁▁▁▁▁▁▁▁▁▁▁▁▁▁▂▂▂▂▂▂▂▂▂</td></tr><tr><td>epoch</td><td>▁▁▁▂▂▂▂▂▂▃▃▃▃▃▃▄▄▄▄▄▅▅▅▅▅▆▆▆▆▆▆▇▇▇▇▇▇███</td></tr></table><br/></div><div class=\"wandb-col\"><h3>Run summary:</h3><br/><table class=\"wandb\"><tr><td>D_loss</td><td>0.66451</td></tr><tr><td>G_loss</td><td>2.44671</td></tr><tr><td>epoch</td><td>49</td></tr></table><br/></div></div>"
      ],
      "text/plain": [
       "<IPython.core.display.HTML object>"
      ]
     },
     "metadata": {},
     "output_type": "display_data"
    },
    {
     "data": {
      "text/html": [
       " View run <strong style=\"color:#cdcd00\">run_50_epochs</strong> at: <a href='https://wandb.ai/natalia-timokhova-v-lule-university-of-technology/conditional-gan-mnist/runs/pp3gtizg' target=\"_blank\">https://wandb.ai/natalia-timokhova-v-lule-university-of-technology/conditional-gan-mnist/runs/pp3gtizg</a><br> View project at: <a href='https://wandb.ai/natalia-timokhova-v-lule-university-of-technology/conditional-gan-mnist' target=\"_blank\">https://wandb.ai/natalia-timokhova-v-lule-university-of-technology/conditional-gan-mnist</a><br>Synced 5 W&B file(s), 0 media file(s), 0 artifact file(s) and 0 other file(s)"
      ],
      "text/plain": [
       "<IPython.core.display.HTML object>"
      ]
     },
     "metadata": {},
     "output_type": "display_data"
    },
    {
     "data": {
      "text/html": [
       "Find logs at: <code>./wandb/run-20250421_153259-pp3gtizg/logs</code>"
      ],
      "text/plain": [
       "<IPython.core.display.HTML object>"
      ]
     },
     "metadata": {},
     "output_type": "display_data"
    }
   ],
   "source": [
    "# ########################### Training 50 epochs #######################################\n",
    "wandb_log = True\n",
    "device = torch.device(\"cuda:0\" if torch.cuda.is_available() else \"cpu\")\n",
    "\n",
    "# Number of epochs (change only here)\n",
    "epochs = 50\n",
    "\n",
    "# Instantiate models\n",
    "G = Generator(Z_dim, h_dim, X_dim).to(device)\n",
    "D = Discriminator(X_dim, h_dim).to(device)\n",
    "\n",
    "# Optimizers\n",
    "G_solver = optim.Adam(G.parameters(), lr=lr)\n",
    "D_solver = optim.Adam(D.parameters(), lr=lr)\n",
    "\n",
    "# Loss function\n",
    "def my_bce_loss(preds, targets):\n",
    "    return F.binary_cross_entropy(preds, targets)\n",
    "\n",
    "loss_fn = my_bce_loss\n",
    "\n",
    "best_g_loss = float('inf')  # Initialize best generator loss\n",
    "save_dir = 'checkpoints'\n",
    "os.makedirs(save_dir, exist_ok=True)\n",
    "\n",
    "# Initialize W&B immediately before training\n",
    "if wandb_log: \n",
    "    wandb.init(\n",
    "        project=\"conditional-gan-mnist\",\n",
    "        name=f\"run_{epochs}_epochs\",\n",
    "        settings=wandb.Settings(start_method=\"thread\"),\n",
    "        config={\n",
    "            \"batch_size\": mb_size,\n",
    "            \"Z_dim\": Z_dim,\n",
    "            \"X_dim\": X_dim,\n",
    "            \"h_dim\": h_dim,\n",
    "            \"lr\": lr,\n",
    "            \"epochs\": epochs,\n",
    "            \"start_epoch\": 0,\n",
    "            \"end_epoch\": epochs - 1\n",
    "        }\n",
    "    )\n",
    "\n",
    "# Train loop\n",
    "for epoch in range(epochs):\n",
    "    G, D, G_loss_avg, D_loss_avg = cGANTraining(G, D, loss_fn, train_loader)\n",
    "\n",
    "    print(f'epoch {epoch}; D_loss: {D_loss_avg:.4f}; G_loss: {G_loss_avg:.4f}')\n",
    "\n",
    "    if wandb_log:\n",
    "        wandb.log({\n",
    "            \"epoch\": epoch,\n",
    "            \"D_loss\": D_loss_avg,\n",
    "            \"G_loss\": G_loss_avg\n",
    "        })\n",
    "\n",
    "    if G_loss_avg < best_g_loss:\n",
    "        best_g_loss = G_loss_avg\n",
    "        torch.save(G.state_dict(), os.path.join(save_dir, 'G_best.pth'))\n",
    "        torch.save(D.state_dict(), os.path.join(save_dir, 'D_best.pth'))\n",
    "        print(f\"Saved Best Models at epoch {epoch} | G_loss: {best_g_loss:.4f}\")\n",
    "\n",
    "    save_sample(G, epoch, mb_size, Z_dim)\n",
    "\n",
    "# Final log and run closure\n",
    "if wandb_log:\n",
    "    wandb.config.update({\"final_epoch\": epoch})  # saved in config metadata\n",
    "    wandb.finish()\n"
   ]
  },
  {
   "cell_type": "code",
   "execution_count": 259,
   "id": "1ad400d4-7a3e-49c4-af19-06f766c329d9",
   "metadata": {},
   "outputs": [],
   "source": [
    "# Inference / sampling from the best‐saved G\n",
    "\n",
    "# 1) Re‐create the Generator and move to the same device\n",
    "G_infer = Generator(Z_dim, h_dim, X_dim).to(device)\n",
    "\n",
    "# 2) Load the weights from the best checkpoint\n",
    "checkpoint = torch.load('checkpoints/G_best.pth', map_location=device, weights_only=True)\n",
    "G_infer.load_state_dict(checkpoint)\n",
    "\n",
    "# 3) Set to evaluation mode\n",
    "G_infer.eval()\n",
    "\n",
    "# 4) Generate and save a sample grid (this will create out_vanila_GAN2/best.png)\n",
    "save_sample(G_infer, \"best_50_epochs\", mb_size, Z_dim)\n",
    "\n",
    "# 5) Clean previous best models\n",
    "for f in glob.glob(os.path.join(save_dir, \"G_best_epoch*.pth\")):\n",
    "    os.remove(f)"
   ]
  },
  {
   "cell_type": "code",
   "execution_count": 260,
   "id": "1f556a50-4d32-4933-ab2c-ccfb3fcdc50f",
   "metadata": {},
   "outputs": [
    {
     "data": {
      "image/png": "[encoded data removed]",
      "text/plain": [
       "<IPython.core.display.Image object>"
      ]
     },
     "metadata": {},
     "output_type": "display_data"
    }
   ],
   "source": [
    "display(Image(\"best_50_epochs.png\"))"
   ]
  },
  {
   "cell_type": "code",
   "execution_count": 264,
   "id": "8dc3f907-ebf2-4fc9-875a-70c3962bf335",
   "metadata": {},
   "outputs": [
    {
     "data": {
      "text/html": [
       "<div>\n",
       "<style scoped>\n",
       "    .dataframe tbody tr th:only-of-type {\n",
       "        vertical-align: middle;\n",
       "    }\n",
       "\n",
       "    .dataframe tbody tr th {\n",
       "        vertical-align: top;\n",
       "    }\n",
       "\n",
       "    .dataframe thead th {\n",
       "        text-align: right;\n",
       "    }\n",
       "</style>\n",
       "<table border=\"1\" class=\"dataframe\">\n",
       "  <thead>\n",
       "    <tr style=\"text-align: right;\">\n",
       "      <th></th>\n",
       "      <th>Epochs</th>\n",
       "      <th>D_loss</th>\n",
       "      <th>G_loss</th>\n",
       "      <th>Observation</th>\n",
       "    </tr>\n",
       "  </thead>\n",
       "  <tbody>\n",
       "    <tr>\n",
       "      <th>0</th>\n",
       "      <td>5</td>\n",
       "      <td>0.16262</td>\n",
       "      <td>5.25215</td>\n",
       "      <td>D is weak, G is generating random noise — generator loss is very high</td>\n",
       "    </tr>\n",
       "    <tr>\n",
       "      <th>1</th>\n",
       "      <td>10</td>\n",
       "      <td>0.60590</td>\n",
       "      <td>2.95153</td>\n",
       "      <td>G starts to learn, D becomes stronger — training becomes more balanced</td>\n",
       "    </tr>\n",
       "    <tr>\n",
       "      <th>2</th>\n",
       "      <td>50</td>\n",
       "      <td>0.66451</td>\n",
       "      <td>2.44671</td>\n",
       "      <td>D is strong, but G keeps improving — training stabilizes</td>\n",
       "    </tr>\n",
       "  </tbody>\n",
       "</table>\n",
       "</div>"
      ],
      "text/plain": [
       "   Epochs   D_loss   G_loss  \\\n",
       "0       5  0.16262  5.25215   \n",
       "1      10  0.60590  2.95153   \n",
       "2      50  0.66451  2.44671   \n",
       "\n",
       "                                                              Observation  \n",
       "0   D is weak, G is generating random noise — generator loss is very high  \n",
       "1  G starts to learn, D becomes stronger — training becomes more balanced  \n",
       "2                D is strong, but G keeps improving — training stabilizes  "
      ]
     },
     "execution_count": 264,
     "metadata": {},
     "output_type": "execute_result"
    }
   ],
   "source": [
    "# Summary of 5, 10, and 50 epochs\n",
    "data = {\n",
    "    \"Epochs\": [5, 10, 50],\n",
    "    \"D_loss\": [0.16262, 0.6059, 0.66451],\n",
    "    \"G_loss\": [5.25215, 2.95153, 2.44671],\n",
    "    \"Observation\": [\n",
    "        \"D is weak, G is generating random noise — generator loss is very high\",\n",
    "        \"G starts to learn, D becomes stronger — training becomes more balanced\",\n",
    "        \"D is strong, but G keeps improving — training stabilizes\"\n",
    "    ]\n",
    "}\n",
    "\n",
    "df = pd.DataFrame(data)\n",
    "df"
   ]
  },
  {
   "cell_type": "markdown",
   "id": "712873c5-37ab-49b9-b6f7-5f1ac450d0c3",
   "metadata": {},
   "source": [
    "## Task 2"
   ]
  },
  {
   "cell_type": "markdown",
   "id": "dee4582f-f10f-494c-a14f-5a5073ccf1c8",
   "metadata": {},
   "source": [
    "Run the same code with a different loss function: Logistic loss as described in Brandon\n",
    "Amos blog and compare the results with above Task 1."
   ]
  },
  {
   "cell_type": "code",
   "execution_count": 277,
   "id": "2cd6808c-4b30-40af-9e81-e91cb201e4f8",
   "metadata": {},
   "outputs": [],
   "source": [
    "########################################################################\n",
    "    # Logistic loss. Change \"out\" in Discriminator and Loss Function\n",
    "########################################################################\n",
    "# Generator\n",
    "class Generator(nn.Module):\n",
    "    def __init__(self, z_dim, h_dim, x_dim):\n",
    "        super(Generator, self).__init__()\n",
    "        self.fc1 = nn.Linear(z_dim, h_dim)\n",
    "        self.fc2 = nn.Linear(h_dim, x_dim)\n",
    "        self.apply(xavier_init)\n",
    "\n",
    "    def forward(self, z):\n",
    "        h = F.relu(self.fc1(z))\n",
    "        out = torch.sigmoid(self.fc2(h))   # Sigmoid is possible because data was normalized in [0,1]\n",
    "        return out\n",
    "\n",
    "# Discriminator\n",
    "class Discriminator(nn.Module):\n",
    "    def __init__(self, x_dim, h_dim):\n",
    "        super(Discriminator, self).__init__()\n",
    "        self.fc1 = nn.Linear(x_dim, h_dim)\n",
    "        self.fc2 = nn.Linear(h_dim, 1)\n",
    "        self.apply(xavier_init)\n",
    "\n",
    "    def forward(self, x):\n",
    "        h = F.relu(self.fc1(x))\n",
    "        # out = torch.sigmoid(self.fc2(h))    # before change \n",
    "        out = self.fc2(h)                     # after change to logistic loss\n",
    "        return out"
   ]
  },
  {
   "cell_type": "code",
   "execution_count": 278,
   "id": "5f968d4f-d97e-46b8-8ccc-3a76c6743298",
   "metadata": {},
   "outputs": [],
   "source": [
    "# Training\n",
    "def cGANTraining(G, D, loss_fn, train_loader):\n",
    "    G.train()\n",
    "    D.train()\n",
    "\n",
    "    D_loss_real_total = 0\n",
    "    D_loss_fake_total = 0\n",
    "    G_loss_total = 0\n",
    "    t = tqdm.tqdm(train_loader)\n",
    "    \n",
    "    for it, (X_real, labels) in enumerate(t):\n",
    "        # Prepare real data\n",
    "        X_real = X_real.float().to(device)\n",
    "\n",
    "        # Sample noise and labels\n",
    "        z = torch.randn(X_real.size(0), Z_dim).to(device)\n",
    "        ones_label = torch.ones(X_real.size(0), 1).to(device)\n",
    "        zeros_label = torch.zeros(X_real.size(0), 1).to(device)\n",
    "\n",
    "        # ================= Train Discriminator =================\n",
    "        G_sample = G(z)\n",
    "        D_real = D(X_real)\n",
    "        D_fake = D(G_sample.detach())  # fake discrimination \n",
    "\n",
    "        D_loss_real = loss_fn(D_real, ones_label)\n",
    "        D_loss_fake = loss_fn(D_fake, zeros_label)\n",
    "        D_loss = D_loss_real + D_loss_fake\n",
    "        D_loss_real_total += D_loss_real.item()\n",
    "        D_loss_fake_total += D_loss_fake.item()\n",
    "\n",
    "        D_solver.zero_grad()\n",
    "        D_loss.backward()\n",
    "        D_solver.step()\n",
    "\n",
    "        # ================= Train Generator ====================\n",
    "        z = torch.randn(X_real.size(0), Z_dim).to(device)\n",
    "        G_sample = G(z)\n",
    "        D_fake = D(G_sample)\n",
    "\n",
    "        G_loss = loss_fn(D_fake, ones_label)  # more 1 for fakes from D, better for G\n",
    "        G_loss_total += G_loss.item()\n",
    "\n",
    "        G_solver.zero_grad()\n",
    "        G_loss.backward()\n",
    "        G_solver.step()\n",
    "\n",
    "    # ================= Logging =================\n",
    "    D_loss_real_avg = D_loss_real_total / len(train_loader)\n",
    "    D_loss_fake_avg = D_loss_fake_total / len(train_loader)\n",
    "    D_loss_avg = D_loss_real_avg + D_loss_fake_avg\n",
    "    G_loss_avg = G_loss_total / len(train_loader)\n",
    "\n",
    "    \"\"\"wandb.log({\n",
    "        \"D_loss_real\": D_loss_real_avg,\n",
    "        \"D_loss_fake\": D_loss_fake_avg,\n",
    "        \"D_loss\": D_loss_avg,\n",
    "        \"G_loss\": G_loss_avg\n",
    "    })\"\"\"\n",
    "\n",
    "    return G, D, G_loss_avg, D_loss_avg"
   ]
  },
  {
   "cell_type": "code",
   "execution_count": 279,
   "id": "05535741-c769-45d6-8d3f-4877cd0c6632",
   "metadata": {},
   "outputs": [],
   "source": [
    "# Generator stopps to learn and only generates pictures\n",
    "def save_sample(G, epoch, mb_size, Z_dim):\n",
    "    out_dir = \"out_vanila_GAN2\"\n",
    "    G.eval()\n",
    "    with torch.no_grad():\n",
    "        z = torch.randn(mb_size, Z_dim).to(device)\n",
    "        samples = G(z).detach().cpu().numpy()[:16]    # We don't need to see all 64, 16 is enough to see progress\n",
    "\n",
    "    fig = plt.figure(figsize=(4, 4))\n",
    "    gs = gridspec.GridSpec(4, 4)\n",
    "    gs.update(wspace=0.05, hspace=0.05)\n",
    "\n",
    "    for i, sample in enumerate(samples):\n",
    "        ax = plt.subplot(gs[i])\n",
    "        plt.axis('off')\n",
    "        ax.set_xticklabels([])\n",
    "        ax.set_yticklabels([])\n",
    "        ax.set_aspect('equal')\n",
    "        plt.imshow(sample.reshape(28, 28), cmap='Greys_r')\n",
    "\n",
    "    if not os.path.exists(f'{out_dir}'):\n",
    "        os.makedirs(f'{out_dir}')\n",
    "\n",
    "    plt.savefig(f'{out_dir}/{str(epoch).zfill(3)}.png', bbox_inches='tight')\n",
    "    plt.close(fig)\n"
   ]
  },
  {
   "cell_type": "code",
   "execution_count": 268,
   "id": "0fc4d94d-db68-4e6f-9ea7-56f56aaa8016",
   "metadata": {},
   "outputs": [
    {
     "data": {
      "text/html": [
       "Tracking run with wandb version 0.19.9"
      ],
      "text/plain": [
       "<IPython.core.display.HTML object>"
      ]
     },
     "metadata": {},
     "output_type": "display_data"
    },
    {
     "data": {
      "text/html": [
       "Run data is saved locally in <code>/Lab_2/wandb/run-20250421_161340-ssuuxdpd</code>"
      ],
      "text/plain": [
       "<IPython.core.display.HTML object>"
      ]
     },
     "metadata": {},
     "output_type": "display_data"
    },
    {
     "data": {
      "text/html": [
       "Syncing run <strong><a href='https://wandb.ai/natalia-timokhova-v-lule-university-of-technology/conditional-gan-mnist/runs/ssuuxdpd' target=\"_blank\">run_5_epochs</a></strong> to <a href='https://wandb.ai/natalia-timokhova-v-lule-university-of-technology/conditional-gan-mnist' target=\"_blank\">Weights & Biases</a> (<a href='https://wandb.me/developer-guide' target=\"_blank\">docs</a>)<br>"
      ],
      "text/plain": [
       "<IPython.core.display.HTML object>"
      ]
     },
     "metadata": {},
     "output_type": "display_data"
    },
    {
     "data": {
      "text/html": [
       " View project at <a href='https://wandb.ai/natalia-timokhova-v-lule-university-of-technology/conditional-gan-mnist' target=\"_blank\">https://wandb.ai/natalia-timokhova-v-lule-university-of-technology/conditional-gan-mnist</a>"
      ],
      "text/plain": [
       "<IPython.core.display.HTML object>"
      ]
     },
     "metadata": {},
     "output_type": "display_data"
    },
    {
     "data": {
      "text/html": [
       " View run at <a href='https://wandb.ai/natalia-timokhova-v-lule-university-of-technology/conditional-gan-mnist/runs/ssuuxdpd' target=\"_blank\">https://wandb.ai/natalia-timokhova-v-lule-university-of-technology/conditional-gan-mnist/runs/ssuuxdpd</a>"
      ],
      "text/plain": [
       "<IPython.core.display.HTML object>"
      ]
     },
     "metadata": {},
     "output_type": "display_data"
    },
    {
     "name": "stderr",
     "output_type": "stream",
     "text": [
      "100%|██████████| 938/938 [00:11<00:00, 85.25it/s] \n"
     ]
    },
    {
     "name": "stdout",
     "output_type": "stream",
     "text": [
      "epoch 0; D_loss: 0.0698; G_loss: 5.8389\n",
      "Saved Best Models at epoch 0 | G_loss: 5.8389\n"
     ]
    },
    {
     "name": "stderr",
     "output_type": "stream",
     "text": [
      "100%|██████████| 938/938 [00:13<00:00, 70.19it/s]\n"
     ]
    },
    {
     "name": "stdout",
     "output_type": "stream",
     "text": [
      "epoch 1; D_loss: 0.0371; G_loss: 5.9024\n"
     ]
    },
    {
     "name": "stderr",
     "output_type": "stream",
     "text": [
      "100%|██████████| 938/938 [00:13<00:00, 70.47it/s]\n"
     ]
    },
    {
     "name": "stdout",
     "output_type": "stream",
     "text": [
      "epoch 2; D_loss: 0.0430; G_loss: 5.8749\n"
     ]
    },
    {
     "name": "stderr",
     "output_type": "stream",
     "text": [
      "100%|██████████| 938/938 [00:13<00:00, 70.75it/s]\n"
     ]
    },
    {
     "name": "stdout",
     "output_type": "stream",
     "text": [
      "epoch 3; D_loss: 0.0737; G_loss: 5.8346\n",
      "Saved Best Models at epoch 3 | G_loss: 5.8346\n"
     ]
    },
    {
     "name": "stderr",
     "output_type": "stream",
     "text": [
      "100%|██████████| 938/938 [00:13<00:00, 70.55it/s]\n"
     ]
    },
    {
     "name": "stdout",
     "output_type": "stream",
     "text": [
      "epoch 4; D_loss: 0.1575; G_loss: 5.2952\n",
      "Saved Best Models at epoch 4 | G_loss: 5.2952\n"
     ]
    },
    {
     "data": {
      "text/html": [],
      "text/plain": [
       "<IPython.core.display.HTML object>"
      ]
     },
     "metadata": {},
     "output_type": "display_data"
    },
    {
     "data": {
      "text/html": [
       "<br>    <style><br>        .wandb-row {<br>            display: flex;<br>            flex-direction: row;<br>            flex-wrap: wrap;<br>            justify-content: flex-start;<br>            width: 100%;<br>        }<br>        .wandb-col {<br>            display: flex;<br>            flex-direction: column;<br>            flex-basis: 100%;<br>            flex: 1;<br>            padding: 10px;<br>        }<br>    </style><br><div class=\"wandb-row\"><div class=\"wandb-col\"><h3>Run history:</h3><br/><table class=\"wandb\"><tr><td>D_loss</td><td>▃▁▁▃█</td></tr><tr><td>G_loss</td><td>▇██▇▁</td></tr><tr><td>epoch</td><td>▁▃▅▆█</td></tr></table><br/></div><div class=\"wandb-col\"><h3>Run summary:</h3><br/><table class=\"wandb\"><tr><td>D_loss</td><td>0.15751</td></tr><tr><td>G_loss</td><td>5.29518</td></tr><tr><td>epoch</td><td>4</td></tr></table><br/></div></div>"
      ],
      "text/plain": [
       "<IPython.core.display.HTML object>"
      ]
     },
     "metadata": {},
     "output_type": "display_data"
    },
    {
     "data": {
      "text/html": [
       " View run <strong style=\"color:#cdcd00\">run_5_epochs</strong> at: <a href='https://wandb.ai/natalia-timokhova-v-lule-university-of-technology/conditional-gan-mnist/runs/ssuuxdpd' target=\"_blank\">https://wandb.ai/natalia-timokhova-v-lule-university-of-technology/conditional-gan-mnist/runs/ssuuxdpd</a><br> View project at: <a href='https://wandb.ai/natalia-timokhova-v-lule-university-of-technology/conditional-gan-mnist' target=\"_blank\">https://wandb.ai/natalia-timokhova-v-lule-university-of-technology/conditional-gan-mnist</a><br>Synced 5 W&B file(s), 0 media file(s), 0 artifact file(s) and 0 other file(s)"
      ],
      "text/plain": [
       "<IPython.core.display.HTML object>"
      ]
     },
     "metadata": {},
     "output_type": "display_data"
    },
    {
     "data": {
      "text/html": [
       "Find logs at: <code>./wandb/run-20250421_161340-ssuuxdpd/logs</code>"
      ],
      "text/plain": [
       "<IPython.core.display.HTML object>"
      ]
     },
     "metadata": {},
     "output_type": "display_data"
    }
   ],
   "source": [
    "########################### 5 epochs #######################################\n",
    "wandb_log = True\n",
    "device = torch.device(\"cuda:0\" if torch.cuda.is_available() else \"cpu\")\n",
    "\n",
    "# Number of epochs (change only here)\n",
    "epochs = 5\n",
    "\n",
    "# Instantiate models\n",
    "G = Generator(Z_dim, h_dim, X_dim).to(device)\n",
    "D = Discriminator(X_dim, h_dim).to(device)\n",
    "\n",
    "# Optimizers\n",
    "G_solver = optim.Adam(G.parameters(), lr=lr)\n",
    "D_solver = optim.Adam(D.parameters(), lr=lr)\n",
    "\n",
    "# Loss function\n",
    "\n",
    "#def my_bce_loss(preds, targets):\n",
    "#    return F.binary_cross_entropy(preds, targets)\n",
    "# loss_fn = my_bce_loss                               # Before change\n",
    "\n",
    "# Binary Cross Entropy loss function \n",
    "loss_fn = nn.BCEWithLogitsLoss()                      # After change. Includes Sigmoid by itself\n",
    "\n",
    "\n",
    "best_g_loss = float('inf')  # Initialize best generator loss\n",
    "save_dir = 'checkpoints'\n",
    "os.makedirs(save_dir, exist_ok=True)\n",
    "\n",
    "# Initialize W&B immediately before training\n",
    "if wandb_log: \n",
    "    wandb.init(\n",
    "        project=\"conditional-gan-mnist\",\n",
    "        name=f\"run_{epochs}_epochs\",\n",
    "        settings=wandb.Settings(start_method=\"thread\"),\n",
    "        config={\n",
    "            \"batch_size\": mb_size,\n",
    "            \"Z_dim\": Z_dim,\n",
    "            \"X_dim\": X_dim,\n",
    "            \"h_dim\": h_dim,\n",
    "            \"lr\": lr,\n",
    "            \"epochs\": epochs,\n",
    "            \"start_epoch\": 0,\n",
    "            \"end_epoch\": epochs - 1\n",
    "        }\n",
    "    )\n",
    "\n",
    "# Train loop\n",
    "for epoch in range(epochs):\n",
    "    G, D, G_loss_avg, D_loss_avg = cGANTraining(G, D, loss_fn, train_loader)\n",
    "\n",
    "    print(f'epoch {epoch}; D_loss: {D_loss_avg:.4f}; G_loss: {G_loss_avg:.4f}')\n",
    "\n",
    "    if wandb_log:\n",
    "        wandb.log({\n",
    "            \"epoch\": epoch,\n",
    "            \"D_loss\": D_loss_avg,\n",
    "            \"G_loss\": G_loss_avg\n",
    "        })\n",
    "\n",
    "    if G_loss_avg < best_g_loss:\n",
    "        best_g_loss = G_loss_avg\n",
    "        torch.save(G.state_dict(), os.path.join(save_dir, 'G_best.pth'))\n",
    "        torch.save(D.state_dict(), os.path.join(save_dir, 'D_best.pth'))\n",
    "        print(f\"Saved Best Models at epoch {epoch} | G_loss: {best_g_loss:.4f}\")\n",
    "\n",
    "    save_sample(G, epoch, mb_size, Z_dim)\n",
    "\n",
    "# Final log and run closure\n",
    "if wandb_log:\n",
    "    wandb.config.update({\"final_epoch\": epoch})  # saved in config metadata\n",
    "    wandb.finish()"
   ]
  },
  {
   "cell_type": "code",
   "execution_count": 269,
   "id": "ef31d822-5db0-4d6f-a3ff-3ffe323d008d",
   "metadata": {},
   "outputs": [],
   "source": [
    "# Inference / sampling from the best‐saved G\n",
    "\n",
    "# 1) Re‐create the Generator and move to the same device\n",
    "G_infer = Generator(Z_dim, h_dim, X_dim).to(device)\n",
    "\n",
    "# 2) Load the weights from the best checkpoint\n",
    "checkpoint = torch.load('checkpoints/G_best.pth', map_location=device, weights_only=True)\n",
    "G_infer.load_state_dict(checkpoint)\n",
    "\n",
    "# 3) Set to evaluation mode\n",
    "G_infer.eval()\n",
    "\n",
    "# 4) Generate and save a sample grid (this will create out_vanila_GAN2/best.png)\n",
    "save_sample(G_infer, \"best_5_epoch_log\", mb_size, Z_dim)\n",
    "\n",
    "# 5) Clean previous best models\n",
    "for f in glob.glob(os.path.join(save_dir, \"G_best_epoch*.pth\")):\n",
    "    os.remove(f)\n"
   ]
  },
  {
   "cell_type": "code",
   "execution_count": 270,
   "id": "e92aa777-9193-47b4-b9bd-52dc8833ad72",
   "metadata": {},
   "outputs": [
    {
     "data": {
      "image/png": "[encoded data removed]",
      "text/plain": [
       "<IPython.core.display.Image object>"
      ]
     },
     "metadata": {},
     "output_type": "display_data"
    }
   ],
   "source": [
    "display(Image(\"best_5_epoch_log.png\"))"
   ]
  },
  {
   "cell_type": "code",
   "execution_count": 274,
   "id": "ff2c2aeb-35a9-43ce-b953-9283245ec89e",
   "metadata": {},
   "outputs": [
    {
     "data": {
      "text/html": [
       "Tracking run with wandb version 0.19.9"
      ],
      "text/plain": [
       "<IPython.core.display.HTML object>"
      ]
     },
     "metadata": {},
     "output_type": "display_data"
    },
    {
     "data": {
      "text/html": [
       "Run data is saved locally in <code>/Lab_2/wandb/run-20250421_161708-xhdjonxb</code>"
      ],
      "text/plain": [
       "<IPython.core.display.HTML object>"
      ]
     },
     "metadata": {},
     "output_type": "display_data"
    },
    {
     "data": {
      "text/html": [
       "Syncing run <strong><a href='https://wandb.ai/natalia-timokhova-v-lule-university-of-technology/conditional-gan-mnist/runs/xhdjonxb' target=\"_blank\">run_10_epochs</a></strong> to <a href='https://wandb.ai/natalia-timokhova-v-lule-university-of-technology/conditional-gan-mnist' target=\"_blank\">Weights & Biases</a> (<a href='https://wandb.me/developer-guide' target=\"_blank\">docs</a>)<br>"
      ],
      "text/plain": [
       "<IPython.core.display.HTML object>"
      ]
     },
     "metadata": {},
     "output_type": "display_data"
    },
    {
     "data": {
      "text/html": [
       " View project at <a href='https://wandb.ai/natalia-timokhova-v-lule-university-of-technology/conditional-gan-mnist' target=\"_blank\">https://wandb.ai/natalia-timokhova-v-lule-university-of-technology/conditional-gan-mnist</a>"
      ],
      "text/plain": [
       "<IPython.core.display.HTML object>"
      ]
     },
     "metadata": {},
     "output_type": "display_data"
    },
    {
     "data": {
      "text/html": [
       " View run at <a href='https://wandb.ai/natalia-timokhova-v-lule-university-of-technology/conditional-gan-mnist/runs/xhdjonxb' target=\"_blank\">https://wandb.ai/natalia-timokhova-v-lule-university-of-technology/conditional-gan-mnist/runs/xhdjonxb</a>"
      ],
      "text/plain": [
       "<IPython.core.display.HTML object>"
      ]
     },
     "metadata": {},
     "output_type": "display_data"
    },
    {
     "name": "stderr",
     "output_type": "stream",
     "text": [
      "100%|██████████| 938/938 [00:13<00:00, 69.90it/s]\n"
     ]
    },
    {
     "name": "stdout",
     "output_type": "stream",
     "text": [
      "epoch 0; D_loss: 0.0705; G_loss: 6.6021\n",
      "Saved Best Models at epoch 0 | G_loss: 6.6021\n"
     ]
    },
    {
     "name": "stderr",
     "output_type": "stream",
     "text": [
      "100%|██████████| 938/938 [00:13<00:00, 69.75it/s]\n"
     ]
    },
    {
     "name": "stdout",
     "output_type": "stream",
     "text": [
      "epoch 1; D_loss: 0.0377; G_loss: 6.4047\n",
      "Saved Best Models at epoch 1 | G_loss: 6.4047\n"
     ]
    },
    {
     "name": "stderr",
     "output_type": "stream",
     "text": [
      "100%|██████████| 938/938 [00:13<00:00, 69.43it/s]\n"
     ]
    },
    {
     "name": "stdout",
     "output_type": "stream",
     "text": [
      "epoch 2; D_loss: 0.0661; G_loss: 4.8763\n",
      "Saved Best Models at epoch 2 | G_loss: 4.8763\n"
     ]
    },
    {
     "name": "stderr",
     "output_type": "stream",
     "text": [
      "100%|██████████| 938/938 [00:13<00:00, 68.70it/s]\n"
     ]
    },
    {
     "name": "stdout",
     "output_type": "stream",
     "text": [
      "epoch 3; D_loss: 0.1142; G_loss: 5.9590\n"
     ]
    },
    {
     "name": "stderr",
     "output_type": "stream",
     "text": [
      "100%|██████████| 938/938 [00:13<00:00, 69.22it/s]\n"
     ]
    },
    {
     "name": "stdout",
     "output_type": "stream",
     "text": [
      "epoch 4; D_loss: 0.2121; G_loss: 4.9313\n"
     ]
    },
    {
     "name": "stderr",
     "output_type": "stream",
     "text": [
      "100%|██████████| 938/938 [00:13<00:00, 69.49it/s]\n"
     ]
    },
    {
     "name": "stdout",
     "output_type": "stream",
     "text": [
      "epoch 5; D_loss: 0.2878; G_loss: 4.4987\n",
      "Saved Best Models at epoch 5 | G_loss: 4.4987\n"
     ]
    },
    {
     "name": "stderr",
     "output_type": "stream",
     "text": [
      "100%|██████████| 938/938 [00:11<00:00, 79.19it/s] \n"
     ]
    },
    {
     "name": "stdout",
     "output_type": "stream",
     "text": [
      "epoch 6; D_loss: 0.3831; G_loss: 3.6229\n",
      "Saved Best Models at epoch 6 | G_loss: 3.6229\n"
     ]
    },
    {
     "name": "stderr",
     "output_type": "stream",
     "text": [
      "100%|██████████| 938/938 [00:13<00:00, 72.12it/s] \n"
     ]
    },
    {
     "name": "stdout",
     "output_type": "stream",
     "text": [
      "epoch 7; D_loss: 0.4520; G_loss: 3.3634\n",
      "Saved Best Models at epoch 7 | G_loss: 3.3634\n"
     ]
    },
    {
     "name": "stderr",
     "output_type": "stream",
     "text": [
      "100%|██████████| 938/938 [00:13<00:00, 68.55it/s]\n"
     ]
    },
    {
     "name": "stdout",
     "output_type": "stream",
     "text": [
      "epoch 8; D_loss: 0.5255; G_loss: 3.2161\n",
      "Saved Best Models at epoch 8 | G_loss: 3.2161\n"
     ]
    },
    {
     "name": "stderr",
     "output_type": "stream",
     "text": [
      "100%|██████████| 938/938 [00:11<00:00, 84.46it/s] \n"
     ]
    },
    {
     "name": "stdout",
     "output_type": "stream",
     "text": [
      "epoch 9; D_loss: 0.5661; G_loss: 3.0648\n",
      "Saved Best Models at epoch 9 | G_loss: 3.0648\n"
     ]
    },
    {
     "data": {
      "text/html": [],
      "text/plain": [
       "<IPython.core.display.HTML object>"
      ]
     },
     "metadata": {},
     "output_type": "display_data"
    },
    {
     "data": {
      "text/html": [
       "<br>    <style><br>        .wandb-row {<br>            display: flex;<br>            flex-direction: row;<br>            flex-wrap: wrap;<br>            justify-content: flex-start;<br>            width: 100%;<br>        }<br>        .wandb-col {<br>            display: flex;<br>            flex-direction: column;<br>            flex-basis: 100%;<br>            flex: 1;<br>            padding: 10px;<br>        }<br>    </style><br><div class=\"wandb-row\"><div class=\"wandb-col\"><h3>Run history:</h3><br/><table class=\"wandb\"><tr><td>D_loss</td><td>▁▁▁▂▃▄▆▆▇█</td></tr><tr><td>G_loss</td><td>██▅▇▅▄▂▂▁▁</td></tr><tr><td>epoch</td><td>▁▂▃▃▄▅▆▆▇█</td></tr></table><br/></div><div class=\"wandb-col\"><h3>Run summary:</h3><br/><table class=\"wandb\"><tr><td>D_loss</td><td>0.56612</td></tr><tr><td>G_loss</td><td>3.06479</td></tr><tr><td>epoch</td><td>9</td></tr></table><br/></div></div>"
      ],
      "text/plain": [
       "<IPython.core.display.HTML object>"
      ]
     },
     "metadata": {},
     "output_type": "display_data"
    },
    {
     "data": {
      "text/html": [
       " View run <strong style=\"color:#cdcd00\">run_10_epochs</strong> at: <a href='https://wandb.ai/natalia-timokhova-v-lule-university-of-technology/conditional-gan-mnist/runs/xhdjonxb' target=\"_blank\">https://wandb.ai/natalia-timokhova-v-lule-university-of-technology/conditional-gan-mnist/runs/xhdjonxb</a><br> View project at: <a href='https://wandb.ai/natalia-timokhova-v-lule-university-of-technology/conditional-gan-mnist' target=\"_blank\">https://wandb.ai/natalia-timokhova-v-lule-university-of-technology/conditional-gan-mnist</a><br>Synced 5 W&B file(s), 0 media file(s), 0 artifact file(s) and 0 other file(s)"
      ],
      "text/plain": [
       "<IPython.core.display.HTML object>"
      ]
     },
     "metadata": {},
     "output_type": "display_data"
    },
    {
     "data": {
      "text/html": [
       "Find logs at: <code>./wandb/run-20250421_161708-xhdjonxb/logs</code>"
      ],
      "text/plain": [
       "<IPython.core.display.HTML object>"
      ]
     },
     "metadata": {},
     "output_type": "display_data"
    }
   ],
   "source": [
    "########################### 10 epochs #######################################\n",
    "wandb_log = True\n",
    "device = torch.device(\"cuda:0\" if torch.cuda.is_available() else \"cpu\")\n",
    "\n",
    "# Number of epochs (change only here)\n",
    "epochs = 10\n",
    "\n",
    "# Instantiate models\n",
    "G = Generator(Z_dim, h_dim, X_dim).to(device)\n",
    "D = Discriminator(X_dim, h_dim).to(device)\n",
    "\n",
    "# Optimizers\n",
    "G_solver = optim.Adam(G.parameters(), lr=lr)\n",
    "D_solver = optim.Adam(D.parameters(), lr=lr)\n",
    "\n",
    "# Loss function\n",
    "\n",
    "#def my_bce_loss(preds, targets):\n",
    "#    return F.binary_cross_entropy(preds, targets)\n",
    "# loss_fn = my_bce_loss                               # Before change\n",
    "\n",
    "# Binary Cross Entropy loss function \n",
    "loss_fn = nn.BCEWithLogitsLoss()                      # After change. Includes Sigmoid by itself\n",
    "\n",
    "\n",
    "best_g_loss = float('inf')  # Initialize best generator loss\n",
    "save_dir = 'checkpoints'\n",
    "os.makedirs(save_dir, exist_ok=True)\n",
    "\n",
    "# Initialize W&B immediately before training\n",
    "if wandb_log: \n",
    "    wandb.init(\n",
    "        project=\"conditional-gan-mnist\",\n",
    "        name=f\"run_{epochs}_epochs\",\n",
    "        settings=wandb.Settings(start_method=\"thread\"),\n",
    "        config={\n",
    "            \"batch_size\": mb_size,\n",
    "            \"Z_dim\": Z_dim,\n",
    "            \"X_dim\": X_dim,\n",
    "            \"h_dim\": h_dim,\n",
    "            \"lr\": lr,\n",
    "            \"epochs\": epochs,\n",
    "            \"start_epoch\": 0,\n",
    "            \"end_epoch\": epochs - 1\n",
    "        }\n",
    "    )\n",
    "\n",
    "# Train loop\n",
    "for epoch in range(epochs):\n",
    "    G, D, G_loss_avg, D_loss_avg = cGANTraining(G, D, loss_fn, train_loader)\n",
    "\n",
    "    print(f'epoch {epoch}; D_loss: {D_loss_avg:.4f}; G_loss: {G_loss_avg:.4f}')\n",
    "\n",
    "    if wandb_log:\n",
    "        wandb.log({\n",
    "            \"epoch\": epoch,\n",
    "            \"D_loss\": D_loss_avg,\n",
    "            \"G_loss\": G_loss_avg\n",
    "        })\n",
    "\n",
    "    if G_loss_avg < best_g_loss:\n",
    "        best_g_loss = G_loss_avg\n",
    "        torch.save(G.state_dict(), os.path.join(save_dir, 'G_best.pth'))\n",
    "        torch.save(D.state_dict(), os.path.join(save_dir, 'D_best.pth'))\n",
    "        print(f\"Saved Best Models at epoch {epoch} | G_loss: {best_g_loss:.4f}\")\n",
    "\n",
    "    save_sample(G, epoch, mb_size, Z_dim)\n",
    "\n",
    "# Final log and run closure\n",
    "if wandb_log:\n",
    "    wandb.config.update({\"final_epoch\": epoch})  # saved in config metadata\n",
    "    wandb.finish()"
   ]
  },
  {
   "cell_type": "code",
   "execution_count": 275,
   "id": "d30e8f2f-bc0a-4655-80c4-36678b8b8350",
   "metadata": {},
   "outputs": [],
   "source": [
    "# Inference / sampling from the best‐saved G\n",
    "\n",
    "# 1) Re‐create the Generator and move to the same device\n",
    "G_infer = Generator(Z_dim, h_dim, X_dim).to(device)\n",
    "\n",
    "# 2) Load the weights from the best checkpoint\n",
    "checkpoint = torch.load('checkpoints/G_best.pth', map_location=device, weights_only=True)\n",
    "G_infer.load_state_dict(checkpoint)\n",
    "\n",
    "# 3) Set to evaluation mode\n",
    "G_infer.eval()\n",
    "\n",
    "# 4) Generate and save a sample grid (this will create out_vanila_GAN2/best.png)\n",
    "save_sample(G_infer, \"best_10_epoch_log\", mb_size, Z_dim)\n",
    "\n",
    "# 5) Clean previous best models\n",
    "for f in glob.glob(os.path.join(save_dir, \"G_best_epoch*.pth\")):\n",
    "    os.remove(f)\n"
   ]
  },
  {
   "cell_type": "code",
   "execution_count": 276,
   "id": "0c6f9d01-6d68-4a08-991f-6cab58b7f6aa",
   "metadata": {},
   "outputs": [
    {
     "data": {
      "image/png": "[encoded data removed]",
      "text/plain": [
       "<IPython.core.display.Image object>"
      ]
     },
     "metadata": {},
     "output_type": "display_data"
    }
   ],
   "source": [
    "display(Image(\"best_10_epoch_log.png\"))"
   ]
  },
  {
   "cell_type": "code",
   "execution_count": 280,
   "id": "824d1f47-9d44-4b66-be1c-95861a7edb90",
   "metadata": {},
   "outputs": [
    {
     "data": {
      "text/html": [
       "Tracking run with wandb version 0.19.9"
      ],
      "text/plain": [
       "<IPython.core.display.HTML object>"
      ]
     },
     "metadata": {},
     "output_type": "display_data"
    },
    {
     "data": {
      "text/html": [
       "Run data is saved locally in <code>/Lab_2/wandb/run-20250421_162212-0y8ncr4l</code>"
      ],
      "text/plain": [
       "<IPython.core.display.HTML object>"
      ]
     },
     "metadata": {},
     "output_type": "display_data"
    },
    {
     "data": {
      "text/html": [
       "Syncing run <strong><a href='https://wandb.ai/natalia-timokhova-v-lule-university-of-technology/conditional-gan-mnist/runs/0y8ncr4l' target=\"_blank\">run_50_epochs</a></strong> to <a href='https://wandb.ai/natalia-timokhova-v-lule-university-of-technology/conditional-gan-mnist' target=\"_blank\">Weights & Biases</a> (<a href='https://wandb.me/developer-guide' target=\"_blank\">docs</a>)<br>"
      ],
      "text/plain": [
       "<IPython.core.display.HTML object>"
      ]
     },
     "metadata": {},
     "output_type": "display_data"
    },
    {
     "data": {
      "text/html": [
       " View project at <a href='https://wandb.ai/natalia-timokhova-v-lule-university-of-technology/conditional-gan-mnist' target=\"_blank\">https://wandb.ai/natalia-timokhova-v-lule-university-of-technology/conditional-gan-mnist</a>"
      ],
      "text/plain": [
       "<IPython.core.display.HTML object>"
      ]
     },
     "metadata": {},
     "output_type": "display_data"
    },
    {
     "data": {
      "text/html": [
       " View run at <a href='https://wandb.ai/natalia-timokhova-v-lule-university-of-technology/conditional-gan-mnist/runs/0y8ncr4l' target=\"_blank\">https://wandb.ai/natalia-timokhova-v-lule-university-of-technology/conditional-gan-mnist/runs/0y8ncr4l</a>"
      ],
      "text/plain": [
       "<IPython.core.display.HTML object>"
      ]
     },
     "metadata": {},
     "output_type": "display_data"
    },
    {
     "name": "stderr",
     "output_type": "stream",
     "text": [
      "100%|██████████| 938/938 [00:11<00:00, 80.27it/s] \n"
     ]
    },
    {
     "name": "stdout",
     "output_type": "stream",
     "text": [
      "epoch 0; D_loss: 0.0801; G_loss: 6.1297\n",
      "Saved Best Models at epoch 0 | G_loss: 6.1297\n"
     ]
    },
    {
     "name": "stderr",
     "output_type": "stream",
     "text": [
      "100%|██████████| 938/938 [00:13<00:00, 71.63it/s]\n"
     ]
    },
    {
     "name": "stdout",
     "output_type": "stream",
     "text": [
      "epoch 1; D_loss: 0.0287; G_loss: 6.4285\n"
     ]
    },
    {
     "name": "stderr",
     "output_type": "stream",
     "text": [
      "100%|██████████| 938/938 [00:13<00:00, 71.70it/s]\n"
     ]
    },
    {
     "name": "stdout",
     "output_type": "stream",
     "text": [
      "epoch 2; D_loss: 0.0396; G_loss: 5.3213\n",
      "Saved Best Models at epoch 2 | G_loss: 5.3213\n"
     ]
    },
    {
     "name": "stderr",
     "output_type": "stream",
     "text": [
      "100%|██████████| 938/938 [00:13<00:00, 71.48it/s]\n"
     ]
    },
    {
     "name": "stdout",
     "output_type": "stream",
     "text": [
      "epoch 3; D_loss: 0.0634; G_loss: 6.1338\n"
     ]
    },
    {
     "name": "stderr",
     "output_type": "stream",
     "text": [
      "100%|██████████| 938/938 [00:10<00:00, 90.35it/s] \n"
     ]
    },
    {
     "name": "stdout",
     "output_type": "stream",
     "text": [
      "epoch 4; D_loss: 0.1297; G_loss: 5.4396\n"
     ]
    },
    {
     "name": "stderr",
     "output_type": "stream",
     "text": [
      "100%|██████████| 938/938 [00:09<00:00, 103.53it/s]\n"
     ]
    },
    {
     "name": "stdout",
     "output_type": "stream",
     "text": [
      "epoch 5; D_loss: 0.2318; G_loss: 4.7302\n",
      "Saved Best Models at epoch 5 | G_loss: 4.7302\n"
     ]
    },
    {
     "name": "stderr",
     "output_type": "stream",
     "text": [
      "100%|██████████| 938/938 [00:11<00:00, 79.54it/s] \n"
     ]
    },
    {
     "name": "stdout",
     "output_type": "stream",
     "text": [
      "epoch 6; D_loss: 0.3628; G_loss: 4.0850\n",
      "Saved Best Models at epoch 6 | G_loss: 4.0850\n"
     ]
    },
    {
     "name": "stderr",
     "output_type": "stream",
     "text": [
      "100%|██████████| 938/938 [00:11<00:00, 79.35it/s] \n"
     ]
    },
    {
     "name": "stdout",
     "output_type": "stream",
     "text": [
      "epoch 7; D_loss: 0.4701; G_loss: 3.6352\n",
      "Saved Best Models at epoch 7 | G_loss: 3.6352\n"
     ]
    },
    {
     "name": "stderr",
     "output_type": "stream",
     "text": [
      "100%|██████████| 938/938 [00:13<00:00, 68.52it/s]\n"
     ]
    },
    {
     "name": "stdout",
     "output_type": "stream",
     "text": [
      "epoch 8; D_loss: 0.5450; G_loss: 2.9766\n",
      "Saved Best Models at epoch 8 | G_loss: 2.9766\n"
     ]
    },
    {
     "name": "stderr",
     "output_type": "stream",
     "text": [
      "100%|██████████| 938/938 [00:13<00:00, 69.14it/s]\n"
     ]
    },
    {
     "name": "stdout",
     "output_type": "stream",
     "text": [
      "epoch 9; D_loss: 0.5805; G_loss: 2.7689\n",
      "Saved Best Models at epoch 9 | G_loss: 2.7689\n"
     ]
    },
    {
     "name": "stderr",
     "output_type": "stream",
     "text": [
      "100%|██████████| 938/938 [00:13<00:00, 70.69it/s]\n"
     ]
    },
    {
     "name": "stdout",
     "output_type": "stream",
     "text": [
      "epoch 10; D_loss: 0.6001; G_loss: 2.6890\n",
      "Saved Best Models at epoch 10 | G_loss: 2.6890\n"
     ]
    },
    {
     "name": "stderr",
     "output_type": "stream",
     "text": [
      "100%|██████████| 938/938 [00:13<00:00, 70.14it/s]\n"
     ]
    },
    {
     "name": "stdout",
     "output_type": "stream",
     "text": [
      "epoch 11; D_loss: 0.6291; G_loss: 2.5780\n",
      "Saved Best Models at epoch 11 | G_loss: 2.5780\n"
     ]
    },
    {
     "name": "stderr",
     "output_type": "stream",
     "text": [
      "100%|██████████| 938/938 [00:13<00:00, 69.20it/s]\n"
     ]
    },
    {
     "name": "stdout",
     "output_type": "stream",
     "text": [
      "epoch 12; D_loss: 0.6260; G_loss: 2.5255\n",
      "Saved Best Models at epoch 12 | G_loss: 2.5255\n"
     ]
    },
    {
     "name": "stderr",
     "output_type": "stream",
     "text": [
      "100%|██████████| 938/938 [00:13<00:00, 70.02it/s]\n"
     ]
    },
    {
     "name": "stdout",
     "output_type": "stream",
     "text": [
      "epoch 13; D_loss: 0.6433; G_loss: 2.3543\n",
      "Saved Best Models at epoch 13 | G_loss: 2.3543\n"
     ]
    },
    {
     "name": "stderr",
     "output_type": "stream",
     "text": [
      "100%|██████████| 938/938 [00:13<00:00, 69.53it/s]\n"
     ]
    },
    {
     "name": "stdout",
     "output_type": "stream",
     "text": [
      "epoch 14; D_loss: 0.6617; G_loss: 2.3475\n",
      "Saved Best Models at epoch 14 | G_loss: 2.3475\n"
     ]
    },
    {
     "name": "stderr",
     "output_type": "stream",
     "text": [
      "100%|██████████| 938/938 [00:10<00:00, 87.98it/s] \n"
     ]
    },
    {
     "name": "stdout",
     "output_type": "stream",
     "text": [
      "epoch 15; D_loss: 0.6658; G_loss: 2.2909\n",
      "Saved Best Models at epoch 15 | G_loss: 2.2909\n"
     ]
    },
    {
     "name": "stderr",
     "output_type": "stream",
     "text": [
      "100%|██████████| 938/938 [00:09<00:00, 99.73it/s] \n"
     ]
    },
    {
     "name": "stdout",
     "output_type": "stream",
     "text": [
      "epoch 16; D_loss: 0.6726; G_loss: 2.2688\n",
      "Saved Best Models at epoch 16 | G_loss: 2.2688\n"
     ]
    },
    {
     "name": "stderr",
     "output_type": "stream",
     "text": [
      "100%|██████████| 938/938 [00:09<00:00, 94.81it/s] \n"
     ]
    },
    {
     "name": "stdout",
     "output_type": "stream",
     "text": [
      "epoch 17; D_loss: 0.6761; G_loss: 2.2382\n",
      "Saved Best Models at epoch 17 | G_loss: 2.2382\n"
     ]
    },
    {
     "name": "stderr",
     "output_type": "stream",
     "text": [
      "100%|██████████| 938/938 [00:13<00:00, 69.99it/s]\n"
     ]
    },
    {
     "name": "stdout",
     "output_type": "stream",
     "text": [
      "epoch 18; D_loss: 0.6792; G_loss: 2.2252\n",
      "Saved Best Models at epoch 18 | G_loss: 2.2252\n"
     ]
    },
    {
     "name": "stderr",
     "output_type": "stream",
     "text": [
      "100%|██████████| 938/938 [00:13<00:00, 69.09it/s]\n"
     ]
    },
    {
     "name": "stdout",
     "output_type": "stream",
     "text": [
      "epoch 19; D_loss: 0.6788; G_loss: 2.2586\n"
     ]
    },
    {
     "name": "stderr",
     "output_type": "stream",
     "text": [
      "100%|██████████| 938/938 [00:13<00:00, 69.96it/s]\n"
     ]
    },
    {
     "name": "stdout",
     "output_type": "stream",
     "text": [
      "epoch 20; D_loss: 0.6702; G_loss: 2.2447\n"
     ]
    },
    {
     "name": "stderr",
     "output_type": "stream",
     "text": [
      "100%|██████████| 938/938 [00:13<00:00, 69.71it/s]\n"
     ]
    },
    {
     "name": "stdout",
     "output_type": "stream",
     "text": [
      "epoch 21; D_loss: 0.6726; G_loss: 2.2680\n"
     ]
    },
    {
     "name": "stderr",
     "output_type": "stream",
     "text": [
      "100%|██████████| 938/938 [00:13<00:00, 68.74it/s]\n"
     ]
    },
    {
     "name": "stdout",
     "output_type": "stream",
     "text": [
      "epoch 22; D_loss: 0.6592; G_loss: 2.2858\n"
     ]
    },
    {
     "name": "stderr",
     "output_type": "stream",
     "text": [
      "100%|██████████| 938/938 [00:13<00:00, 70.16it/s]\n"
     ]
    },
    {
     "name": "stdout",
     "output_type": "stream",
     "text": [
      "epoch 23; D_loss: 0.6415; G_loss: 2.3395\n"
     ]
    },
    {
     "name": "stderr",
     "output_type": "stream",
     "text": [
      "100%|██████████| 938/938 [00:13<00:00, 71.15it/s]\n"
     ]
    },
    {
     "name": "stdout",
     "output_type": "stream",
     "text": [
      "epoch 24; D_loss: 0.6367; G_loss: 2.3796\n"
     ]
    },
    {
     "name": "stderr",
     "output_type": "stream",
     "text": [
      "100%|██████████| 938/938 [00:13<00:00, 70.58it/s]\n"
     ]
    },
    {
     "name": "stdout",
     "output_type": "stream",
     "text": [
      "epoch 25; D_loss: 0.6414; G_loss: 2.4140\n"
     ]
    },
    {
     "name": "stderr",
     "output_type": "stream",
     "text": [
      "100%|██████████| 938/938 [00:10<00:00, 91.85it/s] \n"
     ]
    },
    {
     "name": "stdout",
     "output_type": "stream",
     "text": [
      "epoch 26; D_loss: 0.6361; G_loss: 2.4453\n"
     ]
    },
    {
     "name": "stderr",
     "output_type": "stream",
     "text": [
      "100%|██████████| 938/938 [00:13<00:00, 71.13it/s]\n"
     ]
    },
    {
     "name": "stdout",
     "output_type": "stream",
     "text": [
      "epoch 27; D_loss: 0.6392; G_loss: 2.4936\n"
     ]
    },
    {
     "name": "stderr",
     "output_type": "stream",
     "text": [
      "100%|██████████| 938/938 [00:13<00:00, 69.67it/s]\n"
     ]
    },
    {
     "name": "stdout",
     "output_type": "stream",
     "text": [
      "epoch 28; D_loss: 0.6340; G_loss: 2.5164\n"
     ]
    },
    {
     "name": "stderr",
     "output_type": "stream",
     "text": [
      "100%|██████████| 938/938 [00:10<00:00, 91.78it/s] \n"
     ]
    },
    {
     "name": "stdout",
     "output_type": "stream",
     "text": [
      "epoch 29; D_loss: 0.6359; G_loss: 2.5610\n"
     ]
    },
    {
     "name": "stderr",
     "output_type": "stream",
     "text": [
      "100%|██████████| 938/938 [00:13<00:00, 69.52it/s]\n"
     ]
    },
    {
     "name": "stdout",
     "output_type": "stream",
     "text": [
      "epoch 30; D_loss: 0.6399; G_loss: 2.5156\n"
     ]
    },
    {
     "name": "stderr",
     "output_type": "stream",
     "text": [
      "100%|██████████| 938/938 [00:09<00:00, 104.00it/s]\n"
     ]
    },
    {
     "name": "stdout",
     "output_type": "stream",
     "text": [
      "epoch 31; D_loss: 0.6370; G_loss: 2.5607\n"
     ]
    },
    {
     "name": "stderr",
     "output_type": "stream",
     "text": [
      "100%|██████████| 938/938 [00:13<00:00, 70.11it/s]\n"
     ]
    },
    {
     "name": "stdout",
     "output_type": "stream",
     "text": [
      "epoch 32; D_loss: 0.6319; G_loss: 2.5698\n"
     ]
    },
    {
     "name": "stderr",
     "output_type": "stream",
     "text": [
      "100%|██████████| 938/938 [00:13<00:00, 69.30it/s]\n"
     ]
    },
    {
     "name": "stdout",
     "output_type": "stream",
     "text": [
      "epoch 33; D_loss: 0.6222; G_loss: 2.5830\n"
     ]
    },
    {
     "name": "stderr",
     "output_type": "stream",
     "text": [
      "100%|██████████| 938/938 [00:13<00:00, 69.60it/s]\n"
     ]
    },
    {
     "name": "stdout",
     "output_type": "stream",
     "text": [
      "epoch 34; D_loss: 0.6108; G_loss: 2.6268\n"
     ]
    },
    {
     "name": "stderr",
     "output_type": "stream",
     "text": [
      "100%|██████████| 938/938 [00:13<00:00, 69.53it/s]\n"
     ]
    },
    {
     "name": "stdout",
     "output_type": "stream",
     "text": [
      "epoch 35; D_loss: 0.6158; G_loss: 2.6148\n"
     ]
    },
    {
     "name": "stderr",
     "output_type": "stream",
     "text": [
      "100%|██████████| 938/938 [00:13<00:00, 70.35it/s]\n"
     ]
    },
    {
     "name": "stdout",
     "output_type": "stream",
     "text": [
      "epoch 36; D_loss: 0.6089; G_loss: 2.6551\n"
     ]
    },
    {
     "name": "stderr",
     "output_type": "stream",
     "text": [
      "100%|██████████| 938/938 [00:13<00:00, 69.74it/s]\n"
     ]
    },
    {
     "name": "stdout",
     "output_type": "stream",
     "text": [
      "epoch 37; D_loss: 0.5954; G_loss: 2.6864\n"
     ]
    },
    {
     "name": "stderr",
     "output_type": "stream",
     "text": [
      "100%|██████████| 938/938 [00:13<00:00, 69.30it/s]\n"
     ]
    },
    {
     "name": "stdout",
     "output_type": "stream",
     "text": [
      "epoch 38; D_loss: 0.5889; G_loss: 2.6836\n"
     ]
    },
    {
     "name": "stderr",
     "output_type": "stream",
     "text": [
      "100%|██████████| 938/938 [00:12<00:00, 72.19it/s] \n"
     ]
    },
    {
     "name": "stdout",
     "output_type": "stream",
     "text": [
      "epoch 39; D_loss: 0.5867; G_loss: 2.7316\n"
     ]
    },
    {
     "name": "stderr",
     "output_type": "stream",
     "text": [
      "100%|██████████| 938/938 [00:13<00:00, 69.22it/s]\n"
     ]
    },
    {
     "name": "stdout",
     "output_type": "stream",
     "text": [
      "epoch 40; D_loss: 0.5808; G_loss: 2.7682\n"
     ]
    },
    {
     "name": "stderr",
     "output_type": "stream",
     "text": [
      "100%|██████████| 938/938 [00:13<00:00, 69.84it/s]\n"
     ]
    },
    {
     "name": "stdout",
     "output_type": "stream",
     "text": [
      "epoch 41; D_loss: 0.5710; G_loss: 2.8172\n"
     ]
    },
    {
     "name": "stderr",
     "output_type": "stream",
     "text": [
      "100%|██████████| 938/938 [00:13<00:00, 69.80it/s]\n"
     ]
    },
    {
     "name": "stdout",
     "output_type": "stream",
     "text": [
      "epoch 42; D_loss: 0.5709; G_loss: 2.7999\n"
     ]
    },
    {
     "name": "stderr",
     "output_type": "stream",
     "text": [
      "100%|██████████| 938/938 [00:13<00:00, 69.54it/s]\n"
     ]
    },
    {
     "name": "stdout",
     "output_type": "stream",
     "text": [
      "epoch 43; D_loss: 0.5644; G_loss: 2.7792\n"
     ]
    },
    {
     "name": "stderr",
     "output_type": "stream",
     "text": [
      "100%|██████████| 938/938 [00:13<00:00, 69.73it/s]\n"
     ]
    },
    {
     "name": "stdout",
     "output_type": "stream",
     "text": [
      "epoch 44; D_loss: 0.5586; G_loss: 2.8180\n"
     ]
    },
    {
     "name": "stderr",
     "output_type": "stream",
     "text": [
      "100%|██████████| 938/938 [00:13<00:00, 69.57it/s]\n"
     ]
    },
    {
     "name": "stdout",
     "output_type": "stream",
     "text": [
      "epoch 45; D_loss: 0.5505; G_loss: 2.8043\n"
     ]
    },
    {
     "name": "stderr",
     "output_type": "stream",
     "text": [
      "100%|██████████| 938/938 [00:13<00:00, 70.03it/s]\n"
     ]
    },
    {
     "name": "stdout",
     "output_type": "stream",
     "text": [
      "epoch 46; D_loss: 0.5444; G_loss: 2.8249\n"
     ]
    },
    {
     "name": "stderr",
     "output_type": "stream",
     "text": [
      "100%|██████████| 938/938 [00:13<00:00, 68.81it/s]\n"
     ]
    },
    {
     "name": "stdout",
     "output_type": "stream",
     "text": [
      "epoch 47; D_loss: 0.5408; G_loss: 2.8133\n"
     ]
    },
    {
     "name": "stderr",
     "output_type": "stream",
     "text": [
      "100%|██████████| 938/938 [00:13<00:00, 69.92it/s]\n"
     ]
    },
    {
     "name": "stdout",
     "output_type": "stream",
     "text": [
      "epoch 48; D_loss: 0.5423; G_loss: 2.8162\n"
     ]
    },
    {
     "name": "stderr",
     "output_type": "stream",
     "text": [
      "100%|██████████| 938/938 [00:13<00:00, 69.25it/s]\n"
     ]
    },
    {
     "name": "stdout",
     "output_type": "stream",
     "text": [
      "epoch 49; D_loss: 0.5390; G_loss: 2.8421\n"
     ]
    },
    {
     "data": {
      "text/html": [],
      "text/plain": [
       "<IPython.core.display.HTML object>"
      ]
     },
     "metadata": {},
     "output_type": "display_data"
    },
    {
     "data": {
      "text/html": [
       "<br>    <style><br>        .wandb-row {<br>            display: flex;<br>            flex-direction: row;<br>            flex-wrap: wrap;<br>            justify-content: flex-start;<br>            width: 100%;<br>        }<br>        .wandb-col {<br>            display: flex;<br>            flex-direction: column;<br>            flex-basis: 100%;<br>            flex: 1;<br>            padding: 10px;<br>        }<br>    </style><br><div class=\"wandb-row\"><div class=\"wandb-col\"><h3>Run history:</h3><br/><table class=\"wandb\"><tr><td>D_loss</td><td>▂▁▁▁▂▅▆▇▇▇███████████████▇▇▇▇▇▇▇▇▇▇▇▇▇▇▆</td></tr><tr><td>G_loss</td><td>██▆█▆▄▂▂▂▂▁▁▁▁▁▁▁▁▁▁▁▁▁▂▁▂▂▂▂▂▂▂▂▂▂▂▂▂▂▂</td></tr><tr><td>epoch</td><td>▁▁▁▁▂▂▂▂▂▂▃▃▃▃▃▄▄▄▄▄▅▅▅▅▅▅▆▆▆▆▆▆▇▇▇▇▇▇██</td></tr></table><br/></div><div class=\"wandb-col\"><h3>Run summary:</h3><br/><table class=\"wandb\"><tr><td>D_loss</td><td>0.53903</td></tr><tr><td>G_loss</td><td>2.84214</td></tr><tr><td>epoch</td><td>49</td></tr></table><br/></div></div>"
      ],
      "text/plain": [
       "<IPython.core.display.HTML object>"
      ]
     },
     "metadata": {},
     "output_type": "display_data"
    },
    {
     "data": {
      "text/html": [
       " View run <strong style=\"color:#cdcd00\">run_50_epochs</strong> at: <a href='https://wandb.ai/natalia-timokhova-v-lule-university-of-technology/conditional-gan-mnist/runs/0y8ncr4l' target=\"_blank\">https://wandb.ai/natalia-timokhova-v-lule-university-of-technology/conditional-gan-mnist/runs/0y8ncr4l</a><br> View project at: <a href='https://wandb.ai/natalia-timokhova-v-lule-university-of-technology/conditional-gan-mnist' target=\"_blank\">https://wandb.ai/natalia-timokhova-v-lule-university-of-technology/conditional-gan-mnist</a><br>Synced 5 W&B file(s), 0 media file(s), 0 artifact file(s) and 0 other file(s)"
      ],
      "text/plain": [
       "<IPython.core.display.HTML object>"
      ]
     },
     "metadata": {},
     "output_type": "display_data"
    },
    {
     "data": {
      "text/html": [
       "Find logs at: <code>./wandb/run-20250421_162212-0y8ncr4l/logs</code>"
      ],
      "text/plain": [
       "<IPython.core.display.HTML object>"
      ]
     },
     "metadata": {},
     "output_type": "display_data"
    }
   ],
   "source": [
    "########################### 50 epochs #######################################\n",
    "wandb_log = True\n",
    "device = torch.device(\"cuda:0\" if torch.cuda.is_available() else \"cpu\")\n",
    "\n",
    "# Number of epochs (change only here)\n",
    "epochs = 50\n",
    "\n",
    "# Instantiate models\n",
    "G = Generator(Z_dim, h_dim, X_dim).to(device)\n",
    "D = Discriminator(X_dim, h_dim).to(device)\n",
    "\n",
    "# Optimizers\n",
    "G_solver = optim.Adam(G.parameters(), lr=lr)\n",
    "D_solver = optim.Adam(D.parameters(), lr=lr)\n",
    "\n",
    "# Loss function\n",
    "\n",
    "#def my_bce_loss(preds, targets):\n",
    "#    return F.binary_cross_entropy(preds, targets)\n",
    "# loss_fn = my_bce_loss                               # Before change\n",
    "\n",
    "# Binary Cross Entropy loss function \n",
    "loss_fn = nn.BCEWithLogitsLoss()                      # After change. Includes Sigmoid by itself\n",
    "\n",
    "\n",
    "best_g_loss = float('inf')  # Initialize best generator loss\n",
    "save_dir = 'checkpoints'\n",
    "os.makedirs(save_dir, exist_ok=True)\n",
    "\n",
    "# Initialize W&B immediately before training\n",
    "if wandb_log: \n",
    "    wandb.init(\n",
    "        project=\"conditional-gan-mnist\",\n",
    "        name=f\"run_{epochs}_epochs\",\n",
    "        settings=wandb.Settings(start_method=\"thread\"),\n",
    "        config={\n",
    "            \"batch_size\": mb_size,\n",
    "            \"Z_dim\": Z_dim,\n",
    "            \"X_dim\": X_dim,\n",
    "            \"h_dim\": h_dim,\n",
    "            \"lr\": lr,\n",
    "            \"epochs\": epochs,\n",
    "            \"start_epoch\": 0,\n",
    "            \"end_epoch\": epochs - 1\n",
    "        }\n",
    "    )\n",
    "\n",
    "# Train loop\n",
    "for epoch in range(epochs):\n",
    "    G, D, G_loss_avg, D_loss_avg = cGANTraining(G, D, loss_fn, train_loader)\n",
    "\n",
    "    print(f'epoch {epoch}; D_loss: {D_loss_avg:.4f}; G_loss: {G_loss_avg:.4f}')\n",
    "\n",
    "    if wandb_log:\n",
    "        wandb.log({\n",
    "            \"epoch\": epoch,\n",
    "            \"D_loss\": D_loss_avg,\n",
    "            \"G_loss\": G_loss_avg\n",
    "        })\n",
    "\n",
    "    if G_loss_avg < best_g_loss:\n",
    "        best_g_loss = G_loss_avg\n",
    "        torch.save(G.state_dict(), os.path.join(save_dir, 'G_best.pth'))\n",
    "        torch.save(D.state_dict(), os.path.join(save_dir, 'D_best.pth'))\n",
    "        print(f\"Saved Best Models at epoch {epoch} | G_loss: {best_g_loss:.4f}\")\n",
    "\n",
    "    save_sample(G, epoch, mb_size, Z_dim)\n",
    "\n",
    "# Final log and run closure\n",
    "if wandb_log:\n",
    "    wandb.config.update({\"final_epoch\": epoch})  # saved in config metadata\n",
    "    wandb.finish()"
   ]
  },
  {
   "cell_type": "code",
   "execution_count": 281,
   "id": "d12a37f5-a7ec-403c-be66-6ef28d7ec6f9",
   "metadata": {},
   "outputs": [],
   "source": [
    "# Inference / sampling from the best‐saved G\n",
    "\n",
    "# 1) Re‐create the Generator and move to the same device\n",
    "G_infer = Generator(Z_dim, h_dim, X_dim).to(device)\n",
    "\n",
    "# 2) Load the weights from the best checkpoint\n",
    "checkpoint = torch.load('checkpoints/G_best.pth', map_location=device, weights_only=True)\n",
    "G_infer.load_state_dict(checkpoint)\n",
    "\n",
    "# 3) Set to evaluation mode\n",
    "G_infer.eval()\n",
    "\n",
    "# 4) Generate and save a sample grid (this will create out_vanila_GAN2/best.png)\n",
    "save_sample(G_infer, \"best_50_epoch_log\", mb_size, Z_dim)\n",
    "\n",
    "# 5) Clean previous best models\n",
    "for f in glob.glob(os.path.join(save_dir, \"G_best_epoch*.pth\")):\n",
    "    os.remove(f)\n"
   ]
  },
  {
   "cell_type": "code",
   "execution_count": 282,
   "id": "26764701-4093-407e-a2fd-759fae3457cf",
   "metadata": {},
   "outputs": [
    {
     "data": {
      "image/png": "[encoded data removed]",
      "text/plain": [
       "<IPython.core.display.Image object>"
      ]
     },
     "metadata": {},
     "output_type": "display_data"
    }
   ],
   "source": [
    "display(Image(\"best_50_epoch_log.png\"))"
   ]
  },
  {
   "cell_type": "markdown",
   "id": "7be596c0-083c-418d-a6ce-25e3b5746ab5",
   "metadata": {},
   "source": [
    "Two Loss Functions:\n",
    "\n",
    "\n",
    "**Manual BCE**\n",
    "→ F.binary_cross_entropy(torch.sigmoid(logits), targets)\n",
    "\n",
    "\n",
    "**Logistic (recommended)**\n",
    "→ nn.BCEWithLogitsLoss() (more stable, fused sigmoid + BCE)"
   ]
  },
  {
   "cell_type": "markdown",
   "id": "56627151-de7a-4f80-a0a1-0fe5e97a178c",
   "metadata": {},
   "source": [
    "###  Results Comparison (5, 10, 50 epochs)\n",
    "\n",
    "| Epochs | Loss Function   | D_loss  | G_loss  | Observations                                                             |\n",
    "|--------|------------------|---------|---------|---------------------------------------------------------------------------|\n",
    "| 5      | Manual BCE       | 0.1626  | 5.2521  | D is weak, G is still producing random-ish noise                         |\n",
    "|        | BCEWithLogits    | 0.1575  | 5.2952  | Nearly identical — both in early unstable phase                          |\n",
    "| 10     | Manual BCE       | 0.6059  | 2.9515  | D gets stronger, G starts adapting                                       |\n",
    "|        | BCEWithLogits    | 0.5661  | 3.0648  | Similar behavior, but slightly smoother G_loss                           |\n",
    "| 50     | Manual BCE       | 0.6645  | 2.4467  | D overpowers G a bit, generator loss flattens                            |\n",
    "|        | BCEWithLogits    | 0.5390  | 2.8421  | D is more stable, G still improving — better balance                     |\n"
   ]
  },
  {
   "cell_type": "markdown",
   "id": "8b829b9c-41f0-446a-acf7-c0adc9954a1a",
   "metadata": {},
   "source": [
    "**nn.BCEWithLogitsLoss()** — offers smoother gradients, better training balance, and is the standard in modern GANs."
   ]
  },
  {
   "cell_type": "code",
   "execution_count": null,
   "id": "8c4cd05c-5d42-4d09-a914-1ff49a8a3302",
   "metadata": {},
   "outputs": [],
   "source": []
  }
 ],
 "metadata": {
  "kernelspec": {
   "display_name": "Python 3 (ipykernel)",
   "language": "python",
   "name": "python3"
  },
  "language_info": {
   "codemirror_mode": {
    "name": "ipython",
    "version": 3
   },
   "file_extension": ".py",
   "mimetype": "text/x-python",
   "name": "python",
   "nbconvert_exporter": "python",
   "pygments_lexer": "ipython3",
   "version": "3.11.11"
  }
 },
 "nbformat": 4,
 "nbformat_minor": 5
}
