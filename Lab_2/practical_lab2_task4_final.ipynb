{
  "nbformat": 4,
  "nbformat_minor": 0,
  "metadata": {
    "colab": {
      "provenance": []
    },
    "kernelspec": {
      "name": "python3",
      "display_name": "Python 3"
    },
    "language_info": {
      "name": "python"
    }
  },
  "cells": [
    {
      "cell_type": "code",
      "source": [
        "# Imports\n",
        "import torch\n",
        "import torch.nn as nn\n",
        "import torch.nn.functional as F\n",
        "import torch.optim as optim\n",
        "from torchvision import datasets, transforms\n",
        "from torch.utils.data import DataLoader, Subset\n",
        "import numpy as np\n",
        "import matplotlib.pyplot as plt\n",
        "from mpl_toolkits.axes_grid1 import ImageGrid\n",
        "\n",
        "# Data loading and preprocessing\n",
        "transform = transforms.Compose([\n",
        "    transforms.ToTensor(),\n",
        "    transforms.Normalize((0.5,), (0.5,))\n",
        "])\n",
        "\n",
        "train_dataset = datasets.MNIST('.', train=True, download=True, transform=transform)\n",
        "test_dataset = datasets.MNIST('.', train=False, download=True, transform=transform)\n",
        "\n",
        "X_train = train_dataset.data.view(-1, 28*28).float() / 255.0\n",
        "y_train = train_dataset.targets\n",
        "X_test = test_dataset.data.view(-1, 28*28).float() / 255.0\n",
        "y_test = test_dataset.targets\n",
        "\n",
        "train_loader = DataLoader(train_dataset, batch_size=100, shuffle=True)\n",
        "test_loader = DataLoader(test_dataset, batch_size=100, shuffle=False)\n",
        "\n",
        "# CNN Model using PyTorch\n",
        "class CNNModel(nn.Module):\n",
        "    def __init__(self):\n",
        "        super(CNNModel, self).__init__()\n",
        "        self.conv1 = nn.Conv2d(1, 32, kernel_size=5)\n",
        "        self.pool1 = nn.MaxPool2d(2, 2)\n",
        "        self.conv2 = nn.Conv2d(32, 64, kernel_size=5)\n",
        "        self.pool2 = nn.MaxPool2d(2, 2)\n",
        "        self.fc1 = nn.Linear(64 * 4 * 4, 1024)\n",
        "        self.dropout = nn.Dropout(0.5)\n",
        "        self.fc2 = nn.Linear(1024, 10)\n",
        "\n",
        "    def forward(self, x):\n",
        "        x = x.view(-1, 1, 28, 28)\n",
        "        x = self.pool1(F.relu(self.conv1(x)))\n",
        "        x = self.pool2(F.relu(self.conv2(x)))\n",
        "        x = x.view(-1, 64 * 4 * 4)\n",
        "        x = F.relu(self.fc1(x))\n",
        "        x = self.dropout(x)\n",
        "        x = self.fc2(x)\n",
        "        return x\n",
        "\n",
        "# Instantiate model, define loss and optimizer\n",
        "model = CNNModel()\n",
        "criterion = nn.CrossEntropyLoss()\n",
        "optimizer = optim.Adam(model.parameters())\n",
        "\n",
        "# Training loop\n",
        "num_epochs = 4\n",
        "for epoch in range(num_epochs):\n",
        "    model.train()\n",
        "    total_loss = 0\n",
        "    correct = 0\n",
        "    for images, labels in train_loader:\n",
        "        optimizer.zero_grad()\n",
        "        outputs = model(images)\n",
        "        loss = criterion(outputs, labels)\n",
        "        loss.backward()\n",
        "        optimizer.step()\n",
        "\n",
        "        total_loss += loss.item()\n",
        "        _, predicted = torch.max(outputs.data, 1)\n",
        "        correct += (predicted == labels).sum().item()\n",
        "\n",
        "    print(f\"Epoch {epoch+1}, Loss: {total_loss:.4f}, Accuracy: {correct / len(train_dataset):.4f}\")\n",
        "\n",
        "# Evaluation on test data\n",
        "model.eval()\n",
        "total_correct = 0\n",
        "with torch.no_grad():\n",
        "    for images, labels in test_loader:\n",
        "        outputs = model(images)\n",
        "        _, predicted = torch.max(outputs.data, 1)\n",
        "        total_correct += (predicted == labels).sum().item()\n",
        "\n",
        "print(f\"Test Accuracy: {total_correct / len(test_dataset):.4f}\")\n",
        "\n",
        "# Helper: Get images of a specific label\n",
        "def get_images_of_label(dataset, label, num_images):\n",
        "    indices = (dataset.targets == label).nonzero(as_tuple=True)[0]\n",
        "    selected = torch.utils.data.Subset(dataset, indices[:num_images])\n",
        "    return torch.stack([x[0] for x in selected]), [x[1] for x in selected]\n",
        "\n",
        "# Plot predictions\n",
        "def plot_predictions(model, images, adversarial=False):\n",
        "    model.eval()\n",
        "    outputs = model(images)\n",
        "    probs = F.softmax(outputs, dim=1)\n",
        "    preds = torch.argmax(probs, dim=1)\n",
        "    certainties = torch.max(probs, dim=1).values * 100\n",
        "\n",
        "    fig = plt.figure(1, (9., 9.))\n",
        "    grid = ImageGrid(fig, 111, nrows_ncols=(1, len(images)), axes_pad=0.5)\n",
        "\n",
        "    for i in range(len(images)):\n",
        "        img = images[i].squeeze().detach().numpy()\n",
        "        grid[i].imshow(img, cmap='gray')\n",
        "        title = f\"Label: {preds[i].item()}\\nCertainty: {certainties[i]:.1f}%\"\n",
        "        if adversarial and i == 1:\n",
        "            title = \"Adversarial\\nPartial Derivatives\"\n",
        "        grid[i].set_title(title)\n",
        "        grid[i].axis('off')\n",
        "    plt.show()\n",
        "\n",
        "# Create adversarial example and print accuracy at each step\n",
        "def create_adversarial_example(model, image, true_label, target_label, lr=0.2, max_steps=100):\n",
        "    image_adv = image.clone().detach().requires_grad_(True)\n",
        "    target = torch.tensor([target_label])\n",
        "    step = 0\n",
        "\n",
        "    print(\"\\nAdversarial Image Creation Progress:\")\n",
        "    while step < max_steps:\n",
        "        output = model(image_adv)\n",
        "        pred = output.argmax(dim=1)\n",
        "        is_correct = (pred.item() == true_label)\n",
        "\n",
        "        print(f\"Step {step+1}: Predicted = {pred.item()}, \"\n",
        "              f\"Target = {target_label}, \"\n",
        "              f\"Correct w.r.t True Label: {is_correct}, \"\n",
        "              f\"Accuracy: {100.0 if is_correct else 0.0}%\")\n",
        "\n",
        "        if pred.item() == target_label:\n",
        "            print(f\"Adversarial attack succeeded at step {step+1}.\\n\")\n",
        "            break\n",
        "\n",
        "        loss = F.cross_entropy(output, target)\n",
        "        model.zero_grad()\n",
        "        loss.backward()\n",
        "        image_adv.data -= lr * image_adv.grad.data.sign()\n",
        "        image_adv.data.clamp_(0, 1)\n",
        "        image_adv.grad.zero_()\n",
        "        step += 1\n",
        "\n",
        "    if step == max_steps:\n",
        "        print(f\"Warning: adversarial attack did not fully succeed after {max_steps} steps.\\n\")\n",
        "\n",
        "    return image_adv.detach()\n",
        "\n",
        "# Main run\n",
        "label_of_interest = 4\n",
        "images, labels = get_images_of_label(test_dataset, label_of_interest, 1)\n",
        "image = images[0].unsqueeze(0)\n",
        "true_label = labels[0]\n",
        "\n",
        "# Create adversarial image targeting label 9\n",
        "target_label = 9\n",
        "image_adv = create_adversarial_example(model, image, true_label, target_label)\n",
        "\n",
        "# Plot predictions\n",
        "plot_predictions(model, torch.cat([image, image_adv]), adversarial=True)\n",
        "\n",
        "# Final evaluation and print\n",
        "model.eval()\n",
        "with torch.no_grad():\n",
        "    # Original image\n",
        "    output_original = model(image)\n",
        "    pred_original = output_original.argmax(dim=1)\n",
        "    correct_original = (pred_original == true_label).item()\n",
        "\n",
        "    # Adversarial image\n",
        "    output_adv = model(image_adv)\n",
        "    pred_adv = output_adv.argmax(dim=1)\n",
        "    correct_adv = (pred_adv == true_label).item()\n",
        "\n",
        "print(f\"Original Image - Predicted Label: {pred_original.item()}, \"\n",
        "      f\"True Label: {true_label}, \"\n",
        "      f\"Accuracy: {correct_original * 100:.1f}%\")\n",
        "\n",
        "print(f\"Adversarial Image - Predicted Label: {pred_adv.item()}, \"\n",
        "      f\"True Label: {true_label}, \"\n",
        "      f\"Accuracy: {correct_adv * 100:.1f}%\")\n",
        "\n"
      ],
      "metadata": {
        "colab": {
          "base_uri": "https://localhost:8080/",
          "height": 654
        },
        "id": "M0NrhfRWpm7L",
        "outputId": "9b0f0fb2-598b-4f12-fd73-cff485778adc"
      },
      "execution_count": null,
      "outputs": [
        {
          "output_type": "stream",
          "name": "stdout",
          "text": [
            "Epoch 1, Loss: 89.2422, Accuracy: 0.9546\n",
            "Epoch 2, Loss: 28.1172, Accuracy: 0.9852\n",
            "Epoch 3, Loss: 20.1867, Accuracy: 0.9893\n",
            "Epoch 4, Loss: 16.4172, Accuracy: 0.9910\n",
            "Test Accuracy: 0.9905\n",
            "\n",
            "Adversarial Image Creation Progress:\n",
            "Step 1: Predicted = 4, Target = 9, Correct w.r.t True Label: True, Accuracy: 100.0%\n",
            "Step 2: Predicted = 4, Target = 9, Correct w.r.t True Label: True, Accuracy: 100.0%\n",
            "Step 3: Predicted = 9, Target = 9, Correct w.r.t True Label: False, Accuracy: 0.0%\n",
            "Adversarial attack succeeded at step 3.\n",
            "\n"
          ]
        },
        {
          "output_type": "display_data",
          "data": {
            "text/plain": [
              "<Figure size 900x900 with 4 Axes>"
            ],
            "image/png": "[encoded data removed]"
          },
          "metadata": {}
        },
        {
          "output_type": "stream",
          "name": "stdout",
          "text": [
            "Original Image - Predicted Label: 4, True Label: 4, Accuracy: 100.0%\n",
            "Adversarial Image - Predicted Label: 9, True Label: 4, Accuracy: 0.0%\n"
          ]
        }
      ]
    },
    {
      "cell_type": "markdown",
      "source": [
        "The goal here is to slightly modify an input image (a digit \"4\") so that the CNN incorrectly classifies it as another digit (\"9\") — without making the image look very different to a human.\n",
        "This is called creating an adversarial example.\n",
        "\n",
        "You're using a simple version of the Fast Gradient Sign Method (FGSM) to do this.\n",
        "\n"
      ],
      "metadata": {
        "id": "CVyzNecqudYb"
      }
    },
    {
      "cell_type": "markdown",
      "source": [
        "we create an adversarial example by slightly modifying the input image so that the CNN model misclassifies it as a target label (e.g., from a 4 to a 9). First, we clone the original image, enable gradient tracking, and define the desired target label. Then, in a loop, we repeatedly compute the model's prediction on the adversarial image, print the current prediction and accuracy, and check if the attack succeeded. If not, we calculate the cross-entropy loss toward the target label, backpropagate to get the gradient, and update the image by slightly adjusting its pixels in the direction that increases the target label's probability (using the gradient sign). After each modification, we clamp the pixel values between 0 and 1 to keep the image valid. This process continues until the model predicts the target label or the maximum number of steps is reached, after which the final adversarial image is returned."
      ],
      "metadata": {
        "id": "uRpn1TJHv2rf"
      }
    },
    {
      "cell_type": "code",
      "source": [
        "# --- Create a noisy version of the image ---\n",
        "\n",
        "def create_noisy_example(image, noise_level=0.3):\n",
        "    \"\"\"\n",
        "    Adds random noise to an image.\n",
        "\n",
        "    Args:\n",
        "        image (Tensor): Input image tensor of shape [1, 1, 28, 28].\n",
        "        noise_level (float): Standard deviation of the Gaussian noise.\n",
        "\n",
        "    Returns:\n",
        "        Tensor: Noisy image tensor.\n",
        "    \"\"\"\n",
        "    noise = torch.randn_like(image) * noise_level\n",
        "    image_noisy = image + noise\n",
        "    image_noisy = torch.clamp(image_noisy, 0, 1)  # Keep pixel values between 0 and 1\n",
        "    return image_noisy\n",
        "\n",
        "# --- Apply it to your MNIST test image ---\n",
        "\n",
        "# Assume you already have 'image' and 'true_label' from previous code\n",
        "# (from get_images_of_label)\n",
        "\n",
        "# Create noisy image\n",
        "noise_level = 0.3  # You can adjust this (try 0.1, 0.5, etc.)\n",
        "image_noisy = create_noisy_example(image, noise_level=noise_level)\n",
        "\n",
        "# --- Predict with model ---\n",
        "\n",
        "model.eval()\n",
        "with torch.no_grad():\n",
        "    output_noisy = model(image_noisy)\n",
        "    pred_noisy = output_noisy.argmax(dim=1)\n",
        "    correct_noisy = (pred_noisy == true_label).item()\n",
        "\n",
        "print(f\"Noisy Image - Predicted Label: {pred_noisy.item()}, \"\n",
        "      f\"True Label: {true_label}, \"\n",
        "      f\"Accuracy: {correct_noisy * 100:.1f}%\")\n",
        "\n",
        "# --- Plot original and noisy images side by side ---\n",
        "\n",
        "def plot_original_and_noisy(original_img, noisy_img, model):\n",
        "    model.eval()\n",
        "    with torch.no_grad():\n",
        "        outputs = model(torch.cat([original_img, noisy_img]))\n",
        "        preds = outputs.argmax(dim=1)\n",
        "        probs = F.softmax(outputs, dim=1)\n",
        "        certainties = torch.max(probs, dim=1).values * 100\n",
        "\n",
        "    fig = plt.figure(1, (9., 4.))\n",
        "    grid = ImageGrid(fig, 111, nrows_ncols=(1, 2), axes_pad=0.5)\n",
        "\n",
        "    images = [original_img, noisy_img]\n",
        "    titles = [\n",
        "        f\"Original\\nLabel: {preds[0].item()}, Certainty: {certainties[0]:.1f}%\",\n",
        "        f\"Noisy\\nLabel: {preds[1].item()}, Certainty: {certainties[1]:.1f}%\"\n",
        "    ]\n",
        "\n",
        "    for i in range(2):\n",
        "        img = images[i].squeeze().detach().numpy()\n",
        "        grid[i].imshow(img, cmap='gray')\n",
        "        grid[i].set_title(titles[i])\n",
        "        grid[i].axis('off')\n",
        "\n",
        "    plt.show()\n",
        "\n",
        "# Call the plot function\n",
        "plot_original_and_noisy(image, image_noisy, model)\n"
      ],
      "metadata": {
        "colab": {
          "base_uri": "https://localhost:8080/",
          "height": 406
        },
        "id": "0k8gMDbfxeyx",
        "outputId": "3219dcd1-8989-4dbc-da5b-29add7514090"
      },
      "execution_count": null,
      "outputs": [
        {
          "output_type": "stream",
          "name": "stdout",
          "text": [
            "Noisy Image - Predicted Label: 4, True Label: 4, Accuracy: 100.0%\n"
          ]
        },
        {
          "output_type": "display_data",
          "data": {
            "text/plain": [
              "<Figure size 900x400 with 4 Axes>"
            ],
            "image/png": "[encoded data removed]"
          },
          "metadata": {}
        }
      ]
    },
    {
      "cell_type": "code",
      "source": [
        "# --- Combined Plot: Original vs Adversarial vs Noisy ---\n",
        "\n",
        "def plot_comparison(original_img, adversarial_img, noisy_img, model):\n",
        "    model.eval()\n",
        "    with torch.no_grad():\n",
        "        inputs = torch.cat([original_img, adversarial_img, noisy_img])\n",
        "        outputs = model(inputs)\n",
        "        preds = outputs.argmax(dim=1)\n",
        "        probs = F.softmax(outputs, dim=1)\n",
        "        certainties = torch.max(probs, dim=1).values * 100\n",
        "\n",
        "    fig = plt.figure(1, (13., 4.))\n",
        "    grid = ImageGrid(fig, 111, nrows_ncols=(1, 3), axes_pad=0.7)\n",
        "\n",
        "    images = [original_img, adversarial_img, noisy_img]\n",
        "    titles = [\n",
        "        f\"Original\\nLabel: {preds[0].item()}, Certainty: {certainties[0]:.1f}%\",\n",
        "        f\"Adversarial\\nLabel: {preds[1].item()}, Certainty: {certainties[1]:.1f}%\",\n",
        "        f\"Noisy\\nLabel: {preds[2].item()}, Certainty: {certainties[2]:.1f}%\"\n",
        "    ]\n",
        "\n",
        "    for i in range(3):\n",
        "        img = images[i].squeeze().detach().numpy()\n",
        "        grid[i].imshow(img, cmap='gray')\n",
        "        grid[i].set_title(titles[i])\n",
        "        grid[i].axis('off')\n",
        "\n",
        "    plt.show()\n",
        "\n",
        "# --- Make sure you have: ---\n",
        "# 'image'          - the original clean image\n",
        "# 'image_adv'      - the adversarial image created before\n",
        "# 'image_noisy'    - the noisy image created with create_noisy_example\n",
        "\n",
        "# --- Now plot them together ---\n",
        "plot_comparison(image, image_adv, image_noisy, model)\n"
      ],
      "metadata": {
        "id": "nITCOlj4yfp7",
        "outputId": "7167f804-b074-46ab-c3be-968717c709ed",
        "colab": {
          "base_uri": "https://localhost:8080/",
          "height": 369
        }
      },
      "execution_count": null,
      "outputs": [
        {
          "output_type": "display_data",
          "data": {
            "text/plain": [
              "<Figure size 1300x400 with 6 Axes>"
            ],
            "image/png": "[encoded data removed]"
          },
          "metadata": {}
        }
      ]
    },
    {
      "cell_type": "markdown",
      "source": [
        "Adversarial is targeted and clever — small change, but model misclassifies with high certainty.\n",
        "\n",
        "Noise is random and blind — often hurts model performance, but doesn't \"force\" wrong label as reliabl"
      ],
      "metadata": {
        "id": "zW9wQrxyyV9O"
      }
    }
  ]
}